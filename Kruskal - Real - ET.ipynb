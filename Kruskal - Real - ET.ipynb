{
 "cells": [
  {
   "cell_type": "markdown",
   "metadata": {},
   "source": [
    "# Kruskal coordinates Einstein Tensor calculations using Symbolic module"
   ]
  },
  {
   "cell_type": "code",
   "execution_count": 5,
   "metadata": {},
   "outputs": [],
   "source": [
    "import sympy\n",
    "import matplotlib.pyplot as plt\n",
    "import numpy as np\n",
    "\n",
    "from sympy import symbols, sin, cos, sinh\n",
    "from einsteinpy.symbolic import EinsteinTensor, MetricTensor, WeylTensor\n",
    "\n",
    "sympy.init_printing()"
   ]
  },
  {
   "cell_type": "markdown",
   "metadata": {},
   "source": [
    "### Use the Kruskal Sekeres coordinates. \n",
    "\n",
    "![alt text](img/kruskal.png \"Kruskal Coordinates. Note r is implicit\")\n",
    "\n",
    "### NOPE\n",
    "\n",
    "implicit coordinates are hard to work with - instead use Lake 2005 or Israel\n",
    "https://arxiv.org/pdf/gr-qc/0507031.pdf\n",
    "\n",
    "\n",
    "![alt text](img/lake-abstract.png \"Lake Abstract gr-qc/0507031\")\n"
   ]
  },
  {
   "cell_type": "markdown",
   "metadata": {},
   "source": [
    "### Israel coords\n",
    "![alt-text](img/lake-israel.png \"Israel coords\")\n"
   ]
  },
  {
   "cell_type": "code",
   "execution_count": 14,
   "metadata": {},
   "outputs": [
    {
     "name": "stdout",
     "output_type": "stream",
     "text": [
      "a\n"
     ]
    },
    {
     "data": {
      "text/latex": [
       "$\\displaystyle \\left[\\begin{matrix}\\frac{2 w^{2}}{8 M^{2} + u w} & 2 & 0 & 0\\\\2 & 0 & 0 & 0\\\\0 & 0 & M^{2} \\left(2 M^{2} + \\frac{u w}{4}\\right)^{2} & 0\\\\0 & 0 & 0 & M^{2} \\left(2 M^{2} + \\frac{u w}{4}\\right)^{2} \\sin^{2}{\\left(\\theta \\right)}\\end{matrix}\\right]$"
      ],
      "text/plain": [
       "⎡      2                                                  ⎤\n",
       "⎢   2⋅w                                                   ⎥\n",
       "⎢──────────  2         0                     0            ⎥\n",
       "⎢   2                                                     ⎥\n",
       "⎢8⋅M  + u⋅w                                               ⎥\n",
       "⎢                                                         ⎥\n",
       "⎢    2       0         0                     0            ⎥\n",
       "⎢                                                         ⎥\n",
       "⎢                              2                          ⎥\n",
       "⎢                2 ⎛   2   u⋅w⎞                           ⎥\n",
       "⎢    0       0  M ⋅⎜2⋅M  + ───⎟              0            ⎥\n",
       "⎢                  ⎝        4 ⎠                           ⎥\n",
       "⎢                                                         ⎥\n",
       "⎢                                                2        ⎥\n",
       "⎢                                  2 ⎛   2   u⋅w⎞     2   ⎥\n",
       "⎢    0       0         0          M ⋅⎜2⋅M  + ───⎟ ⋅sin (θ)⎥\n",
       "⎣                                    ⎝        4 ⎠         ⎦"
      ]
     },
     "execution_count": 14,
     "metadata": {},
     "output_type": "execute_result"
    }
   ],
   "source": [
    "syms = sympy.symbols(\"u w theta phi\")\n",
    "G, M, c, a, w = sympy.symbols(\"G M c a w\")\n",
    "print(a)\n",
    "# using metric values of schwarschild space-time\n",
    "# a is schwarzschild radius\n",
    "list2d = [[0 for i in range(4)] for i in range(4)]\n",
    "list2d[0][0] = (2*syms[1]**2/(syms[0]*syms[1] + 8*M**2))\n",
    "list2d[0][1] = 2\n",
    "list2d[1][0] = 2\n",
    "list2d[1][1] = 0 \n",
    "list2d[2][2] = (((8*M**2 + syms[0]*syms[1]))/4*M)**2\n",
    "list2d[3][3] = ((8*M**2 + syms[0]*syms[1])/4*M)**2*(sympy.sin(syms[2]) ** 2)\n",
    "sch = MetricTensor(list2d, syms)\n",
    "sch.tensor()\n"
   ]
  },
  {
   "cell_type": "markdown",
   "metadata": {},
   "source": [
    "### Calculating the Einstein Tensor (with both indices covariant)"
   ]
  },
  {
   "cell_type": "code",
   "execution_count": 15,
   "metadata": {},
   "outputs": [
    {
     "data": {
      "text/latex": [
       "$\\displaystyle \\left[\\begin{matrix}\\frac{w^{2} \\left(64.0 M^{4} + 8.0 M^{2} u w - 128.0\\right)}{M^{2} \\left(2048.0 M^{6} + 768.0 M^{4} u w + 96.0 M^{2} u^{2} w^{2} + 4.0 u^{3} w^{3}\\right)} & \\frac{64.0 M^{4} + 8.0 M^{2} u w - 128.0}{M^{2} \\left(256.0 M^{4} + 64.0 M^{2} u w + 4.0 u^{2} w^{2}\\right)} & 0 & 0\\\\\\frac{64.0 M^{4} + 8.0 M^{2} u w - 128.0}{M^{2} \\left(256.0 M^{4} + 64.0 M^{2} u w + 4.0 u^{2} w^{2}\\right)} & 0 & 0 & 0\\\\0 & 0 & M^{2} \\left(0.25 M^{2} + 0.03125 u w\\right) & 0\\\\0 & 0 & 0 & M^{2} \\left(0.25 M^{2} + 0.03125 u w\\right) \\sin^{2}{\\left(\\theta \\right)}\\end{matrix}\\right]$"
      ],
      "text/plain": [
       "⎡             2 ⎛      4        2            ⎞                          4     \n",
       "⎢            w ⋅⎝64.0⋅M  + 8.0⋅M ⋅u⋅w - 128.0⎠                    64.0⋅M  + 8.\n",
       "⎢─────────────────────────────────────────────────────────  ──────────────────\n",
       "⎢ 2 ⎛        6          4             2  2  2        3  3⎞   2 ⎛       4      \n",
       "⎢M ⋅⎝2048.0⋅M  + 768.0⋅M ⋅u⋅w + 96.0⋅M ⋅u ⋅w  + 4.0⋅u ⋅w ⎠  M ⋅⎝256.0⋅M  + 64.\n",
       "⎢                                                                             \n",
       "⎢                     4        2                                              \n",
       "⎢               64.0⋅M  + 8.0⋅M ⋅u⋅w - 128.0                                  \n",
       "⎢         ───────────────────────────────────────                             \n",
       "⎢          2 ⎛       4         2            2  2⎞                             \n",
       "⎢         M ⋅⎝256.0⋅M  + 64.0⋅M ⋅u⋅w + 4.0⋅u ⋅w ⎠                             \n",
       "⎢                                                                             \n",
       "⎢                                                                             \n",
       "⎢                            0                                                \n",
       "⎢                                                                             \n",
       "⎢                                                                             \n",
       "⎣                            0                                                \n",
       "\n",
       "   2                                                                          \n",
       "0⋅M ⋅u⋅w - 128.0                                                              \n",
       "─────────────────────              0                               0          \n",
       "   2            2  2⎞                                                         \n",
       "0⋅M ⋅u⋅w + 4.0⋅u ⋅w ⎠                                                         \n",
       "                                                                              \n",
       "                                                                              \n",
       "                                                                              \n",
       " 0                                 0                               0          \n",
       "                                                                              \n",
       "                                                                              \n",
       "                                                                              \n",
       "                        2 ⎛      2              ⎞                             \n",
       " 0                     M ⋅⎝0.25⋅M  + 0.03125⋅u⋅w⎠                  0          \n",
       "                                                                              \n",
       "                                                    2 ⎛      2              ⎞ \n",
       " 0                                 0               M ⋅⎝0.25⋅M  + 0.03125⋅u⋅w⎠⋅\n",
       "\n",
       "       ⎤\n",
       "       ⎥\n",
       "       ⎥\n",
       "       ⎥\n",
       "       ⎥\n",
       "       ⎥\n",
       "       ⎥\n",
       "       ⎥\n",
       "       ⎥\n",
       "       ⎥\n",
       "       ⎥\n",
       "       ⎥\n",
       "       ⎥\n",
       "       ⎥\n",
       "       ⎥\n",
       "   2   ⎥\n",
       "sin (θ)⎦"
      ]
     },
     "execution_count": 15,
     "metadata": {},
     "output_type": "execute_result"
    }
   ],
   "source": [
    "einst = EinsteinTensor.from_metric(sch)\n",
    "einst.simplify()\n",
    "einst.tensor()\n",
    "#components explanation EG https://physics.stackexchange.com/questions/366560/stress-energy-tensor-components-spherical-coordinates"
   ]
  },
  {
   "cell_type": "code",
   "execution_count": 16,
   "metadata": {},
   "outputs": [],
   "source": [
    "# what is the Weyl tensor?\n",
    "#weyl = WeylTensor.from_metric(sch)\n",
    "#weyl.tensor() # all components!"
   ]
  },
  {
   "cell_type": "code",
   "execution_count": 17,
   "metadata": {},
   "outputs": [
    {
     "name": "stdout",
     "output_type": "stream",
     "text": [
      "(u, w, theta, phi, M)\n"
     ]
    },
    {
     "ename": "TypeError",
     "evalue": "_lambdifygenerated() takes 5 positional arguments but 7 were given",
     "output_type": "error",
     "traceback": [
      "\u001b[0;31m---------------------------------------------------------------------------\u001b[0m",
      "\u001b[0;31mTypeError\u001b[0m                                 Traceback (most recent call last)",
      "\u001b[0;32m<ipython-input-17-aeecfb0ddb1d>\u001b[0m in \u001b[0;36m<module>\u001b[0;34m\u001b[0m\n\u001b[1;32m      6\u001b[0m \u001b[0;31m#Make x values - which we will sub in for r\u001b[0m\u001b[0;34m\u001b[0m\u001b[0;34m\u001b[0m\u001b[0;34m\u001b[0m\u001b[0m\n\u001b[1;32m      7\u001b[0m \u001b[0mx\u001b[0m \u001b[0;34m=\u001b[0m \u001b[0mnp\u001b[0m\u001b[0;34m.\u001b[0m\u001b[0marange\u001b[0m\u001b[0;34m(\u001b[0m\u001b[0;36m1.5\u001b[0m\u001b[0;34m,\u001b[0m \u001b[0;36m20.0\u001b[0m\u001b[0;34m,\u001b[0m \u001b[0;36m0.04\u001b[0m\u001b[0;34m)\u001b[0m\u001b[0;34m\u001b[0m\u001b[0;34m\u001b[0m\u001b[0m\n\u001b[0;32m----> 8\u001b[0;31m \u001b[0mfunc\u001b[0m\u001b[0;34m(\u001b[0m\u001b[0;36m0.5\u001b[0m\u001b[0;34m,\u001b[0m\u001b[0mx\u001b[0m\u001b[0;34m,\u001b[0m\u001b[0;36m0\u001b[0m\u001b[0;34m,\u001b[0m \u001b[0;36m0\u001b[0m\u001b[0;34m,\u001b[0m \u001b[0;36m1\u001b[0m\u001b[0;34m,\u001b[0m \u001b[0;36m1\u001b[0m\u001b[0;34m,\u001b[0m \u001b[0;36m1\u001b[0m\u001b[0;34m)\u001b[0m\u001b[0;34m[\u001b[0m\u001b[0;36m0\u001b[0m\u001b[0;34m]\u001b[0m\u001b[0;34m[\u001b[0m\u001b[0;36m1\u001b[0m\u001b[0;34m]\u001b[0m\u001b[0;34m\u001b[0m\u001b[0;34m\u001b[0m\u001b[0m\n\u001b[0m\u001b[1;32m      9\u001b[0m \u001b[0;34m\u001b[0m\u001b[0m\n\u001b[1;32m     10\u001b[0m \u001b[0;31m# Call the functions\u001b[0m\u001b[0;34m\u001b[0m\u001b[0;34m\u001b[0m\u001b[0;34m\u001b[0m\u001b[0m\n",
      "\u001b[0;31mTypeError\u001b[0m: _lambdifygenerated() takes 5 positional arguments but 7 were given"
     ]
    }
   ],
   "source": [
    "###Plot something\n",
    "# first make the tensor into a function, printing \n",
    "args, func = einst.tensor_lambdify()\n",
    "print(args) # these are the argument values \n",
    "\n",
    "#Make x values - which we will sub in for r \n",
    "x = np.arange(1.5, 20.0, 0.04)\n",
    "func(0.5,x,0, 0, 1, 1, 1)[0][1]\n",
    "\n",
    "# Call the functions\n",
    "y = func(1.0,x,1, 1, 1, 1, 1)[0][1]\n",
    "z = -func(1.0,x,1, 1, 1, 1, 1)[0][0] # 0.1 to bring scale in\n",
    "fig=plt.figure()\n",
    "ax=fig.add_axes([0,2,1.0,1.0])\n",
    "ax.plot(x,y)\n",
    "ax.plot(x,z)\n",
    "ax.set_title(\"T_01\")\n",
    "\n",
    "\n"
   ]
  },
  {
   "cell_type": "code",
   "execution_count": null,
   "metadata": {},
   "outputs": [],
   "source": []
  },
  {
   "cell_type": "code",
   "execution_count": null,
   "metadata": {},
   "outputs": [],
   "source": []
  },
  {
   "cell_type": "code",
   "execution_count": null,
   "metadata": {},
   "outputs": [],
   "source": []
  }
 ],
 "metadata": {
  "kernelspec": {
   "display_name": "Python 3",
   "language": "python",
   "name": "python3"
  },
  "language_info": {
   "codemirror_mode": {
    "name": "ipython",
    "version": 3
   },
   "file_extension": ".py",
   "mimetype": "text/x-python",
   "name": "python",
   "nbconvert_exporter": "python",
   "pygments_lexer": "ipython3",
   "version": "3.9.4"
  }
 },
 "nbformat": 4,
 "nbformat_minor": 4
}
