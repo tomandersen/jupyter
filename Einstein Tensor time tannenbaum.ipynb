{
 "cells": [
  {
   "cell_type": "markdown",
   "metadata": {},
   "source": [
    "# Einstein Tensor calculations using Symbolic module"
   ]
  },
  {
   "cell_type": "code",
   "execution_count": 6,
   "metadata": {},
   "outputs": [],
   "source": [
    "import sympy\n",
    "import matplotlib.pyplot as plt\n",
    "import numpy as np\n",
    "\n",
    "from sympy import symbols, sin, cos, sinh\n",
    "from einsteinpy.symbolic import EinsteinTensor, MetricTensor, WeylTensor\n",
    "\n",
    "sympy.init_printing()"
   ]
  },
  {
   "cell_type": "markdown",
   "metadata": {},
   "source": [
    "### Defining our time dependent metric as from equation 31\n",
    "https://docs.einsteinpy.org/en/latest/examples/Symbolically%20Understanding%20Christoffel%20Symbol%20and%20Riemann%20Curvature%20Tensor%20using%20EinsteinPy.html\n",
    "\n",
    "Kasner eqn 31\n",
    "10.1139/cjp-2017-1001"
   ]
  },
  {
   "cell_type": "code",
   "execution_count": 7,
   "metadata": {},
   "outputs": [
    {
     "name": "stdout",
     "output_type": "stream",
     "text": [
      "M*sin(t*w)**2\n"
     ]
    },
    {
     "name": "stderr",
     "output_type": "stream",
     "text": [
      "/opt/homebrew/Caskroom/miniforge/base/lib/python3.9/site-packages/IPython/lib/latextools.py:126: MatplotlibDeprecationWarning: \n",
      "The to_png function was deprecated in Matplotlib 3.4 and will be removed two minor releases later. Use mathtext.math_to_image instead.\n",
      "  mt.to_png(f, s, fontsize=12, dpi=dpi, color=color)\n",
      "/opt/homebrew/Caskroom/miniforge/base/lib/python3.9/site-packages/IPython/lib/latextools.py:126: MatplotlibDeprecationWarning: \n",
      "The to_rgba function was deprecated in Matplotlib 3.4 and will be removed two minor releases later. Use mathtext.math_to_image instead.\n",
      "  mt.to_png(f, s, fontsize=12, dpi=dpi, color=color)\n",
      "/opt/homebrew/Caskroom/miniforge/base/lib/python3.9/site-packages/IPython/lib/latextools.py:126: MatplotlibDeprecationWarning: \n",
      "The to_mask function was deprecated in Matplotlib 3.4 and will be removed two minor releases later. Use mathtext.math_to_image instead.\n",
      "  mt.to_png(f, s, fontsize=12, dpi=dpi, color=color)\n",
      "/opt/homebrew/Caskroom/miniforge/base/lib/python3.9/site-packages/IPython/lib/latextools.py:126: MatplotlibDeprecationWarning: \n",
      "The MathtextBackendBitmap class was deprecated in Matplotlib 3.4 and will be removed two minor releases later. Use mathtext.math_to_image instead.\n",
      "  mt.to_png(f, s, fontsize=12, dpi=dpi, color=color)\n"
     ]
    },
    {
     "data": {
      "text/latex": [
       "$\\displaystyle \\left[\\begin{matrix}c^{2} \\left(- \\frac{M \\sin^{2}{\\left(t w \\right)}}{r} + 1\\right) & 0 & 0 & 0\\\\0 & - \\frac{1}{- \\frac{M \\sin^{2}{\\left(t w \\right)}}{r} + 1} & 0 & 0\\\\0 & 0 & - r^{2} & 0\\\\0 & 0 & 0 & - r^{2} \\sin^{2}{\\left(\\theta \\right)}\\end{matrix}\\right]$"
      ],
      "text/plain": [
       "⎡   ⎛       2         ⎞                                     ⎤\n",
       "⎢ 2 ⎜  M⋅sin (t⋅w)    ⎟                                     ⎥\n",
       "⎢c ⋅⎜- ─────────── + 1⎟          0           0        0     ⎥\n",
       "⎢   ⎝       r         ⎠                                     ⎥\n",
       "⎢                                                           ⎥\n",
       "⎢                               -1                          ⎥\n",
       "⎢          0             ─────────────────   0        0     ⎥\n",
       "⎢                               2                           ⎥\n",
       "⎢                          M⋅sin (t⋅w)                      ⎥\n",
       "⎢                        - ─────────── + 1                  ⎥\n",
       "⎢                               r                           ⎥\n",
       "⎢                                                           ⎥\n",
       "⎢                                             2             ⎥\n",
       "⎢          0                     0          -r        0     ⎥\n",
       "⎢                                                           ⎥\n",
       "⎢                                                  2    2   ⎥\n",
       "⎣          0                     0           0   -r ⋅sin (θ)⎦"
      ]
     },
     "execution_count": 7,
     "metadata": {},
     "output_type": "execute_result"
    }
   ],
   "source": [
    "syms = sympy.symbols(\"t r theta phi\")\n",
    "G, M, c, a, w = sympy.symbols(\"G M c a w\")\n",
    "a = M*((sin(w*syms[0]))**2)\n",
    "print(a)\n",
    "# using metric values of schwarschild space-time\n",
    "# a is schwarzschild radius\n",
    "list2d = [[0 for i in range(4)] for i in range(4)]\n",
    "list2d[0][0] = (1 - (a / syms[1]))* (c ** 2)\n",
    "list2d[1][1] = -1 / (1 - (a / syms[1])) \n",
    "list2d[2][2] = -1 * (syms[1] ** 2) \n",
    "list2d[3][3] = -1 * (syms[1] ** 2) * (sympy.sin(syms[2]) ** 2)\n",
    "sch = MetricTensor(list2d, syms)\n",
    "sch.tensor()\n"
   ]
  },
  {
   "cell_type": "markdown",
   "metadata": {},
   "source": [
    "### Calculating the Einstein Tensor (with both indices covariant)"
   ]
  },
  {
   "cell_type": "code",
   "execution_count": 8,
   "metadata": {},
   "outputs": [
    {
     "data": {
      "text/latex": [
       "$\\displaystyle \\left[\\begin{matrix}0 & \\frac{M w \\sin{\\left(2 t w \\right)}}{r \\left(- M \\sin^{2}{\\left(t w \\right)} + r\\right)} & 0 & 0\\\\\\frac{M w \\sin{\\left(2 t w \\right)}}{r \\left(- M \\sin^{2}{\\left(t w \\right)} + r\\right)} & 0 & 0 & 0\\\\0 & 0 & - \\frac{1.0 M r^{3} w^{2} \\left(2 M \\sin^{4}{\\left(t w \\right)} - 3 M \\sin^{2}{\\left(t w \\right)} + 2 r \\sin^{2}{\\left(t w \\right)} - r\\right)}{c^{2} \\left(M \\sin^{2}{\\left(t w \\right)} - r\\right)^{3}} & 0\\\\0 & 0 & 0 & - \\frac{1.0 M r^{3} w^{2} \\left(2 M \\sin^{4}{\\left(t w \\right)} - 3 M \\sin^{2}{\\left(t w \\right)} + 2 r \\sin^{2}{\\left(t w \\right)} - r\\right) \\sin^{2}{\\left(\\theta \\right)}}{c^{2} \\left(M \\sin^{2}{\\left(t w \\right)} - r\\right)^{3}}\\end{matrix}\\right]$"
      ],
      "text/plain": [
       "⎡                           M⋅w⋅sin(2⋅t⋅w)                                    \n",
       "⎢          0            ─────────────────────                                 \n",
       "⎢                         ⎛       2         ⎞                                 \n",
       "⎢                       r⋅⎝- M⋅sin (t⋅w) + r⎠                                 \n",
       "⎢                                                                             \n",
       "⎢    M⋅w⋅sin(2⋅t⋅w)                                                           \n",
       "⎢─────────────────────            0                                           \n",
       "⎢  ⎛       2         ⎞                                                        \n",
       "⎢r⋅⎝- M⋅sin (t⋅w) + r⎠                                                        \n",
       "⎢                                                                             \n",
       "⎢                                                      3  2 ⎛       4         \n",
       "⎢                                              -1.0⋅M⋅r ⋅w ⋅⎝2⋅M⋅sin (t⋅w) - 3\n",
       "⎢          0                      0            ───────────────────────────────\n",
       "⎢                                                                             \n",
       "⎢                                                                     2 ⎛     \n",
       "⎢                                                                    c ⋅⎝M⋅sin\n",
       "⎢                                                                             \n",
       "⎢                                                                             \n",
       "⎢                                                                             \n",
       "⎢          0                      0                                           \n",
       "⎢                                                                             \n",
       "⎢                                                                             \n",
       "⎣                                                                             \n",
       "\n",
       "                                                                              \n",
       " 0                                                                      0     \n",
       "                                                                              \n",
       "                                                                              \n",
       "                                                                              \n",
       "                                                                              \n",
       " 0                                                                      0     \n",
       "                                                                              \n",
       "                                                                              \n",
       "                                                                              \n",
       "      2               2         ⎞                                             \n",
       "⋅M⋅sin (t⋅w) + 2⋅r⋅sin (t⋅w) - r⎠                                             \n",
       "──────────────────────────────────                                      0     \n",
       "           3                                                                  \n",
       "2         ⎞                                                                   \n",
       " (t⋅w) - r⎠                                                                   \n",
       "                                                                              \n",
       "                                            3  2 ⎛       4               2    \n",
       "                                    -1.0⋅M⋅r ⋅w ⋅⎝2⋅M⋅sin (t⋅w) - 3⋅M⋅sin (t⋅w\n",
       " 0                                  ──────────────────────────────────────────\n",
       "                                                                              \n",
       "                                                               2 ⎛     2      \n",
       "                                                              c ⋅⎝M⋅sin (t⋅w) \n",
       "\n",
       "                               ⎤\n",
       "                               ⎥\n",
       "                               ⎥\n",
       "                               ⎥\n",
       "                               ⎥\n",
       "                               ⎥\n",
       "                               ⎥\n",
       "                               ⎥\n",
       "                               ⎥\n",
       "                               ⎥\n",
       "                               ⎥\n",
       "                               ⎥\n",
       "                               ⎥\n",
       "                               ⎥\n",
       "                               ⎥\n",
       "                               ⎥\n",
       "                               ⎥\n",
       "           2         ⎞    2    ⎥\n",
       ") + 2⋅r⋅sin (t⋅w) - r⎠⋅sin (θ) ⎥\n",
       "───────────────────────────────⎥\n",
       "    3                          ⎥\n",
       "   ⎞                           ⎥\n",
       "- r⎠                           ⎦"
      ]
     },
     "execution_count": 8,
     "metadata": {},
     "output_type": "execute_result"
    }
   ],
   "source": [
    "einst = EinsteinTensor.from_metric(sch)\n",
    "einst.simplify()\n",
    "einst.tensor()\n",
    "#components explanation EG https://physics.stackexchange.com/questions/366560/stress-energy-tensor-components-spherical-coordinates"
   ]
  },
  {
   "cell_type": "code",
   "execution_count": 4,
   "metadata": {},
   "outputs": [],
   "source": [
    "# what is the Weyl tensor?\n",
    "#weyl = WeylTensor.from_metric(sch)\n",
    "#weyl.tensor() # all components!"
   ]
  },
  {
   "cell_type": "code",
   "execution_count": 5,
   "metadata": {},
   "outputs": [
    {
     "name": "stdout",
     "output_type": "stream",
     "text": [
      "(t, r, theta, phi, M, c, w)\n"
     ]
    },
    {
     "data": {
      "text/plain": [
       "Text(0.5, 1.0, 'T_01')"
      ]
     },
     "execution_count": 5,
     "metadata": {},
     "output_type": "execute_result"
    },
    {
     "data": {
      "image/png": "[encoded data removed]",
      "text/plain": [
       "<Figure size 432x288 with 1 Axes>"
      ]
     },
     "metadata": {
      "needs_background": "light"
     },
     "output_type": "display_data"
    }
   ],
   "source": [
    "###Plot something\n",
    "# first make the tensor into a function, printing \n",
    "args, func = einst.tensor_lambdify()\n",
    "print(args) # these are the argument values \n",
    "\n",
    "#Make x values - which we will sub in for r \n",
    "x = np.arange(2.2, 20.0, 0.04)\n",
    "func(0.5,x,0, 0, 1, 1, 1)[0][1]\n",
    "\n",
    "# Call the functions\n",
    "y = func(1.0,x,1, 1, 1, 1, 1)[0][1]\n",
    "z = 0.1*func(1.0,x,1, 1, 1, 1, 1)[2][2] # 0.1 to bring scale in\n",
    "fig=plt.figure()\n",
    "ax=fig.add_axes([0,2,1.0,1.0])\n",
    "ax.plot(x,y)\n",
    "ax.plot(x,z)\n",
    "ax.set_title(\"T_01\")\n",
    "\n",
    "\n"
   ]
  },
  {
   "cell_type": "code",
   "execution_count": null,
   "metadata": {},
   "outputs": [],
   "source": []
  },
  {
   "cell_type": "code",
   "execution_count": null,
   "metadata": {},
   "outputs": [],
   "source": []
  },
  {
   "cell_type": "code",
   "execution_count": null,
   "metadata": {},
   "outputs": [],
   "source": []
  },
  {
   "cell_type": "code",
   "execution_count": null,
   "metadata": {},
   "outputs": [],
   "source": []
  },
  {
   "cell_type": "code",
   "execution_count": null,
   "metadata": {},
   "outputs": [],
   "source": []
  }
 ],
 "metadata": {
  "kernelspec": {
   "display_name": "Python 3",
   "language": "python",
   "name": "python3"
  },
  "language_info": {
   "codemirror_mode": {
    "name": "ipython",
    "version": 3
   },
   "file_extension": ".py",
   "mimetype": "text/x-python",
   "name": "python",
   "nbconvert_exporter": "python",
   "pygments_lexer": "ipython3",
   "version": "3.9.4"
  }
 },
 "nbformat": 4,
 "nbformat_minor": 4
}
