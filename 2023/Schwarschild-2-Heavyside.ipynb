{
 "cells": [
  {
   "cell_type": "markdown",
   "metadata": {
    "tags": []
   },
   "source": [
    "# Monopole wave 2 - Heavyside \n",
    "### Outside of R we have the full normal Schwarshild metric. Inside of R we have a Minkowski metric (or a smaller black hole, but for now we just have vacuum there for simplicity). \n"
   ]
  },
  {
   "cell_type": "code",
   "execution_count": 70,
   "metadata": {},
   "outputs": [],
   "source": [
    "import sympy\n",
    "import matplotlib.pyplot as plt\n",
    "import numpy as np\n",
    "\n",
    "from sympy import symbols, sin, cos, sinh, oo\n",
    "from sympy import Heaviside, nan\n",
    "from einsteinpy.symbolic import EinsteinTensor, MetricTensor, WeylTensor, RicciTensor\n",
    "\n",
    "sympy.init_printing()"
   ]
  },
  {
   "cell_type": "markdown",
   "metadata": {},
   "source": [
    "### Use plain coordinates. \n",
    "\n"
   ]
  },
  {
   "cell_type": "markdown",
   "metadata": {},
   "source": [
    "![alt-text](img/schwarschild.png \"Schwarschild coords\")\n"
   ]
  },
  {
   "cell_type": "markdown",
   "metadata": {
    "tags": []
   },
   "source": [
    "# Heavyside \n",
    "### Inside R the metric is flat. Evaluating the Einstein Tensor one gets a mass shell delta function at R. Noe that the mass shell mass   \n"
   ]
  },
  {
   "cell_type": "code",
   "execution_count": 71,
   "metadata": {},
   "outputs": [
    {
     "data": {
      "text/latex": [
       "$\\displaystyle \\left[\\begin{matrix}\\frac{2 M \\theta\\left(- R + r\\right)}{r} - 1 & 0 & 0 & 0\\\\0 & \\frac{1}{- \\frac{2 M \\theta\\left(- R + r\\right)}{r} + 1} & 0 & 0\\\\0 & 0 & r^{2} & 0\\\\0 & 0 & 0 & r^{2} \\sin^{2}{\\left(\\theta \\right)}\\end{matrix}\\right]$"
      ],
      "text/plain": [
       "⎡2⋅M⋅θ(-R + r)                                         ⎤\n",
       "⎢───────────── - 1           0           0       0     ⎥\n",
       "⎢      r                                               ⎥\n",
       "⎢                                                      ⎥\n",
       "⎢                            1                         ⎥\n",
       "⎢        0          ───────────────────  0       0     ⎥\n",
       "⎢                     2⋅M⋅θ(-R + r)                    ⎥\n",
       "⎢                   - ───────────── + 1                ⎥\n",
       "⎢                           r                          ⎥\n",
       "⎢                                                      ⎥\n",
       "⎢                                         2            ⎥\n",
       "⎢        0                   0           r       0     ⎥\n",
       "⎢                                                      ⎥\n",
       "⎢                                             2    2   ⎥\n",
       "⎣        0                   0           0   r ⋅sin (θ)⎦"
      ]
     },
     "execution_count": 71,
     "metadata": {},
     "output_type": "execute_result"
    }
   ],
   "source": [
    "t, r, theta, phi = sympy.symbols(\"t r theta phi\")\n",
    "G, M, c, a, w, R = sympy.symbols(\"G M c a w, R\")\n",
    "a = 2*M\n",
    "\n",
    "#R = 5*M\n",
    "# using metric values of schwarschild space-time\n",
    "# a is schwarzschild radius\n",
    "list2d = [[0 for i in range(4)] for i in range(4)]\n",
    "list2d[0][0] = -(1 - Heaviside(r - R)*a/r)\n",
    "list2d[0][1] = 0\n",
    "list2d[1][0] = 0\n",
    "list2d[1][1] = 1/(1 - Heaviside(r - R)*a/r) \n",
    "list2d[2][2] = (r)**2\n",
    "list2d[3][3] = (r)**2*(sympy.sin(theta) ** 2)\n",
    "sch = MetricTensor(list2d, [t, r, theta, phi])\n",
    "sch.tensor()\n"
   ]
  },
  {
   "cell_type": "markdown",
   "metadata": {},
   "source": [
    "### Calculating the Einstein Tensor (with both indices covariant)\n",
    "#### The zero, zero density term and pressures have delta functions in them. \n"
   ]
  },
  {
   "cell_type": "code",
   "execution_count": 72,
   "metadata": {
    "scrolled": true
   },
   "outputs": [
    {
     "data": {
      "text/latex": [
       "$\\displaystyle \\left[\\begin{matrix}\\frac{1.0 M \\left(- 4.0 M \\theta\\left(- R + r\\right) + 2.0 r\\right) \\delta\\left(R - r\\right)}{r^{3}} & 0 & 0 & 0\\\\0 & \\frac{2.0 M \\delta\\left(R - r\\right)}{r \\left(2 M \\theta\\left(- R + r\\right) - r\\right)} & 0 & 0\\\\0 & 0 & 1.0 M r \\delta^{\\left( 1 \\right)}\\left( R - r \\right) & 0\\\\0 & 0 & 0 & 1.0 M r \\sin^{2}{\\left(\\theta \\right)} \\delta^{\\left( 1 \\right)}\\left( R - r \\right)\\end{matrix}\\right]$"
      ],
      "text/plain": [
       "⎡1.0⋅M⋅(-4.0⋅M⋅θ(-R + r) + 2.0⋅r)⋅δ(R - r)                                                                           ⎤\n",
       "⎢─────────────────────────────────────────            0                     0                         0              ⎥\n",
       "⎢                     3                                                                                              ⎥\n",
       "⎢                    r                                                                                               ⎥\n",
       "⎢                                                                                                                    ⎥\n",
       "⎢                                               2.0⋅M⋅δ(R - r)                                                       ⎥\n",
       "⎢                    0                      ─────────────────────           0                         0              ⎥\n",
       "⎢                                           r⋅(2⋅M⋅θ(-R + r) - r)                                                    ⎥\n",
       "⎢                                                                                                                    ⎥\n",
       "⎢                                                                           (1)                                      ⎥\n",
       "⎢                    0                                0            1.0⋅M⋅r⋅δ    (R - r)               0              ⎥\n",
       "⎢                                                                                                                    ⎥\n",
       "⎢                                                                                                   2     (1)        ⎥\n",
       "⎣                    0                                0                     0            1.0⋅M⋅r⋅sin (θ)⋅δ    (R - r)⎦"
      ]
     },
     "execution_count": 72,
     "metadata": {},
     "output_type": "execute_result"
    }
   ],
   "source": [
    "einst = EinsteinTensor.from_metric(sch)\n",
    "einst.simplify()\n",
    "einst.tensor()\n",
    "#components explanation EG https://physics.stackexchange.com/questions/366560/stress-energy-tensor-components-spherical-coordinates"
   ]
  },
  {
   "cell_type": "markdown",
   "metadata": {},
   "source": [
    "### If we integrate various terms of the stress energy tensor (which is einst) above, we get the mass of the mass shell we need to support this. \n",
    "\n",
    "First - the zero - zero term. The shellMass comes out to M when R is at the hoizon (IE we don't need a shell, and 2M way out. Seems to me we need to use shellMass - M as the actual shell mass required? EG if R is way out at 1000M the shell by logical argument should be close to M in mass, and when the shell disappears behind the singularity its mass goes to zero, as the Schewarschild solution is a vacuum solution. \n",
    "\n",
    "Also there is pressure to deal with.\n"
   ]
  },
  {
   "cell_type": "code",
   "execution_count": 79,
   "metadata": {},
   "outputs": [
    {
     "data": {
      "image/png": "[encoded data removed]",
      "text/latex": [
       "$\\displaystyle \\frac{2 M \\left(- M + R\\right)}{R}$"
      ],
      "text/plain": [
       "2⋅M⋅(-M + R)\n",
       "────────────\n",
       "     R      "
      ]
     },
     "execution_count": 79,
     "metadata": {},
     "output_type": "execute_result"
    }
   ],
   "source": [
    "shellMass = sympy.integrate(einst[0][0]*(r**2),  (r, -oo, oo))\n",
    "shellMass = sympy.simplify(shellMass)\n",
    "shellMass"
   ]
  },
  {
   "cell_type": "markdown",
   "metadata": {},
   "source": [
    "### Ok Pressure, lets see radial direction\n",
    "\n",
    "#### radial pressure gets bigger as R descreases, at R = 2M pressure is -4M (if I have the units right). At R -> large, total pressure goes to -2M, This is the total pressure to hold the shell in place."
   ]
  },
  {
   "cell_type": "code",
   "execution_count": 91,
   "metadata": {},
   "outputs": [
    {
     "data": {
      "image/png": "[encoded data removed]",
      "text/latex": [
       "$\\displaystyle \\frac{2 M R}{M - R}$"
      ],
      "text/plain": [
       "2⋅M⋅R\n",
       "─────\n",
       "M - R"
      ]
     },
     "execution_count": 91,
     "metadata": {},
     "output_type": "execute_result"
    }
   ],
   "source": [
    "pressureInt = sympy.integrate(einst[1][1]*r**2,  (r, -oo, oo))\n",
    "pressureInt = sympy.simplify(pressureInt)\n",
    "pressureInt"
   ]
  },
  {
   "cell_type": "code",
   "execution_count": 92,
   "metadata": {},
   "outputs": [
    {
     "data": {
      "text/latex": [
       "$\\displaystyle \\left[\\begin{matrix}\\frac{M \\left(- 2 M \\theta\\left(- R + r\\right) + r\\right) \\delta^{\\left( 1 \\right)}\\left( R - r \\right)}{r^{2}} & 0 & 0 & 0\\\\0 & \\frac{M \\delta^{\\left( 1 \\right)}\\left( R - r \\right)}{2 M \\theta\\left(- R + r\\right) - r} & 0 & 0\\\\0 & 0 & 2 M \\delta\\left(R - r\\right) & 0\\\\0 & 0 & 0 & 2 M \\sin^{2}{\\left(\\theta \\right)} \\delta\\left(R - r\\right)\\end{matrix}\\right]$"
      ],
      "text/plain": [
       "⎡                        (1)                                                               ⎤\n",
       "⎢M⋅(-2⋅M⋅θ(-R + r) + r)⋅δ    (R - r)                                                       ⎥\n",
       "⎢───────────────────────────────────          0               0                 0          ⎥\n",
       "⎢                  2                                                                       ⎥\n",
       "⎢                 r                                                                        ⎥\n",
       "⎢                                                                                          ⎥\n",
       "⎢                                          (1)                                             ⎥\n",
       "⎢                                       M⋅δ    (R - r)                                     ⎥\n",
       "⎢                 0                   ─────────────────       0                 0          ⎥\n",
       "⎢                                     2⋅M⋅θ(-R + r) - r                                    ⎥\n",
       "⎢                                                                                          ⎥\n",
       "⎢                 0                           0          2⋅M⋅δ(R - r)           0          ⎥\n",
       "⎢                                                                                          ⎥\n",
       "⎢                                                                             2            ⎥\n",
       "⎣                 0                           0               0        2⋅M⋅sin (θ)⋅δ(R - r)⎦"
      ]
     },
     "execution_count": 92,
     "metadata": {},
     "output_type": "execute_result"
    }
   ],
   "source": [
    "ri = RicciTensor.from_metric(sch)\n",
    "ri.simplify()\n",
    "ri.tensor()\n",
    "#components explanation EG https://physics.stackexchange.com/questions/366560/stress-energy-tensor-components-spherical-coordinates"
   ]
  },
  {
   "cell_type": "markdown",
   "metadata": {},
   "source": [
    "#Zero like it should be \n"
   ]
  },
  {
   "cell_type": "code",
   "execution_count": 93,
   "metadata": {},
   "outputs": [
    {
     "data": {
      "text/latex": [
       "$\\displaystyle \\left[\\begin{matrix}\\left[\\begin{matrix}0 & 0 & 0 & 0\\\\0 & 0 & 0 & 0\\\\0 & 0 & 0 & 0\\\\0 & 0 & 0 & 0\\end{matrix}\\right] & \\left[\\begin{matrix}0 & \\frac{M \\left(r^{2} \\delta^{\\left( 1 \\right)}\\left( R - r \\right) + 4 r \\delta\\left(R - r\\right) - 6 \\theta\\left(- R + r\\right)\\right)}{3 r^{3}} & 0 & 0\\\\\\frac{M \\left(- r^{2} \\delta^{\\left( 1 \\right)}\\left( R - r \\right) - 4 r \\delta\\left(R - r\\right) + 6 \\theta\\left(- R + r\\right)\\right)}{3 r^{3}} & 0 & 0 & 0\\\\0 & 0 & 0 & 0\\\\0 & 0 & 0 & 0\\end{matrix}\\right] & \\left[\\begin{matrix}0 & 0 & \\frac{M \\left(2 M \\theta\\left(- R + r\\right) - r\\right) \\left(3 r^{2} \\delta^{\\left( 1 \\right)}\\left( R - r \\right) - 2 r \\left(r \\delta^{\\left( 1 \\right)}\\left( R - r \\right) + \\delta\\left(R - r\\right)\\right) + 6 r \\delta\\left(R - r\\right) - 6 \\theta\\left(- R + r\\right)\\right)}{6 r^{2}} & 0\\\\0 & 0 & 0 & 0\\\\\\frac{M \\left(2 M \\theta\\left(- R + r\\right) - r\\right) \\left(- 3 r^{2} \\delta^{\\left( 1 \\right)}\\left( R - r \\right) + 2 r \\left(r \\delta^{\\left( 1 \\right)}\\left( R - r \\right) + \\delta\\left(R - r\\right)\\right) - 6 r \\delta\\left(R - r\\right) + 6 \\theta\\left(- R + r\\right)\\right)}{6 r^{2}} & 0 & 0 & 0\\\\0 & 0 & 0 & 0\\end{matrix}\\right] & \\left[\\begin{matrix}0 & 0 & 0 & \\frac{M \\left(2 M \\theta\\left(- R + r\\right) - r\\right) \\left(3 r^{2} \\delta^{\\left( 1 \\right)}\\left( R - r \\right) - 2 r \\left(r \\delta^{\\left( 1 \\right)}\\left( R - r \\right) + \\delta\\left(R - r\\right)\\right) + 6 r \\delta\\left(R - r\\right) - 6 \\theta\\left(- R + r\\right)\\right) \\sin^{2}{\\left(\\theta \\right)}}{6 r^{2}}\\\\0 & 0 & 0 & 0\\\\0 & 0 & 0 & 0\\\\\\frac{M \\left(2 M \\theta\\left(- R + r\\right) - r\\right) \\left(- 3 r^{2} \\delta^{\\left( 1 \\right)}\\left( R - r \\right) + 2 r \\left(r \\delta^{\\left( 1 \\right)}\\left( R - r \\right) + \\delta\\left(R - r\\right)\\right) - 6 r \\delta\\left(R - r\\right) + 6 \\theta\\left(- R + r\\right)\\right) \\sin^{2}{\\left(\\theta \\right)}}{6 r^{2}} & 0 & 0 & 0\\end{matrix}\\right]\\\\\\left[\\begin{matrix}0 & \\frac{M \\left(- r^{2} \\delta^{\\left( 1 \\right)}\\left( R - r \\right) - 4 r \\delta\\left(R - r\\right) + 6 \\theta\\left(- R + r\\right)\\right)}{3 r^{3}} & 0 & 0\\\\\\frac{M \\left(r^{2} \\delta^{\\left( 1 \\right)}\\left( R - r \\right) + 4 r \\delta\\left(R - r\\right) - 6 \\theta\\left(- R + r\\right)\\right)}{3 r^{3}} & 0 & 0 & 0\\\\0 & 0 & 0 & 0\\\\0 & 0 & 0 & 0\\end{matrix}\\right] & \\left[\\begin{matrix}0 & 0 & 0 & 0\\\\0 & 0 & 0 & 0\\\\0 & 0 & 0 & 0\\\\0 & 0 & 0 & 0\\end{matrix}\\right] & \\left[\\begin{matrix}0 & 0 & 0 & 0\\\\0 & 0 & \\frac{M \\left(r^{2} \\delta^{\\left( 1 \\right)}\\left( R - r \\right) + 4 r \\delta\\left(R - r\\right) - 6 \\theta\\left(- R + r\\right)\\right)}{6 \\left(- 2 M \\theta\\left(- R + r\\right) + r\\right)} & 0\\\\0 & \\frac{M \\left(- r^{2} \\delta^{\\left( 1 \\right)}\\left( R - r \\right) - 4 r \\delta\\left(R - r\\right) + 6 \\theta\\left(- R + r\\right)\\right)}{6 \\left(- 2 M \\theta\\left(- R + r\\right) + r\\right)} & 0 & 0\\\\0 & 0 & 0 & 0\\end{matrix}\\right] & \\left[\\begin{matrix}0 & 0 & 0 & 0\\\\0 & 0 & 0 & \\frac{M \\left(r^{2} \\delta^{\\left( 1 \\right)}\\left( R - r \\right) + 4 r \\delta\\left(R - r\\right) - 6 \\theta\\left(- R + r\\right)\\right) \\sin^{2}{\\left(\\theta \\right)}}{6 \\left(- 2 M \\theta\\left(- R + r\\right) + r\\right)}\\\\0 & 0 & 0 & 0\\\\0 & \\frac{M \\left(- r^{2} \\delta^{\\left( 1 \\right)}\\left( R - r \\right) - 4 r \\delta\\left(R - r\\right) + 6 \\theta\\left(- R + r\\right)\\right) \\sin^{2}{\\left(\\theta \\right)}}{6 \\left(- 2 M \\theta\\left(- R + r\\right) + r\\right)} & 0 & 0\\end{matrix}\\right]\\\\\\left[\\begin{matrix}0 & 0 & \\frac{M \\left(2 M \\theta\\left(- R + r\\right) - r\\right) \\left(- 3 r^{2} \\delta^{\\left( 1 \\right)}\\left( R - r \\right) + 2 r \\left(r \\delta^{\\left( 1 \\right)}\\left( R - r \\right) + \\delta\\left(R - r\\right)\\right) - 6 r \\delta\\left(R - r\\right) + 6 \\theta\\left(- R + r\\right)\\right)}{6 r^{2}} & 0\\\\0 & 0 & 0 & 0\\\\\\frac{M \\left(2 M \\theta\\left(- R + r\\right) - r\\right) \\left(3 r^{2} \\delta^{\\left( 1 \\right)}\\left( R - r \\right) - 2 r \\left(r \\delta^{\\left( 1 \\right)}\\left( R - r \\right) + \\delta\\left(R - r\\right)\\right) + 6 r \\delta\\left(R - r\\right) - 6 \\theta\\left(- R + r\\right)\\right)}{6 r^{2}} & 0 & 0 & 0\\\\0 & 0 & 0 & 0\\end{matrix}\\right] & \\left[\\begin{matrix}0 & 0 & 0 & 0\\\\0 & 0 & \\frac{M \\left(- r^{2} \\delta^{\\left( 1 \\right)}\\left( R - r \\right) - 4 r \\delta\\left(R - r\\right) + 6 \\theta\\left(- R + r\\right)\\right)}{6 \\left(- 2 M \\theta\\left(- R + r\\right) + r\\right)} & 0\\\\0 & \\frac{M \\left(r^{2} \\delta^{\\left( 1 \\right)}\\left( R - r \\right) + 4 r \\delta\\left(R - r\\right) - 6 \\theta\\left(- R + r\\right)\\right)}{6 \\left(- 2 M \\theta\\left(- R + r\\right) + r\\right)} & 0 & 0\\\\0 & 0 & 0 & 0\\end{matrix}\\right] & \\left[\\begin{matrix}0 & 0 & 0 & 0\\\\0 & 0 & 0 & 0\\\\0 & 0 & 0 & 0\\\\0 & 0 & 0 & 0\\end{matrix}\\right] & \\left[\\begin{matrix}0 & 0 & 0 & 0\\\\0 & 0 & 0 & 0\\\\0 & 0 & 0 & \\frac{M r \\left(- r^{2} \\delta^{\\left( 1 \\right)}\\left( R - r \\right) - 4 r \\delta\\left(R - r\\right) + 6 \\theta\\left(- R + r\\right)\\right) \\sin^{2}{\\left(\\theta \\right)}}{3}\\\\0 & 0 & \\frac{M r \\left(r^{2} \\delta^{\\left( 1 \\right)}\\left( R - r \\right) + 4 r \\delta\\left(R - r\\right) - 6 \\theta\\left(- R + r\\right)\\right) \\sin^{2}{\\left(\\theta \\right)}}{3} & 0\\end{matrix}\\right]\\\\\\left[\\begin{matrix}0 & 0 & 0 & \\frac{M \\left(2 M \\theta\\left(- R + r\\right) - r\\right) \\left(- 3 r^{2} \\delta^{\\left( 1 \\right)}\\left( R - r \\right) + 2 r \\left(r \\delta^{\\left( 1 \\right)}\\left( R - r \\right) + \\delta\\left(R - r\\right)\\right) - 6 r \\delta\\left(R - r\\right) + 6 \\theta\\left(- R + r\\right)\\right) \\sin^{2}{\\left(\\theta \\right)}}{6 r^{2}}\\\\0 & 0 & 0 & 0\\\\0 & 0 & 0 & 0\\\\\\frac{M \\left(2 M \\theta\\left(- R + r\\right) - r\\right) \\left(3 r^{2} \\delta^{\\left( 1 \\right)}\\left( R - r \\right) - 2 r \\left(r \\delta^{\\left( 1 \\right)}\\left( R - r \\right) + \\delta\\left(R - r\\right)\\right) + 6 r \\delta\\left(R - r\\right) - 6 \\theta\\left(- R + r\\right)\\right) \\sin^{2}{\\left(\\theta \\right)}}{6 r^{2}} & 0 & 0 & 0\\end{matrix}\\right] & \\left[\\begin{matrix}0 & 0 & 0 & 0\\\\0 & 0 & 0 & \\frac{M \\left(- r^{2} \\delta^{\\left( 1 \\right)}\\left( R - r \\right) - 4 r \\delta\\left(R - r\\right) + 6 \\theta\\left(- R + r\\right)\\right) \\sin^{2}{\\left(\\theta \\right)}}{6 \\left(- 2 M \\theta\\left(- R + r\\right) + r\\right)}\\\\0 & 0 & 0 & 0\\\\0 & \\frac{M \\left(r^{2} \\delta^{\\left( 1 \\right)}\\left( R - r \\right) + 4 r \\delta\\left(R - r\\right) - 6 \\theta\\left(- R + r\\right)\\right) \\sin^{2}{\\left(\\theta \\right)}}{6 \\left(- 2 M \\theta\\left(- R + r\\right) + r\\right)} & 0 & 0\\end{matrix}\\right] & \\left[\\begin{matrix}0 & 0 & 0 & 0\\\\0 & 0 & 0 & 0\\\\0 & 0 & 0 & \\frac{M r \\left(r^{2} \\delta^{\\left( 1 \\right)}\\left( R - r \\right) + 4 r \\delta\\left(R - r\\right) - 6 \\theta\\left(- R + r\\right)\\right) \\sin^{2}{\\left(\\theta \\right)}}{3}\\\\0 & 0 & \\frac{M r \\left(- r^{2} \\delta^{\\left( 1 \\right)}\\left( R - r \\right) - 4 r \\delta\\left(R - r\\right) + 6 \\theta\\left(- R + r\\right)\\right) \\sin^{2}{\\left(\\theta \\right)}}{3} & 0\\end{matrix}\\right] & \\left[\\begin{matrix}0 & 0 & 0 & 0\\\\0 & 0 & 0 & 0\\\\0 & 0 & 0 & 0\\\\0 & 0 & 0 & 0\\end{matrix}\\right]\\end{matrix}\\right]$"
      ],
      "text/plain": [
       "⎡                                                                                                                                  \n",
       "⎢                                                                                                                                  \n",
       "⎢                                                                                                                                  \n",
       "⎢                                                                                                                                  \n",
       "⎢                                                                                                                ⎡0  0  0  0⎤      \n",
       "⎢                                                                                                                ⎢          ⎥      \n",
       "⎢                                                                                                                ⎢0  0  0  0⎥      \n",
       "⎢                                                                                                                ⎢          ⎥      \n",
       "⎢                                                                                                                ⎢0  0  0  0⎥      \n",
       "⎢                                                                                                                ⎢          ⎥      \n",
       "⎢                                                                                                                ⎣0  0  0  0⎦      \n",
       "⎢                                                                                                                                  \n",
       "⎢                                                                                                                                  \n",
       "⎢                                                                                                                                  \n",
       "⎢                                                                                                                                  \n",
       "⎢                                                                                                                                  \n",
       "⎢                                                                ⎡                                                    ⎛   2  (1)   \n",
       "⎢                                                                ⎢                                                  M⋅⎝- r ⋅δ    (R\n",
       "⎢                                                                ⎢                       0                          ───────────────\n",
       "⎢                                                                ⎢                                                                 \n",
       "⎢                                                                ⎢                                                                 \n",
       "⎢                                                                ⎢                                                                 \n",
       "⎢                                                                ⎢  ⎛ 2  (1)                                     ⎞                 \n",
       "⎢                                                                ⎢M⋅⎝r ⋅δ    (R - r) + 4⋅r⋅δ(R - r) - 6⋅θ(-R + r)⎠                 \n",
       "⎢                                                                ⎢────────────────────────────────────────────────                 \n",
       "⎢                                                                ⎢                         3                                       \n",
       "⎢                                                                ⎢                      3⋅r                                        \n",
       "⎢                                                                ⎢                                                                 \n",
       "⎢                                                                ⎢                       0                                         \n",
       "⎢                                                                ⎢                                                                 \n",
       "⎢                                                                ⎣                       0                                         \n",
       "⎢                                                                                                                                  \n",
       "⎢        ⎡                                                                                                                         \n",
       "⎢        ⎢                                                                                                             M⋅(2⋅M⋅θ(-R \n",
       "⎢        ⎢                                                   0                                                      0  ────────────\n",
       "⎢        ⎢                                                                                                                         \n",
       "⎢        ⎢                                                                                                                         \n",
       "⎢        ⎢                                                                                                                         \n",
       "⎢        ⎢                                                   0                                                      0              \n",
       "⎢        ⎢                                                                                                                         \n",
       "⎢        ⎢                      ⎛   2  (1)               ⎛   (1)                   ⎞                             ⎞                 \n",
       "⎢        ⎢M⋅(2⋅M⋅θ(-R + r) - r)⋅⎝3⋅r ⋅δ    (R - r) - 2⋅r⋅⎝r⋅δ    (R - r) + δ(R - r)⎠ + 6⋅r⋅δ(R - r) - 6⋅θ(-R + r)⎠                 \n",
       "⎢        ⎢────────────────────────────────────────────────────────────────────────────────────────────────────────  0              \n",
       "⎢        ⎢                                                     2                                                                   \n",
       "⎢        ⎢                                                  6⋅r                                                                    \n",
       "⎢        ⎢                                                                                                                         \n",
       "⎢        ⎣                                                   0                                                      0              \n",
       "⎢                                                                                                                                  \n",
       "⎢⎡                                                                                                                                 \n",
       "⎢⎢                                                                                                                        M⋅(2⋅M⋅θ(\n",
       "⎢⎢                                                       0                                                          0  0  ─────────\n",
       "⎢⎢                                                                                                                                 \n",
       "⎢⎢                                                                                                                                 \n",
       "⎢⎢                                                                                                                                 \n",
       "⎢⎢                                                       0                                                          0  0           \n",
       "⎢⎢                                                                                                                                 \n",
       "⎢⎢                                                       0                                                          0  0           \n",
       "⎢⎢                                                                                                                                 \n",
       "⎢⎢                      ⎛   2  (1)               ⎛   (1)                   ⎞                             ⎞    2                    \n",
       "⎢⎢M⋅(2⋅M⋅θ(-R + r) - r)⋅⎝3⋅r ⋅δ    (R - r) - 2⋅r⋅⎝r⋅δ    (R - r) + δ(R - r)⎠ + 6⋅r⋅δ(R - r) - 6⋅θ(-R + r)⎠⋅sin (θ)                 \n",
       "⎢⎢────────────────────────────────────────────────────────────────────────────────────────────────────────────────  0  0           \n",
       "⎢⎢                                                         2                                                                       \n",
       "⎣⎣                                                      6⋅r                                                                        \n",
       "\n",
       "                                                                                                                    ⎡              \n",
       "                                                                                                                    ⎢              \n",
       "                                                                                                                    ⎢              \n",
       "                                                                                                                    ⎢              \n",
       "                                                                                                                    ⎢              \n",
       "                                                                                                                    ⎢              \n",
       "                                                                                                                    ⎢  ⎛   2  (1)  \n",
       "                                                                                                                    ⎢M⋅⎝- r ⋅δ    (\n",
       "                                                                                                                    ⎢──────────────\n",
       "                                                                                                                    ⎢              \n",
       "                                                                                                                    ⎢              \n",
       "                                                                                                                    ⎢              \n",
       "                                                                                                                    ⎢              \n",
       "                                                                                                                    ⎢              \n",
       "                                                                                                                    ⎣              \n",
       "                                                                                                                                   \n",
       "                                  ⎞      ⎤                                                                                         \n",
       " - r) - 4⋅r⋅δ(R - r) + 6⋅θ(-R + r)⎠      ⎥                                                                                         \n",
       "───────────────────────────────────  0  0⎥                                                                                         \n",
       "           3                             ⎥                                                                                         \n",
       "        3⋅r                              ⎥                                                                                         \n",
       "                                         ⎥                                                                                         \n",
       "                                         ⎥                                                                                         \n",
       "                                         ⎥                                                                                         \n",
       "         0                           0  0⎥                                                                                         \n",
       "                                         ⎥                                                                                         \n",
       "                                         ⎥                                                                                         \n",
       "                                         ⎥                                                                                         \n",
       "         0                           0  0⎥                                                                                         \n",
       "                                         ⎥                                                                                         \n",
       "         0                           0  0⎦                                                                                         \n",
       "                                                                                                                                   \n",
       "          ⎛     2  (1)               ⎛   (1)                   ⎞                             ⎞   ⎤                                 \n",
       "+ r) - r)⋅⎝- 3⋅r ⋅δ    (R - r) + 2⋅r⋅⎝r⋅δ    (R - r) + δ(R - r)⎠ - 6⋅r⋅δ(R - r) + 6⋅θ(-R + r)⎠   ⎥                  ⎡0             \n",
       "──────────────────────────────────────────────────────────────────────────────────────────────  0⎥                  ⎢              \n",
       "                                          2                                                      ⎥                  ⎢              \n",
       "                                       6⋅r                                                       ⎥                  ⎢              \n",
       "                                                                                                 ⎥                  ⎢0             \n",
       "                                        0                                                       0⎥                  ⎢              \n",
       "                                                                                                 ⎥                  ⎢              \n",
       "                                                                                                 ⎥                  ⎢     ⎛ 2  (1) \n",
       "                                                                                                 ⎥                  ⎢   M⋅⎝r ⋅δ    \n",
       "                                        0                                                       0⎥                  ⎢0  ───────────\n",
       "                                                                                                 ⎥                  ⎢              \n",
       "                                                                                                 ⎥                  ⎢              \n",
       "                                                                                                 ⎥                  ⎣0             \n",
       "                                        0                                                       0⎦                                 \n",
       "                                                                                                                                   \n",
       "             ⎛     2  (1)               ⎛   (1)                   ⎞                             ⎞    2   ⎤                         \n",
       "-R + r) - r)⋅⎝- 3⋅r ⋅δ    (R - r) + 2⋅r⋅⎝r⋅δ    (R - r) + δ(R - r)⎠ - 6⋅r⋅δ(R - r) + 6⋅θ(-R + r)⎠⋅sin (θ)⎥  ⎡0                     \n",
       "─────────────────────────────────────────────────────────────────────────────────────────────────────────⎥  ⎢                      \n",
       "                                                 2                                                       ⎥  ⎢                      \n",
       "                                              6⋅r                                                        ⎥  ⎢                      \n",
       "                                                                                                         ⎥  ⎢0                     \n",
       "                                               0                                                         ⎥  ⎢                      \n",
       "                                                                                                         ⎥  ⎢                      \n",
       "                                               0                                                         ⎥  ⎢0                     \n",
       "                                                                                                         ⎥  ⎢                      \n",
       "                                                                                                         ⎥  ⎢     ⎛ 2  (1)         \n",
       "                                                                                                         ⎥  ⎢   M⋅⎝r ⋅δ    (R - r) \n",
       "                                               0                                                         ⎥  ⎢0  ───────────────────\n",
       "                                                                                                         ⎥  ⎣                    6⋅\n",
       "                                                                                                         ⎦                         \n",
       "\n",
       "                                        ⎛ 2  (1)                                     ⎞      ⎤          ⎡                           \n",
       "                                      M⋅⎝r ⋅δ    (R - r) + 4⋅r⋅δ(R - r) - 6⋅θ(-R + r)⎠      ⎥          ⎢                           \n",
       "          0                           ────────────────────────────────────────────────  0  0⎥          ⎢                           \n",
       "                                                               3                            ⎥          ⎢                           \n",
       "                                                            3⋅r                             ⎥          ⎢                           \n",
       "                                                                                            ⎥          ⎢                           \n",
       "                                   ⎞                                                        ⎥          ⎢                           \n",
       "R - r) - 4⋅r⋅δ(R - r) + 6⋅θ(-R + r)⎠                                                        ⎥          ⎢                           \n",
       "────────────────────────────────────                         0                          0  0⎥          ⎢                      ⎛    \n",
       "            3                                                                               ⎥          ⎢M⋅(2⋅M⋅θ(-R + r) - r)⋅⎝- 3⋅\n",
       "         3⋅r                                                                                ⎥          ⎢───────────────────────────\n",
       "                                                                                            ⎥          ⎢                           \n",
       "          0                                                  0                          0  0⎥          ⎢                           \n",
       "                                                                                            ⎥          ⎢                           \n",
       "          0                                                  0                          0  0⎦          ⎣                           \n",
       "                                                                                                                                   \n",
       "                                                                                                                                   \n",
       "                                                                                                                                   \n",
       "                                                                                                                                   \n",
       "                                                                                                                                   \n",
       "                                 ⎡0  0  0  0⎤                                                                                      \n",
       "                                 ⎢          ⎥                                                                                      \n",
       "                                 ⎢0  0  0  0⎥                                                                                      \n",
       "                                 ⎢          ⎥                                                                                      \n",
       "                                 ⎢0  0  0  0⎥                                                                                      \n",
       "                                 ⎢          ⎥                                                                                      \n",
       "                                 ⎣0  0  0  0⎦                                                                                      \n",
       "                                                                                                                                   \n",
       "                                                                                                                                   \n",
       "                                                                                                                                   \n",
       "                                                                                                                                   \n",
       "                                                                                                                                   \n",
       "                                                                                                                                   \n",
       "            0                                                  0                           0⎤                                      \n",
       "                                                                                            ⎥                                      \n",
       "                                         ⎛   2  (1)                                     ⎞   ⎥                                      \n",
       "                                       M⋅⎝- r ⋅δ    (R - r) - 4⋅r⋅δ(R - r) + 6⋅θ(-R + r)⎠   ⎥                                      \n",
       "            0                          ──────────────────────────────────────────────────  0⎥                                      \n",
       "                                                     6⋅(-2⋅M⋅θ(-R + r) + r)                 ⎥                                      \n",
       "                                                                                            ⎥                                      \n",
       "                                    ⎞                                                       ⎥                                      \n",
       "(R - r) + 4⋅r⋅δ(R - r) - 6⋅θ(-R + r)⎠                                                       ⎥                                      \n",
       "─────────────────────────────────────                          0                           0⎥                                      \n",
       "  6⋅(-2⋅M⋅θ(-R + r) + r)                                                                    ⎥                                      \n",
       "                                                                                            ⎥                                      \n",
       "            0                                                  0                           0⎦                                      \n",
       "                                                                                                                                   \n",
       "                                                                                                                                   \n",
       "                                                                                                                                   \n",
       "        0                              0                              0                             ⎤                              \n",
       "                                                                                                    ⎥                              \n",
       "                                            ⎛   2  (1)                                     ⎞    2   ⎥                              \n",
       "                                          M⋅⎝- r ⋅δ    (R - r) - 4⋅r⋅δ(R - r) + 6⋅θ(-R + r)⎠⋅sin (θ)⎥                              \n",
       "        0                              0  ──────────────────────────────────────────────────────────⎥                              \n",
       "                                                            6⋅(-2⋅M⋅θ(-R + r) + r)                  ⎥                              \n",
       "                                                                                                    ⎥                              \n",
       "        0                              0                              0                             ⎥                              \n",
       "                                                                                                    ⎥                              \n",
       "                            ⎞    2                                                                  ⎥                              \n",
       "+ 4⋅r⋅δ(R - r) - 6⋅θ(-R + r)⎠⋅sin (θ)                                                               ⎥                              \n",
       "─────────────────────────────────────  0                              0                             ⎥                              \n",
       "(-2⋅M⋅θ(-R + r) + r)                                                                                ⎦                              \n",
       "                                                                                                                                   \n",
       "\n",
       "                                                                                                          ⎛   2  (1)               \n",
       "                                                                                    M⋅(2⋅M⋅θ(-R + r) - r)⋅⎝3⋅r ⋅δ    (R - r) - 2⋅r⋅\n",
       "                         0                                                       0  ───────────────────────────────────────────────\n",
       "                                                                                                                                   \n",
       "                                                                                                                                   \n",
       "                                                                                                                                   \n",
       "                         0                                                       0                                                 \n",
       "                                                                                                                                   \n",
       " 2  (1)               ⎛   (1)                   ⎞                             ⎞                                                    \n",
       "r ⋅δ    (R - r) + 2⋅r⋅⎝r⋅δ    (R - r) + δ(R - r)⎠ - 6⋅r⋅δ(R - r) + 6⋅θ(-R + r)⎠                                                    \n",
       "───────────────────────────────────────────────────────────────────────────────  0                                                 \n",
       "                           2                                                                                                       \n",
       "                        6⋅r                                                                                                        \n",
       "                                                                                                                                   \n",
       "                         0                                                       0                                                 \n",
       "                                                                                                                                   \n",
       "                                                                                                                                   \n",
       "                            ⎡0                          0                                                  0                       \n",
       "                            ⎢                                                                                                      \n",
       "                            ⎢                                                         ⎛ 2  (1)                                     \n",
       "                            ⎢                                                       M⋅⎝r ⋅δ    (R - r) + 4⋅r⋅δ(R - r) - 6⋅θ(-R + r)\n",
       "                            ⎢0                          0                           ───────────────────────────────────────────────\n",
       "                            ⎢                                                                    6⋅(-2⋅M⋅θ(-R + r) + r)            \n",
       "                            ⎢                                                                                                      \n",
       "                            ⎢     ⎛   2  (1)                                     ⎞                                                 \n",
       "                            ⎢   M⋅⎝- r ⋅δ    (R - r) - 4⋅r⋅δ(R - r) + 6⋅θ(-R + r)⎠                                                 \n",
       "                            ⎢0  ──────────────────────────────────────────────────                         0                       \n",
       "                            ⎢                 6⋅(-2⋅M⋅θ(-R + r) + r)                                                               \n",
       "                            ⎢                                                                                                      \n",
       "                            ⎣0                          0                                                  0                       \n",
       "                                                                                                                                   \n",
       "                                                                                                                                   \n",
       "                                                                                                                                   \n",
       "                                                                                                                                   \n",
       "                                                                                                                                   \n",
       "                                                                                                                                   \n",
       "                                                                            ⎡0  0  0  0⎤                                           \n",
       "                                                                            ⎢          ⎥                                           \n",
       "                                                                            ⎢0  0  0  0⎥                                           \n",
       "                                                                            ⎢          ⎥                                           \n",
       "                                                                            ⎢0  0  0  0⎥                                           \n",
       "                                                                            ⎢          ⎥                                           \n",
       "                                                                            ⎣0  0  0  0⎦                                           \n",
       "                                                                                                                                   \n",
       "                                                                                                                                   \n",
       "                                                                                                                                   \n",
       "                                                                                                                                   \n",
       "                                                                                                                                   \n",
       "                                                                                                                                   \n",
       "                  ⎡0  0                               0                                                            0               \n",
       "                  ⎢                                                                                                                \n",
       "                  ⎢0  0                               0                                                            0               \n",
       "                  ⎢                                                                                                                \n",
       "                  ⎢                                                                        ⎛ 2  (1)                                \n",
       "                  ⎢                                                                    M⋅r⋅⎝r ⋅δ    (R - r) + 4⋅r⋅δ(R - r) - 6⋅θ(-R\n",
       "                  ⎢0  0                               0                                ────────────────────────────────────────────\n",
       "                  ⎢                                                                                                3               \n",
       "                  ⎢                                                                                                                \n",
       "                  ⎢          ⎛   2  (1)                                     ⎞    2                                                 \n",
       "                  ⎢      M⋅r⋅⎝- r ⋅δ    (R - r) - 4⋅r⋅δ(R - r) + 6⋅θ(-R + r)⎠⋅sin (θ)                                              \n",
       "                  ⎢0  0  ────────────────────────────────────────────────────────────                              0               \n",
       "                  ⎣                                   3                                                                            \n",
       "                                                                                                                                   \n",
       "\n",
       "⎛   (1)                   ⎞                             ⎞   ⎤  ⎡                                                                   \n",
       "⎝r⋅δ    (R - r) + δ(R - r)⎠ + 6⋅r⋅δ(R - r) - 6⋅θ(-R + r)⎠   ⎥  ⎢                                                                   \n",
       "─────────────────────────────────────────────────────────  0⎥  ⎢                                                        0          \n",
       "      2                                                     ⎥  ⎢                                                                   \n",
       "   6⋅r                                                      ⎥  ⎢                                                                   \n",
       "                                                            ⎥  ⎢                                                                   \n",
       "    0                                                      0⎥  ⎢                                                        0          \n",
       "                                                            ⎥  ⎢                                                                   \n",
       "                                                            ⎥  ⎢                                                        0          \n",
       "                                                            ⎥  ⎢                                                                   \n",
       "    0                                                      0⎥  ⎢                      ⎛     2  (1)               ⎛   (1)           \n",
       "                                                            ⎥  ⎢M⋅(2⋅M⋅θ(-R + r) - r)⋅⎝- 3⋅r ⋅δ    (R - r) + 2⋅r⋅⎝r⋅δ    (R - r) + \n",
       "                                                            ⎥  ⎢───────────────────────────────────────────────────────────────────\n",
       "                                                            ⎥  ⎢                                                          2        \n",
       "    0                                                      0⎦  ⎣                                                       6⋅r         \n",
       "                                                                                                                                   \n",
       "                                                                                                                                   \n",
       "   0⎤                                                                                                                  ⎡0          \n",
       "    ⎥                                                                                                                  ⎢           \n",
       "⎞   ⎥                                                                                                                  ⎢           \n",
       "⎠   ⎥                                                                                                                  ⎢           \n",
       "─  0⎥                                                                                                                  ⎢0          \n",
       "    ⎥                                                                                                                  ⎢           \n",
       "    ⎥                                                                                                                  ⎢           \n",
       "    ⎥                                                                                                                  ⎢0          \n",
       "    ⎥                                                                                                                  ⎢           \n",
       "   0⎥                                                                                                                  ⎢     ⎛   2 \n",
       "    ⎥                                                                                                                  ⎢   M⋅⎝- r ⋅\n",
       "    ⎥                                                                                                                  ⎢0  ────────\n",
       "   0⎦                                                                                                                  ⎣           \n",
       "                                                                                                                                   \n",
       "                                                                                                                                   \n",
       "                                                                                                                                   \n",
       "                                                                                                                     ⎡0  0         \n",
       "                                                                                                                     ⎢             \n",
       "                                                                                                                     ⎢0  0         \n",
       "                                                                                                                     ⎢             \n",
       "                                                                                                                     ⎢             \n",
       "                                                                                                                     ⎢             \n",
       "                                                                                                                     ⎢0  0         \n",
       "                                                                                                                     ⎢             \n",
       "                                                                                                                     ⎢             \n",
       "                                                                                                                     ⎢          ⎛ 2\n",
       "                                                                                                                     ⎢      M⋅r⋅⎝r \n",
       "                                                                                                                     ⎢0  0  ───────\n",
       "                                                                                                                     ⎣             \n",
       "                                                                                                                                   \n",
       "                                                                                                                                   \n",
       "                                                                                                                                   \n",
       "              ⎤                                                                                                                    \n",
       "              ⎥                                                                                                                    \n",
       "              ⎥                                                                                                                    \n",
       "              ⎥                                                                                                                    \n",
       "     ⎞    2   ⎥                                                                                                                    \n",
       " + r)⎠⋅sin (θ)⎥                                                                                                                    \n",
       "──────────────⎥                                                                                                                    \n",
       "              ⎥                                                                                                                    \n",
       "              ⎥                                                                                                                    \n",
       "              ⎥                                                                                                                    \n",
       "              ⎥                                                                                                                    \n",
       "              ⎥                                                                                                                    \n",
       "              ⎦                                                                                                                    \n",
       "                                                                                                                                   \n",
       "\n",
       "                                                                             ⎛   2  (1)               ⎛   (1)                   ⎞  \n",
       "                                                       M⋅(2⋅M⋅θ(-R + r) - r)⋅⎝3⋅r ⋅δ    (R - r) - 2⋅r⋅⎝r⋅δ    (R - r) + δ(R - r)⎠ +\n",
       "                                                 0  0  ────────────────────────────────────────────────────────────────────────────\n",
       "                                                                                                                2                  \n",
       "                                                                                                             6⋅r                   \n",
       "                                                                                                                                   \n",
       "                                                 0  0                                                         0                    \n",
       "                                                                                                                                   \n",
       "                                                 0  0                                                         0                    \n",
       "                                                                                                                                   \n",
       "        ⎞                             ⎞    2                                                                                       \n",
       "δ(R - r)⎠ - 6⋅r⋅δ(R - r) + 6⋅θ(-R + r)⎠⋅sin (θ)                                                                                    \n",
       "───────────────────────────────────────────────  0  0                                                         0                    \n",
       "                                                                                                                                   \n",
       "                                                                                                                                   \n",
       "                                                                                                                                   \n",
       "                                                                                                                                   \n",
       "                    0                               0                             0                            ⎤                   \n",
       "                                                                                                               ⎥                   \n",
       "                                                         ⎛ 2  (1)                                     ⎞    2   ⎥                   \n",
       "                                                       M⋅⎝r ⋅δ    (R - r) + 4⋅r⋅δ(R - r) - 6⋅θ(-R + r)⎠⋅sin (θ)⎥                   \n",
       "                    0                               0  ────────────────────────────────────────────────────────⎥                   \n",
       "                                                                        6⋅(-2⋅M⋅θ(-R + r) + r)                 ⎥                   \n",
       "                                                                                                               ⎥                   \n",
       "                    0                               0                             0                            ⎥                   \n",
       "                                                                                                               ⎥                   \n",
       " (1)                                     ⎞    2                                                                ⎥                   \n",
       "δ    (R - r) - 4⋅r⋅δ(R - r) + 6⋅θ(-R + r)⎠⋅sin (θ)                                                             ⎥                   \n",
       "──────────────────────────────────────────────────  0                             0                            ⎥                   \n",
       "          6⋅(-2⋅M⋅θ(-R + r) + r)                                                                               ⎦                   \n",
       "                                                                                                                                   \n",
       "                                                                                                                                   \n",
       "                                                                                                                                   \n",
       "                     0                                                            0                              ⎤                 \n",
       "                                                                                                                 ⎥                 \n",
       "                     0                                                            0                              ⎥                 \n",
       "                                                                                                                 ⎥                 \n",
       "                                                         ⎛   2  (1)                                     ⎞    2   ⎥                 \n",
       "                                                     M⋅r⋅⎝- r ⋅δ    (R - r) - 4⋅r⋅δ(R - r) + 6⋅θ(-R + r)⎠⋅sin (θ)⎥                 \n",
       "                     0                               ────────────────────────────────────────────────────────────⎥                 \n",
       "                                                                                  3                              ⎥                 \n",
       "                                                                                                                 ⎥                 \n",
       "  (1)                                     ⎞    2                                                                 ⎥                 \n",
       "⋅δ    (R - r) + 4⋅r⋅δ(R - r) - 6⋅θ(-R + r)⎠⋅sin (θ)                                                              ⎥                 \n",
       "───────────────────────────────────────────────────                               0                              ⎥                 \n",
       "                     3                                                                                           ⎦                 \n",
       "                                                                                                                                   \n",
       "                                                                                                                                   \n",
       "                                                                                                                                   \n",
       "                                                                                                                                   \n",
       "                                                                                                                                   \n",
       "                                                                                                                                   \n",
       "                                            ⎡0  0  0  0⎤                                                                           \n",
       "                                            ⎢          ⎥                                                                           \n",
       "                                            ⎢0  0  0  0⎥                                                                           \n",
       "                                            ⎢          ⎥                                                                           \n",
       "                                            ⎢0  0  0  0⎥                                                                           \n",
       "                                            ⎢          ⎥                                                                           \n",
       "                                            ⎣0  0  0  0⎦                                                                           \n",
       "                                                                                                                                   \n",
       "                                                                                                                                   \n",
       "                                                                                                                                   \n",
       "                                                                                                                                   \n",
       "\n",
       "                           ⎞    2   ⎤⎤\n",
       " 6⋅r⋅δ(R - r) - 6⋅θ(-R + r)⎠⋅sin (θ)⎥⎥\n",
       "────────────────────────────────────⎥⎥\n",
       "                                    ⎥⎥\n",
       "                                    ⎥⎥\n",
       "                                    ⎥⎥\n",
       "                                    ⎥⎥\n",
       "                                    ⎥⎥\n",
       "                                    ⎥⎥\n",
       "                                    ⎥⎥\n",
       "                                    ⎥⎥\n",
       "                                    ⎥⎥\n",
       "                                    ⎥⎥\n",
       "                                    ⎥⎥\n",
       "                                    ⎦⎥\n",
       "                                     ⎥\n",
       "                                     ⎥\n",
       "                                     ⎥\n",
       "                                     ⎥\n",
       "                                     ⎥\n",
       "                                     ⎥\n",
       "                                     ⎥\n",
       "                                     ⎥\n",
       "                                     ⎥\n",
       "                                     ⎥\n",
       "                                     ⎥\n",
       "                                     ⎥\n",
       "                                     ⎥\n",
       "                                     ⎥\n",
       "                                     ⎥\n",
       "                                     ⎥\n",
       "                                     ⎥\n",
       "                                     ⎥\n",
       "                                     ⎥\n",
       "                                     ⎥\n",
       "                                     ⎥\n",
       "                                     ⎥\n",
       "                                     ⎥\n",
       "                                     ⎥\n",
       "                                     ⎥\n",
       "                                     ⎥\n",
       "                                     ⎥\n",
       "                                     ⎥\n",
       "                                     ⎥\n",
       "                                     ⎥\n",
       "                                     ⎥\n",
       "                                     ⎥\n",
       "                                     ⎥\n",
       "                                     ⎥\n",
       "                                     ⎥\n",
       "                                     ⎥\n",
       "                                     ⎥\n",
       "                                     ⎥\n",
       "                                     ⎥\n",
       "                                     ⎥\n",
       "                                     ⎥\n",
       "                                     ⎥\n",
       "                                     ⎥\n",
       "                                     ⎥\n",
       "                                     ⎥\n",
       "                                     ⎥\n",
       "                                     ⎥\n",
       "                                     ⎦"
      ]
     },
     "execution_count": 93,
     "metadata": {},
     "output_type": "execute_result"
    }
   ],
   "source": [
    "# what is the Weyl tensor?\n",
    "weyl = WeylTensor.from_metric(sch)\n",
    "weyl.tensor() # all components!"
   ]
  },
  {
   "cell_type": "code",
   "execution_count": 94,
   "metadata": {},
   "outputs": [
    {
     "data": {
      "image/png": "[encoded data removed]",
      "text/latex": [
       "$\\displaystyle \\frac{M \\left(r^{2} \\delta^{\\left( 1 \\right)}\\left( R - r \\right) + 4 r \\delta\\left(R - r\\right) - 6 \\theta\\left(- R + r\\right)\\right)}{3 r^{3}}$"
      ],
      "text/plain": [
       "  ⎛ 2  (1)                                     ⎞\n",
       "M⋅⎝r ⋅δ    (R - r) + 4⋅r⋅δ(R - r) - 6⋅θ(-R + r)⎠\n",
       "────────────────────────────────────────────────\n",
       "                         3                      \n",
       "                      3⋅r                       "
      ]
     },
     "execution_count": 94,
     "metadata": {},
     "output_type": "execute_result"
    }
   ],
   "source": [
    "weyl[0,1,0,1]"
   ]
  },
  {
   "cell_type": "code",
   "execution_count": 95,
   "metadata": {},
   "outputs": [
    {
     "data": {
      "image/png": "[encoded data removed]",
      "text/latex": [
       "$\\displaystyle \\frac{M \\left(2 M \\theta\\left(- R + r\\right) - r\\right) \\left(3 r^{2} \\delta^{\\left( 1 \\right)}\\left( R - r \\right) - 2 r \\left(r \\delta^{\\left( 1 \\right)}\\left( R - r \\right) + \\delta\\left(R - r\\right)\\right) + 6 r \\delta\\left(R - r\\right) - 6 \\theta\\left(- R + r\\right)\\right)}{6 r^{2}}$"
      ],
      "text/plain": [
       "                      ⎛   2  (1)               ⎛   (1)                   ⎞                             ⎞\n",
       "M⋅(2⋅M⋅θ(-R + r) - r)⋅⎝3⋅r ⋅δ    (R - r) - 2⋅r⋅⎝r⋅δ    (R - r) + δ(R - r)⎠ + 6⋅r⋅δ(R - r) - 6⋅θ(-R + r)⎠\n",
       "────────────────────────────────────────────────────────────────────────────────────────────────────────\n",
       "                                                     2                                                  \n",
       "                                                  6⋅r                                                   "
      ]
     },
     "execution_count": 95,
     "metadata": {},
     "output_type": "execute_result"
    }
   ],
   "source": [
    "weyl[0,2,0,2]"
   ]
  },
  {
   "cell_type": "code",
   "execution_count": 78,
   "metadata": {},
   "outputs": [
    {
     "name": "stdout",
     "output_type": "stream",
     "text": [
      "(t, r, theta, phi, M, R)\n"
     ]
    },
    {
     "ename": "NameError",
     "evalue": "name 'DiracDelta' is not defined",
     "output_type": "error",
     "traceback": [
      "\u001b[0;31m---------------------------------------------------------------------------\u001b[0m",
      "\u001b[0;31mNameError\u001b[0m                                 Traceback (most recent call last)",
      "Cell \u001b[0;32mIn[78], line 8\u001b[0m\n\u001b[1;32m      6\u001b[0m \u001b[38;5;66;03m#Make x values - which we will sub in for r \u001b[39;00m\n\u001b[1;32m      7\u001b[0m x \u001b[38;5;241m=\u001b[39m np\u001b[38;5;241m.\u001b[39marange(\u001b[38;5;241m1.5\u001b[39m, \u001b[38;5;241m20.0\u001b[39m, \u001b[38;5;241m0.04\u001b[39m)\n\u001b[0;32m----> 8\u001b[0m \u001b[43mfunc\u001b[49m\u001b[43m(\u001b[49m\u001b[38;5;241;43m0.5\u001b[39;49m\u001b[43m,\u001b[49m\u001b[43mx\u001b[49m\u001b[43m,\u001b[49m\u001b[38;5;241;43m0\u001b[39;49m\u001b[43m,\u001b[49m\u001b[43m \u001b[49m\u001b[38;5;241;43m0\u001b[39;49m\u001b[43m,\u001b[49m\u001b[43m \u001b[49m\u001b[38;5;241;43m1\u001b[39;49m\u001b[43m,\u001b[49m\u001b[43m \u001b[49m\u001b[38;5;241;43m5\u001b[39;49m\u001b[43m)\u001b[49m[\u001b[38;5;241m0\u001b[39m][\u001b[38;5;241m1\u001b[39m][\u001b[38;5;241m0\u001b[39m][\u001b[38;5;241m1\u001b[39m]\n\u001b[1;32m     10\u001b[0m \u001b[38;5;66;03m# Call the functions\u001b[39;00m\n\u001b[1;32m     11\u001b[0m y \u001b[38;5;241m=\u001b[39m func(\u001b[38;5;241m1.0\u001b[39m,x,\u001b[38;5;241m1\u001b[39m, \u001b[38;5;241m1\u001b[39m, \u001b[38;5;241m1\u001b[39m, \u001b[38;5;241m5\u001b[39m)[\u001b[38;5;241m0\u001b[39m][\u001b[38;5;241m1\u001b[39m][\u001b[38;5;241m0\u001b[39m][\u001b[38;5;241m1\u001b[39m]\n",
      "File \u001b[0;32m<lambdifygenerated-5>:4\u001b[0m, in \u001b[0;36m_lambdifygenerated\u001b[0;34m(t, r, theta, phi, M, R)\u001b[0m\n\u001b[1;32m      1\u001b[0m \u001b[38;5;28;01mdef\u001b[39;00m \u001b[38;5;21m_lambdifygenerated\u001b[39m(t, r, theta, phi, M, R):\n\u001b[1;32m      2\u001b[0m     \u001b[38;5;28;01mreturn\u001b[39;00m (  \u001b[38;5;66;03m# Not supported in Python with numpy:\u001b[39;00m\n\u001b[1;32m      3\u001b[0m   \u001b[38;5;66;03m# ImmutableDenseNDimArray\u001b[39;00m\n\u001b[0;32m----> 4\u001b[0m [[[[\u001b[38;5;241m0\u001b[39m, \u001b[38;5;241m0\u001b[39m, \u001b[38;5;241m0\u001b[39m, \u001b[38;5;241m0\u001b[39m], [\u001b[38;5;241m0\u001b[39m, \u001b[38;5;241m0\u001b[39m, \u001b[38;5;241m0\u001b[39m, \u001b[38;5;241m0\u001b[39m], [\u001b[38;5;241m0\u001b[39m, \u001b[38;5;241m0\u001b[39m, \u001b[38;5;241m0\u001b[39m, \u001b[38;5;241m0\u001b[39m], [\u001b[38;5;241m0\u001b[39m, \u001b[38;5;241m0\u001b[39m, \u001b[38;5;241m0\u001b[39m, \u001b[38;5;241m0\u001b[39m]], [[\u001b[38;5;241m0\u001b[39m, M\u001b[38;5;241m*\u001b[39m(r\u001b[38;5;241m*\u001b[39m\u001b[38;5;241m*\u001b[39m\u001b[38;5;241m2\u001b[39m\u001b[38;5;241m*\u001b[39m\u001b[43mDiracDelta\u001b[49m(R \u001b[38;5;241m-\u001b[39m r, \u001b[38;5;241m1\u001b[39m) \u001b[38;5;241m+\u001b[39m \u001b[38;5;241m4\u001b[39m\u001b[38;5;241m*\u001b[39mr\u001b[38;5;241m*\u001b[39mDiracDelta(R \u001b[38;5;241m-\u001b[39m r) \u001b[38;5;241m-\u001b[39m \u001b[38;5;241m6\u001b[39m\u001b[38;5;241m*\u001b[39mHeaviside(\u001b[38;5;241m-\u001b[39mR \u001b[38;5;241m+\u001b[39m r))\u001b[38;5;241m/\u001b[39m(\u001b[38;5;241m3\u001b[39m\u001b[38;5;241m*\u001b[39mr\u001b[38;5;241m*\u001b[39m\u001b[38;5;241m*\u001b[39m\u001b[38;5;241m3\u001b[39m), \u001b[38;5;241m0\u001b[39m, \u001b[38;5;241m0\u001b[39m], [M\u001b[38;5;241m*\u001b[39m(\u001b[38;5;241m-\u001b[39mr\u001b[38;5;241m*\u001b[39m\u001b[38;5;241m*\u001b[39m\u001b[38;5;241m2\u001b[39m\u001b[38;5;241m*\u001b[39mDiracDelta(R \u001b[38;5;241m-\u001b[39m r, \u001b[38;5;241m1\u001b[39m) \u001b[38;5;241m-\u001b[39m \u001b[38;5;241m4\u001b[39m\u001b[38;5;241m*\u001b[39mr\u001b[38;5;241m*\u001b[39mDiracDelta(R \u001b[38;5;241m-\u001b[39m r) \u001b[38;5;241m+\u001b[39m \u001b[38;5;241m6\u001b[39m\u001b[38;5;241m*\u001b[39mHeaviside(\u001b[38;5;241m-\u001b[39mR \u001b[38;5;241m+\u001b[39m r))\u001b[38;5;241m/\u001b[39m(\u001b[38;5;241m3\u001b[39m\u001b[38;5;241m*\u001b[39mr\u001b[38;5;241m*\u001b[39m\u001b[38;5;241m*\u001b[39m\u001b[38;5;241m3\u001b[39m), \u001b[38;5;241m0\u001b[39m, \u001b[38;5;241m0\u001b[39m, \u001b[38;5;241m0\u001b[39m], [\u001b[38;5;241m0\u001b[39m, \u001b[38;5;241m0\u001b[39m, \u001b[38;5;241m0\u001b[39m, \u001b[38;5;241m0\u001b[39m], [\u001b[38;5;241m0\u001b[39m, \u001b[38;5;241m0\u001b[39m, \u001b[38;5;241m0\u001b[39m, \u001b[38;5;241m0\u001b[39m]], [[\u001b[38;5;241m0\u001b[39m, \u001b[38;5;241m0\u001b[39m, M\u001b[38;5;241m*\u001b[39m(\u001b[38;5;241m2\u001b[39m\u001b[38;5;241m*\u001b[39mM\u001b[38;5;241m*\u001b[39mHeaviside(\u001b[38;5;241m-\u001b[39mR \u001b[38;5;241m+\u001b[39m r) \u001b[38;5;241m-\u001b[39m r)\u001b[38;5;241m*\u001b[39m(\u001b[38;5;241m3\u001b[39m\u001b[38;5;241m*\u001b[39mr\u001b[38;5;241m*\u001b[39m\u001b[38;5;241m*\u001b[39m\u001b[38;5;241m2\u001b[39m\u001b[38;5;241m*\u001b[39mDiracDelta(R \u001b[38;5;241m-\u001b[39m r, \u001b[38;5;241m1\u001b[39m) \u001b[38;5;241m-\u001b[39m \u001b[38;5;241m2\u001b[39m\u001b[38;5;241m*\u001b[39mr\u001b[38;5;241m*\u001b[39m(r\u001b[38;5;241m*\u001b[39mDiracDelta(R \u001b[38;5;241m-\u001b[39m r, \u001b[38;5;241m1\u001b[39m) \u001b[38;5;241m+\u001b[39m DiracDelta(R \u001b[38;5;241m-\u001b[39m r)) \u001b[38;5;241m+\u001b[39m \u001b[38;5;241m6\u001b[39m\u001b[38;5;241m*\u001b[39mr\u001b[38;5;241m*\u001b[39mDiracDelta(R \u001b[38;5;241m-\u001b[39m r) \u001b[38;5;241m-\u001b[39m \u001b[38;5;241m6\u001b[39m\u001b[38;5;241m*\u001b[39mHeaviside(\u001b[38;5;241m-\u001b[39mR \u001b[38;5;241m+\u001b[39m r))\u001b[38;5;241m/\u001b[39m(\u001b[38;5;241m6\u001b[39m\u001b[38;5;241m*\u001b[39mr\u001b[38;5;241m*\u001b[39m\u001b[38;5;241m*\u001b[39m\u001b[38;5;241m2\u001b[39m), \u001b[38;5;241m0\u001b[39m], [\u001b[38;5;241m0\u001b[39m, \u001b[38;5;241m0\u001b[39m, \u001b[38;5;241m0\u001b[39m, \u001b[38;5;241m0\u001b[39m], [M\u001b[38;5;241m*\u001b[39m(\u001b[38;5;241m2\u001b[39m\u001b[38;5;241m*\u001b[39mM\u001b[38;5;241m*\u001b[39mHeaviside(\u001b[38;5;241m-\u001b[39mR \u001b[38;5;241m+\u001b[39m r) \u001b[38;5;241m-\u001b[39m r)\u001b[38;5;241m*\u001b[39m(\u001b[38;5;241m-\u001b[39m\u001b[38;5;241m3\u001b[39m\u001b[38;5;241m*\u001b[39mr\u001b[38;5;241m*\u001b[39m\u001b[38;5;241m*\u001b[39m\u001b[38;5;241m2\u001b[39m\u001b[38;5;241m*\u001b[39mDiracDelta(R \u001b[38;5;241m-\u001b[39m r, \u001b[38;5;241m1\u001b[39m) \u001b[38;5;241m+\u001b[39m \u001b[38;5;241m2\u001b[39m\u001b[38;5;241m*\u001b[39mr\u001b[38;5;241m*\u001b[39m(r\u001b[38;5;241m*\u001b[39mDiracDelta(R \u001b[38;5;241m-\u001b[39m r, \u001b[38;5;241m1\u001b[39m) \u001b[38;5;241m+\u001b[39m DiracDelta(R \u001b[38;5;241m-\u001b[39m r)) \u001b[38;5;241m-\u001b[39m \u001b[38;5;241m6\u001b[39m\u001b[38;5;241m*\u001b[39mr\u001b[38;5;241m*\u001b[39mDiracDelta(R \u001b[38;5;241m-\u001b[39m r) \u001b[38;5;241m+\u001b[39m \u001b[38;5;241m6\u001b[39m\u001b[38;5;241m*\u001b[39mHeaviside(\u001b[38;5;241m-\u001b[39mR \u001b[38;5;241m+\u001b[39m r))\u001b[38;5;241m/\u001b[39m(\u001b[38;5;241m6\u001b[39m\u001b[38;5;241m*\u001b[39mr\u001b[38;5;241m*\u001b[39m\u001b[38;5;241m*\u001b[39m\u001b[38;5;241m2\u001b[39m), \u001b[38;5;241m0\u001b[39m, \u001b[38;5;241m0\u001b[39m, \u001b[38;5;241m0\u001b[39m], [\u001b[38;5;241m0\u001b[39m, \u001b[38;5;241m0\u001b[39m, \u001b[38;5;241m0\u001b[39m, \u001b[38;5;241m0\u001b[39m]], [[\u001b[38;5;241m0\u001b[39m, \u001b[38;5;241m0\u001b[39m, \u001b[38;5;241m0\u001b[39m, M\u001b[38;5;241m*\u001b[39m(\u001b[38;5;241m2\u001b[39m\u001b[38;5;241m*\u001b[39mM\u001b[38;5;241m*\u001b[39mHeaviside(\u001b[38;5;241m-\u001b[39mR \u001b[38;5;241m+\u001b[39m r) \u001b[38;5;241m-\u001b[39m r)\u001b[38;5;241m*\u001b[39m(\u001b[38;5;241m3\u001b[39m\u001b[38;5;241m*\u001b[39mr\u001b[38;5;241m*\u001b[39m\u001b[38;5;241m*\u001b[39m\u001b[38;5;241m2\u001b[39m\u001b[38;5;241m*\u001b[39mDiracDelta(R \u001b[38;5;241m-\u001b[39m r, \u001b[38;5;241m1\u001b[39m) \u001b[38;5;241m-\u001b[39m \u001b[38;5;241m2\u001b[39m\u001b[38;5;241m*\u001b[39mr\u001b[38;5;241m*\u001b[39m(r\u001b[38;5;241m*\u001b[39mDiracDelta(R \u001b[38;5;241m-\u001b[39m r, \u001b[38;5;241m1\u001b[39m) \u001b[38;5;241m+\u001b[39m DiracDelta(R \u001b[38;5;241m-\u001b[39m r)) \u001b[38;5;241m+\u001b[39m \u001b[38;5;241m6\u001b[39m\u001b[38;5;241m*\u001b[39mr\u001b[38;5;241m*\u001b[39mDiracDelta(R \u001b[38;5;241m-\u001b[39m r) \u001b[38;5;241m-\u001b[39m \u001b[38;5;241m6\u001b[39m\u001b[38;5;241m*\u001b[39mHeaviside(\u001b[38;5;241m-\u001b[39mR \u001b[38;5;241m+\u001b[39m r))\u001b[38;5;241m*\u001b[39msin(theta)\u001b[38;5;241m*\u001b[39m\u001b[38;5;241m*\u001b[39m\u001b[38;5;241m2\u001b[39m\u001b[38;5;241m/\u001b[39m(\u001b[38;5;241m6\u001b[39m\u001b[38;5;241m*\u001b[39mr\u001b[38;5;241m*\u001b[39m\u001b[38;5;241m*\u001b[39m\u001b[38;5;241m2\u001b[39m)], [\u001b[38;5;241m0\u001b[39m, \u001b[38;5;241m0\u001b[39m, \u001b[38;5;241m0\u001b[39m, \u001b[38;5;241m0\u001b[39m], [\u001b[38;5;241m0\u001b[39m, \u001b[38;5;241m0\u001b[39m, \u001b[38;5;241m0\u001b[39m, \u001b[38;5;241m0\u001b[39m], [M\u001b[38;5;241m*\u001b[39m(\u001b[38;5;241m2\u001b[39m\u001b[38;5;241m*\u001b[39mM\u001b[38;5;241m*\u001b[39mHeaviside(\u001b[38;5;241m-\u001b[39mR \u001b[38;5;241m+\u001b[39m r) \u001b[38;5;241m-\u001b[39m r)\u001b[38;5;241m*\u001b[39m(\u001b[38;5;241m-\u001b[39m\u001b[38;5;241m3\u001b[39m\u001b[38;5;241m*\u001b[39mr\u001b[38;5;241m*\u001b[39m\u001b[38;5;241m*\u001b[39m\u001b[38;5;241m2\u001b[39m\u001b[38;5;241m*\u001b[39mDiracDelta(R \u001b[38;5;241m-\u001b[39m r, \u001b[38;5;241m1\u001b[39m) \u001b[38;5;241m+\u001b[39m \u001b[38;5;241m2\u001b[39m\u001b[38;5;241m*\u001b[39mr\u001b[38;5;241m*\u001b[39m(r\u001b[38;5;241m*\u001b[39mDiracDelta(R \u001b[38;5;241m-\u001b[39m r, \u001b[38;5;241m1\u001b[39m) \u001b[38;5;241m+\u001b[39m DiracDelta(R \u001b[38;5;241m-\u001b[39m r)) \u001b[38;5;241m-\u001b[39m \u001b[38;5;241m6\u001b[39m\u001b[38;5;241m*\u001b[39mr\u001b[38;5;241m*\u001b[39mDiracDelta(R \u001b[38;5;241m-\u001b[39m r) \u001b[38;5;241m+\u001b[39m \u001b[38;5;241m6\u001b[39m\u001b[38;5;241m*\u001b[39mHeaviside(\u001b[38;5;241m-\u001b[39mR \u001b[38;5;241m+\u001b[39m r))\u001b[38;5;241m*\u001b[39msin(theta)\u001b[38;5;241m*\u001b[39m\u001b[38;5;241m*\u001b[39m\u001b[38;5;241m2\u001b[39m\u001b[38;5;241m/\u001b[39m(\u001b[38;5;241m6\u001b[39m\u001b[38;5;241m*\u001b[39mr\u001b[38;5;241m*\u001b[39m\u001b[38;5;241m*\u001b[39m\u001b[38;5;241m2\u001b[39m), \u001b[38;5;241m0\u001b[39m, \u001b[38;5;241m0\u001b[39m, \u001b[38;5;241m0\u001b[39m]]], [[[\u001b[38;5;241m0\u001b[39m, M\u001b[38;5;241m*\u001b[39m(\u001b[38;5;241m-\u001b[39mr\u001b[38;5;241m*\u001b[39m\u001b[38;5;241m*\u001b[39m\u001b[38;5;241m2\u001b[39m\u001b[38;5;241m*\u001b[39mDiracDelta(R \u001b[38;5;241m-\u001b[39m r, \u001b[38;5;241m1\u001b[39m) \u001b[38;5;241m-\u001b[39m \u001b[38;5;241m4\u001b[39m\u001b[38;5;241m*\u001b[39mr\u001b[38;5;241m*\u001b[39mDiracDelta(R \u001b[38;5;241m-\u001b[39m r) \u001b[38;5;241m+\u001b[39m \u001b[38;5;241m6\u001b[39m\u001b[38;5;241m*\u001b[39mHeaviside(\u001b[38;5;241m-\u001b[39mR \u001b[38;5;241m+\u001b[39m r))\u001b[38;5;241m/\u001b[39m(\u001b[38;5;241m3\u001b[39m\u001b[38;5;241m*\u001b[39mr\u001b[38;5;241m*\u001b[39m\u001b[38;5;241m*\u001b[39m\u001b[38;5;241m3\u001b[39m), \u001b[38;5;241m0\u001b[39m, \u001b[38;5;241m0\u001b[39m], [M\u001b[38;5;241m*\u001b[39m(r\u001b[38;5;241m*\u001b[39m\u001b[38;5;241m*\u001b[39m\u001b[38;5;241m2\u001b[39m\u001b[38;5;241m*\u001b[39mDiracDelta(R \u001b[38;5;241m-\u001b[39m r, \u001b[38;5;241m1\u001b[39m) \u001b[38;5;241m+\u001b[39m \u001b[38;5;241m4\u001b[39m\u001b[38;5;241m*\u001b[39mr\u001b[38;5;241m*\u001b[39mDiracDelta(R \u001b[38;5;241m-\u001b[39m r) \u001b[38;5;241m-\u001b[39m \u001b[38;5;241m6\u001b[39m\u001b[38;5;241m*\u001b[39mHeaviside(\u001b[38;5;241m-\u001b[39mR \u001b[38;5;241m+\u001b[39m r))\u001b[38;5;241m/\u001b[39m(\u001b[38;5;241m3\u001b[39m\u001b[38;5;241m*\u001b[39mr\u001b[38;5;241m*\u001b[39m\u001b[38;5;241m*\u001b[39m\u001b[38;5;241m3\u001b[39m), \u001b[38;5;241m0\u001b[39m, \u001b[38;5;241m0\u001b[39m, \u001b[38;5;241m0\u001b[39m], [\u001b[38;5;241m0\u001b[39m, \u001b[38;5;241m0\u001b[39m, \u001b[38;5;241m0\u001b[39m, \u001b[38;5;241m0\u001b[39m], [\u001b[38;5;241m0\u001b[39m, \u001b[38;5;241m0\u001b[39m, \u001b[38;5;241m0\u001b[39m, \u001b[38;5;241m0\u001b[39m]], [[\u001b[38;5;241m0\u001b[39m, \u001b[38;5;241m0\u001b[39m, \u001b[38;5;241m0\u001b[39m, \u001b[38;5;241m0\u001b[39m], [\u001b[38;5;241m0\u001b[39m, \u001b[38;5;241m0\u001b[39m, \u001b[38;5;241m0\u001b[39m, \u001b[38;5;241m0\u001b[39m], [\u001b[38;5;241m0\u001b[39m, \u001b[38;5;241m0\u001b[39m, \u001b[38;5;241m0\u001b[39m, \u001b[38;5;241m0\u001b[39m], [\u001b[38;5;241m0\u001b[39m, \u001b[38;5;241m0\u001b[39m, \u001b[38;5;241m0\u001b[39m, \u001b[38;5;241m0\u001b[39m]], [[\u001b[38;5;241m0\u001b[39m, \u001b[38;5;241m0\u001b[39m, \u001b[38;5;241m0\u001b[39m, \u001b[38;5;241m0\u001b[39m], [\u001b[38;5;241m0\u001b[39m, \u001b[38;5;241m0\u001b[39m, M\u001b[38;5;241m*\u001b[39m(r\u001b[38;5;241m*\u001b[39m\u001b[38;5;241m*\u001b[39m\u001b[38;5;241m2\u001b[39m\u001b[38;5;241m*\u001b[39mDiracDelta(R \u001b[38;5;241m-\u001b[39m r, \u001b[38;5;241m1\u001b[39m) \u001b[38;5;241m+\u001b[39m \u001b[38;5;241m4\u001b[39m\u001b[38;5;241m*\u001b[39mr\u001b[38;5;241m*\u001b[39mDiracDelta(R \u001b[38;5;241m-\u001b[39m r) \u001b[38;5;241m-\u001b[39m \u001b[38;5;241m6\u001b[39m\u001b[38;5;241m*\u001b[39mHeaviside(\u001b[38;5;241m-\u001b[39mR \u001b[38;5;241m+\u001b[39m r))\u001b[38;5;241m/\u001b[39m(\u001b[38;5;241m6\u001b[39m\u001b[38;5;241m*\u001b[39m(\u001b[38;5;241m-\u001b[39m\u001b[38;5;241m2\u001b[39m\u001b[38;5;241m*\u001b[39mM\u001b[38;5;241m*\u001b[39mHeaviside(\u001b[38;5;241m-\u001b[39mR \u001b[38;5;241m+\u001b[39m r) \u001b[38;5;241m+\u001b[39m r)), \u001b[38;5;241m0\u001b[39m], [\u001b[38;5;241m0\u001b[39m, M\u001b[38;5;241m*\u001b[39m(\u001b[38;5;241m-\u001b[39mr\u001b[38;5;241m*\u001b[39m\u001b[38;5;241m*\u001b[39m\u001b[38;5;241m2\u001b[39m\u001b[38;5;241m*\u001b[39mDiracDelta(R \u001b[38;5;241m-\u001b[39m r, \u001b[38;5;241m1\u001b[39m) \u001b[38;5;241m-\u001b[39m \u001b[38;5;241m4\u001b[39m\u001b[38;5;241m*\u001b[39mr\u001b[38;5;241m*\u001b[39mDiracDelta(R \u001b[38;5;241m-\u001b[39m r) \u001b[38;5;241m+\u001b[39m \u001b[38;5;241m6\u001b[39m\u001b[38;5;241m*\u001b[39mHeaviside(\u001b[38;5;241m-\u001b[39mR \u001b[38;5;241m+\u001b[39m r))\u001b[38;5;241m/\u001b[39m(\u001b[38;5;241m6\u001b[39m\u001b[38;5;241m*\u001b[39m(\u001b[38;5;241m-\u001b[39m\u001b[38;5;241m2\u001b[39m\u001b[38;5;241m*\u001b[39mM\u001b[38;5;241m*\u001b[39mHeaviside(\u001b[38;5;241m-\u001b[39mR \u001b[38;5;241m+\u001b[39m r) \u001b[38;5;241m+\u001b[39m r)), \u001b[38;5;241m0\u001b[39m, \u001b[38;5;241m0\u001b[39m], [\u001b[38;5;241m0\u001b[39m, \u001b[38;5;241m0\u001b[39m, \u001b[38;5;241m0\u001b[39m, \u001b[38;5;241m0\u001b[39m]], [[\u001b[38;5;241m0\u001b[39m, \u001b[38;5;241m0\u001b[39m, \u001b[38;5;241m0\u001b[39m, \u001b[38;5;241m0\u001b[39m], [\u001b[38;5;241m0\u001b[39m, \u001b[38;5;241m0\u001b[39m, \u001b[38;5;241m0\u001b[39m, M\u001b[38;5;241m*\u001b[39m(r\u001b[38;5;241m*\u001b[39m\u001b[38;5;241m*\u001b[39m\u001b[38;5;241m2\u001b[39m\u001b[38;5;241m*\u001b[39mDiracDelta(R \u001b[38;5;241m-\u001b[39m r, \u001b[38;5;241m1\u001b[39m) \u001b[38;5;241m+\u001b[39m \u001b[38;5;241m4\u001b[39m\u001b[38;5;241m*\u001b[39mr\u001b[38;5;241m*\u001b[39mDiracDelta(R \u001b[38;5;241m-\u001b[39m r) \u001b[38;5;241m-\u001b[39m \u001b[38;5;241m6\u001b[39m\u001b[38;5;241m*\u001b[39mHeaviside(\u001b[38;5;241m-\u001b[39mR \u001b[38;5;241m+\u001b[39m r))\u001b[38;5;241m*\u001b[39msin(theta)\u001b[38;5;241m*\u001b[39m\u001b[38;5;241m*\u001b[39m\u001b[38;5;241m2\u001b[39m\u001b[38;5;241m/\u001b[39m(\u001b[38;5;241m6\u001b[39m\u001b[38;5;241m*\u001b[39m(\u001b[38;5;241m-\u001b[39m\u001b[38;5;241m2\u001b[39m\u001b[38;5;241m*\u001b[39mM\u001b[38;5;241m*\u001b[39mHeaviside(\u001b[38;5;241m-\u001b[39mR \u001b[38;5;241m+\u001b[39m r) \u001b[38;5;241m+\u001b[39m r))], [\u001b[38;5;241m0\u001b[39m, \u001b[38;5;241m0\u001b[39m, \u001b[38;5;241m0\u001b[39m, \u001b[38;5;241m0\u001b[39m], [\u001b[38;5;241m0\u001b[39m, M\u001b[38;5;241m*\u001b[39m(\u001b[38;5;241m-\u001b[39mr\u001b[38;5;241m*\u001b[39m\u001b[38;5;241m*\u001b[39m\u001b[38;5;241m2\u001b[39m\u001b[38;5;241m*\u001b[39mDiracDelta(R \u001b[38;5;241m-\u001b[39m r, \u001b[38;5;241m1\u001b[39m) \u001b[38;5;241m-\u001b[39m \u001b[38;5;241m4\u001b[39m\u001b[38;5;241m*\u001b[39mr\u001b[38;5;241m*\u001b[39mDiracDelta(R \u001b[38;5;241m-\u001b[39m r) \u001b[38;5;241m+\u001b[39m \u001b[38;5;241m6\u001b[39m\u001b[38;5;241m*\u001b[39mHeaviside(\u001b[38;5;241m-\u001b[39mR \u001b[38;5;241m+\u001b[39m r))\u001b[38;5;241m*\u001b[39msin(theta)\u001b[38;5;241m*\u001b[39m\u001b[38;5;241m*\u001b[39m\u001b[38;5;241m2\u001b[39m\u001b[38;5;241m/\u001b[39m(\u001b[38;5;241m6\u001b[39m\u001b[38;5;241m*\u001b[39m(\u001b[38;5;241m-\u001b[39m\u001b[38;5;241m2\u001b[39m\u001b[38;5;241m*\u001b[39mM\u001b[38;5;241m*\u001b[39mHeaviside(\u001b[38;5;241m-\u001b[39mR \u001b[38;5;241m+\u001b[39m r) \u001b[38;5;241m+\u001b[39m r)), \u001b[38;5;241m0\u001b[39m, \u001b[38;5;241m0\u001b[39m]]], [[[\u001b[38;5;241m0\u001b[39m, \u001b[38;5;241m0\u001b[39m, M\u001b[38;5;241m*\u001b[39m(\u001b[38;5;241m2\u001b[39m\u001b[38;5;241m*\u001b[39mM\u001b[38;5;241m*\u001b[39mHeaviside(\u001b[38;5;241m-\u001b[39mR \u001b[38;5;241m+\u001b[39m r) \u001b[38;5;241m-\u001b[39m r)\u001b[38;5;241m*\u001b[39m(\u001b[38;5;241m-\u001b[39m\u001b[38;5;241m3\u001b[39m\u001b[38;5;241m*\u001b[39mr\u001b[38;5;241m*\u001b[39m\u001b[38;5;241m*\u001b[39m\u001b[38;5;241m2\u001b[39m\u001b[38;5;241m*\u001b[39mDiracDelta(R \u001b[38;5;241m-\u001b[39m r, \u001b[38;5;241m1\u001b[39m) \u001b[38;5;241m+\u001b[39m \u001b[38;5;241m2\u001b[39m\u001b[38;5;241m*\u001b[39mr\u001b[38;5;241m*\u001b[39m(r\u001b[38;5;241m*\u001b[39mDiracDelta(R \u001b[38;5;241m-\u001b[39m r, \u001b[38;5;241m1\u001b[39m) \u001b[38;5;241m+\u001b[39m DiracDelta(R \u001b[38;5;241m-\u001b[39m r)) \u001b[38;5;241m-\u001b[39m \u001b[38;5;241m6\u001b[39m\u001b[38;5;241m*\u001b[39mr\u001b[38;5;241m*\u001b[39mDiracDelta(R \u001b[38;5;241m-\u001b[39m r) \u001b[38;5;241m+\u001b[39m \u001b[38;5;241m6\u001b[39m\u001b[38;5;241m*\u001b[39mHeaviside(\u001b[38;5;241m-\u001b[39mR \u001b[38;5;241m+\u001b[39m r))\u001b[38;5;241m/\u001b[39m(\u001b[38;5;241m6\u001b[39m\u001b[38;5;241m*\u001b[39mr\u001b[38;5;241m*\u001b[39m\u001b[38;5;241m*\u001b[39m\u001b[38;5;241m2\u001b[39m), \u001b[38;5;241m0\u001b[39m], [\u001b[38;5;241m0\u001b[39m, \u001b[38;5;241m0\u001b[39m, \u001b[38;5;241m0\u001b[39m, \u001b[38;5;241m0\u001b[39m], [M\u001b[38;5;241m*\u001b[39m(\u001b[38;5;241m2\u001b[39m\u001b[38;5;241m*\u001b[39mM\u001b[38;5;241m*\u001b[39mHeaviside(\u001b[38;5;241m-\u001b[39mR \u001b[38;5;241m+\u001b[39m r) \u001b[38;5;241m-\u001b[39m r)\u001b[38;5;241m*\u001b[39m(\u001b[38;5;241m3\u001b[39m\u001b[38;5;241m*\u001b[39mr\u001b[38;5;241m*\u001b[39m\u001b[38;5;241m*\u001b[39m\u001b[38;5;241m2\u001b[39m\u001b[38;5;241m*\u001b[39mDiracDelta(R \u001b[38;5;241m-\u001b[39m r, \u001b[38;5;241m1\u001b[39m) \u001b[38;5;241m-\u001b[39m \u001b[38;5;241m2\u001b[39m\u001b[38;5;241m*\u001b[39mr\u001b[38;5;241m*\u001b[39m(r\u001b[38;5;241m*\u001b[39mDiracDelta(R \u001b[38;5;241m-\u001b[39m r, \u001b[38;5;241m1\u001b[39m) \u001b[38;5;241m+\u001b[39m DiracDelta(R \u001b[38;5;241m-\u001b[39m r)) \u001b[38;5;241m+\u001b[39m \u001b[38;5;241m6\u001b[39m\u001b[38;5;241m*\u001b[39mr\u001b[38;5;241m*\u001b[39mDiracDelta(R \u001b[38;5;241m-\u001b[39m r) \u001b[38;5;241m-\u001b[39m \u001b[38;5;241m6\u001b[39m\u001b[38;5;241m*\u001b[39mHeaviside(\u001b[38;5;241m-\u001b[39mR \u001b[38;5;241m+\u001b[39m r))\u001b[38;5;241m/\u001b[39m(\u001b[38;5;241m6\u001b[39m\u001b[38;5;241m*\u001b[39mr\u001b[38;5;241m*\u001b[39m\u001b[38;5;241m*\u001b[39m\u001b[38;5;241m2\u001b[39m), \u001b[38;5;241m0\u001b[39m, \u001b[38;5;241m0\u001b[39m, \u001b[38;5;241m0\u001b[39m], [\u001b[38;5;241m0\u001b[39m, \u001b[38;5;241m0\u001b[39m, \u001b[38;5;241m0\u001b[39m, \u001b[38;5;241m0\u001b[39m]], [[\u001b[38;5;241m0\u001b[39m, \u001b[38;5;241m0\u001b[39m, \u001b[38;5;241m0\u001b[39m, \u001b[38;5;241m0\u001b[39m], [\u001b[38;5;241m0\u001b[39m, \u001b[38;5;241m0\u001b[39m, M\u001b[38;5;241m*\u001b[39m(\u001b[38;5;241m-\u001b[39mr\u001b[38;5;241m*\u001b[39m\u001b[38;5;241m*\u001b[39m\u001b[38;5;241m2\u001b[39m\u001b[38;5;241m*\u001b[39mDiracDelta(R \u001b[38;5;241m-\u001b[39m r, \u001b[38;5;241m1\u001b[39m) \u001b[38;5;241m-\u001b[39m \u001b[38;5;241m4\u001b[39m\u001b[38;5;241m*\u001b[39mr\u001b[38;5;241m*\u001b[39mDiracDelta(R \u001b[38;5;241m-\u001b[39m r) \u001b[38;5;241m+\u001b[39m \u001b[38;5;241m6\u001b[39m\u001b[38;5;241m*\u001b[39mHeaviside(\u001b[38;5;241m-\u001b[39mR \u001b[38;5;241m+\u001b[39m r))\u001b[38;5;241m/\u001b[39m(\u001b[38;5;241m6\u001b[39m\u001b[38;5;241m*\u001b[39m(\u001b[38;5;241m-\u001b[39m\u001b[38;5;241m2\u001b[39m\u001b[38;5;241m*\u001b[39mM\u001b[38;5;241m*\u001b[39mHeaviside(\u001b[38;5;241m-\u001b[39mR \u001b[38;5;241m+\u001b[39m r) \u001b[38;5;241m+\u001b[39m r)), \u001b[38;5;241m0\u001b[39m], [\u001b[38;5;241m0\u001b[39m, M\u001b[38;5;241m*\u001b[39m(r\u001b[38;5;241m*\u001b[39m\u001b[38;5;241m*\u001b[39m\u001b[38;5;241m2\u001b[39m\u001b[38;5;241m*\u001b[39mDiracDelta(R \u001b[38;5;241m-\u001b[39m r, \u001b[38;5;241m1\u001b[39m) \u001b[38;5;241m+\u001b[39m \u001b[38;5;241m4\u001b[39m\u001b[38;5;241m*\u001b[39mr\u001b[38;5;241m*\u001b[39mDiracDelta(R \u001b[38;5;241m-\u001b[39m r) \u001b[38;5;241m-\u001b[39m \u001b[38;5;241m6\u001b[39m\u001b[38;5;241m*\u001b[39mHeaviside(\u001b[38;5;241m-\u001b[39mR \u001b[38;5;241m+\u001b[39m r))\u001b[38;5;241m/\u001b[39m(\u001b[38;5;241m6\u001b[39m\u001b[38;5;241m*\u001b[39m(\u001b[38;5;241m-\u001b[39m\u001b[38;5;241m2\u001b[39m\u001b[38;5;241m*\u001b[39mM\u001b[38;5;241m*\u001b[39mHeaviside(\u001b[38;5;241m-\u001b[39mR \u001b[38;5;241m+\u001b[39m r) \u001b[38;5;241m+\u001b[39m r)), \u001b[38;5;241m0\u001b[39m, \u001b[38;5;241m0\u001b[39m], [\u001b[38;5;241m0\u001b[39m, \u001b[38;5;241m0\u001b[39m, \u001b[38;5;241m0\u001b[39m, \u001b[38;5;241m0\u001b[39m]], [[\u001b[38;5;241m0\u001b[39m, \u001b[38;5;241m0\u001b[39m, \u001b[38;5;241m0\u001b[39m, \u001b[38;5;241m0\u001b[39m], [\u001b[38;5;241m0\u001b[39m, \u001b[38;5;241m0\u001b[39m, \u001b[38;5;241m0\u001b[39m, \u001b[38;5;241m0\u001b[39m], [\u001b[38;5;241m0\u001b[39m, \u001b[38;5;241m0\u001b[39m, \u001b[38;5;241m0\u001b[39m, \u001b[38;5;241m0\u001b[39m], [\u001b[38;5;241m0\u001b[39m, \u001b[38;5;241m0\u001b[39m, \u001b[38;5;241m0\u001b[39m, \u001b[38;5;241m0\u001b[39m]], [[\u001b[38;5;241m0\u001b[39m, \u001b[38;5;241m0\u001b[39m, \u001b[38;5;241m0\u001b[39m, \u001b[38;5;241m0\u001b[39m], [\u001b[38;5;241m0\u001b[39m, \u001b[38;5;241m0\u001b[39m, \u001b[38;5;241m0\u001b[39m, \u001b[38;5;241m0\u001b[39m], [\u001b[38;5;241m0\u001b[39m, \u001b[38;5;241m0\u001b[39m, \u001b[38;5;241m0\u001b[39m, M\u001b[38;5;241m*\u001b[39mr\u001b[38;5;241m*\u001b[39m(\u001b[38;5;241m-\u001b[39mr\u001b[38;5;241m*\u001b[39m\u001b[38;5;241m*\u001b[39m\u001b[38;5;241m2\u001b[39m\u001b[38;5;241m*\u001b[39mDiracDelta(R \u001b[38;5;241m-\u001b[39m r, \u001b[38;5;241m1\u001b[39m) \u001b[38;5;241m-\u001b[39m \u001b[38;5;241m4\u001b[39m\u001b[38;5;241m*\u001b[39mr\u001b[38;5;241m*\u001b[39mDiracDelta(R \u001b[38;5;241m-\u001b[39m r) \u001b[38;5;241m+\u001b[39m \u001b[38;5;241m6\u001b[39m\u001b[38;5;241m*\u001b[39mHeaviside(\u001b[38;5;241m-\u001b[39mR \u001b[38;5;241m+\u001b[39m r))\u001b[38;5;241m*\u001b[39msin(theta)\u001b[38;5;241m*\u001b[39m\u001b[38;5;241m*\u001b[39m\u001b[38;5;241m2\u001b[39m\u001b[38;5;241m/\u001b[39m\u001b[38;5;241m3\u001b[39m], [\u001b[38;5;241m0\u001b[39m, \u001b[38;5;241m0\u001b[39m, M\u001b[38;5;241m*\u001b[39mr\u001b[38;5;241m*\u001b[39m(r\u001b[38;5;241m*\u001b[39m\u001b[38;5;241m*\u001b[39m\u001b[38;5;241m2\u001b[39m\u001b[38;5;241m*\u001b[39mDiracDelta(R \u001b[38;5;241m-\u001b[39m r, \u001b[38;5;241m1\u001b[39m) \u001b[38;5;241m+\u001b[39m \u001b[38;5;241m4\u001b[39m\u001b[38;5;241m*\u001b[39mr\u001b[38;5;241m*\u001b[39mDiracDelta(R \u001b[38;5;241m-\u001b[39m r) \u001b[38;5;241m-\u001b[39m \u001b[38;5;241m6\u001b[39m\u001b[38;5;241m*\u001b[39mHeaviside(\u001b[38;5;241m-\u001b[39mR \u001b[38;5;241m+\u001b[39m r))\u001b[38;5;241m*\u001b[39msin(theta)\u001b[38;5;241m*\u001b[39m\u001b[38;5;241m*\u001b[39m\u001b[38;5;241m2\u001b[39m\u001b[38;5;241m/\u001b[39m\u001b[38;5;241m3\u001b[39m, \u001b[38;5;241m0\u001b[39m]]], [[[\u001b[38;5;241m0\u001b[39m, \u001b[38;5;241m0\u001b[39m, \u001b[38;5;241m0\u001b[39m, M\u001b[38;5;241m*\u001b[39m(\u001b[38;5;241m2\u001b[39m\u001b[38;5;241m*\u001b[39mM\u001b[38;5;241m*\u001b[39mHeaviside(\u001b[38;5;241m-\u001b[39mR \u001b[38;5;241m+\u001b[39m r) \u001b[38;5;241m-\u001b[39m r)\u001b[38;5;241m*\u001b[39m(\u001b[38;5;241m-\u001b[39m\u001b[38;5;241m3\u001b[39m\u001b[38;5;241m*\u001b[39mr\u001b[38;5;241m*\u001b[39m\u001b[38;5;241m*\u001b[39m\u001b[38;5;241m2\u001b[39m\u001b[38;5;241m*\u001b[39mDiracDelta(R \u001b[38;5;241m-\u001b[39m r, \u001b[38;5;241m1\u001b[39m) \u001b[38;5;241m+\u001b[39m \u001b[38;5;241m2\u001b[39m\u001b[38;5;241m*\u001b[39mr\u001b[38;5;241m*\u001b[39m(r\u001b[38;5;241m*\u001b[39mDiracDelta(R \u001b[38;5;241m-\u001b[39m r, \u001b[38;5;241m1\u001b[39m) \u001b[38;5;241m+\u001b[39m DiracDelta(R \u001b[38;5;241m-\u001b[39m r)) \u001b[38;5;241m-\u001b[39m \u001b[38;5;241m6\u001b[39m\u001b[38;5;241m*\u001b[39mr\u001b[38;5;241m*\u001b[39mDiracDelta(R \u001b[38;5;241m-\u001b[39m r) \u001b[38;5;241m+\u001b[39m \u001b[38;5;241m6\u001b[39m\u001b[38;5;241m*\u001b[39mHeaviside(\u001b[38;5;241m-\u001b[39mR \u001b[38;5;241m+\u001b[39m r))\u001b[38;5;241m*\u001b[39msin(theta)\u001b[38;5;241m*\u001b[39m\u001b[38;5;241m*\u001b[39m\u001b[38;5;241m2\u001b[39m\u001b[38;5;241m/\u001b[39m(\u001b[38;5;241m6\u001b[39m\u001b[38;5;241m*\u001b[39mr\u001b[38;5;241m*\u001b[39m\u001b[38;5;241m*\u001b[39m\u001b[38;5;241m2\u001b[39m)], [\u001b[38;5;241m0\u001b[39m, \u001b[38;5;241m0\u001b[39m, \u001b[38;5;241m0\u001b[39m, \u001b[38;5;241m0\u001b[39m], [\u001b[38;5;241m0\u001b[39m, \u001b[38;5;241m0\u001b[39m, \u001b[38;5;241m0\u001b[39m, \u001b[38;5;241m0\u001b[39m], [M\u001b[38;5;241m*\u001b[39m(\u001b[38;5;241m2\u001b[39m\u001b[38;5;241m*\u001b[39mM\u001b[38;5;241m*\u001b[39mHeaviside(\u001b[38;5;241m-\u001b[39mR \u001b[38;5;241m+\u001b[39m r) \u001b[38;5;241m-\u001b[39m r)\u001b[38;5;241m*\u001b[39m(\u001b[38;5;241m3\u001b[39m\u001b[38;5;241m*\u001b[39mr\u001b[38;5;241m*\u001b[39m\u001b[38;5;241m*\u001b[39m\u001b[38;5;241m2\u001b[39m\u001b[38;5;241m*\u001b[39mDiracDelta(R \u001b[38;5;241m-\u001b[39m r, \u001b[38;5;241m1\u001b[39m) \u001b[38;5;241m-\u001b[39m \u001b[38;5;241m2\u001b[39m\u001b[38;5;241m*\u001b[39mr\u001b[38;5;241m*\u001b[39m(r\u001b[38;5;241m*\u001b[39mDiracDelta(R \u001b[38;5;241m-\u001b[39m r, \u001b[38;5;241m1\u001b[39m) \u001b[38;5;241m+\u001b[39m DiracDelta(R \u001b[38;5;241m-\u001b[39m r)) \u001b[38;5;241m+\u001b[39m \u001b[38;5;241m6\u001b[39m\u001b[38;5;241m*\u001b[39mr\u001b[38;5;241m*\u001b[39mDiracDelta(R \u001b[38;5;241m-\u001b[39m r) \u001b[38;5;241m-\u001b[39m \u001b[38;5;241m6\u001b[39m\u001b[38;5;241m*\u001b[39mHeaviside(\u001b[38;5;241m-\u001b[39mR \u001b[38;5;241m+\u001b[39m r))\u001b[38;5;241m*\u001b[39msin(theta)\u001b[38;5;241m*\u001b[39m\u001b[38;5;241m*\u001b[39m\u001b[38;5;241m2\u001b[39m\u001b[38;5;241m/\u001b[39m(\u001b[38;5;241m6\u001b[39m\u001b[38;5;241m*\u001b[39mr\u001b[38;5;241m*\u001b[39m\u001b[38;5;241m*\u001b[39m\u001b[38;5;241m2\u001b[39m), \u001b[38;5;241m0\u001b[39m, \u001b[38;5;241m0\u001b[39m, \u001b[38;5;241m0\u001b[39m]], [[\u001b[38;5;241m0\u001b[39m, \u001b[38;5;241m0\u001b[39m, \u001b[38;5;241m0\u001b[39m, \u001b[38;5;241m0\u001b[39m], [\u001b[38;5;241m0\u001b[39m, \u001b[38;5;241m0\u001b[39m, \u001b[38;5;241m0\u001b[39m, M\u001b[38;5;241m*\u001b[39m(\u001b[38;5;241m-\u001b[39mr\u001b[38;5;241m*\u001b[39m\u001b[38;5;241m*\u001b[39m\u001b[38;5;241m2\u001b[39m\u001b[38;5;241m*\u001b[39mDiracDelta(R \u001b[38;5;241m-\u001b[39m r, \u001b[38;5;241m1\u001b[39m) \u001b[38;5;241m-\u001b[39m \u001b[38;5;241m4\u001b[39m\u001b[38;5;241m*\u001b[39mr\u001b[38;5;241m*\u001b[39mDiracDelta(R \u001b[38;5;241m-\u001b[39m r) \u001b[38;5;241m+\u001b[39m \u001b[38;5;241m6\u001b[39m\u001b[38;5;241m*\u001b[39mHeaviside(\u001b[38;5;241m-\u001b[39mR \u001b[38;5;241m+\u001b[39m r))\u001b[38;5;241m*\u001b[39msin(theta)\u001b[38;5;241m*\u001b[39m\u001b[38;5;241m*\u001b[39m\u001b[38;5;241m2\u001b[39m\u001b[38;5;241m/\u001b[39m(\u001b[38;5;241m6\u001b[39m\u001b[38;5;241m*\u001b[39m(\u001b[38;5;241m-\u001b[39m\u001b[38;5;241m2\u001b[39m\u001b[38;5;241m*\u001b[39mM\u001b[38;5;241m*\u001b[39mHeaviside(\u001b[38;5;241m-\u001b[39mR \u001b[38;5;241m+\u001b[39m r) \u001b[38;5;241m+\u001b[39m r))], [\u001b[38;5;241m0\u001b[39m, \u001b[38;5;241m0\u001b[39m, \u001b[38;5;241m0\u001b[39m, \u001b[38;5;241m0\u001b[39m], [\u001b[38;5;241m0\u001b[39m, M\u001b[38;5;241m*\u001b[39m(r\u001b[38;5;241m*\u001b[39m\u001b[38;5;241m*\u001b[39m\u001b[38;5;241m2\u001b[39m\u001b[38;5;241m*\u001b[39mDiracDelta(R \u001b[38;5;241m-\u001b[39m r, \u001b[38;5;241m1\u001b[39m) \u001b[38;5;241m+\u001b[39m \u001b[38;5;241m4\u001b[39m\u001b[38;5;241m*\u001b[39mr\u001b[38;5;241m*\u001b[39mDiracDelta(R \u001b[38;5;241m-\u001b[39m r) \u001b[38;5;241m-\u001b[39m \u001b[38;5;241m6\u001b[39m\u001b[38;5;241m*\u001b[39mHeaviside(\u001b[38;5;241m-\u001b[39mR \u001b[38;5;241m+\u001b[39m r))\u001b[38;5;241m*\u001b[39msin(theta)\u001b[38;5;241m*\u001b[39m\u001b[38;5;241m*\u001b[39m\u001b[38;5;241m2\u001b[39m\u001b[38;5;241m/\u001b[39m(\u001b[38;5;241m6\u001b[39m\u001b[38;5;241m*\u001b[39m(\u001b[38;5;241m-\u001b[39m\u001b[38;5;241m2\u001b[39m\u001b[38;5;241m*\u001b[39mM\u001b[38;5;241m*\u001b[39mHeaviside(\u001b[38;5;241m-\u001b[39mR \u001b[38;5;241m+\u001b[39m r) \u001b[38;5;241m+\u001b[39m r)), \u001b[38;5;241m0\u001b[39m, \u001b[38;5;241m0\u001b[39m]], [[\u001b[38;5;241m0\u001b[39m, \u001b[38;5;241m0\u001b[39m, \u001b[38;5;241m0\u001b[39m, \u001b[38;5;241m0\u001b[39m], [\u001b[38;5;241m0\u001b[39m, \u001b[38;5;241m0\u001b[39m, \u001b[38;5;241m0\u001b[39m, \u001b[38;5;241m0\u001b[39m], [\u001b[38;5;241m0\u001b[39m, \u001b[38;5;241m0\u001b[39m, \u001b[38;5;241m0\u001b[39m, M\u001b[38;5;241m*\u001b[39mr\u001b[38;5;241m*\u001b[39m(r\u001b[38;5;241m*\u001b[39m\u001b[38;5;241m*\u001b[39m\u001b[38;5;241m2\u001b[39m\u001b[38;5;241m*\u001b[39mDiracDelta(R \u001b[38;5;241m-\u001b[39m r, \u001b[38;5;241m1\u001b[39m) \u001b[38;5;241m+\u001b[39m \u001b[38;5;241m4\u001b[39m\u001b[38;5;241m*\u001b[39mr\u001b[38;5;241m*\u001b[39mDiracDelta(R \u001b[38;5;241m-\u001b[39m r) \u001b[38;5;241m-\u001b[39m \u001b[38;5;241m6\u001b[39m\u001b[38;5;241m*\u001b[39mHeaviside(\u001b[38;5;241m-\u001b[39mR \u001b[38;5;241m+\u001b[39m r))\u001b[38;5;241m*\u001b[39msin(theta)\u001b[38;5;241m*\u001b[39m\u001b[38;5;241m*\u001b[39m\u001b[38;5;241m2\u001b[39m\u001b[38;5;241m/\u001b[39m\u001b[38;5;241m3\u001b[39m], [\u001b[38;5;241m0\u001b[39m, \u001b[38;5;241m0\u001b[39m, M\u001b[38;5;241m*\u001b[39mr\u001b[38;5;241m*\u001b[39m(\u001b[38;5;241m-\u001b[39mr\u001b[38;5;241m*\u001b[39m\u001b[38;5;241m*\u001b[39m\u001b[38;5;241m2\u001b[39m\u001b[38;5;241m*\u001b[39mDiracDelta(R \u001b[38;5;241m-\u001b[39m r, \u001b[38;5;241m1\u001b[39m) \u001b[38;5;241m-\u001b[39m \u001b[38;5;241m4\u001b[39m\u001b[38;5;241m*\u001b[39mr\u001b[38;5;241m*\u001b[39mDiracDelta(R \u001b[38;5;241m-\u001b[39m r) \u001b[38;5;241m+\u001b[39m \u001b[38;5;241m6\u001b[39m\u001b[38;5;241m*\u001b[39mHeaviside(\u001b[38;5;241m-\u001b[39mR \u001b[38;5;241m+\u001b[39m r))\u001b[38;5;241m*\u001b[39msin(theta)\u001b[38;5;241m*\u001b[39m\u001b[38;5;241m*\u001b[39m\u001b[38;5;241m2\u001b[39m\u001b[38;5;241m/\u001b[39m\u001b[38;5;241m3\u001b[39m, \u001b[38;5;241m0\u001b[39m]], [[\u001b[38;5;241m0\u001b[39m, \u001b[38;5;241m0\u001b[39m, \u001b[38;5;241m0\u001b[39m, \u001b[38;5;241m0\u001b[39m], [\u001b[38;5;241m0\u001b[39m, \u001b[38;5;241m0\u001b[39m, \u001b[38;5;241m0\u001b[39m, \u001b[38;5;241m0\u001b[39m], [\u001b[38;5;241m0\u001b[39m, \u001b[38;5;241m0\u001b[39m, \u001b[38;5;241m0\u001b[39m, \u001b[38;5;241m0\u001b[39m], [\u001b[38;5;241m0\u001b[39m, \u001b[38;5;241m0\u001b[39m, \u001b[38;5;241m0\u001b[39m, \u001b[38;5;241m0\u001b[39m]]]])\n",
      "\u001b[0;31mNameError\u001b[0m: name 'DiracDelta' is not defined"
     ]
    }
   ],
   "source": [
    "###Plot something\n",
    "# first make the tensor into a function, printing \n",
    "args, func = weyl.tensor_lambdify()\n",
    "print(args) # these are the argument values \n",
    "\n",
    "#Make x values - which we will sub in for r \n",
    "x = np.arange(1.5, 20.0, 0.04)\n",
    "func(0.5,x,0, 0, 1, 5)[0][1][0][1]\n",
    "\n",
    "# Call the functions\n",
    "y = func(1.0,x,1, 1, 1, 5)[0][1][0][1]\n",
    "z = -func(1.0,x,1, 1, 1, 5)[0][2][0][2] # 0.1 to bring scale in\n",
    "fig=plt.figure()\n",
    "ax=fig.add_axes([0,2,1.0,1.0])\n",
    "ax.plot(x,y)\n",
    "ax.plot(x,z)\n",
    "ax.set_title(\"T_01\")\n",
    "\n",
    "\n"
   ]
  },
  {
   "cell_type": "code",
   "execution_count": null,
   "metadata": {},
   "outputs": [],
   "source": []
  },
  {
   "cell_type": "code",
   "execution_count": null,
   "metadata": {},
   "outputs": [],
   "source": []
  },
  {
   "cell_type": "code",
   "execution_count": null,
   "metadata": {},
   "outputs": [],
   "source": []
  }
 ],
 "metadata": {
  "kernelspec": {
   "display_name": "Python 3",
   "language": "python",
   "name": "python3"
  },
  "language_info": {
   "codemirror_mode": {
    "name": "ipython",
    "version": 3
   },
   "file_extension": ".py",
   "mimetype": "text/x-python",
   "name": "python",
   "nbconvert_exporter": "python",
   "pygments_lexer": "ipython3",
   "version": "3.11.6"
  }
 },
 "nbformat": 4,
 "nbformat_minor": 4
}
