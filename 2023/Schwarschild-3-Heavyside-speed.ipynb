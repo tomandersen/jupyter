{
 "cells": [
  {
   "cell_type": "markdown",
   "metadata": {
    "tags": []
   },
   "source": [
    "### Monopole wave 3 - Heavyside - with Speed \n",
    "### Outside of R we have the full normal Schwarshild metric. Inside of R we have a Minkowski metric (or a smaller black hole, but for now we just have vacuum there for simplicity). \n",
    "\n",
    "## R is now a function of t - it has a velocity.\n"
   ]
  },
  {
   "cell_type": "code",
   "execution_count": 1,
   "metadata": {},
   "outputs": [],
   "source": [
    "import sympy\n",
    "import matplotlib.pyplot as plt\n",
    "import numpy as np\n",
    "\n",
    "from sympy import symbols, sin, cos, sinh, oo\n",
    "from sympy import Heaviside, nan\n",
    "from einsteinpy.symbolic import EinsteinTensor, MetricTensor, WeylTensor, RicciTensor\n",
    "\n",
    "sympy.init_printing()"
   ]
  },
  {
   "cell_type": "markdown",
   "metadata": {},
   "source": [
    "### Use plain coordinates. \n",
    "\n"
   ]
  },
  {
   "cell_type": "markdown",
   "metadata": {},
   "source": [
    "![alt-text](img/schwarschild.png \"Schwarschild coords\")\n"
   ]
  },
  {
   "cell_type": "markdown",
   "metadata": {
    "tags": []
   },
   "source": [
    "# Heavyside \n",
    "### Inside R the metric is flat. Evaluating the Einstein Tensor one gets a mass shell delta function at R. Noe that the mass shell mass   \n"
   ]
  },
  {
   "cell_type": "code",
   "execution_count": 2,
   "metadata": {},
   "outputs": [
    {
     "data": {
      "text/latex": [
       "$\\displaystyle \\left[\\begin{matrix}-1 + \\frac{2 \\theta\\left(r - 2 \\sqrt{r - 2}\\right)}{r} & 0 & 0 & 0\\\\0 & \\frac{1}{1 - \\frac{2 \\theta\\left(r - 2 \\sqrt{r - 2}\\right)}{r}} & 0 & 0\\\\0 & 0 & r^{2} & 0\\\\0 & 0 & 0 & r^{2} \\sin^{2}{\\left(\\theta \\right)}\\end{matrix}\\right]$"
      ],
      "text/plain": [
       "⎡        ⎛        _______⎞                                          ⎤\n",
       "⎢     2⋅θ⎝r - 2⋅╲╱ r - 2 ⎠                                          ⎥\n",
       "⎢-1 + ────────────────────             0              0       0     ⎥\n",
       "⎢              r                                                    ⎥\n",
       "⎢                                                                   ⎥\n",
       "⎢                                      1                            ⎥\n",
       "⎢            0              ────────────────────────  0       0     ⎥\n",
       "⎢                                  ⎛        _______⎞                ⎥\n",
       "⎢                               2⋅θ⎝r - 2⋅╲╱ r - 2 ⎠                ⎥\n",
       "⎢                           1 - ────────────────────                ⎥\n",
       "⎢                                        r                          ⎥\n",
       "⎢                                                                   ⎥\n",
       "⎢                                                      2            ⎥\n",
       "⎢            0                         0              r       0     ⎥\n",
       "⎢                                                                   ⎥\n",
       "⎢                                                          2    2   ⎥\n",
       "⎣            0                         0              0   r ⋅sin (θ)⎦"
      ]
     },
     "execution_count": 2,
     "metadata": {},
     "output_type": "execute_result"
    }
   ],
   "source": [
    "t, r, theta, phi = sympy.symbols(\"t r theta phi\")\n",
    "G, M, c, a, w, R = sympy.symbols(\"G M c a w, R\")\n",
    "M = 1\n",
    "a = 2*M\n",
    "\n",
    "R = sympy.sqrt((r/M - 2))*2*M\n",
    "#R = 5*M\n",
    "# using metric values of schwarschild space-time\n",
    "# a is schwarzschild radius\n",
    "list2d = [[0 for i in range(4)] for i in range(4)]\n",
    "list2d[0][0] = -(1 - Heaviside(r - R)*a/r)\n",
    "list2d[0][1] = 0\n",
    "list2d[1][0] = 0\n",
    "list2d[1][1] = 1/(1 - Heaviside(r - R)*a/r) \n",
    "list2d[2][2] = (r)**2\n",
    "list2d[3][3] = (r)**2*(sympy.sin(theta) ** 2)\n",
    "sch = MetricTensor(list2d, [t, r, theta, phi])\n",
    "sch.tensor()\n"
   ]
  },
  {
   "cell_type": "markdown",
   "metadata": {},
   "source": [
    "### Calculating the Einstein Tensor (with both indices covariant)\n",
    "#### The zero, zero density term and pressures have delta functions in them. \n"
   ]
  },
  {
   "cell_type": "code",
   "execution_count": 3,
   "metadata": {
    "scrolled": true
   },
   "outputs": [
    {
     "ename": "ValueError",
     "evalue": "Function defined only for Real Values. Complex part: -2*sqrt(2)  found in -2*sqrt(2)*I .",
     "output_type": "error",
     "traceback": [
      "\u001b[0;31m---------------------------------------------------------------------------\u001b[0m",
      "\u001b[0;31mValueError\u001b[0m                                Traceback (most recent call last)",
      "Cell \u001b[0;32mIn[3], line 1\u001b[0m\n\u001b[0;32m----> 1\u001b[0m einst \u001b[38;5;241m=\u001b[39m \u001b[43mEinsteinTensor\u001b[49m\u001b[38;5;241;43m.\u001b[39;49m\u001b[43mfrom_metric\u001b[49m\u001b[43m(\u001b[49m\u001b[43msch\u001b[49m\u001b[43m)\u001b[49m\n\u001b[1;32m      2\u001b[0m einst\u001b[38;5;241m.\u001b[39msimplify()\n\u001b[1;32m      3\u001b[0m einst\u001b[38;5;241m.\u001b[39mtensor()\n",
      "File \u001b[0;32m/opt/homebrew/lib/python3.11/site-packages/einsteinpy/symbolic/einstein.py:52\u001b[0m, in \u001b[0;36mEinsteinTensor.from_metric\u001b[0;34m(cls, metric)\u001b[0m\n\u001b[1;32m     50\u001b[0m \u001b[38;5;129m@classmethod\u001b[39m\n\u001b[1;32m     51\u001b[0m \u001b[38;5;28;01mdef\u001b[39;00m \u001b[38;5;21mfrom_metric\u001b[39m(\u001b[38;5;28mcls\u001b[39m, metric):\n\u001b[0;32m---> 52\u001b[0m     t_ricci \u001b[38;5;241m=\u001b[39m \u001b[43mRicciTensor\u001b[49m\u001b[38;5;241;43m.\u001b[39;49m\u001b[43mfrom_metric\u001b[49m\u001b[43m(\u001b[49m\u001b[43mmetric\u001b[49m\u001b[43m)\u001b[49m\n\u001b[1;32m     53\u001b[0m     r_scalar \u001b[38;5;241m=\u001b[39m RicciScalar\u001b[38;5;241m.\u001b[39mfrom_riccitensor(t_ricci, t_ricci\u001b[38;5;241m.\u001b[39mparent_metric)\n\u001b[1;32m     54\u001b[0m     einstein_tensor \u001b[38;5;241m=\u001b[39m (\n\u001b[1;32m     55\u001b[0m         t_ricci\u001b[38;5;241m.\u001b[39mtensor() \u001b[38;5;241m-\u001b[39m (\u001b[38;5;241m1\u001b[39m \u001b[38;5;241m/\u001b[39m \u001b[38;5;241m2\u001b[39m) \u001b[38;5;241m*\u001b[39m metric\u001b[38;5;241m.\u001b[39mlower_config()\u001b[38;5;241m.\u001b[39mtensor() \u001b[38;5;241m*\u001b[39m r_scalar\u001b[38;5;241m.\u001b[39mexpr\n\u001b[1;32m     56\u001b[0m     )\n",
      "File \u001b[0;32m/opt/homebrew/lib/python3.11/site-packages/einsteinpy/symbolic/ricci.py:108\u001b[0m, in \u001b[0;36mRicciTensor.from_metric\u001b[0;34m(cls, metric)\u001b[0m\n\u001b[1;32m     97\u001b[0m \u001b[38;5;129m@classmethod\u001b[39m\n\u001b[1;32m     98\u001b[0m \u001b[38;5;28;01mdef\u001b[39;00m \u001b[38;5;21mfrom_metric\u001b[39m(\u001b[38;5;28mcls\u001b[39m, metric):\n\u001b[1;32m     99\u001b[0m \u001b[38;5;250m    \u001b[39m\u001b[38;5;124;03m\"\"\"\u001b[39;00m\n\u001b[1;32m    100\u001b[0m \u001b[38;5;124;03m    Get Ricci Tensor calculated from Metric Tensor\u001b[39;00m\n\u001b[1;32m    101\u001b[0m \n\u001b[0;32m   (...)\u001b[0m\n\u001b[1;32m    106\u001b[0m \n\u001b[1;32m    107\u001b[0m \u001b[38;5;124;03m    \"\"\"\u001b[39;00m\n\u001b[0;32m--> 108\u001b[0m     ch \u001b[38;5;241m=\u001b[39m \u001b[43mChristoffelSymbols\u001b[49m\u001b[38;5;241;43m.\u001b[39;49m\u001b[43mfrom_metric\u001b[49m\u001b[43m(\u001b[49m\u001b[43mmetric\u001b[49m\u001b[43m)\u001b[49m\n\u001b[1;32m    109\u001b[0m     \u001b[38;5;28;01mreturn\u001b[39;00m \u001b[38;5;28mcls\u001b[39m\u001b[38;5;241m.\u001b[39mfrom_christoffels(ch, parent_metric\u001b[38;5;241m=\u001b[39m\u001b[38;5;28;01mNone\u001b[39;00m)\n",
      "File \u001b[0;32m/opt/homebrew/lib/python3.11/site-packages/einsteinpy/symbolic/christoffel.py:63\u001b[0m, in \u001b[0;36mChristoffelSymbols.from_metric\u001b[0;34m(cls, metric)\u001b[0m\n\u001b[1;32m     61\u001b[0m tmplist \u001b[38;5;241m=\u001b[39m np\u001b[38;5;241m.\u001b[39mzeros((dims, dims, dims), dtype\u001b[38;5;241m=\u001b[39m\u001b[38;5;28mint\u001b[39m)\u001b[38;5;241m.\u001b[39mtolist()\n\u001b[1;32m     62\u001b[0m mat, syms \u001b[38;5;241m=\u001b[39m metric\u001b[38;5;241m.\u001b[39mlower_config()\u001b[38;5;241m.\u001b[39mtensor(), metric\u001b[38;5;241m.\u001b[39msymbols()\n\u001b[0;32m---> 63\u001b[0m matinv \u001b[38;5;241m=\u001b[39m \u001b[43msympy\u001b[49m\u001b[38;5;241;43m.\u001b[39;49m\u001b[43mMatrix\u001b[49m\u001b[43m(\u001b[49m\u001b[43mmat\u001b[49m\u001b[38;5;241;43m.\u001b[39;49m\u001b[43mtolist\u001b[49m\u001b[43m(\u001b[49m\u001b[43m)\u001b[49m\u001b[43m)\u001b[49m\u001b[38;5;241;43m.\u001b[39;49m\u001b[43minv\u001b[49m\u001b[43m(\u001b[49m\u001b[43m)\u001b[49m\n\u001b[1;32m     64\u001b[0m \u001b[38;5;28;01mfor\u001b[39;00m t \u001b[38;5;129;01min\u001b[39;00m \u001b[38;5;28mrange\u001b[39m(dims\u001b[38;5;241m*\u001b[39m\u001b[38;5;241m*\u001b[39m\u001b[38;5;241m3\u001b[39m):\n\u001b[1;32m     65\u001b[0m     \u001b[38;5;66;03m# i,j,k each goes from 0 to (dims-1)\u001b[39;00m\n\u001b[1;32m     66\u001b[0m     \u001b[38;5;66;03m# hack for codeclimate. Could be done with 3 nested for loops\u001b[39;00m\n\u001b[1;32m     67\u001b[0m     k \u001b[38;5;241m=\u001b[39m t \u001b[38;5;241m%\u001b[39m dims\n",
      "File \u001b[0;32m/opt/homebrew/lib/python3.11/site-packages/sympy/matrices/matrices.py:2177\u001b[0m, in \u001b[0;36mMatrixBase.inv\u001b[0;34m(self, method, iszerofunc, try_block_diag)\u001b[0m\n\u001b[1;32m   2176\u001b[0m \u001b[38;5;28;01mdef\u001b[39;00m \u001b[38;5;21minv\u001b[39m(\u001b[38;5;28mself\u001b[39m, method\u001b[38;5;241m=\u001b[39m\u001b[38;5;28;01mNone\u001b[39;00m, iszerofunc\u001b[38;5;241m=\u001b[39m_iszero, try_block_diag\u001b[38;5;241m=\u001b[39m\u001b[38;5;28;01mFalse\u001b[39;00m):\n\u001b[0;32m-> 2177\u001b[0m     \u001b[38;5;28;01mreturn\u001b[39;00m \u001b[43m_inv\u001b[49m\u001b[43m(\u001b[49m\u001b[38;5;28;43mself\u001b[39;49m\u001b[43m,\u001b[49m\u001b[43m \u001b[49m\u001b[43mmethod\u001b[49m\u001b[38;5;241;43m=\u001b[39;49m\u001b[43mmethod\u001b[49m\u001b[43m,\u001b[49m\u001b[43m \u001b[49m\u001b[43miszerofunc\u001b[49m\u001b[38;5;241;43m=\u001b[39;49m\u001b[43miszerofunc\u001b[49m\u001b[43m,\u001b[49m\n\u001b[1;32m   2178\u001b[0m \u001b[43m            \u001b[49m\u001b[43mtry_block_diag\u001b[49m\u001b[38;5;241;43m=\u001b[39;49m\u001b[43mtry_block_diag\u001b[49m\u001b[43m)\u001b[49m\n",
      "File \u001b[0;32m/opt/homebrew/lib/python3.11/site-packages/sympy/matrices/inverse.py:459\u001b[0m, in \u001b[0;36m_inv\u001b[0;34m(M, method, iszerofunc, try_block_diag)\u001b[0m\n\u001b[1;32m    456\u001b[0m     \u001b[38;5;28;01mreturn\u001b[39;00m diag(\u001b[38;5;241m*\u001b[39mr)\n\u001b[1;32m    458\u001b[0m \u001b[38;5;28;01mif\u001b[39;00m method \u001b[38;5;241m==\u001b[39m \u001b[38;5;124m\"\u001b[39m\u001b[38;5;124mGE\u001b[39m\u001b[38;5;124m\"\u001b[39m:\n\u001b[0;32m--> 459\u001b[0m     rv \u001b[38;5;241m=\u001b[39m \u001b[43mM\u001b[49m\u001b[38;5;241;43m.\u001b[39;49m\u001b[43minverse_GE\u001b[49m\u001b[43m(\u001b[49m\u001b[43miszerofunc\u001b[49m\u001b[38;5;241;43m=\u001b[39;49m\u001b[43miszerofunc\u001b[49m\u001b[43m)\u001b[49m\n\u001b[1;32m    460\u001b[0m \u001b[38;5;28;01melif\u001b[39;00m method \u001b[38;5;241m==\u001b[39m \u001b[38;5;124m\"\u001b[39m\u001b[38;5;124mLU\u001b[39m\u001b[38;5;124m\"\u001b[39m:\n\u001b[1;32m    461\u001b[0m     rv \u001b[38;5;241m=\u001b[39m M\u001b[38;5;241m.\u001b[39minverse_LU(iszerofunc\u001b[38;5;241m=\u001b[39miszerofunc)\n",
      "File \u001b[0;32m/opt/homebrew/lib/python3.11/site-packages/sympy/matrices/matrices.py:2162\u001b[0m, in \u001b[0;36mMatrixBase.inverse_GE\u001b[0;34m(self, iszerofunc)\u001b[0m\n\u001b[1;32m   2161\u001b[0m \u001b[38;5;28;01mdef\u001b[39;00m \u001b[38;5;21minverse_GE\u001b[39m(\u001b[38;5;28mself\u001b[39m, iszerofunc\u001b[38;5;241m=\u001b[39m_iszero):\n\u001b[0;32m-> 2162\u001b[0m     \u001b[38;5;28;01mreturn\u001b[39;00m \u001b[43m_inv_GE\u001b[49m\u001b[43m(\u001b[49m\u001b[38;5;28;43mself\u001b[39;49m\u001b[43m,\u001b[49m\u001b[43m \u001b[49m\u001b[43miszerofunc\u001b[49m\u001b[38;5;241;43m=\u001b[39;49m\u001b[43miszerofunc\u001b[49m\u001b[43m)\u001b[49m\n",
      "File \u001b[0;32m/opt/homebrew/lib/python3.11/site-packages/sympy/matrices/inverse.py:242\u001b[0m, in \u001b[0;36m_inv_GE\u001b[0;34m(M, iszerofunc)\u001b[0m\n\u001b[1;32m    239\u001b[0m     \u001b[38;5;28;01mraise\u001b[39;00m NonSquareMatrixError(\u001b[38;5;124m\"\u001b[39m\u001b[38;5;124mA Matrix must be square to invert.\u001b[39m\u001b[38;5;124m\"\u001b[39m)\n\u001b[1;32m    241\u001b[0m big \u001b[38;5;241m=\u001b[39m Matrix\u001b[38;5;241m.\u001b[39mhstack(M\u001b[38;5;241m.\u001b[39mas_mutable(), Matrix\u001b[38;5;241m.\u001b[39meye(M\u001b[38;5;241m.\u001b[39mrows))\n\u001b[0;32m--> 242\u001b[0m red \u001b[38;5;241m=\u001b[39m \u001b[43mbig\u001b[49m\u001b[38;5;241;43m.\u001b[39;49m\u001b[43mrref\u001b[49m\u001b[43m(\u001b[49m\u001b[43miszerofunc\u001b[49m\u001b[38;5;241;43m=\u001b[39;49m\u001b[43miszerofunc\u001b[49m\u001b[43m,\u001b[49m\u001b[43m \u001b[49m\u001b[43msimplify\u001b[49m\u001b[38;5;241;43m=\u001b[39;49m\u001b[38;5;28;43;01mTrue\u001b[39;49;00m\u001b[43m)\u001b[49m[\u001b[38;5;241m0\u001b[39m]\n\u001b[1;32m    244\u001b[0m \u001b[38;5;28;01mif\u001b[39;00m \u001b[38;5;28many\u001b[39m(iszerofunc(red[j, j]) \u001b[38;5;28;01mfor\u001b[39;00m j \u001b[38;5;129;01min\u001b[39;00m \u001b[38;5;28mrange\u001b[39m(red\u001b[38;5;241m.\u001b[39mrows)):\n\u001b[1;32m    245\u001b[0m     \u001b[38;5;28;01mraise\u001b[39;00m NonInvertibleMatrixError(\u001b[38;5;124m\"\u001b[39m\u001b[38;5;124mMatrix det == 0; not invertible.\u001b[39m\u001b[38;5;124m\"\u001b[39m)\n",
      "File \u001b[0;32m/opt/homebrew/lib/python3.11/site-packages/sympy/matrices/matrices.py:172\u001b[0m, in \u001b[0;36mMatrixReductions.rref\u001b[0;34m(self, iszerofunc, simplify, pivots, normalize_last)\u001b[0m\n\u001b[1;32m    170\u001b[0m \u001b[38;5;28;01mdef\u001b[39;00m \u001b[38;5;21mrref\u001b[39m(\u001b[38;5;28mself\u001b[39m, iszerofunc\u001b[38;5;241m=\u001b[39m_iszero, simplify\u001b[38;5;241m=\u001b[39m\u001b[38;5;28;01mFalse\u001b[39;00m, pivots\u001b[38;5;241m=\u001b[39m\u001b[38;5;28;01mTrue\u001b[39;00m,\n\u001b[1;32m    171\u001b[0m         normalize_last\u001b[38;5;241m=\u001b[39m\u001b[38;5;28;01mTrue\u001b[39;00m):\n\u001b[0;32m--> 172\u001b[0m     \u001b[38;5;28;01mreturn\u001b[39;00m \u001b[43m_rref\u001b[49m\u001b[43m(\u001b[49m\u001b[38;5;28;43mself\u001b[39;49m\u001b[43m,\u001b[49m\u001b[43m \u001b[49m\u001b[43miszerofunc\u001b[49m\u001b[38;5;241;43m=\u001b[39;49m\u001b[43miszerofunc\u001b[49m\u001b[43m,\u001b[49m\u001b[43m \u001b[49m\u001b[43msimplify\u001b[49m\u001b[38;5;241;43m=\u001b[39;49m\u001b[43msimplify\u001b[49m\u001b[43m,\u001b[49m\n\u001b[1;32m    173\u001b[0m \u001b[43m        \u001b[49m\u001b[43mpivots\u001b[49m\u001b[38;5;241;43m=\u001b[39;49m\u001b[43mpivots\u001b[49m\u001b[43m,\u001b[49m\u001b[43m \u001b[49m\u001b[43mnormalize_last\u001b[49m\u001b[38;5;241;43m=\u001b[39;49m\u001b[43mnormalize_last\u001b[49m\u001b[43m)\u001b[49m\n",
      "File \u001b[0;32m/opt/homebrew/lib/python3.11/site-packages/sympy/matrices/reductions.py:320\u001b[0m, in \u001b[0;36m_rref\u001b[0;34m(M, iszerofunc, simplify, pivots, normalize_last)\u001b[0m\n\u001b[1;32m    247\u001b[0m \u001b[38;5;250m\u001b[39m\u001b[38;5;124;03m\"\"\"Return reduced row-echelon form of matrix and indices of pivot vars.\u001b[39;00m\n\u001b[1;32m    248\u001b[0m \n\u001b[1;32m    249\u001b[0m \u001b[38;5;124;03mParameters\u001b[39;00m\n\u001b[0;32m   (...)\u001b[0m\n\u001b[1;32m    315\u001b[0m \u001b[38;5;124;03mof the matrix, set ``noramlize_last=False``\u001b[39;00m\n\u001b[1;32m    316\u001b[0m \u001b[38;5;124;03m\"\"\"\u001b[39;00m\n\u001b[1;32m    318\u001b[0m simpfunc \u001b[38;5;241m=\u001b[39m simplify \u001b[38;5;28;01mif\u001b[39;00m \u001b[38;5;28misinstance\u001b[39m(simplify, FunctionType) \u001b[38;5;28;01melse\u001b[39;00m _simplify\n\u001b[0;32m--> 320\u001b[0m mat, pivot_cols, _ \u001b[38;5;241m=\u001b[39m \u001b[43m_row_reduce\u001b[49m\u001b[43m(\u001b[49m\u001b[43mM\u001b[49m\u001b[43m,\u001b[49m\u001b[43m \u001b[49m\u001b[43miszerofunc\u001b[49m\u001b[43m,\u001b[49m\u001b[43m \u001b[49m\u001b[43msimpfunc\u001b[49m\u001b[43m,\u001b[49m\n\u001b[1;32m    321\u001b[0m \u001b[43m        \u001b[49m\u001b[43mnormalize_last\u001b[49m\u001b[43m,\u001b[49m\u001b[43m \u001b[49m\u001b[43mnormalize\u001b[49m\u001b[38;5;241;43m=\u001b[39;49m\u001b[38;5;28;43;01mTrue\u001b[39;49;00m\u001b[43m,\u001b[49m\u001b[43m \u001b[49m\u001b[43mzero_above\u001b[49m\u001b[38;5;241;43m=\u001b[39;49m\u001b[38;5;28;43;01mTrue\u001b[39;49;00m\u001b[43m)\u001b[49m\n\u001b[1;32m    323\u001b[0m \u001b[38;5;28;01mif\u001b[39;00m pivots:\n\u001b[1;32m    324\u001b[0m     mat \u001b[38;5;241m=\u001b[39m (mat, pivot_cols)\n",
      "File \u001b[0;32m/opt/homebrew/lib/python3.11/site-packages/sympy/matrices/reductions.py:124\u001b[0m, in \u001b[0;36m_row_reduce\u001b[0;34m(M, iszerofunc, simpfunc, normalize_last, normalize, zero_above)\u001b[0m\n\u001b[1;32m    121\u001b[0m \u001b[38;5;28;01mdef\u001b[39;00m \u001b[38;5;21m_row_reduce\u001b[39m(M, iszerofunc, simpfunc, normalize_last\u001b[38;5;241m=\u001b[39m\u001b[38;5;28;01mTrue\u001b[39;00m,\n\u001b[1;32m    122\u001b[0m                 normalize\u001b[38;5;241m=\u001b[39m\u001b[38;5;28;01mTrue\u001b[39;00m, zero_above\u001b[38;5;241m=\u001b[39m\u001b[38;5;28;01mTrue\u001b[39;00m):\n\u001b[0;32m--> 124\u001b[0m     mat, pivot_cols, swaps \u001b[38;5;241m=\u001b[39m \u001b[43m_row_reduce_list\u001b[49m\u001b[43m(\u001b[49m\u001b[38;5;28;43mlist\u001b[39;49m\u001b[43m(\u001b[49m\u001b[43mM\u001b[49m\u001b[43m)\u001b[49m\u001b[43m,\u001b[49m\u001b[43m \u001b[49m\u001b[43mM\u001b[49m\u001b[38;5;241;43m.\u001b[39;49m\u001b[43mrows\u001b[49m\u001b[43m,\u001b[49m\u001b[43m \u001b[49m\u001b[43mM\u001b[49m\u001b[38;5;241;43m.\u001b[39;49m\u001b[43mcols\u001b[49m\u001b[43m,\u001b[49m\u001b[43m \u001b[49m\u001b[43mM\u001b[49m\u001b[38;5;241;43m.\u001b[39;49m\u001b[43mone\u001b[49m\u001b[43m,\u001b[49m\n\u001b[1;32m    125\u001b[0m \u001b[43m            \u001b[49m\u001b[43miszerofunc\u001b[49m\u001b[43m,\u001b[49m\u001b[43m \u001b[49m\u001b[43msimpfunc\u001b[49m\u001b[43m,\u001b[49m\u001b[43m \u001b[49m\u001b[43mnormalize_last\u001b[49m\u001b[38;5;241;43m=\u001b[39;49m\u001b[43mnormalize_last\u001b[49m\u001b[43m,\u001b[49m\n\u001b[1;32m    126\u001b[0m \u001b[43m            \u001b[49m\u001b[43mnormalize\u001b[49m\u001b[38;5;241;43m=\u001b[39;49m\u001b[43mnormalize\u001b[49m\u001b[43m,\u001b[49m\u001b[43m \u001b[49m\u001b[43mzero_above\u001b[49m\u001b[38;5;241;43m=\u001b[39;49m\u001b[43mzero_above\u001b[49m\u001b[43m)\u001b[49m\n\u001b[1;32m    128\u001b[0m     \u001b[38;5;28;01mreturn\u001b[39;00m M\u001b[38;5;241m.\u001b[39m_new(M\u001b[38;5;241m.\u001b[39mrows, M\u001b[38;5;241m.\u001b[39mcols, mat), pivot_cols, swaps\n",
      "File \u001b[0;32m/opt/homebrew/lib/python3.11/site-packages/sympy/matrices/reductions.py:65\u001b[0m, in \u001b[0;36m_row_reduce_list\u001b[0;34m(mat, rows, cols, one, iszerofunc, simpfunc, normalize_last, normalize, zero_above)\u001b[0m\n\u001b[1;32m     62\u001b[0m \u001b[38;5;66;03m# use a fraction free method to zero above and below each pivot\u001b[39;00m\n\u001b[1;32m     63\u001b[0m \u001b[38;5;28;01mwhile\u001b[39;00m piv_col \u001b[38;5;241m<\u001b[39m cols \u001b[38;5;129;01mand\u001b[39;00m piv_row \u001b[38;5;241m<\u001b[39m rows:\n\u001b[1;32m     64\u001b[0m     pivot_offset, pivot_val, \\\n\u001b[0;32m---> 65\u001b[0m     assumed_nonzero, newly_determined \u001b[38;5;241m=\u001b[39m \u001b[43m_find_reasonable_pivot\u001b[49m\u001b[43m(\u001b[49m\n\u001b[1;32m     66\u001b[0m \u001b[43m            \u001b[49m\u001b[43mget_col\u001b[49m\u001b[43m(\u001b[49m\u001b[43mpiv_col\u001b[49m\u001b[43m)\u001b[49m\u001b[43m[\u001b[49m\u001b[43mpiv_row\u001b[49m\u001b[43m:\u001b[49m\u001b[43m]\u001b[49m\u001b[43m,\u001b[49m\u001b[43m \u001b[49m\u001b[43miszerofunc\u001b[49m\u001b[43m,\u001b[49m\u001b[43m \u001b[49m\u001b[43msimpfunc\u001b[49m\u001b[43m)\u001b[49m\n\u001b[1;32m     68\u001b[0m     \u001b[38;5;66;03m# _find_reasonable_pivot may have simplified some things\u001b[39;00m\n\u001b[1;32m     69\u001b[0m     \u001b[38;5;66;03m# in the process.  Let's not let them go to waste\u001b[39;00m\n\u001b[1;32m     70\u001b[0m     \u001b[38;5;28;01mfor\u001b[39;00m (offset, val) \u001b[38;5;129;01min\u001b[39;00m newly_determined:\n",
      "File \u001b[0;32m/opt/homebrew/lib/python3.11/site-packages/sympy/matrices/determinant.py:102\u001b[0m, in \u001b[0;36m_find_reasonable_pivot\u001b[0;34m(col, iszerofunc, simpfunc)\u001b[0m\n\u001b[1;32m    100\u001b[0m \u001b[38;5;28;01mif\u001b[39;00m possible_zeros[i] \u001b[38;5;129;01mis\u001b[39;00m \u001b[38;5;129;01mnot\u001b[39;00m \u001b[38;5;28;01mNone\u001b[39;00m:\n\u001b[1;32m    101\u001b[0m     \u001b[38;5;28;01mcontinue\u001b[39;00m\n\u001b[0;32m--> 102\u001b[0m \u001b[38;5;28;01mif\u001b[39;00m \u001b[43mx\u001b[49m\u001b[38;5;241;43m.\u001b[39;49m\u001b[43mequals\u001b[49m\u001b[43m(\u001b[49m\u001b[43mS\u001b[49m\u001b[38;5;241;43m.\u001b[39;49m\u001b[43mZero\u001b[49m\u001b[43m)\u001b[49m:\n\u001b[1;32m    103\u001b[0m     \u001b[38;5;66;03m# ``.iszero`` may return False with\u001b[39;00m\n\u001b[1;32m    104\u001b[0m     \u001b[38;5;66;03m# an implicit assumption (e.g., ``x.equals(0)``\u001b[39;00m\n\u001b[1;32m    105\u001b[0m     \u001b[38;5;66;03m# when ``x`` is a symbol), so only treat it\u001b[39;00m\n\u001b[1;32m    106\u001b[0m     \u001b[38;5;66;03m# as proved when ``.equals(0)`` returns True\u001b[39;00m\n\u001b[1;32m    107\u001b[0m     possible_zeros[i] \u001b[38;5;241m=\u001b[39m \u001b[38;5;28;01mTrue\u001b[39;00m\n\u001b[1;32m    108\u001b[0m     newly_determined\u001b[38;5;241m.\u001b[39mappend((i, S\u001b[38;5;241m.\u001b[39mZero))\n",
      "File \u001b[0;32m/opt/homebrew/lib/python3.11/site-packages/sympy/core/expr.py:753\u001b[0m, in \u001b[0;36mExpr.equals\u001b[0;34m(self, other, failing_expression)\u001b[0m\n\u001b[1;32m    751\u001b[0m factors \u001b[38;5;241m=\u001b[39m diff\u001b[38;5;241m.\u001b[39mas_coeff_mul()[\u001b[38;5;241m1\u001b[39m]\n\u001b[1;32m    752\u001b[0m \u001b[38;5;28;01mif\u001b[39;00m \u001b[38;5;28mlen\u001b[39m(factors) \u001b[38;5;241m>\u001b[39m \u001b[38;5;241m1\u001b[39m:  \u001b[38;5;66;03m# avoid infinity recursion\u001b[39;00m\n\u001b[0;32m--> 753\u001b[0m     fac_zero \u001b[38;5;241m=\u001b[39m \u001b[43m[\u001b[49m\u001b[43mfac\u001b[49m\u001b[38;5;241;43m.\u001b[39;49m\u001b[43mequals\u001b[49m\u001b[43m(\u001b[49m\u001b[38;5;241;43m0\u001b[39;49m\u001b[43m)\u001b[49m\u001b[43m \u001b[49m\u001b[38;5;28;43;01mfor\u001b[39;49;00m\u001b[43m \u001b[49m\u001b[43mfac\u001b[49m\u001b[43m \u001b[49m\u001b[38;5;129;43;01min\u001b[39;49;00m\u001b[43m \u001b[49m\u001b[43mfactors\u001b[49m\u001b[43m]\u001b[49m\n\u001b[1;32m    754\u001b[0m     \u001b[38;5;28;01mif\u001b[39;00m \u001b[38;5;28;01mNone\u001b[39;00m \u001b[38;5;129;01mnot\u001b[39;00m \u001b[38;5;129;01min\u001b[39;00m fac_zero:  \u001b[38;5;66;03m# every part can be decided\u001b[39;00m\n\u001b[1;32m    755\u001b[0m         \u001b[38;5;28;01mreturn\u001b[39;00m \u001b[38;5;28many\u001b[39m(fac_zero)\n",
      "File \u001b[0;32m/opt/homebrew/lib/python3.11/site-packages/sympy/core/expr.py:753\u001b[0m, in \u001b[0;36m<listcomp>\u001b[0;34m(.0)\u001b[0m\n\u001b[1;32m    751\u001b[0m factors \u001b[38;5;241m=\u001b[39m diff\u001b[38;5;241m.\u001b[39mas_coeff_mul()[\u001b[38;5;241m1\u001b[39m]\n\u001b[1;32m    752\u001b[0m \u001b[38;5;28;01mif\u001b[39;00m \u001b[38;5;28mlen\u001b[39m(factors) \u001b[38;5;241m>\u001b[39m \u001b[38;5;241m1\u001b[39m:  \u001b[38;5;66;03m# avoid infinity recursion\u001b[39;00m\n\u001b[0;32m--> 753\u001b[0m     fac_zero \u001b[38;5;241m=\u001b[39m [\u001b[43mfac\u001b[49m\u001b[38;5;241;43m.\u001b[39;49m\u001b[43mequals\u001b[49m\u001b[43m(\u001b[49m\u001b[38;5;241;43m0\u001b[39;49m\u001b[43m)\u001b[49m \u001b[38;5;28;01mfor\u001b[39;00m fac \u001b[38;5;129;01min\u001b[39;00m factors]\n\u001b[1;32m    754\u001b[0m     \u001b[38;5;28;01mif\u001b[39;00m \u001b[38;5;28;01mNone\u001b[39;00m \u001b[38;5;129;01mnot\u001b[39;00m \u001b[38;5;129;01min\u001b[39;00m fac_zero:  \u001b[38;5;66;03m# every part can be decided\u001b[39;00m\n\u001b[1;32m    755\u001b[0m         \u001b[38;5;28;01mreturn\u001b[39;00m \u001b[38;5;28many\u001b[39m(fac_zero)\n",
      "File \u001b[0;32m/opt/homebrew/lib/python3.11/site-packages/sympy/core/expr.py:757\u001b[0m, in \u001b[0;36mExpr.equals\u001b[0;34m(self, other, failing_expression)\u001b[0m\n\u001b[1;32m    754\u001b[0m     \u001b[38;5;28;01mif\u001b[39;00m \u001b[38;5;28;01mNone\u001b[39;00m \u001b[38;5;129;01mnot\u001b[39;00m \u001b[38;5;129;01min\u001b[39;00m fac_zero:  \u001b[38;5;66;03m# every part can be decided\u001b[39;00m\n\u001b[1;32m    755\u001b[0m         \u001b[38;5;28;01mreturn\u001b[39;00m \u001b[38;5;28many\u001b[39m(fac_zero)\n\u001b[0;32m--> 757\u001b[0m constant \u001b[38;5;241m=\u001b[39m \u001b[43mdiff\u001b[49m\u001b[38;5;241;43m.\u001b[39;49m\u001b[43mis_constant\u001b[49m\u001b[43m(\u001b[49m\u001b[43msimplify\u001b[49m\u001b[38;5;241;43m=\u001b[39;49m\u001b[38;5;28;43;01mFalse\u001b[39;49;00m\u001b[43m,\u001b[49m\u001b[43m \u001b[49m\u001b[43mfailing_number\u001b[49m\u001b[38;5;241;43m=\u001b[39;49m\u001b[38;5;28;43;01mTrue\u001b[39;49;00m\u001b[43m)\u001b[49m\n\u001b[1;32m    759\u001b[0m \u001b[38;5;28;01mif\u001b[39;00m constant \u001b[38;5;129;01mis\u001b[39;00m \u001b[38;5;28;01mFalse\u001b[39;00m:\n\u001b[1;32m    760\u001b[0m     \u001b[38;5;28;01mreturn\u001b[39;00m \u001b[38;5;28;01mFalse\u001b[39;00m\n",
      "File \u001b[0;32m/opt/homebrew/lib/python3.11/site-packages/sympy/core/expr.py:661\u001b[0m, in \u001b[0;36mExpr.is_constant\u001b[0;34m(self, *wrt, **flags)\u001b[0m\n\u001b[1;32m    658\u001b[0m \u001b[38;5;28;01mif\u001b[39;00m wrt_number \u001b[38;5;241m==\u001b[39m free:\n\u001b[1;32m    659\u001b[0m     \u001b[38;5;66;03m# try 0 (for a) and 1 (for b)\u001b[39;00m\n\u001b[1;32m    660\u001b[0m     \u001b[38;5;28;01mtry\u001b[39;00m:\n\u001b[0;32m--> 661\u001b[0m         a \u001b[38;5;241m=\u001b[39m \u001b[43mexpr\u001b[49m\u001b[38;5;241;43m.\u001b[39;49m\u001b[43msubs\u001b[49m\u001b[43m(\u001b[49m\u001b[38;5;28;43mlist\u001b[39;49m\u001b[43m(\u001b[49m\u001b[38;5;28;43mzip\u001b[39;49m\u001b[43m(\u001b[49m\u001b[43mfree\u001b[49m\u001b[43m,\u001b[49m\u001b[43m \u001b[49m\u001b[43m[\u001b[49m\u001b[38;5;241;43m0\u001b[39;49m\u001b[43m]\u001b[49m\u001b[38;5;241;43m*\u001b[39;49m\u001b[38;5;28;43mlen\u001b[39;49m\u001b[43m(\u001b[49m\u001b[43mfree\u001b[49m\u001b[43m)\u001b[49m\u001b[43m)\u001b[49m\u001b[43m)\u001b[49m\u001b[43m,\u001b[49m\n\u001b[1;32m    662\u001b[0m \u001b[43m            \u001b[49m\u001b[43msimultaneous\u001b[49m\u001b[38;5;241;43m=\u001b[39;49m\u001b[38;5;28;43;01mTrue\u001b[39;49;00m\u001b[43m)\u001b[49m\n\u001b[1;32m    663\u001b[0m         \u001b[38;5;28;01mif\u001b[39;00m a \u001b[38;5;129;01mis\u001b[39;00m S\u001b[38;5;241m.\u001b[39mNaN:\n\u001b[1;32m    664\u001b[0m             \u001b[38;5;66;03m# evaluation may succeed when substitution fails\u001b[39;00m\n\u001b[1;32m    665\u001b[0m             a \u001b[38;5;241m=\u001b[39m expr\u001b[38;5;241m.\u001b[39m_random(\u001b[38;5;28;01mNone\u001b[39;00m, \u001b[38;5;241m0\u001b[39m, \u001b[38;5;241m0\u001b[39m, \u001b[38;5;241m0\u001b[39m, \u001b[38;5;241m0\u001b[39m)\n",
      "File \u001b[0;32m/opt/homebrew/lib/python3.11/site-packages/sympy/core/basic.py:1036\u001b[0m, in \u001b[0;36mBasic.subs\u001b[0;34m(self, *args, **kwargs)\u001b[0m\n\u001b[1;32m   1034\u001b[0m         reps[d] \u001b[38;5;241m=\u001b[39m new\n\u001b[1;32m   1035\u001b[0m     reps[m] \u001b[38;5;241m=\u001b[39m S\u001b[38;5;241m.\u001b[39mOne  \u001b[38;5;66;03m# get rid of m\u001b[39;00m\n\u001b[0;32m-> 1036\u001b[0m     \u001b[38;5;28;01mreturn\u001b[39;00m \u001b[43mrv\u001b[49m\u001b[38;5;241;43m.\u001b[39;49m\u001b[43mxreplace\u001b[49m\u001b[43m(\u001b[49m\u001b[43mreps\u001b[49m\u001b[43m)\u001b[49m\n\u001b[1;32m   1037\u001b[0m \u001b[38;5;28;01melse\u001b[39;00m:\n\u001b[1;32m   1038\u001b[0m     rv \u001b[38;5;241m=\u001b[39m \u001b[38;5;28mself\u001b[39m\n",
      "File \u001b[0;32m/opt/homebrew/lib/python3.11/site-packages/sympy/core/basic.py:1230\u001b[0m, in \u001b[0;36mBasic.xreplace\u001b[0;34m(self, rule)\u001b[0m\n\u001b[1;32m   1168\u001b[0m \u001b[38;5;28;01mdef\u001b[39;00m \u001b[38;5;21mxreplace\u001b[39m(\u001b[38;5;28mself\u001b[39m, rule):\n\u001b[1;32m   1169\u001b[0m \u001b[38;5;250m    \u001b[39m\u001b[38;5;124;03m\"\"\"\u001b[39;00m\n\u001b[1;32m   1170\u001b[0m \u001b[38;5;124;03m    Replace occurrences of objects within the expression.\u001b[39;00m\n\u001b[1;32m   1171\u001b[0m \n\u001b[0;32m   (...)\u001b[0m\n\u001b[1;32m   1228\u001b[0m \n\u001b[1;32m   1229\u001b[0m \u001b[38;5;124;03m    \"\"\"\u001b[39;00m\n\u001b[0;32m-> 1230\u001b[0m     value, _ \u001b[38;5;241m=\u001b[39m \u001b[38;5;28;43mself\u001b[39;49m\u001b[38;5;241;43m.\u001b[39;49m\u001b[43m_xreplace\u001b[49m\u001b[43m(\u001b[49m\u001b[43mrule\u001b[49m\u001b[43m)\u001b[49m\n\u001b[1;32m   1231\u001b[0m     \u001b[38;5;28;01mreturn\u001b[39;00m value\n",
      "File \u001b[0;32m/opt/homebrew/lib/python3.11/site-packages/sympy/core/basic.py:1245\u001b[0m, in \u001b[0;36mBasic._xreplace\u001b[0;34m(self, rule)\u001b[0m\n\u001b[1;32m   1243\u001b[0m _xreplace \u001b[38;5;241m=\u001b[39m \u001b[38;5;28mgetattr\u001b[39m(a, \u001b[38;5;124m'\u001b[39m\u001b[38;5;124m_xreplace\u001b[39m\u001b[38;5;124m'\u001b[39m, \u001b[38;5;28;01mNone\u001b[39;00m)\n\u001b[1;32m   1244\u001b[0m \u001b[38;5;28;01mif\u001b[39;00m _xreplace \u001b[38;5;129;01mis\u001b[39;00m \u001b[38;5;129;01mnot\u001b[39;00m \u001b[38;5;28;01mNone\u001b[39;00m:\n\u001b[0;32m-> 1245\u001b[0m     a_xr \u001b[38;5;241m=\u001b[39m \u001b[43m_xreplace\u001b[49m\u001b[43m(\u001b[49m\u001b[43mrule\u001b[49m\u001b[43m)\u001b[49m\n\u001b[1;32m   1246\u001b[0m     args\u001b[38;5;241m.\u001b[39mappend(a_xr[\u001b[38;5;241m0\u001b[39m])\n\u001b[1;32m   1247\u001b[0m     changed \u001b[38;5;241m|\u001b[39m\u001b[38;5;241m=\u001b[39m a_xr[\u001b[38;5;241m1\u001b[39m]\n",
      "File \u001b[0;32m/opt/homebrew/lib/python3.11/site-packages/sympy/core/basic.py:1245\u001b[0m, in \u001b[0;36mBasic._xreplace\u001b[0;34m(self, rule)\u001b[0m\n\u001b[1;32m   1243\u001b[0m _xreplace \u001b[38;5;241m=\u001b[39m \u001b[38;5;28mgetattr\u001b[39m(a, \u001b[38;5;124m'\u001b[39m\u001b[38;5;124m_xreplace\u001b[39m\u001b[38;5;124m'\u001b[39m, \u001b[38;5;28;01mNone\u001b[39;00m)\n\u001b[1;32m   1244\u001b[0m \u001b[38;5;28;01mif\u001b[39;00m _xreplace \u001b[38;5;129;01mis\u001b[39;00m \u001b[38;5;129;01mnot\u001b[39;00m \u001b[38;5;28;01mNone\u001b[39;00m:\n\u001b[0;32m-> 1245\u001b[0m     a_xr \u001b[38;5;241m=\u001b[39m \u001b[43m_xreplace\u001b[49m\u001b[43m(\u001b[49m\u001b[43mrule\u001b[49m\u001b[43m)\u001b[49m\n\u001b[1;32m   1246\u001b[0m     args\u001b[38;5;241m.\u001b[39mappend(a_xr[\u001b[38;5;241m0\u001b[39m])\n\u001b[1;32m   1247\u001b[0m     changed \u001b[38;5;241m|\u001b[39m\u001b[38;5;241m=\u001b[39m a_xr[\u001b[38;5;241m1\u001b[39m]\n",
      "File \u001b[0;32m/opt/homebrew/lib/python3.11/site-packages/sympy/core/basic.py:1252\u001b[0m, in \u001b[0;36mBasic._xreplace\u001b[0;34m(self, rule)\u001b[0m\n\u001b[1;32m   1250\u001b[0m     args \u001b[38;5;241m=\u001b[39m \u001b[38;5;28mtuple\u001b[39m(args)\n\u001b[1;32m   1251\u001b[0m     \u001b[38;5;28;01mif\u001b[39;00m changed:\n\u001b[0;32m-> 1252\u001b[0m         \u001b[38;5;28;01mreturn\u001b[39;00m \u001b[38;5;28;43mself\u001b[39;49m\u001b[38;5;241;43m.\u001b[39;49m\u001b[43mfunc\u001b[49m\u001b[43m(\u001b[49m\u001b[38;5;241;43m*\u001b[39;49m\u001b[43margs\u001b[49m\u001b[43m)\u001b[49m, \u001b[38;5;28;01mTrue\u001b[39;00m\n\u001b[1;32m   1253\u001b[0m \u001b[38;5;28;01mreturn\u001b[39;00m \u001b[38;5;28mself\u001b[39m, \u001b[38;5;28;01mFalse\u001b[39;00m\n",
      "File \u001b[0;32m/opt/homebrew/lib/python3.11/site-packages/sympy/functions/special/delta_functions.py:485\u001b[0m, in \u001b[0;36mHeaviside.__new__\u001b[0;34m(cls, arg, H0, **options)\u001b[0m\n\u001b[1;32m    483\u001b[0m \u001b[38;5;28;01mif\u001b[39;00m \u001b[38;5;28misinstance\u001b[39m(H0, Heaviside) \u001b[38;5;129;01mand\u001b[39;00m \u001b[38;5;28mlen\u001b[39m(H0\u001b[38;5;241m.\u001b[39margs) \u001b[38;5;241m==\u001b[39m \u001b[38;5;241m1\u001b[39m:\n\u001b[1;32m    484\u001b[0m     H0 \u001b[38;5;241m=\u001b[39m S\u001b[38;5;241m.\u001b[39mHalf\n\u001b[0;32m--> 485\u001b[0m \u001b[38;5;28;01mreturn\u001b[39;00m \u001b[38;5;28;43msuper\u001b[39;49m\u001b[43m(\u001b[49m\u001b[38;5;28;43mcls\u001b[39;49m\u001b[43m,\u001b[49m\u001b[43m \u001b[49m\u001b[38;5;28;43mcls\u001b[39;49m\u001b[43m)\u001b[49m\u001b[38;5;241;43m.\u001b[39;49m\u001b[38;5;21;43m__new__\u001b[39;49m\u001b[43m(\u001b[49m\u001b[38;5;28;43mcls\u001b[39;49m\u001b[43m,\u001b[49m\u001b[43m \u001b[49m\u001b[43marg\u001b[49m\u001b[43m,\u001b[49m\u001b[43m \u001b[49m\u001b[43mH0\u001b[49m\u001b[43m,\u001b[49m\u001b[43m \u001b[49m\u001b[38;5;241;43m*\u001b[39;49m\u001b[38;5;241;43m*\u001b[39;49m\u001b[43moptions\u001b[49m\u001b[43m)\u001b[49m\n",
      "File \u001b[0;32m/opt/homebrew/lib/python3.11/site-packages/sympy/core/cache.py:72\u001b[0m, in \u001b[0;36m__cacheit.<locals>.func_wrapper.<locals>.wrapper\u001b[0;34m(*args, **kwargs)\u001b[0m\n\u001b[1;32m     69\u001b[0m \u001b[38;5;129m@wraps\u001b[39m(func)\n\u001b[1;32m     70\u001b[0m \u001b[38;5;28;01mdef\u001b[39;00m \u001b[38;5;21mwrapper\u001b[39m(\u001b[38;5;241m*\u001b[39margs, \u001b[38;5;241m*\u001b[39m\u001b[38;5;241m*\u001b[39mkwargs):\n\u001b[1;32m     71\u001b[0m     \u001b[38;5;28;01mtry\u001b[39;00m:\n\u001b[0;32m---> 72\u001b[0m         retval \u001b[38;5;241m=\u001b[39m \u001b[43mcfunc\u001b[49m\u001b[43m(\u001b[49m\u001b[38;5;241;43m*\u001b[39;49m\u001b[43margs\u001b[49m\u001b[43m,\u001b[49m\u001b[43m \u001b[49m\u001b[38;5;241;43m*\u001b[39;49m\u001b[38;5;241;43m*\u001b[39;49m\u001b[43mkwargs\u001b[49m\u001b[43m)\u001b[49m\n\u001b[1;32m     73\u001b[0m     \u001b[38;5;28;01mexcept\u001b[39;00m \u001b[38;5;167;01mTypeError\u001b[39;00m \u001b[38;5;28;01mas\u001b[39;00m e:\n\u001b[1;32m     74\u001b[0m         \u001b[38;5;28;01mif\u001b[39;00m \u001b[38;5;129;01mnot\u001b[39;00m e\u001b[38;5;241m.\u001b[39margs \u001b[38;5;129;01mor\u001b[39;00m \u001b[38;5;129;01mnot\u001b[39;00m e\u001b[38;5;241m.\u001b[39margs[\u001b[38;5;241m0\u001b[39m]\u001b[38;5;241m.\u001b[39mstartswith(\u001b[38;5;124m'\u001b[39m\u001b[38;5;124munhashable type:\u001b[39m\u001b[38;5;124m'\u001b[39m):\n",
      "File \u001b[0;32m/opt/homebrew/lib/python3.11/site-packages/sympy/core/function.py:466\u001b[0m, in \u001b[0;36mFunction.__new__\u001b[0;34m(cls, *args, **options)\u001b[0m\n\u001b[1;32m    458\u001b[0m     \u001b[38;5;28;01mraise\u001b[39;00m \u001b[38;5;167;01mTypeError\u001b[39;00m(temp \u001b[38;5;241m%\u001b[39m {\n\u001b[1;32m    459\u001b[0m         \u001b[38;5;124m'\u001b[39m\u001b[38;5;124mname\u001b[39m\u001b[38;5;124m'\u001b[39m: \u001b[38;5;28mcls\u001b[39m,\n\u001b[1;32m    460\u001b[0m         \u001b[38;5;124m'\u001b[39m\u001b[38;5;124mqual\u001b[39m\u001b[38;5;124m'\u001b[39m: \u001b[38;5;124m'\u001b[39m\u001b[38;5;124mexactly\u001b[39m\u001b[38;5;124m'\u001b[39m \u001b[38;5;28;01mif\u001b[39;00m \u001b[38;5;28mlen\u001b[39m(\u001b[38;5;28mcls\u001b[39m\u001b[38;5;241m.\u001b[39mnargs) \u001b[38;5;241m==\u001b[39m \u001b[38;5;241m1\u001b[39m \u001b[38;5;28;01melse\u001b[39;00m \u001b[38;5;124m'\u001b[39m\u001b[38;5;124mat least\u001b[39m\u001b[38;5;124m'\u001b[39m,\n\u001b[1;32m    461\u001b[0m         \u001b[38;5;124m'\u001b[39m\u001b[38;5;124margs\u001b[39m\u001b[38;5;124m'\u001b[39m: \u001b[38;5;28mmin\u001b[39m(\u001b[38;5;28mcls\u001b[39m\u001b[38;5;241m.\u001b[39mnargs),\n\u001b[1;32m    462\u001b[0m         \u001b[38;5;124m'\u001b[39m\u001b[38;5;124mplural\u001b[39m\u001b[38;5;124m'\u001b[39m: \u001b[38;5;124m'\u001b[39m\u001b[38;5;124ms\u001b[39m\u001b[38;5;124m'\u001b[39m\u001b[38;5;241m*\u001b[39m(\u001b[38;5;28mmin\u001b[39m(\u001b[38;5;28mcls\u001b[39m\u001b[38;5;241m.\u001b[39mnargs) \u001b[38;5;241m!=\u001b[39m \u001b[38;5;241m1\u001b[39m),\n\u001b[1;32m    463\u001b[0m         \u001b[38;5;124m'\u001b[39m\u001b[38;5;124mgiven\u001b[39m\u001b[38;5;124m'\u001b[39m: n})\n\u001b[1;32m    465\u001b[0m evaluate \u001b[38;5;241m=\u001b[39m options\u001b[38;5;241m.\u001b[39mget(\u001b[38;5;124m'\u001b[39m\u001b[38;5;124mevaluate\u001b[39m\u001b[38;5;124m'\u001b[39m, global_parameters\u001b[38;5;241m.\u001b[39mevaluate)\n\u001b[0;32m--> 466\u001b[0m result \u001b[38;5;241m=\u001b[39m \u001b[38;5;28;43msuper\u001b[39;49m\u001b[43m(\u001b[49m\u001b[43m)\u001b[49m\u001b[38;5;241;43m.\u001b[39;49m\u001b[38;5;21;43m__new__\u001b[39;49m\u001b[43m(\u001b[49m\u001b[38;5;28;43mcls\u001b[39;49m\u001b[43m,\u001b[49m\u001b[43m \u001b[49m\u001b[38;5;241;43m*\u001b[39;49m\u001b[43margs\u001b[49m\u001b[43m,\u001b[49m\u001b[43m \u001b[49m\u001b[38;5;241;43m*\u001b[39;49m\u001b[38;5;241;43m*\u001b[39;49m\u001b[43moptions\u001b[49m\u001b[43m)\u001b[49m\n\u001b[1;32m    467\u001b[0m \u001b[38;5;28;01mif\u001b[39;00m evaluate \u001b[38;5;129;01mand\u001b[39;00m \u001b[38;5;28misinstance\u001b[39m(result, \u001b[38;5;28mcls\u001b[39m) \u001b[38;5;129;01mand\u001b[39;00m result\u001b[38;5;241m.\u001b[39margs:\n\u001b[1;32m    468\u001b[0m     _should_evalf \u001b[38;5;241m=\u001b[39m [\u001b[38;5;28mcls\u001b[39m\u001b[38;5;241m.\u001b[39m_should_evalf(a) \u001b[38;5;28;01mfor\u001b[39;00m a \u001b[38;5;129;01min\u001b[39;00m result\u001b[38;5;241m.\u001b[39margs]\n",
      "File \u001b[0;32m/opt/homebrew/lib/python3.11/site-packages/sympy/core/cache.py:72\u001b[0m, in \u001b[0;36m__cacheit.<locals>.func_wrapper.<locals>.wrapper\u001b[0;34m(*args, **kwargs)\u001b[0m\n\u001b[1;32m     69\u001b[0m \u001b[38;5;129m@wraps\u001b[39m(func)\n\u001b[1;32m     70\u001b[0m \u001b[38;5;28;01mdef\u001b[39;00m \u001b[38;5;21mwrapper\u001b[39m(\u001b[38;5;241m*\u001b[39margs, \u001b[38;5;241m*\u001b[39m\u001b[38;5;241m*\u001b[39mkwargs):\n\u001b[1;32m     71\u001b[0m     \u001b[38;5;28;01mtry\u001b[39;00m:\n\u001b[0;32m---> 72\u001b[0m         retval \u001b[38;5;241m=\u001b[39m \u001b[43mcfunc\u001b[49m\u001b[43m(\u001b[49m\u001b[38;5;241;43m*\u001b[39;49m\u001b[43margs\u001b[49m\u001b[43m,\u001b[49m\u001b[43m \u001b[49m\u001b[38;5;241;43m*\u001b[39;49m\u001b[38;5;241;43m*\u001b[39;49m\u001b[43mkwargs\u001b[49m\u001b[43m)\u001b[49m\n\u001b[1;32m     73\u001b[0m     \u001b[38;5;28;01mexcept\u001b[39;00m \u001b[38;5;167;01mTypeError\u001b[39;00m \u001b[38;5;28;01mas\u001b[39;00m e:\n\u001b[1;32m     74\u001b[0m         \u001b[38;5;28;01mif\u001b[39;00m \u001b[38;5;129;01mnot\u001b[39;00m e\u001b[38;5;241m.\u001b[39margs \u001b[38;5;129;01mor\u001b[39;00m \u001b[38;5;129;01mnot\u001b[39;00m e\u001b[38;5;241m.\u001b[39margs[\u001b[38;5;241m0\u001b[39m]\u001b[38;5;241m.\u001b[39mstartswith(\u001b[38;5;124m'\u001b[39m\u001b[38;5;124munhashable type:\u001b[39m\u001b[38;5;124m'\u001b[39m):\n",
      "File \u001b[0;32m/opt/homebrew/lib/python3.11/site-packages/sympy/core/function.py:307\u001b[0m, in \u001b[0;36mApplication.__new__\u001b[0;34m(cls, *args, **options)\u001b[0m\n\u001b[1;32m    304\u001b[0m     \u001b[38;5;28;01mraise\u001b[39;00m \u001b[38;5;167;01mValueError\u001b[39;00m(\u001b[38;5;124m\"\u001b[39m\u001b[38;5;124mUnknown options: \u001b[39m\u001b[38;5;132;01m%s\u001b[39;00m\u001b[38;5;124m\"\u001b[39m \u001b[38;5;241m%\u001b[39m options)\n\u001b[1;32m    306\u001b[0m \u001b[38;5;28;01mif\u001b[39;00m evaluate:\n\u001b[0;32m--> 307\u001b[0m     evaluated \u001b[38;5;241m=\u001b[39m \u001b[38;5;28;43mcls\u001b[39;49m\u001b[38;5;241;43m.\u001b[39;49m\u001b[43meval\u001b[49m\u001b[43m(\u001b[49m\u001b[38;5;241;43m*\u001b[39;49m\u001b[43margs\u001b[49m\u001b[43m)\u001b[49m\n\u001b[1;32m    308\u001b[0m     \u001b[38;5;28;01mif\u001b[39;00m evaluated \u001b[38;5;129;01mis\u001b[39;00m \u001b[38;5;129;01mnot\u001b[39;00m \u001b[38;5;28;01mNone\u001b[39;00m:\n\u001b[1;32m    309\u001b[0m         \u001b[38;5;28;01mreturn\u001b[39;00m evaluated\n",
      "File \u001b[0;32m/opt/homebrew/lib/python3.11/site-packages/sympy/functions/special/delta_functions.py:557\u001b[0m, in \u001b[0;36mHeaviside.eval\u001b[0;34m(cls, arg, H0)\u001b[0m\n\u001b[1;32m    555\u001b[0m     \u001b[38;5;28;01mreturn\u001b[39;00m S\u001b[38;5;241m.\u001b[39mNaN\n\u001b[1;32m    556\u001b[0m \u001b[38;5;28;01melif\u001b[39;00m fuzzy_not(im(arg)\u001b[38;5;241m.\u001b[39mis_zero):\n\u001b[0;32m--> 557\u001b[0m     \u001b[38;5;28;01mraise\u001b[39;00m \u001b[38;5;167;01mValueError\u001b[39;00m(\u001b[38;5;124m\"\u001b[39m\u001b[38;5;124mFunction defined only for Real Values. Complex part: \u001b[39m\u001b[38;5;132;01m%s\u001b[39;00m\u001b[38;5;124m  found in \u001b[39m\u001b[38;5;132;01m%s\u001b[39;00m\u001b[38;5;124m .\u001b[39m\u001b[38;5;124m\"\u001b[39m \u001b[38;5;241m%\u001b[39m (\u001b[38;5;28mrepr\u001b[39m(im(arg)), \u001b[38;5;28mrepr\u001b[39m(arg)) )\n",
      "\u001b[0;31mValueError\u001b[0m: Function defined only for Real Values. Complex part: -2*sqrt(2)  found in -2*sqrt(2)*I ."
     ]
    }
   ],
   "source": [
    "einst = EinsteinTensor.from_metric(sch)\n",
    "einst.simplify()\n",
    "einst.tensor()\n",
    "#components explanation EG https://physics.stackexchange.com/questions/366560/stress-energy-tensor-components-spherical-coordinates"
   ]
  },
  {
   "cell_type": "markdown",
   "metadata": {},
   "source": [
    "### If we integrate various terms of the stress energy tensor (which is einst) above, we get the mass of the mass shell we need to support this. \n",
    "\n",
    "First - the zero - zero term. The shellMass comes out to M when R is at the hoizon (IE we don't need a shell, and 2M way out. Seems to me we need to use shellMass - M as the actual shell mass required? EG if R is way out at 1000M the shell by logical argument should be close to M in mass, and when the shell disappears behind the singularity its mass goes to zero, as the Schewarschild solution is a vacuum solution. \n",
    "\n",
    "Also there is pressure to deal with.\n"
   ]
  },
  {
   "cell_type": "code",
   "execution_count": null,
   "metadata": {},
   "outputs": [],
   "source": [
    "shellMass = sympy.integrate(einst[0][0]*(r**2),  (r, -oo, oo))\n",
    "shellMass = sympy.simplify(shellMass)\n",
    "shellMass"
   ]
  },
  {
   "cell_type": "markdown",
   "metadata": {},
   "source": [
    "### Ok Pressure, lets see radial direction\n",
    "\n",
    "#### radial pressure gets bigger as R descreases, at R = 2M pressure is -4M (if I have the units right). At R -> large, total pressure goes to -2M, This is the total pressure to hold the shell in place."
   ]
  },
  {
   "cell_type": "code",
   "execution_count": null,
   "metadata": {},
   "outputs": [],
   "source": [
    "pressureInt = sympy.integrate(einst[1][1]*r**2,  (r, -oo, oo))\n",
    "pressureInt = sympy.simplify(pressureInt)\n",
    "pressureInt"
   ]
  },
  {
   "cell_type": "code",
   "execution_count": null,
   "metadata": {},
   "outputs": [],
   "source": [
    "ri = RicciTensor.from_metric(sch)\n",
    "ri.simplify()\n",
    "ri.tensor()\n",
    "#components explanation EG https://physics.stackexchange.com/questions/366560/stress-energy-tensor-components-spherical-coordinates"
   ]
  },
  {
   "cell_type": "markdown",
   "metadata": {},
   "source": [
    "#Hopefully get a velocity where Ricci is zero \n"
   ]
  },
  {
   "cell_type": "code",
   "execution_count": null,
   "metadata": {},
   "outputs": [],
   "source": [
    "# what is the Weyl tensor?\n",
    "weyl = WeylTensor.from_metric(sch)\n",
    "weyl.tensor() # all components!"
   ]
  },
  {
   "cell_type": "code",
   "execution_count": null,
   "metadata": {},
   "outputs": [],
   "source": [
    "weyl[0,1,0,1]"
   ]
  },
  {
   "cell_type": "code",
   "execution_count": null,
   "metadata": {},
   "outputs": [],
   "source": [
    "weyl[0,2,0,2]"
   ]
  },
  {
   "cell_type": "code",
   "execution_count": null,
   "metadata": {},
   "outputs": [],
   "source": [
    "###Plot something\n",
    "# first make the tensor into a function, printing \n",
    "args, func = weyl.tensor_lambdify()\n",
    "print(args) # these are the argument values \n",
    "\n",
    "#Make x values - which we will sub in for r \n",
    "x = np.arange(1.5, 20.0, 0.04)\n",
    "func(0.5,x,0, 0, 1, 5)[0][1][0][1]\n",
    "\n",
    "# Call the functions\n",
    "y = func(1.0,x,1, 1, 1, 5)[0][1][0][1]\n",
    "z = -func(1.0,x,1, 1, 1, 5)[0][2][0][2] # 0.1 to bring scale in\n",
    "fig=plt.figure()\n",
    "ax=fig.add_axes([0,2,1.0,1.0])\n",
    "ax.plot(x,y)\n",
    "ax.plot(x,z)\n",
    "ax.set_title(\"T_01\")\n",
    "\n",
    "\n"
   ]
  },
  {
   "cell_type": "code",
   "execution_count": null,
   "metadata": {},
   "outputs": [],
   "source": []
  },
  {
   "cell_type": "code",
   "execution_count": null,
   "metadata": {},
   "outputs": [],
   "source": []
  },
  {
   "cell_type": "code",
   "execution_count": null,
   "metadata": {},
   "outputs": [],
   "source": []
  }
 ],
 "metadata": {
  "kernelspec": {
   "display_name": "Python 3",
   "language": "python",
   "name": "python3"
  },
  "language_info": {
   "codemirror_mode": {
    "name": "ipython",
    "version": 3
   },
   "file_extension": ".py",
   "mimetype": "text/x-python",
   "name": "python",
   "nbconvert_exporter": "python",
   "pygments_lexer": "ipython3",
   "version": "3.11.6"
  }
 },
 "nbformat": 4,
 "nbformat_minor": 4
}
