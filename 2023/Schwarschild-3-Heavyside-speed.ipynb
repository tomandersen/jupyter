{
 "cells": [
  {
   "cell_type": "markdown",
   "metadata": {
    "tags": []
   },
   "source": [
    "### Monopole wave 3 - Heavyside - with Speed \n",
    "### Outside of R we have the full normal Schwarshild metric. Inside of R we have a Minkowski metric (or a smaller black hole, but for now we just have vacuum there for simplicity). \n",
    "\n",
    "## R is now a function of t - it has a velocity.\n"
   ]
  },
  {
   "cell_type": "code",
   "execution_count": 1,
   "metadata": {},
   "outputs": [],
   "source": [
    "import sympy\n",
    "import matplotlib.pyplot as plt\n",
    "import numpy as np\n",
    "\n",
    "from sympy import symbols, sin, cos, sinh, oo\n",
    "from sympy import Heaviside, nan\n",
    "from einsteinpy.symbolic import EinsteinTensor, MetricTensor, WeylTensor, RicciTensor\n",
    "\n",
    "sympy.init_printing()"
   ]
  },
  {
   "cell_type": "markdown",
   "metadata": {},
   "source": [
    "### Use plain coordinates. \n",
    "\n"
   ]
  },
  {
   "cell_type": "markdown",
   "metadata": {},
   "source": [
    "![alt-text](img/schwarschild.png \"Schwarschild coords\")\n"
   ]
  },
  {
   "cell_type": "markdown",
   "metadata": {
    "tags": []
   },
   "source": [
    "# Heavyside \n",
    "### Inside R the metric is flat. Evaluating the Einstein Tensor one gets a mass shell delta function at R. Noe that the mass shell mass   \n"
   ]
  },
  {
   "cell_type": "code",
   "execution_count": 45,
   "metadata": {},
   "outputs": [
    {
     "name": "stdout",
     "output_type": "stream",
     "text": [
      "5/sqrt(t)\n"
     ]
    },
    {
     "data": {
      "text/latex": [
       "$\\displaystyle \\left[\\begin{matrix}-1 + \\frac{2 \\theta\\left(r - 10 \\sqrt{t} - 2\\right)}{r} & 0 & 0 & 0\\\\0 & \\frac{1}{1 - \\frac{2 \\theta\\left(r - 10 \\sqrt{t} - 2\\right)}{r}} & 0 & 0\\\\0 & 0 & r^{2} & 0\\\\0 & 0 & 0 & r^{2} \\sin^{2}{\\left(\\theta \\right)}\\end{matrix}\\right]$"
      ],
      "text/plain": [
       "⎡     2⋅θ(r - 10⋅√t - 2)                                        ⎤\n",
       "⎢-1 + ──────────────────            0             0       0     ⎥\n",
       "⎢             r                                                 ⎥\n",
       "⎢                                                               ⎥\n",
       "⎢                                   1                           ⎥\n",
       "⎢           0             ──────────────────────  0       0     ⎥\n",
       "⎢                             2⋅θ(r - 10⋅√t - 2)                ⎥\n",
       "⎢                         1 - ──────────────────                ⎥\n",
       "⎢                                     r                         ⎥\n",
       "⎢                                                               ⎥\n",
       "⎢                                                  2            ⎥\n",
       "⎢           0                       0             r       0     ⎥\n",
       "⎢                                                               ⎥\n",
       "⎢                                                      2    2   ⎥\n",
       "⎣           0                       0             0   r ⋅sin (θ)⎦"
      ]
     },
     "execution_count": 45,
     "metadata": {},
     "output_type": "execute_result"
    }
   ],
   "source": [
    "t, r, theta, phi = sympy.symbols(\"t r theta phi\")\n",
    "G, M, c, a, w, R = sympy.symbols(\"G M c a w, R\")\n",
    "M = 1\n",
    "a = 2*M\n",
    "\n",
    "#R = sympy.sqrt((r/M))*2*M\n",
    "R = 2*M + sympy.sqrt(100*t)\n",
    "print(sympy.diff(R, t))\n",
    "#R = 5*M\n",
    "# using metric values of schwarschild space-time\n",
    "# a is schwarzschild radius\n",
    "list2d = [[0 for i in range(4)] for i in range(4)]\n",
    "list2d[0][0] = -(1 - Heaviside(r - R)*a/r)\n",
    "list2d[0][1] = 0\n",
    "list2d[1][0] = 0\n",
    "list2d[1][1] = 1/(1 - Heaviside(r - R)*a/r) \n",
    "list2d[2][2] = (r)**2\n",
    "list2d[3][3] = (r)**2*(sympy.sin(theta) ** 2)\n",
    "sch = MetricTensor(list2d, [t, r, theta, phi])\n",
    "sch.tensor()\n"
   ]
  },
  {
   "cell_type": "markdown",
   "metadata": {},
   "source": [
    "### Calculating the Einstein Tensor (with both indices covariant)\n",
    "#### The zero, zero density term and pressures have delta functions in them. \n"
   ]
  },
  {
   "cell_type": "code",
   "execution_count": 48,
   "metadata": {
    "scrolled": true
   },
   "outputs": [
    {
     "data": {
      "text/latex": [
       "$\\displaystyle \\left[\\begin{matrix}\\frac{0.5 \\cdot \\left(4.0 r - 8.0 \\theta\\left(r - 10 \\sqrt{t} - 2\\right)\\right) \\delta\\left(- r + 10 \\sqrt{t} + 2\\right)}{r^{3}} & - \\frac{10 \\delta\\left(- r + 10 \\sqrt{t} + 2\\right)}{r \\sqrt{t} \\left(r - 2 \\theta\\left(r - 10 \\sqrt{t} - 2\\right)\\right)} & 0 & 0\\\\- \\frac{10 \\delta\\left(- r + 10 \\sqrt{t} + 2\\right)}{r \\sqrt{t} \\left(r - 2 \\theta\\left(r - 10 \\sqrt{t} - 2\\right)\\right)} & - \\frac{4.0 \\delta\\left(- r + 10 \\sqrt{t} + 2\\right)}{r \\left(2.0 r - 4.0 \\theta\\left(r - 10 \\sqrt{t} - 2\\right)\\right)} & 0 & 0\\\\0 & 0 & \\frac{r \\left(r^{2} t^{\\frac{3}{2}} \\cdot \\left(25.0 r \\delta^{\\left( 1 \\right)}\\left( - r + 10 \\sqrt{t} + 2 \\right) - 100.0 \\left(\\delta\\left(- r + 10 \\sqrt{t} + 2\\right)\\right)^{2} - 50.0 \\delta^{\\left( 1 \\right)}\\left( - r + 10 \\sqrt{t} + 2 \\right) \\theta\\left(r - 10 \\sqrt{t} - 2\\right)\\right) - 2.5 r^{2} t \\left(r - 2 \\theta\\left(r - 10 \\sqrt{t} - 2\\right)\\right) \\delta\\left(- r + 10 \\sqrt{t} + 2\\right) + 1.0 t^{\\frac{5}{2}} \\left(r - 2 \\theta\\left(r - 10 \\sqrt{t} - 2\\right)\\right)^{3} \\delta^{\\left( 1 \\right)}\\left( - r + 10 \\sqrt{t} + 2 \\right)\\right)}{t^{\\frac{5}{2}} \\left(r - 2 \\theta\\left(r - 10 \\sqrt{t} - 2\\right)\\right)^{3}} & 0\\\\0 & 0 & 0 & \\frac{r \\left(r^{2} t^{\\frac{3}{2}} \\cdot \\left(25.0 r \\delta^{\\left( 1 \\right)}\\left( - r + 10 \\sqrt{t} + 2 \\right) - 100.0 \\left(\\delta\\left(- r + 10 \\sqrt{t} + 2\\right)\\right)^{2} - 50.0 \\delta^{\\left( 1 \\right)}\\left( - r + 10 \\sqrt{t} + 2 \\right) \\theta\\left(r - 10 \\sqrt{t} - 2\\right)\\right) - 2.5 r^{2} t \\left(r - 2 \\theta\\left(r - 10 \\sqrt{t} - 2\\right)\\right) \\delta\\left(- r + 10 \\sqrt{t} + 2\\right) + 1.0 t^{\\frac{5}{2}} \\left(r - 2 \\theta\\left(r - 10 \\sqrt{t} - 2\\right)\\right)^{3} \\delta^{\\left( 1 \\right)}\\left( - r + 10 \\sqrt{t} + 2 \\right)\\right) \\sin^{2}{\\left(\\theta \\right)}}{t^{\\frac{5}{2}} \\left(r - 2 \\theta\\left(r - 10 \\sqrt{t} - 2\\right)\\right)^{3}}\\end{matrix}\\right]$"
      ],
      "text/plain": [
       "⎡0.5⋅(4.0⋅r - 8.0⋅θ(r - 10⋅√t - 2))⋅δ(-r + 10⋅√t + 2)       -10⋅δ(-r + 10⋅√t + 2)                                                  \n",
       "⎢────────────────────────────────────────────────────   ─────────────────────────────                                              \n",
       "⎢                          3                            r⋅√t⋅(r - 2⋅θ(r - 10⋅√t - 2))                                              \n",
       "⎢                         r                                                                                                        \n",
       "⎢                                                                                                                                  \n",
       "⎢               -10⋅δ(-r + 10⋅√t + 2)                      -4.0⋅δ(-r + 10⋅√t + 2)                                                  \n",
       "⎢           ─────────────────────────────              ────────────────────────────────                                            \n",
       "⎢           r⋅√t⋅(r - 2⋅θ(r - 10⋅√t - 2))              r⋅(2.0⋅r - 4.0⋅θ(r - 10⋅√t - 2))                                            \n",
       "⎢                                                                                                                                  \n",
       "⎢                                                                                          ⎛ 2  3/2 ⎛        (1)                   \n",
       "⎢                                                                                        r⋅⎝r ⋅t   ⋅⎝25.0⋅r⋅δ    (-r + 10⋅√t + 2) -\n",
       "⎢                         0                                           0                  ──────────────────────────────────────────\n",
       "⎢                                                                                                                                  \n",
       "⎢                                                                                                                                  \n",
       "⎢                                                                                                                                  \n",
       "⎢                                                                                                                                  \n",
       "⎢                                                                                                                                  \n",
       "⎢                         0                                           0                                                            \n",
       "⎢                                                                                                                                  \n",
       "⎣                                                                                                                                  \n",
       "\n",
       "                                                                                                                                   \n",
       "                                                                       0                                                           \n",
       "                                                                                                                                   \n",
       "                                                                                                                                   \n",
       "                                                                                                                                   \n",
       "                                                                                                                                   \n",
       "                                                                       0                                                           \n",
       "                                                                                                                                   \n",
       "                                                                                                                                   \n",
       "                        2         (1)                                  ⎞        2                                                  \n",
       " 100.0⋅δ(-r + 10⋅√t + 2)  - 50.0⋅δ    (-r + 10⋅√t + 2)⋅θ(r - 10⋅√t - 2)⎠ - 2.5⋅r ⋅t⋅(r - 2⋅θ(r - 10⋅√t - 2))⋅δ(-r + 10⋅√t + 2) + 1.\n",
       "───────────────────────────────────────────────────────────────────────────────────────────────────────────────────────────────────\n",
       "                                                          5/2                         3                                            \n",
       "                                                         t   ⋅(r - 2⋅θ(r - 10⋅√t - 2))                                             \n",
       "                                                                                                                                   \n",
       "                                                                                                                                   \n",
       "                                                                                                                                   \n",
       "                                                                       0                                                           \n",
       "                                                                                                                                   \n",
       "                                                                                                                                   \n",
       "\n",
       "                                                                                                                                   \n",
       "                                                                                                                                   \n",
       "                                                                                                                                   \n",
       "                                                                                                                                   \n",
       "                                                                                                                                   \n",
       "                                                                                                                                   \n",
       "                                                                                                                                   \n",
       "                                                                                                                                   \n",
       "                                                                                                                                   \n",
       "   5/2                         3  (1)                 ⎞                                                                            \n",
       "0⋅t   ⋅(r - 2⋅θ(r - 10⋅√t - 2)) ⋅δ    (-r + 10⋅√t + 2)⎠                                                                            \n",
       "───────────────────────────────────────────────────────                                                                            \n",
       "                                                                                                                                   \n",
       "                                                                                                                                   \n",
       "                                                                                                                                   \n",
       "                                                           ⎛ 2  3/2 ⎛        (1)                                           2       \n",
       "                                                         r⋅⎝r ⋅t   ⋅⎝25.0⋅r⋅δ    (-r + 10⋅√t + 2) - 100.0⋅δ(-r + 10⋅√t + 2)  - 50.0\n",
       "                                                         ──────────────────────────────────────────────────────────────────────────\n",
       "                                                                                                                                   \n",
       "                                                                                                                                   \n",
       "\n",
       "                                                                                                                                   \n",
       "                                           0                                                                                       \n",
       "                                                                                                                                   \n",
       "                                                                                                                                   \n",
       "                                                                                                                                   \n",
       "                                                                                                                                   \n",
       "                                           0                                                                                       \n",
       "                                                                                                                                   \n",
       "                                                                                                                                   \n",
       "                                                                                                                                   \n",
       "                                                                                                                                   \n",
       "                                           0                                                                                       \n",
       "                                                                                                                                   \n",
       "                                                                                                                                   \n",
       "                                                                                                                                   \n",
       "  (1)                                  ⎞        2                                                     5/2                         3\n",
       "⋅δ    (-r + 10⋅√t + 2)⋅θ(r - 10⋅√t - 2)⎠ - 2.5⋅r ⋅t⋅(r - 2⋅θ(r - 10⋅√t - 2))⋅δ(-r + 10⋅√t + 2) + 1.0⋅t   ⋅(r - 2⋅θ(r - 10⋅√t - 2)) \n",
       "───────────────────────────────────────────────────────────────────────────────────────────────────────────────────────────────────\n",
       "                              5/2                         3                                                                        \n",
       "                             t   ⋅(r - 2⋅θ(r - 10⋅√t - 2))                                                                         \n",
       "\n",
       "                               ⎤\n",
       "                               ⎥\n",
       "                               ⎥\n",
       "                               ⎥\n",
       "                               ⎥\n",
       "                               ⎥\n",
       "                               ⎥\n",
       "                               ⎥\n",
       "                               ⎥\n",
       "                               ⎥\n",
       "                               ⎥\n",
       "                               ⎥\n",
       "                               ⎥\n",
       "                               ⎥\n",
       "                               ⎥\n",
       "  (1)                 ⎞    2   ⎥\n",
       "⋅δ    (-r + 10⋅√t + 2)⎠⋅sin (θ)⎥\n",
       "───────────────────────────────⎥\n",
       "                               ⎥\n",
       "                               ⎦"
      ]
     },
     "execution_count": 48,
     "metadata": {},
     "output_type": "execute_result"
    }
   ],
   "source": [
    "einst = EinsteinTensor.from_metric(sch)\n",
    "einst.simplify()\n",
    "einst.tensor()\n",
    "#components explanation EG https://physics.stackexchange.com/questions/366560/stress-energy-tensor-components-spherical-coordinates"
   ]
  },
  {
   "cell_type": "markdown",
   "metadata": {},
   "source": [
    "### If we integrate various terms of the stress energy tensor (which is einst) above, we get the mass of the mass shell we need to support this. \n",
    "\n",
    "First - the zero - zero term. The shellMass comes out to M when R is at the hoizon (IE we don't need a shell, and 2M way out. Seems to me we need to use shellMass - M as the actual shell mass required? EG if R is way out at 1000M the shell by logical argument should be close to M in mass, and when the shell disappears behind the singularity its mass goes to zero, as the Schewarschild solution is a vacuum solution. \n",
    "\n",
    "Also there is pressure to deal with.\n"
   ]
  },
  {
   "cell_type": "code",
   "execution_count": 49,
   "metadata": {},
   "outputs": [
    {
     "data": {
      "image/png": "[encoded data removed]",
      "text/latex": [
       "$\\displaystyle \\frac{10 \\sqrt{t} + 1}{5 \\sqrt{t} + 1}$"
      ],
      "text/plain": [
       "10⋅√t + 1\n",
       "─────────\n",
       " 5⋅√t + 1"
      ]
     },
     "execution_count": 49,
     "metadata": {},
     "output_type": "execute_result"
    }
   ],
   "source": [
    "shellMass = sympy.integrate(einst[0][0]*(r**2),  (r, -oo, oo))\n",
    "shellMass = sympy.simplify(shellMass)\n",
    "shellMass"
   ]
  },
  {
   "cell_type": "markdown",
   "metadata": {},
   "source": [
    "### Ok Pressure, lets see radial direction\n",
    "\n",
    "#### radial pressure gets bigger as R descreases, at R = 2M pressure is -4M (if I have the units right). At R -> large, total pressure goes to -2M, This is the total pressure to hold the shell in place."
   ]
  },
  {
   "cell_type": "code",
   "execution_count": 50,
   "metadata": {},
   "outputs": [
    {
     "data": {
      "image/png": "[encoded data removed]",
      "text/latex": [
       "$\\displaystyle \\frac{4 \\left(- 5 \\sqrt{t} - 1\\right)}{10 \\sqrt{t} + 1}$"
      ],
      "text/plain": [
       "4⋅(-5⋅√t - 1)\n",
       "─────────────\n",
       "  10⋅√t + 1  "
      ]
     },
     "execution_count": 50,
     "metadata": {},
     "output_type": "execute_result"
    }
   ],
   "source": [
    "pressureInt = sympy.integrate(einst[1][1]*r**2,  (r, -oo, oo))\n",
    "pressureInt = sympy.simplify(pressureInt)\n",
    "pressureInt"
   ]
  },
  {
   "cell_type": "code",
   "execution_count": 22,
   "metadata": {},
   "outputs": [
    {
     "data": {
      "text/latex": [
       "$\\displaystyle \\left[\\begin{matrix}\\frac{2 \\cdot \\left(13 r^{3} \\delta^{\\left( 1 \\right)}\\left( - r + 5 t + 5 \\right) - 50 r^{2} \\left(\\delta\\left(- r + 5 t + 5\\right)\\right)^{2} - 28 r^{2} \\delta^{\\left( 1 \\right)}\\left( - r + 5 t + 5 \\right) \\theta\\left(r - 5 t - 5\\right) + 6 r \\delta^{\\left( 1 \\right)}\\left( - r + 5 t + 5 \\right) \\left(\\theta\\left(r - 5 t - 5\\right)\\right)^{2} - 4 \\delta^{\\left( 1 \\right)}\\left( - r + 5 t + 5 \\right) \\left(\\theta\\left(r - 5 t - 5\\right)\\right)^{3}\\right)}{r^{2} \\left(r^{2} - 4 r \\theta\\left(r - 5 t - 5\\right) + 4 \\left(\\theta\\left(r - 5 t - 5\\right)\\right)^{2}\\right)} & - \\frac{10 \\delta\\left(- r + 5 t + 5\\right)}{r \\left(r - 2 \\theta\\left(r - 5 t - 5\\right)\\right)} & 0 & 0\\\\- \\frac{10 \\delta\\left(- r + 5 t + 5\\right)}{r \\left(r - 2 \\theta\\left(r - 5 t - 5\\right)\\right)} & \\frac{25 r^{2} \\left(- r \\delta^{\\left( 1 \\right)}\\left( - r + 5 t + 5 \\right) + 4 \\left(\\delta\\left(- r + 5 t + 5\\right)\\right)^{2} + 2 \\delta^{\\left( 1 \\right)}\\left( - r + 5 t + 5 \\right) \\theta\\left(r - 5 t - 5\\right)\\right) - \\left(r - 2 \\theta\\left(r - 5 t - 5\\right)\\right)^{3} \\delta^{\\left( 1 \\right)}\\left( - r + 5 t + 5 \\right)}{\\left(r - 2 \\theta\\left(r - 5 t - 5\\right)\\right)^{4}} & 0 & 0\\\\0 & 0 & 2 \\delta\\left(- r + 5 t + 5\\right) & 0\\\\0 & 0 & 0 & 2 \\sin^{2}{\\left(\\theta \\right)} \\delta\\left(- r + 5 t + 5\\right)\\end{matrix}\\right]$"
      ],
      "text/plain": [
       "⎡  ⎛    3  (1)                      2                2       2  (1)                                      (1)                       \n",
       "⎢2⋅⎝13⋅r ⋅δ    (-r + 5⋅t + 5) - 50⋅r ⋅δ(-r + 5⋅t + 5)  - 28⋅r ⋅δ    (-r + 5⋅t + 5)⋅θ(r - 5⋅t - 5) + 6⋅r⋅δ    (-r + 5⋅t + 5)⋅θ(r - 5\n",
       "⎢──────────────────────────────────────────────────────────────────────────────────────────────────────────────────────────────────\n",
       "⎢                                                                   2 ⎛ 2                                        2⎞                \n",
       "⎢                                                                  r ⋅⎝r  - 4⋅r⋅θ(r - 5⋅t - 5) + 4⋅θ(r - 5⋅t - 5) ⎠                \n",
       "⎢                                                                                                                                  \n",
       "⎢                                                                                                                                  \n",
       "⎢                                                                               -10⋅δ(-r + 5⋅t + 5)                                \n",
       "⎢                                                                             ────────────────────────                             \n",
       "⎢                                                                             r⋅(r - 2⋅θ(r - 5⋅t - 5))                             \n",
       "⎢                                                                                                                                  \n",
       "⎢                                                                                                                                  \n",
       "⎢                                                                                         0                                        \n",
       "⎢                                                                                                                                  \n",
       "⎢                                                                                                                                  \n",
       "⎣                                                                                         0                                        \n",
       "\n",
       "       2      (1)                              3⎞                                                                                  \n",
       "⋅t - 5)  - 4⋅δ    (-r + 5⋅t + 5)⋅θ(r - 5⋅t - 5) ⎠                                                            -10⋅δ(-r + 5⋅t + 5)   \n",
       "─────────────────────────────────────────────────                                                          ────────────────────────\n",
       "                                                                                                           r⋅(r - 2⋅θ(r - 5⋅t - 5))\n",
       "                                                                                                                                   \n",
       "                                                                                                                                   \n",
       "                                                       2 ⎛     (1)                                   2      (1)                    \n",
       "                                                   25⋅r ⋅⎝- r⋅δ    (-r + 5⋅t + 5) + 4⋅δ(-r + 5⋅t + 5)  + 2⋅δ    (-r + 5⋅t + 5)⋅θ(r \n",
       "                                                   ────────────────────────────────────────────────────────────────────────────────\n",
       "                                                                                                                                  4\n",
       "                                                                                                            (r - 2⋅θ(r - 5⋅t - 5)) \n",
       "                                                                                                                                   \n",
       "                                                                                                                       0           \n",
       "                                                                                                                                   \n",
       "                                                                                                                                   \n",
       "                                                                                                                       0           \n",
       "\n",
       "                                                                                                       ⎤\n",
       "                                                                                                       ⎥\n",
       "                                                                   0                      0            ⎥\n",
       "                                                                                                       ⎥\n",
       "                                                                                                       ⎥\n",
       "                                                                                                       ⎥\n",
       "          ⎞                         3  (1)                                                             ⎥\n",
       "- 5⋅t - 5)⎠ - (r - 2⋅θ(r - 5⋅t - 5)) ⋅δ    (-r + 5⋅t + 5)                                              ⎥\n",
       "─────────────────────────────────────────────────────────          0                      0            ⎥\n",
       "                                                                                                       ⎥\n",
       "                                                                                                       ⎥\n",
       "                                                                                                       ⎥\n",
       "                                                           2⋅δ(-r + 5⋅t + 5)              0            ⎥\n",
       "                                                                                                       ⎥\n",
       "                                                                                   2                   ⎥\n",
       "                                                                   0          2⋅sin (θ)⋅δ(-r + 5⋅t + 5)⎦"
      ]
     },
     "execution_count": 22,
     "metadata": {},
     "output_type": "execute_result"
    }
   ],
   "source": [
    "ri = RicciTensor.from_metric(sch)\n",
    "ri.simplify()\n",
    "ri.tensor()\n",
    "#components explanation EG https://physics.stackexchange.com/questions/366560/stress-energy-tensor-components-spherical-coordinates"
   ]
  },
  {
   "cell_type": "markdown",
   "metadata": {},
   "source": [
    "#Hopefully get a velocity where Ricci is zero \n"
   ]
  },
  {
   "cell_type": "code",
   "execution_count": null,
   "metadata": {},
   "outputs": [],
   "source": [
    "# what is the Weyl tensor?\n",
    "weyl = WeylTensor.from_metric(sch)\n",
    "weyl.tensor() # all components!"
   ]
  },
  {
   "cell_type": "code",
   "execution_count": null,
   "metadata": {},
   "outputs": [],
   "source": [
    "weyl[0,1,0,1]"
   ]
  },
  {
   "cell_type": "code",
   "execution_count": null,
   "metadata": {},
   "outputs": [],
   "source": [
    "weyl[0,2,0,2]"
   ]
  },
  {
   "cell_type": "code",
   "execution_count": null,
   "metadata": {},
   "outputs": [],
   "source": [
    "###Plot something\n",
    "# first make the tensor into a function, printing \n",
    "args, func = weyl.tensor_lambdify()\n",
    "print(args) # these are the argument values \n",
    "\n",
    "#Make x values - which we will sub in for r \n",
    "x = np.arange(1.5, 20.0, 0.04)\n",
    "func(0.5,x,0, 0, 1, 5)[0][1][0][1]\n",
    "\n",
    "# Call the functions\n",
    "y = func(1.0,x,1, 1, 1, 5)[0][1][0][1]\n",
    "z = -func(1.0,x,1, 1, 1, 5)[0][2][0][2] # 0.1 to bring scale in\n",
    "fig=plt.figure()\n",
    "ax=fig.add_axes([0,2,1.0,1.0])\n",
    "ax.plot(x,y)\n",
    "ax.plot(x,z)\n",
    "ax.set_title(\"T_01\")\n",
    "\n",
    "\n"
   ]
  },
  {
   "cell_type": "code",
   "execution_count": null,
   "metadata": {},
   "outputs": [],
   "source": []
  },
  {
   "cell_type": "code",
   "execution_count": null,
   "metadata": {},
   "outputs": [],
   "source": []
  },
  {
   "cell_type": "code",
   "execution_count": null,
   "metadata": {},
   "outputs": [],
   "source": []
  }
 ],
 "metadata": {
  "kernelspec": {
   "display_name": "Python 3",
   "language": "python",
   "name": "python3"
  },
  "language_info": {
   "codemirror_mode": {
    "name": "ipython",
    "version": 3
   },
   "file_extension": ".py",
   "mimetype": "text/x-python",
   "name": "python",
   "nbconvert_exporter": "python",
   "pygments_lexer": "ipython3",
   "version": "3.11.6"
  }
 },
 "nbformat": 4,
 "nbformat_minor": 4
}
