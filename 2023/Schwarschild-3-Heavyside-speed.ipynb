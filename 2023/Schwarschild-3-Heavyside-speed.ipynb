{
 "cells": [
  {
   "cell_type": "markdown",
   "metadata": {
    "tags": []
   },
   "source": [
    "### Monopole wave 3 - Heavyside - with Speed \n",
    "### Outside of R we have the full normal Schwarshild metric. Inside of R we have a Minkowski metric (or a smaller black hole, but for now we just have vacuum there for simplicity). \n",
    "\n",
    "## R is now a function of t - it has a velocity.\n"
   ]
  },
  {
   "cell_type": "code",
   "execution_count": 3,
   "metadata": {},
   "outputs": [],
   "source": [
    "import sympy\n",
    "import matplotlib.pyplot as plt\n",
    "import numpy as np\n",
    "\n",
    "from sympy import symbols, sin, cos, sinh, oo\n",
    "from sympy import Heaviside, nan\n",
    "from einsteinpy.symbolic import EinsteinTensor, MetricTensor, WeylTensor, RicciTensor\n",
    "\n",
    "sympy.init_printing()"
   ]
  },
  {
   "cell_type": "markdown",
   "metadata": {},
   "source": [
    "### Use plain coordinates. \n",
    "\n"
   ]
  },
  {
   "cell_type": "markdown",
   "metadata": {},
   "source": [
    "![alt-text](img/schwarschild.png \"Schwarschild coords\")\n"
   ]
  },
  {
   "cell_type": "markdown",
   "metadata": {
    "tags": []
   },
   "source": [
    "# Heavyside \n",
    "### Inside R the metric is flat. Evaluating the Einstein Tensor one gets a mass shell delta function at R. Noe that the mass shell mass   \n"
   ]
  },
  {
   "cell_type": "code",
   "execution_count": null,
   "metadata": {},
   "outputs": [],
   "source": [
    "t, r, theta, phi = sympy.symbols(\"t r theta phi\")\n",
    "G, M, c, a, w, R = sympy.symbols(\"G M c a w, R\")\n",
    "M = 1\n",
    "a = 2*M\n",
    "\n",
    "R = sympy.sqrt((r/M - 2))*M\n",
    "#R = 5*M\n",
    "# using metric values of schwarschild space-time\n",
    "# a is schwarzschild radius\n",
    "list2d = [[0 for i in range(4)] for i in range(4)]\n",
    "list2d[0][0] = -(1 - Heaviside(r - R)*a/r)\n",
    "list2d[0][1] = 0\n",
    "list2d[1][0] = 0\n",
    "list2d[1][1] = 1/(1 - Heaviside(r - R)*a/r) \n",
    "list2d[2][2] = (r)**2\n",
    "list2d[3][3] = (r)**2*(sympy.sin(theta) ** 2)\n",
    "sch = MetricTensor(list2d, [t, r, theta, phi])\n",
    "sch.tensor()\n"
   ]
  },
  {
   "cell_type": "markdown",
   "metadata": {},
   "source": [
    "### Calculating the Einstein Tensor (with both indices covariant)\n",
    "#### The zero, zero density term and pressures have delta functions in them. \n"
   ]
  },
  {
   "cell_type": "code",
   "execution_count": null,
   "metadata": {
    "scrolled": true
   },
   "outputs": [],
   "source": [
    "einst = EinsteinTensor.from_metric(sch)\n",
    "einst.simplify()\n",
    "einst.tensor()\n",
    "#components explanation EG https://physics.stackexchange.com/questions/366560/stress-energy-tensor-components-spherical-coordinates"
   ]
  },
  {
   "cell_type": "markdown",
   "metadata": {},
   "source": [
    "### If we integrate various terms of the stress energy tensor (which is einst) above, we get the mass of the mass shell we need to support this. \n",
    "\n",
    "First - the zero - zero term. The shellMass comes out to M when R is at the hoizon (IE we don't need a shell, and 2M way out. Seems to me we need to use shellMass - M as the actual shell mass required? EG if R is way out at 1000M the shell by logical argument should be close to M in mass, and when the shell disappears behind the singularity its mass goes to zero, as the Schewarschild solution is a vacuum solution. \n",
    "\n",
    "Also there is pressure to deal with.\n"
   ]
  },
  {
   "cell_type": "code",
   "execution_count": null,
   "metadata": {},
   "outputs": [],
   "source": [
    "shellMass = sympy.integrate(einst[0][0]*(r**2),  (r, -oo, oo))\n",
    "shellMass = sympy.simplify(shellMass)\n",
    "shellMass"
   ]
  },
  {
   "cell_type": "markdown",
   "metadata": {},
   "source": [
    "### Ok Pressure, lets see radial direction\n",
    "\n",
    "#### radial pressure gets bigger as R descreases, at R = 2M pressure is -4M (if I have the units right). At R -> large, total pressure goes to -2M, This is the total pressure to hold the shell in place."
   ]
  },
  {
   "cell_type": "code",
   "execution_count": null,
   "metadata": {},
   "outputs": [],
   "source": [
    "pressureInt = sympy.integrate(einst[1][1]*r**2,  (r, -oo, oo))\n",
    "pressureInt = sympy.simplify(pressureInt)\n",
    "pressureInt"
   ]
  },
  {
   "cell_type": "code",
   "execution_count": null,
   "metadata": {},
   "outputs": [],
   "source": [
    "ri = RicciTensor.from_metric(sch)\n",
    "ri.simplify()\n",
    "ri.tensor()\n",
    "#components explanation EG https://physics.stackexchange.com/questions/366560/stress-energy-tensor-components-spherical-coordinates"
   ]
  },
  {
   "cell_type": "markdown",
   "metadata": {},
   "source": [
    "#Hopefully get a velocity where Ricci is zero \n"
   ]
  },
  {
   "cell_type": "code",
   "execution_count": null,
   "metadata": {},
   "outputs": [],
   "source": [
    "# what is the Weyl tensor?\n",
    "weyl = WeylTensor.from_metric(sch)\n",
    "weyl.tensor() # all components!"
   ]
  },
  {
   "cell_type": "code",
   "execution_count": null,
   "metadata": {},
   "outputs": [],
   "source": [
    "weyl[0,1,0,1]"
   ]
  },
  {
   "cell_type": "code",
   "execution_count": null,
   "metadata": {},
   "outputs": [],
   "source": [
    "weyl[0,2,0,2]"
   ]
  },
  {
   "cell_type": "code",
   "execution_count": null,
   "metadata": {},
   "outputs": [],
   "source": [
    "###Plot something\n",
    "# first make the tensor into a function, printing \n",
    "args, func = weyl.tensor_lambdify()\n",
    "print(args) # these are the argument values \n",
    "\n",
    "#Make x values - which we will sub in for r \n",
    "x = np.arange(1.5, 20.0, 0.04)\n",
    "func(0.5,x,0, 0, 1, 5)[0][1][0][1]\n",
    "\n",
    "# Call the functions\n",
    "y = func(1.0,x,1, 1, 1, 5)[0][1][0][1]\n",
    "z = -func(1.0,x,1, 1, 1, 5)[0][2][0][2] # 0.1 to bring scale in\n",
    "fig=plt.figure()\n",
    "ax=fig.add_axes([0,2,1.0,1.0])\n",
    "ax.plot(x,y)\n",
    "ax.plot(x,z)\n",
    "ax.set_title(\"T_01\")\n",
    "\n",
    "\n"
   ]
  },
  {
   "cell_type": "code",
   "execution_count": null,
   "metadata": {},
   "outputs": [],
   "source": []
  },
  {
   "cell_type": "code",
   "execution_count": null,
   "metadata": {},
   "outputs": [],
   "source": []
  },
  {
   "cell_type": "code",
   "execution_count": null,
   "metadata": {},
   "outputs": [],
   "source": []
  }
 ],
 "metadata": {
  "kernelspec": {
   "display_name": "Python 3",
   "language": "python",
   "name": "python3"
  },
  "language_info": {
   "codemirror_mode": {
    "name": "ipython",
    "version": 3
   },
   "file_extension": ".py",
   "mimetype": "text/x-python",
   "name": "python",
   "nbconvert_exporter": "python",
   "pygments_lexer": "ipython3",
   "version": "3.11.6"
  }
 },
 "nbformat": 4,
 "nbformat_minor": 4
}
