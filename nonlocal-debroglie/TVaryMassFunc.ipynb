{
 "cells": [
  {
   "cell_type": "markdown",
   "metadata": {
    "tags": []
   },
   "source": [
    "# Time Varying mass func\n",
    "## The nonlocal breather"
   ]
  },
  {
   "cell_type": "code",
   "execution_count": 6,
   "metadata": {},
   "outputs": [],
   "source": [
    "import sympy\n",
    "import matplotlib.pyplot as plt\n",
    "import numpy as np\n",
    "\n",
    "from sympy import symbols, sin, cos, sinh, ln\n",
    "from einsteinpy.symbolic import EinsteinTensor, MetricTensor, WeylTensor, RicciTensor, RicciScalar\n",
    "\n",
    "sympy.init_printing()\n",
    "\n",
    "from celluloid import Camera\n",
    "from IPython.display import Video\n"
   ]
  },
  {
   "cell_type": "markdown",
   "metadata": {},
   "source": [
    "### Idea is to follow the Nov 1 2021 work where i used energy density to get a guess at a vacuum breather.\n",
    "\n",
    "### Make time tick regular, waves get longer - example cos w (t - ln(r)) or similar, F is the fractional height of the waves\n",
    "\n"
   ]
  },
  {
   "cell_type": "markdown",
   "metadata": {},
   "source": [
    "![alt-text](img/schwarschild.png \"Schwarschild coords\")\n"
   ]
  },
  {
   "cell_type": "code",
   "execution_count": 16,
   "metadata": {},
   "outputs": [
    {
     "name": "stdout",
     "output_type": "stream",
     "text": [
      "M*(-F*w*cos(w*(-r + t)) - F*w*cos(w*(r + t)))\n",
      "M*(F*w*cos(w*(-r + t)) - F*w*cos(w*(r + t)))\n"
     ]
    },
    {
     "data": {
      "text/latex": [
       "$\\displaystyle \\left[\\begin{matrix}\\frac{2 M \\left(- F \\sin{\\left(w \\left(- r + t\\right) \\right)} - F \\sin{\\left(w \\left(r + t\\right) \\right)} + 1\\right)}{r} - 1 & 0 & 0 & 0\\\\0 & \\frac{1}{- \\frac{2 M \\left(- F \\sin{\\left(w \\left(- r + t\\right) \\right)} - F \\sin{\\left(w \\left(r + t\\right) \\right)} + 1\\right)}{r} + 1} & 0 & 0\\\\0 & 0 & r^{2} & 0\\\\0 & 0 & 0 & r^{2} \\sin^{2}{\\left(\\theta \\right)}\\end{matrix}\\right]$"
      ],
      "text/plain": [
       "⎡2⋅M⋅(-F⋅sin(w⋅(-r + t)) - F⋅sin(w⋅(r + t)) + 1)                              \n",
       "⎢─────────────────────────────────────────────── - 1                          \n",
       "⎢                       r                                                     \n",
       "⎢                                                                             \n",
       "⎢                                                                             \n",
       "⎢                         0                           ────────────────────────\n",
       "⎢                                                       2⋅M⋅(-F⋅sin(w⋅(-r + t)\n",
       "⎢                                                     - ──────────────────────\n",
       "⎢                                                                             \n",
       "⎢                                                                             \n",
       "⎢                                                                             \n",
       "⎢                         0                                                   \n",
       "⎢                                                                             \n",
       "⎢                                                                             \n",
       "⎣                         0                                                   \n",
       "\n",
       "                                             ⎤\n",
       "  0                            0       0     ⎥\n",
       "                                             ⎥\n",
       "                                             ⎥\n",
       "  1                                          ⎥\n",
       "─────────────────────────────  0       0     ⎥\n",
       ") - F⋅sin(w⋅(r + t)) + 1)                    ⎥\n",
       "───────────────────────── + 1                ⎥\n",
       " r                                           ⎥\n",
       "                                             ⎥\n",
       "                                2            ⎥\n",
       "  0                            r       0     ⎥\n",
       "                                             ⎥\n",
       "                                    2    2   ⎥\n",
       "  0                            0   r ⋅sin (θ)⎦"
      ]
     },
     "execution_count": 16,
     "metadata": {},
     "output_type": "execute_result"
    }
   ],
   "source": [
    "syms = sympy.symbols(\"t r theta phi\")\n",
    "G, M, F, a, w = sympy.symbols(\"G M F a w\")\n",
    "waveOutLn = F*sin(w*(syms[0] - ln(syms[1]*F)))\n",
    "waveInLn  = F*sin(w*(syms[0] + ln(syms[1]*F)))\n",
    "\n",
    "waveOut = F*sin(w*(syms[0] - syms[1]))\n",
    "waveIn  = F*sin(w*(syms[0] + syms[1]))\n",
    "a = M*(1 - waveOut - waveIn)\n",
    "#v = syms[1]/ln(syms[1]*F)\n",
    "v = syms[1]\n",
    "\n",
    "\n",
    "mT = sympy.diff(a, syms[0])\n",
    "print(mT)\n",
    "mR = sympy.diff(a, syms[1])\n",
    "print(mR)\n",
    "\n",
    "\n",
    "# using metric values of schwarschild space-time\n",
    "# a is schwarzschild radius\n",
    "list2d = [[0 for i in range(4)] for i in range(4)]\n",
    "list2d[0][0] = -(1 - 2*a/syms[1])\n",
    "\n",
    "#list2d[0][0] = -1/(v*v)*1/(1 - 2*a/syms[1])\n",
    "\n",
    "list2d[0][1] = 0\n",
    "list2d[1][0] = 0\n",
    "list2d[1][1] = 1/(1 - 2*a/syms[1]) \n",
    "list2d[2][2] = (syms[1])**2\n",
    "list2d[3][3] = (syms[1])**2*(sympy.sin(syms[2]) ** 2)\n",
    "sch = MetricTensor(list2d, syms)\n",
    "sch.tensor()\n",
    "\n"
   ]
  },
  {
   "cell_type": "code",
   "execution_count": 18,
   "metadata": {},
   "outputs": [
    {
     "name": "stdout",
     "output_type": "stream",
     "text": [
      "(t, r, theta, phi, F, M, w)\n"
     ]
    },
    {
     "data": {
      "text/plain": [
       "Text(0.5, 1.0, 'g_ab')"
      ]
     },
     "execution_count": 18,
     "metadata": {},
     "output_type": "execute_result"
    },
    {
     "data": {
      "image/png": "[encoded data removed]",
      "text/plain": [
       "<Figure size 576x288 with 1 Axes>"
      ]
     },
     "metadata": {
      "needs_background": "light"
     },
     "output_type": "display_data"
    }
   ],
   "source": [
    "###Plot something\n",
    "# first make the tensor into a function, printing \n",
    "args2, func2 = sch.tensor_lambdify()\n",
    "print(args2) # these are the argument values \n",
    "\n",
    "t = 1\n",
    "\n",
    "theta = 1\n",
    "phi = 1\n",
    "F = 0.1\n",
    "M = 1\n",
    "w = 1\n",
    "\n",
    "\n",
    "#Make x values - which we will sub in for r \n",
    "x = np.arange(10.0, 200.0, 0.04)\n",
    "\n",
    "# Call the functions\n",
    "tt = func2(t,x,theta, phi, F, M, w)[0][0]*(-1)\n",
    "\n",
    "tr = func2(t,x,theta, phi, F, M, w)[0][1]\n",
    "\n",
    "rr = func2(t,x,theta, phi, F, M, w)[1][1] \n",
    "\n",
    "hh = func2(t,x,theta, phi, F, M, w)[2][2]/(x*x)\n",
    "\n",
    "pp = func2(t,x,theta, phi, F, M, w)[3][3]/(x*x*sin(theta)*sin(theta))\n",
    "\n",
    "\n",
    "fig2=plt.figure(figsize=(8, 4))\n",
    "ax2=fig2.add_axes([0,2,1.0,1.0])\n",
    "ax2.plot(x,tt, \"red\",label=\"tt\")\n",
    "ax2.plot(x,rr, \"blue\", label=\"rr\")\n",
    "#ax2.plot(x,tr)\n",
    "\n",
    "#ax2.plot(x,hh)\n",
    "\n",
    "#ax2.plot(x,pp)\n",
    "\n",
    "\n",
    "ax2.legend(loc=\"lower right\")\n",
    "\n",
    "\n",
    "\n",
    "ax2.set_title(\"g_ab\")\n",
    "\n",
    "\n"
   ]
  },
  {
   "cell_type": "code",
   "execution_count": 20,
   "metadata": {},
   "outputs": [
    {
     "data": {
      "text/html": [
       "<video src=\"metric_animation.mp4\" controls  >\n",
       "      Your browser does not support the <code>video</code> element.\n",
       "    </video>"
      ],
      "text/plain": [
       "<IPython.core.display.Video object>"
      ]
     },
     "execution_count": 20,
     "metadata": {},
     "output_type": "execute_result"
    }
   ],
   "source": [
    "x = np.arange(20.0, 200.0, 0.05)\n",
    "\n",
    "\n",
    "fig, ax = plt.subplots(figsize=(12, 8))\n",
    "\n",
    "\n",
    "theta = 1\n",
    "phi = 1\n",
    "F = 0.3\n",
    "M = 1\n",
    "w = 1\n",
    "\n",
    "#ax=fig.add_axes([0,2,1.0,1.0])\n",
    "\n",
    "camera=Camera(fig)#Make a camera of the figure\n",
    "\n",
    "for T in np.linspace(0,2*np.pi,250):\n",
    "    #Our animation will have each frame be a different value of k from the list above  \n",
    "    #print(\"T is %f\" + str(T))\n",
    "    tt = func2(T,x,theta, phi, F, M, w)[0][0]*(-1)\n",
    "    rr = func2(T,x,theta, phi, F, M, w)[1][1] \n",
    "\n",
    "    ax.plot(x,tt, \"red\",label=\"tt\")\n",
    "    ax.plot(x,rr, \"blue\",label=\"rr\")\n",
    "\n",
    "#     ax.plot(*parametric_spiral(t_list,k=K),c=colours[int(500*(np.pi-K)/np.pi)])\n",
    "    #For a given value of k, we'll plot our function with that k-value   \n",
    "    camera.snap()\n",
    "\n",
    "animation=camera.animate();#Make the animation\n",
    "plt.close() #Stop the empty plot from displaying\n",
    "animation.save('metric_animation.mp4',fps=250/20) #Save the animation-- notes below\n",
    "Video(\"metric_animation.mp4\") #Show the video you've just saved\n",
    "\n"
   ]
  },
  {
   "cell_type": "markdown",
   "metadata": {},
   "source": [
    "#NOT Zero \n"
   ]
  },
  {
   "cell_type": "code",
   "execution_count": null,
   "metadata": {},
   "outputs": [],
   "source": [
    "einst = EinsteinTensor.from_metric(sch)\n",
    "einst.simplify()\n",
    "einst.tensor()\n",
    "#components explanation EG https://physics.stackexchange.com/questions/366560/stress-energy-tensor-components-spherical-coordinates"
   ]
  },
  {
   "cell_type": "code",
   "execution_count": null,
   "metadata": {},
   "outputs": [],
   "source": [
    "###Plot something\n",
    "# first make the tensor into a function, printing \n",
    "args, func = einst.tensor_lambdify()\n",
    "print(args) # these are the argument values \n",
    "\n",
    "theta = 1\n",
    "phi = 1\n",
    "F = 0.1\n",
    "M = 1\n",
    "w = 10\n",
    "t = 1\n",
    "\n",
    "\n",
    "#Make x values - which we will sub in for r \n",
    "x = np.arange(8.0, 100.0, 0.04)\n",
    "\n",
    "# Call the functions\n",
    "tt = func(t,x,theta, phi, F, M, w)[0][0]\n",
    "\n",
    "tr = func(t,x,theta, phi, F, M, w)[0][1]\n",
    "\n",
    "rr = func(t,x,theta, phi, F, M, w)[1][1] \n",
    "\n",
    "hh = func(t,x,theta, phi, F, M, w)[2][2]/(x*x)\n",
    "\n",
    "pp = func(t,x,theta, phi, F, M, w)[3][3]/(x*x*sin(theta)*sin(theta))\n",
    "\n",
    "\n",
    "fig=plt.figure(figsize=(10, 5))\n",
    "ax=fig.add_axes([0,2,1.0,1.0])\n",
    "\n",
    "#ax.plot(x,hh, \"lightgrey\",label=\"θθ\", linewidth=6.0)\n",
    "#ax.plot(x,pp, \"black\",label=\"φφ\", linewidth=0.5)\n",
    "\n",
    "ax.plot(x,tt, \"-b\", label=\"tt\")\n",
    "ax.plot(x,rr, \"-g\", label=\"rr\")\n",
    "#ax.plot(x,tr, \"-r\", label=\"tr\")\n",
    "\n",
    "ax.legend(loc=\"upper right\")\n",
    "ax.set_title(\"Einstien Tensor, G\")\n"
   ]
  },
  {
   "cell_type": "code",
   "execution_count": null,
   "metadata": {},
   "outputs": [],
   "source": []
  },
  {
   "cell_type": "code",
   "execution_count": null,
   "metadata": {},
   "outputs": [],
   "source": []
  }
 ],
 "metadata": {
  "kernelspec": {
   "display_name": "Python 3 (ipykernel)",
   "language": "python",
   "name": "python3"
  },
  "language_info": {
   "codemirror_mode": {
    "name": "ipython",
    "version": 3
   },
   "file_extension": ".py",
   "mimetype": "text/x-python",
   "name": "python",
   "nbconvert_exporter": "python",
   "pygments_lexer": "ipython3",
   "version": "3.9.7"
  }
 },
 "nbformat": 4,
 "nbformat_minor": 4
}
