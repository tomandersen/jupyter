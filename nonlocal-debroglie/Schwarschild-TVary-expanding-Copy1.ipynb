{
 "cells": [
  {
   "cell_type": "markdown",
   "metadata": {},
   "source": [
    "# Schwarshild coordinates Einstein Tensor calculations using Symbolic module\n",
    "## The nonlocal breather"
   ]
  },
  {
   "cell_type": "code",
   "execution_count": 1,
   "metadata": {},
   "outputs": [
    {
     "name": "stdout",
     "output_type": "stream",
     "text": [
      "0.4.0\n"
     ]
    }
   ],
   "source": [
    "import sympy\n",
    "import matplotlib.pyplot as plt\n",
    "import numpy as np\n",
    "import einsteinpy\n",
    "\n",
    "from sympy import symbols, sin, cos, sinh, ln\n",
    "from einsteinpy.symbolic import EinsteinTensor, MetricTensor, WeylTensor, RicciTensor, RicciScalar\n",
    "\n",
    "sympy.init_printing()\n",
    "print(einsteinpy.__version__)\n",
    "\n"
   ]
  },
  {
   "cell_type": "markdown",
   "metadata": {},
   "source": [
    "### Idea is to follow the Nov 1 2021 work where i used energy density to get a guess at a vacuum breather.\n",
    "\n",
    "### Make time tick regular, waves get longer - example cos w (t - r/y*r/c) or similar, y is the length\n",
    "\n"
   ]
  },
  {
   "cell_type": "markdown",
   "metadata": {},
   "source": [
    "![alt-text](img/schwarschild.png \"Schwarschild coords\")\n"
   ]
  },
  {
   "cell_type": "code",
   "execution_count": 3,
   "metadata": {},
   "outputs": [
    {
     "name": "stdout",
     "output_type": "stream",
     "text": [
      "-F*M*w*cos(w*(-R0*log(r) + t))\n",
      "F*M*R0*w*cos(w*(-R0*log(r) + t))/r\n"
     ]
    },
    {
     "data": {
      "text/latex": [
       "$\\displaystyle \\left[\\begin{matrix}- \\frac{r^{2}}{R_{0}^{2} \\left(- \\frac{2 M \\left(- F \\sin{\\left(w \\left(- R_{0} \\log{\\left(r \\right)} + t\\right) \\right)} + 1\\right)}{r} + 1\\right)} & 0 & 0 & 0\\\\0 & \\frac{1}{- \\frac{2 M \\left(- F \\sin{\\left(w \\left(- R_{0} \\log{\\left(r \\right)} + t\\right) \\right)} + 1\\right)}{r} + 1} & 0 & 0\\\\0 & 0 & r^{2} & 0\\\\0 & 0 & 0 & r^{2} \\sin^{2}{\\left(\\theta \\right)}\\end{matrix}\\right]$"
      ],
      "text/plain": [
       "⎡                        2                                                                                   ⎤\n",
       "⎢                      -r                                                                                    ⎥\n",
       "⎢────────────────────────────────────────────────                      0                       0       0     ⎥\n",
       "⎢  2 ⎛  2⋅M⋅(-F⋅sin(w⋅(-R₀⋅log(r) + t)) + 1)    ⎞                                                            ⎥\n",
       "⎢R₀ ⋅⎜- ──────────────────────────────────── + 1⎟                                                            ⎥\n",
       "⎢    ⎝                   r                      ⎠                                                            ⎥\n",
       "⎢                                                                                                            ⎥\n",
       "⎢                                                                      1                                     ⎥\n",
       "⎢                       0                          ──────────────────────────────────────────  0       0     ⎥\n",
       "⎢                                                    2⋅M⋅(-F⋅sin(w⋅(-R₀⋅log(r) + t)) + 1)                    ⎥\n",
       "⎢                                                  - ──────────────────────────────────── + 1                ⎥\n",
       "⎢                                                                     r                                      ⎥\n",
       "⎢                                                                                                            ⎥\n",
       "⎢                                                                                               2            ⎥\n",
       "⎢                       0                                              0                       r       0     ⎥\n",
       "⎢                                                                                                            ⎥\n",
       "⎢                                                                                                   2    2   ⎥\n",
       "⎣                       0                                              0                       0   r ⋅sin (θ)⎦"
      ]
     },
     "execution_count": 3,
     "metadata": {},
     "output_type": "execute_result"
    }
   ],
   "source": [
    "syms = sympy.symbols(\"t r theta phi\")\n",
    "G, M, F, a, w, v, R0 = sympy.symbols(\"G M F a w v R0\")\n",
    "v = 1\n",
    "a = M*(1 - F*sin(w*(syms[0] - R0*ln(syms[1])/v)))\n",
    "\n",
    "mT = sympy.diff(a, syms[0])\n",
    "print(mT)\n",
    "mR = sympy.diff(a, syms[1])\n",
    "print(mR)\n",
    "\n",
    "\n",
    "# using metric values of schwarschild space-time\n",
    "# a is schwarzschild radius\n",
    "list2d = [[0 for i in range(4)] for i in range(4)]\n",
    "list2d[0][0] = -mT*mT/(v*v*mR*mR)/(1 - 2*a/syms[1])\n",
    "list2d[0][1] = 0\n",
    "list2d[1][0] = 0\n",
    "list2d[1][1] = 1/(1 - 2*a/syms[1]) \n",
    "list2d[2][2] = (syms[1])**2\n",
    "list2d[3][3] = (syms[1])**2*(sympy.sin(syms[2]) ** 2)\n",
    "sch = MetricTensor(list2d, syms)\n",
    "sch.tensor()\n",
    "\n"
   ]
  },
  {
   "cell_type": "markdown",
   "metadata": {},
   "source": [
    "### Calculating the Einstein Tensor (with both indices covariant)"
   ]
  },
  {
   "cell_type": "code",
   "execution_count": 4,
   "metadata": {},
   "outputs": [
    {
     "data": {
      "text/latex": [
       "$\\displaystyle \\left[\\begin{matrix}\\frac{2.0 F M w \\cos{\\left(w \\left(R_{0} \\log{\\left(r \\right)} - t\\right) \\right)}}{R_{0} \\left(- 2.0 F M \\sin{\\left(w \\left(R_{0} \\log{\\left(r \\right)} - t\\right) \\right)} - 2.0 M + 1.0 r\\right)} & \\frac{2 F M w \\cos{\\left(w \\left(R_{0} \\log{\\left(r \\right)} - t\\right) \\right)}}{r \\left(2 F M \\sin{\\left(w \\left(R_{0} \\log{\\left(r \\right)} - t\\right) \\right)} + 2 M - r\\right)} & 0 & 0\\\\\\frac{2 F M w \\cos{\\left(w \\left(R_{0} \\log{\\left(r \\right)} - t\\right) \\right)}}{r \\left(2 F M \\sin{\\left(w \\left(R_{0} \\log{\\left(r \\right)} - t\\right) \\right)} + 2 M - r\\right)} & \\frac{2.0 F M R_{0} w \\cos{\\left(w \\left(R_{0} \\log{\\left(r \\right)} - t\\right) \\right)} - 8.0 F M \\sin{\\left(w \\left(R_{0} \\log{\\left(r \\right)} - t\\right) \\right)} - 8.0 M + 2.0 r}{r^{2} \\left(- 2.0 F M \\sin{\\left(w \\left(R_{0} \\log{\\left(r \\right)} - t\\right) \\right)} - 2.0 M + 1.0 r\\right)} & 0 & 0\\\\0 & 0 & \\frac{4.0 F^{2} M^{2} \\sin^{2}{\\left(w \\left(R_{0} \\log{\\left(r \\right)} - t\\right) \\right)} + 8.0 F M^{2} \\sin{\\left(w \\left(R_{0} \\log{\\left(r \\right)} - t\\right) \\right)} - 2.0 F M R_{0} r w \\cos{\\left(w \\left(R_{0} \\log{\\left(r \\right)} - t\\right) \\right)} - 3.0 F M r \\sin{\\left(w \\left(R_{0} \\log{\\left(r \\right)} - t\\right) \\right)} + 4.0 M^{2} - 3.0 M r + 1.0 r^{2}}{r \\left(- 2.0 F M \\sin{\\left(w \\left(R_{0} \\log{\\left(r \\right)} - t\\right) \\right)} - 2.0 M + 1.0 r\\right)} & 0\\\\0 & 0 & 0 & \\frac{\\left(4.0 F^{2} M^{2} \\sin^{2}{\\left(w \\left(R_{0} \\log{\\left(r \\right)} - t\\right) \\right)} + 8.0 F M^{2} \\sin{\\left(w \\left(R_{0} \\log{\\left(r \\right)} - t\\right) \\right)} - 2.0 F M R_{0} r w \\cos{\\left(w \\left(R_{0} \\log{\\left(r \\right)} - t\\right) \\right)} - 3.0 F M r \\sin{\\left(w \\left(R_{0} \\log{\\left(r \\right)} - t\\right) \\right)} + 4.0 M^{2} - 3.0 M r + 1.0 r^{2}\\right) \\sin^{2}{\\left(\\theta \\right)}}{r \\left(- 2.0 F M \\sin{\\left(w \\left(R_{0} \\log{\\left(r \\right)} - t\\right) \\right)} - 2.0 M + 1.0 r\\right)}\\end{matrix}\\right]$"
      ],
      "text/plain": [
       "⎡          2.0⋅F⋅M⋅w⋅cos(w⋅(R₀⋅log(r) - t))                                       2⋅F⋅M⋅w⋅cos(w⋅(R₀⋅log(r) - t))                      \n",
       "⎢────────────────────────────────────────────────────                       ──────────────────────────────────────────                \n",
       "⎢R₀⋅(-2.0⋅F⋅M⋅sin(w⋅(R₀⋅log(r) - t)) - 2.0⋅M + 1.0⋅r)                       r⋅(2⋅F⋅M⋅sin(w⋅(R₀⋅log(r) - t)) + 2⋅M - r)                \n",
       "⎢                                                                                                                                     \n",
       "⎢           2⋅F⋅M⋅w⋅cos(w⋅(R₀⋅log(r) - t))             2.0⋅F⋅M⋅R₀⋅w⋅cos(w⋅(R₀⋅log(r) - t)) - 8.0⋅F⋅M⋅sin(w⋅(R₀⋅log(r) - t)) - 8.0⋅M + \n",
       "⎢     ──────────────────────────────────────────       ───────────────────────────────────────────────────────────────────────────────\n",
       "⎢     r⋅(2⋅F⋅M⋅sin(w⋅(R₀⋅log(r) - t)) + 2⋅M - r)                        2                                                             \n",
       "⎢                                                                      r ⋅(-2.0⋅F⋅M⋅sin(w⋅(R₀⋅log(r) - t)) - 2.0⋅M + 1.0⋅r)           \n",
       "⎢                                                                                                                                     \n",
       "⎢                                                                                                                                     \n",
       "⎢                                                                                                                                     \n",
       "⎢                         0                                                                     0                                     \n",
       "⎢                                                                                                                                     \n",
       "⎢                                                                                                                                     \n",
       "⎢                                                                                                                                     \n",
       "⎢                                                                                                                                     \n",
       "⎢                         0                                                                     0                                     \n",
       "⎣                                                                                                                                     \n",
       "\n",
       "                                                                                                                                      \n",
       "                                                                                           0                                          \n",
       "                                                                                                                                      \n",
       "                                                                                                                                      \n",
       "2.0⋅r                                                                                                                                 \n",
       "─────                                                                                      0                                          \n",
       "                                                                                                                                      \n",
       "                                                                                                                                      \n",
       "                                                                                                                                      \n",
       "            2  2    2                             2                                                                                   \n",
       "       4.0⋅F ⋅M ⋅sin (w⋅(R₀⋅log(r) - t)) + 8.0⋅F⋅M ⋅sin(w⋅(R₀⋅log(r) - t)) - 2.0⋅F⋅M⋅R₀⋅r⋅w⋅cos(w⋅(R₀⋅log(r) - t)) - 3.0⋅F⋅M⋅r⋅sin(w⋅(\n",
       "       ───────────────────────────────────────────────────────────────────────────────────────────────────────────────────────────────\n",
       "                                                                  r⋅(-2.0⋅F⋅M⋅sin(w⋅(R₀⋅log(r) - t)) - 2.0⋅M + 1.0⋅r)                 \n",
       "                                                                                                                                      \n",
       "                                                                                                                                      \n",
       "                                                                                                                                      \n",
       "                                                                                           0                                          \n",
       "                                                                                                                                      \n",
       "\n",
       "                                                                                                                                      \n",
       "                                                                                                                                      \n",
       "                                                                                                                                      \n",
       "                                                                                                                                      \n",
       "                                                                                                                                      \n",
       "                                                                                                                                      \n",
       "                                                                                                                                      \n",
       "                                                                                                                                      \n",
       "                                                                                                                                      \n",
       "                       2                  2                                                                                           \n",
       "R₀⋅log(r) - t)) + 4.0⋅M  - 3.0⋅M⋅r + 1.0⋅r                                                                                            \n",
       "───────────────────────────────────────────                                                                                           \n",
       "                                                                                                                                      \n",
       "                                                                                                                                      \n",
       "                                             ⎛     2  2    2                             2                                            \n",
       "                                             ⎝4.0⋅F ⋅M ⋅sin (w⋅(R₀⋅log(r) - t)) + 8.0⋅F⋅M ⋅sin(w⋅(R₀⋅log(r) - t)) - 2.0⋅F⋅M⋅R₀⋅r⋅w⋅cos\n",
       "                                             ─────────────────────────────────────────────────────────────────────────────────────────\n",
       "                                                                                                             r⋅(-2.0⋅F⋅M⋅sin(w⋅(R₀⋅log\n",
       "\n",
       "                                                                                           ⎤\n",
       "0                                                                                          ⎥\n",
       "                                                                                           ⎥\n",
       "                                                                                           ⎥\n",
       "                                                                                           ⎥\n",
       "0                                                                                          ⎥\n",
       "                                                                                           ⎥\n",
       "                                                                                           ⎥\n",
       "                                                                                           ⎥\n",
       "                                                                                           ⎥\n",
       "                                                                                           ⎥\n",
       "0                                                                                          ⎥\n",
       "                                                                                           ⎥\n",
       "                                                                                           ⎥\n",
       "                                                              2                  2⎞    2   ⎥\n",
       "(w⋅(R₀⋅log(r) - t)) - 3.0⋅F⋅M⋅r⋅sin(w⋅(R₀⋅log(r) - t)) + 4.0⋅M  - 3.0⋅M⋅r + 1.0⋅r ⎠⋅sin (θ)⎥\n",
       "───────────────────────────────────────────────────────────────────────────────────────────⎥\n",
       "(r) - t)) - 2.0⋅M + 1.0⋅r)                                                                 ⎦"
      ]
     },
     "execution_count": 4,
     "metadata": {},
     "output_type": "execute_result"
    }
   ],
   "source": [
    "einst = EinsteinTensor.from_metric(sch)\n",
    "einst.simplify()\n",
    "einst.tensor()\n",
    "#components explanation EG https://physics.stackexchange.com/questions/366560/stress-energy-tensor-components-spherical-coordinates"
   ]
  },
  {
   "cell_type": "code",
   "execution_count": 5,
   "metadata": {
    "tags": []
   },
   "outputs": [
    {
     "data": {
      "text/latex": [
       "$\\displaystyle \\left[\\begin{matrix}\\frac{M r \\left(- 2 F R_{0} w \\cos{\\left(w \\left(R_{0} \\log{\\left(r \\right)} - t\\right) \\right)} + F \\sin{\\left(w \\left(R_{0} \\log{\\left(r \\right)} - t\\right) \\right)} + 1\\right) - 2 \\left(2 F M \\sin{\\left(w \\left(R_{0} \\log{\\left(r \\right)} - t\\right) \\right)} + 2 M - r\\right) \\left(F M R_{0} w \\cos{\\left(w \\left(R_{0} \\log{\\left(r \\right)} - t\\right) \\right)} - 3 F M \\sin{\\left(w \\left(R_{0} \\log{\\left(r \\right)} - t\\right) \\right)} - 3 M + r\\right)}{R_{0}^{2} \\left(- 2 F M \\sin{\\left(w \\left(R_{0} \\log{\\left(r \\right)} - t\\right) \\right)} - 2 M + r\\right)^{2}} & \\frac{2 F M w \\cos{\\left(w \\left(R_{0} \\log{\\left(r \\right)} - t\\right) \\right)}}{r \\left(2 F M \\sin{\\left(w \\left(R_{0} \\log{\\left(r \\right)} - t\\right) \\right)} + 2 M - r\\right)} & 0 & 0\\\\\\frac{2 F M w \\cos{\\left(w \\left(R_{0} \\log{\\left(r \\right)} - t\\right) \\right)}}{r \\left(2 F M \\sin{\\left(w \\left(R_{0} \\log{\\left(r \\right)} - t\\right) \\right)} + 2 M - r\\right)} & - \\frac{M \\left(r \\left(- 2 F R_{0} w \\cos{\\left(w \\left(R_{0} \\log{\\left(r \\right)} - t\\right) \\right)} + F \\sin{\\left(w \\left(R_{0} \\log{\\left(r \\right)} - t\\right) \\right)} + 1\\right) - 2 \\left(2 F M \\sin{\\left(w \\left(R_{0} \\log{\\left(r \\right)} - t\\right) \\right)} + 2 M - r\\right) \\left(- F R_{0} w \\cos{\\left(w \\left(R_{0} \\log{\\left(r \\right)} - t\\right) \\right)} + F \\sin{\\left(w \\left(R_{0} \\log{\\left(r \\right)} - t\\right) \\right)} + 1\\right)\\right)}{r^{2} \\left(2 F M \\sin{\\left(w \\left(R_{0} \\log{\\left(r \\right)} - t\\right) \\right)} + 2 M - r\\right)^{2}} & 0 & 0\\\\0 & 0 & \\frac{4 F M \\sin{\\left(w \\left(R_{0} \\log{\\left(r \\right)} - t\\right) \\right)} + 4 M - r}{r} & 0\\\\0 & 0 & 0 & \\frac{\\left(4 F M \\sin{\\left(w \\left(R_{0} \\log{\\left(r \\right)} - t\\right) \\right)} + 4 M - r\\right) \\sin^{2}{\\left(\\theta \\right)}}{r}\\end{matrix}\\right]$"
      ],
      "text/plain": [
       "⎡M⋅r⋅(-2⋅F⋅R₀⋅w⋅cos(w⋅(R₀⋅log(r) - t)) + F⋅sin(w⋅(R₀⋅log(r) - t)) + 1) - 2⋅(2⋅F⋅M⋅sin(w⋅(R₀⋅log(r) - t)) + 2⋅M - r)⋅(F⋅M⋅R₀⋅w⋅cos(w⋅(R\n",
       "⎢─────────────────────────────────────────────────────────────────────────────────────────────────────────────────────────────────────\n",
       "⎢                                                                          2                                          2               \n",
       "⎢                                                                        R₀ ⋅(-2⋅F⋅M⋅sin(w⋅(R₀⋅log(r) - t)) - 2⋅M + r)                \n",
       "⎢                                                                                                                                     \n",
       "⎢                                                                               2⋅F⋅M⋅w⋅cos(w⋅(R₀⋅log(r) - t))                        \n",
       "⎢                                                                         ──────────────────────────────────────────                  \n",
       "⎢                                                                         r⋅(2⋅F⋅M⋅sin(w⋅(R₀⋅log(r) - t)) + 2⋅M - r)                  \n",
       "⎢                                                                                                                                     \n",
       "⎢                                                                                                                                     \n",
       "⎢                                                                                                                                     \n",
       "⎢                                                                                              0                                      \n",
       "⎢                                                                                                                                     \n",
       "⎢                                                                                                                                     \n",
       "⎢                                                                                                                                     \n",
       "⎢                                                                                                                                     \n",
       "⎢                                                                                              0                                      \n",
       "⎣                                                                                                                                     \n",
       "\n",
       "₀⋅log(r) - t)) - 3⋅F⋅M⋅sin(w⋅(R₀⋅log(r) - t)) - 3⋅M + r)                                                                              \n",
       "────────────────────────────────────────────────────────                                                                        ──────\n",
       "                                                                                                                                r⋅(2⋅F\n",
       "                                                                                                                                      \n",
       "                                                                                                                                      \n",
       "                                                          -M⋅(r⋅(-2⋅F⋅R₀⋅w⋅cos(w⋅(R₀⋅log(r) - t)) + F⋅sin(w⋅(R₀⋅log(r) - t)) + 1) - 2⋅\n",
       "                                                          ────────────────────────────────────────────────────────────────────────────\n",
       "                                                                                                                                2     \n",
       "                                                                                                                               r ⋅(2⋅F\n",
       "                                                                                                                                      \n",
       "                                                                                                                                      \n",
       "                                                                                                                                      \n",
       "                                                                                                                                      \n",
       "                                                                                                                                      \n",
       "                                                                                                                                      \n",
       "                                                                                                                                      \n",
       "                                                                                                                                      \n",
       "                                                                                                                                      \n",
       "\n",
       "2⋅F⋅M⋅w⋅cos(w⋅(R₀⋅log(r) - t))                                                                                                        \n",
       "────────────────────────────────────                                                                                          0       \n",
       "⋅M⋅sin(w⋅(R₀⋅log(r) - t)) + 2⋅M - r)                                                                                                  \n",
       "                                                                                                                                      \n",
       "                                                                                                                                      \n",
       "(2⋅F⋅M⋅sin(w⋅(R₀⋅log(r) - t)) + 2⋅M - r)⋅(-F⋅R₀⋅w⋅cos(w⋅(R₀⋅log(r) - t)) + F⋅sin(w⋅(R₀⋅log(r) - t)) + 1))                             \n",
       "──────────────────────────────────────────────────────────────────────────────────────────────────────────                    0       \n",
       "                                    2                                                                                                 \n",
       "⋅M⋅sin(w⋅(R₀⋅log(r) - t)) + 2⋅M - r)                                                                                                  \n",
       "                                                                                                                                      \n",
       "                                                                                                            4⋅F⋅M⋅sin(w⋅(R₀⋅log(r) - t\n",
       "              0                                                                                             ──────────────────────────\n",
       "                                                                                                                              r       \n",
       "                                                                                                                                      \n",
       "                                                                                                                                      \n",
       "                                                                                                                                      \n",
       "              0                                                                                                               0       \n",
       "                                                                                                                                      \n",
       "\n",
       "                                                              ⎤\n",
       "                                     0                        ⎥\n",
       "                                                              ⎥\n",
       "                                                              ⎥\n",
       "                                                              ⎥\n",
       "                                                              ⎥\n",
       "                                     0                        ⎥\n",
       "                                                              ⎥\n",
       "                                                              ⎥\n",
       "                                                              ⎥\n",
       ")) + 4⋅M - r                                                  ⎥\n",
       "────────────                         0                        ⎥\n",
       "                                                              ⎥\n",
       "                                                              ⎥\n",
       "                                                          2   ⎥\n",
       "              (4⋅F⋅M⋅sin(w⋅(R₀⋅log(r) - t)) + 4⋅M - r)⋅sin (θ)⎥\n",
       "              ────────────────────────────────────────────────⎥\n",
       "                                     r                        ⎦"
      ]
     },
     "execution_count": 5,
     "metadata": {},
     "output_type": "execute_result"
    }
   ],
   "source": [
    "ri = RicciTensor.from_metric(sch)\n",
    "ri.simplify()\n",
    "ri.tensor()\n",
    "#components explanation EG https://physics.stackexchange.com/questions/366560/stress-energy-tensor-components-spherical-coordinates"
   ]
  },
  {
   "cell_type": "code",
   "execution_count": 6,
   "metadata": {},
   "outputs": [
    {
     "name": "stdout",
     "output_type": "stream",
     "text": [
      "(t, r, theta, phi, F, M, R0, w)\n"
     ]
    },
    {
     "data": {
      "text/plain": [
       "Text(0.5, 1.0, 'Einstien Tensor, G')"
      ]
     },
     "execution_count": 6,
     "metadata": {},
     "output_type": "execute_result"
    },
    {
     "data": {
      "image/png": "[encoded data removed]",
      "text/plain": [
       "<Figure size 720x360 with 1 Axes>"
      ]
     },
     "metadata": {
      "needs_background": "light"
     },
     "output_type": "display_data"
    }
   ],
   "source": [
    "###Plot something\n",
    "# first make the tensor into a function, printing \n",
    "args, func = einst.tensor_lambdify()\n",
    "print(args) # these are the argument values \n",
    "\n",
    "v = 200.05\n",
    "\n",
    "theta = 1\n",
    "R0 = 20.0\n",
    "F = 0.1\n",
    "\n",
    "\n",
    "#Make x values - which we will sub in for r \n",
    "x = np.arange(8.0, 100.0, 0.04)\n",
    "\n",
    "# Call the functions\n",
    "tt = func(1.0,x,theta, 1, F, 1, R0, 1)[0][0]\n",
    "\n",
    "tr = func(1.0,x,theta, 1, F, 1, R0, 1)[0][1]\n",
    "\n",
    "rr = func(1.0,x,theta, 1, F, 1, R0, 1)[1][1] \n",
    "\n",
    "hh = func(1.0,x,theta, 1, F, 1, R0, 1)[2][2]/(x*x)\n",
    "\n",
    "pp = func(1.0,x,theta, 1, F, 1, R0, 1)[3][3]/(x*x*sin(theta)*sin(theta))\n",
    "\n",
    "\n",
    "fig=plt.figure(figsize=(10, 5))\n",
    "ax=fig.add_axes([0,2,1.0,1.0])\n",
    "\n",
    "ax.plot(x,hh, \"lightgrey\",label=\"00\", linewidth=6.0)\n",
    "ax.plot(x,pp, \"black\",label=\"PP\", linewidth=0.5)\n",
    "\n",
    "ax.plot(x,tt, \"-b\", label=\"tt\")\n",
    "ax.plot(x,rr, \"-g\", label=\"rr\")\n",
    "ax.plot(x,tr, \"-r\", label=\"tr\")\n",
    "\n",
    "ax.legend(loc=\"upper right\")\n",
    "ax.set_title(\"Einstien Tensor, G\")\n"
   ]
  },
  {
   "cell_type": "markdown",
   "metadata": {},
   "source": [
    "#NOT Zero \n"
   ]
  },
  {
   "cell_type": "code",
   "execution_count": 7,
   "metadata": {},
   "outputs": [
    {
     "name": "stderr",
     "output_type": "stream",
     "text": [
      "/opt/homebrew/Caskroom/miniforge/base/lib/python3.9/site-packages/IPython/lib/latextools.py:126: MatplotlibDeprecationWarning: \n",
      "The to_png function was deprecated in Matplotlib 3.4 and will be removed two minor releases later. Use mathtext.math_to_image instead.\n",
      "  mt.to_png(f, s, fontsize=12, dpi=dpi, color=color)\n",
      "/opt/homebrew/Caskroom/miniforge/base/lib/python3.9/site-packages/IPython/lib/latextools.py:126: MatplotlibDeprecationWarning: \n",
      "The to_rgba function was deprecated in Matplotlib 3.4 and will be removed two minor releases later. Use mathtext.math_to_image instead.\n",
      "  mt.to_png(f, s, fontsize=12, dpi=dpi, color=color)\n",
      "/opt/homebrew/Caskroom/miniforge/base/lib/python3.9/site-packages/IPython/lib/latextools.py:126: MatplotlibDeprecationWarning: \n",
      "The to_mask function was deprecated in Matplotlib 3.4 and will be removed two minor releases later. Use mathtext.math_to_image instead.\n",
      "  mt.to_png(f, s, fontsize=12, dpi=dpi, color=color)\n",
      "/opt/homebrew/Caskroom/miniforge/base/lib/python3.9/site-packages/IPython/lib/latextools.py:126: MatplotlibDeprecationWarning: \n",
      "The MathtextBackendBitmap class was deprecated in Matplotlib 3.4 and will be removed two minor releases later. Use mathtext.math_to_image instead.\n",
      "  mt.to_png(f, s, fontsize=12, dpi=dpi, color=color)\n"
     ]
    },
    {
     "data": {
      "image/png": "[encoded data removed]",
      "text/latex": [
       "$\\displaystyle \\frac{2 \\left(12 F^{2} M^{2} \\sin^{2}{\\left(w \\left(R_{0} \\log{\\left(r \\right)} - t\\right) \\right)} + 24 F M^{2} \\sin{\\left(w \\left(R_{0} \\log{\\left(r \\right)} - t\\right) \\right)} - 2 F M R_{0} r w \\cos{\\left(w \\left(R_{0} \\log{\\left(r \\right)} - t\\right) \\right)} - 9 F M r \\sin{\\left(w \\left(R_{0} \\log{\\left(r \\right)} - t\\right) \\right)} + 12 M^{2} - 9 M r + 2 r^{2}\\right)}{r^{3} \\left(2 F M \\sin{\\left(w \\left(R_{0} \\log{\\left(r \\right)} - t\\right) \\right)} + 2 M - r\\right)}$"
      ],
      "text/plain": [
       "  ⎛    2  2    2                            2                                                                                         \n",
       "2⋅⎝12⋅F ⋅M ⋅sin (w⋅(R₀⋅log(r) - t)) + 24⋅F⋅M ⋅sin(w⋅(R₀⋅log(r) - t)) - 2⋅F⋅M⋅R₀⋅r⋅w⋅cos(w⋅(R₀⋅log(r) - t)) - 9⋅F⋅M⋅r⋅sin(w⋅(R₀⋅log(r) \n",
       "──────────────────────────────────────────────────────────────────────────────────────────────────────────────────────────────────────\n",
       "                                                             3                                                                        \n",
       "                                                            r ⋅(2⋅F⋅M⋅sin(w⋅(R₀⋅log(r) - t)) + 2⋅M - r)                               \n",
       "\n",
       "            2              2⎞\n",
       "- t)) + 12⋅M  - 9⋅M⋅r + 2⋅r ⎠\n",
       "─────────────────────────────\n",
       "                             \n",
       "                             "
      ]
     },
     "execution_count": 7,
     "metadata": {},
     "output_type": "execute_result"
    }
   ],
   "source": [
    "# Ricci scalar\n",
    "R = RicciScalar.from_riccitensor(ri)\n",
    "R.simplify()\n",
    "R.expr\n"
   ]
  },
  {
   "cell_type": "code",
   "execution_count": 8,
   "metadata": {},
   "outputs": [
    {
     "name": "stdout",
     "output_type": "stream",
     "text": [
      "(t, r, theta, phi, F, M, R0, w)\n"
     ]
    },
    {
     "data": {
      "text/plain": [
       "<matplotlib.legend.Legend at 0x11f8b5310>"
      ]
     },
     "execution_count": 8,
     "metadata": {},
     "output_type": "execute_result"
    },
    {
     "data": {
      "image/png": "[encoded data removed]",
      "text/plain": [
       "<Figure size 576x288 with 1 Axes>"
      ]
     },
     "metadata": {
      "needs_background": "light"
     },
     "output_type": "display_data"
    }
   ],
   "source": [
    "#plot the Ricci scalar\n",
    "\n",
    "args, funcR = R.tensor_lambdify()\n",
    "print(args) # these are the argument values \n",
    "\n",
    "v = 200.05\n",
    "\n",
    "theta = 1\n",
    "R0 = 20.0\n",
    "F = 0.2\n",
    "\n",
    "\n",
    "#Make x values - which we will sub in for r \n",
    "x = np.arange(10.0, 100.0, 0.04)\n",
    "\n",
    "# Call the functions\n",
    "ricci = funcR(2.0,x,theta, 1, F, 1, R0, 1)\n",
    "\n",
    "\n",
    "fig=plt.figure(figsize=(8, 4))\n",
    "ax=fig.add_axes([0,2,1.0,1.0])\n",
    "ax.plot(x,ricci, label=\"Ricci scalar\")\n",
    "\n",
    "\n",
    "ax.set_title(\"Ricci scalar\")\n",
    "\n",
    "ax.legend(loc=\"lower right\")\n",
    "\n",
    "\n",
    "\n"
   ]
  },
  {
   "cell_type": "code",
   "execution_count": 9,
   "metadata": {},
   "outputs": [
    {
     "name": "stderr",
     "output_type": "stream",
     "text": [
      "/opt/homebrew/Caskroom/miniforge/base/lib/python3.9/site-packages/IPython/lib/latextools.py:126: MatplotlibDeprecationWarning: \n",
      "The to_png function was deprecated in Matplotlib 3.4 and will be removed two minor releases later. Use mathtext.math_to_image instead.\n",
      "  mt.to_png(f, s, fontsize=12, dpi=dpi, color=color)\n",
      "/opt/homebrew/Caskroom/miniforge/base/lib/python3.9/site-packages/IPython/lib/latextools.py:126: MatplotlibDeprecationWarning: \n",
      "The to_rgba function was deprecated in Matplotlib 3.4 and will be removed two minor releases later. Use mathtext.math_to_image instead.\n",
      "  mt.to_png(f, s, fontsize=12, dpi=dpi, color=color)\n",
      "/opt/homebrew/Caskroom/miniforge/base/lib/python3.9/site-packages/IPython/lib/latextools.py:126: MatplotlibDeprecationWarning: \n",
      "The to_mask function was deprecated in Matplotlib 3.4 and will be removed two minor releases later. Use mathtext.math_to_image instead.\n",
      "  mt.to_png(f, s, fontsize=12, dpi=dpi, color=color)\n",
      "/opt/homebrew/Caskroom/miniforge/base/lib/python3.9/site-packages/IPython/lib/latextools.py:126: MatplotlibDeprecationWarning: \n",
      "The MathtextBackendBitmap class was deprecated in Matplotlib 3.4 and will be removed two minor releases later. Use mathtext.math_to_image instead.\n",
      "  mt.to_png(f, s, fontsize=12, dpi=dpi, color=color)\n"
     ]
    },
    {
     "data": {
      "text/latex": [
       "$\\displaystyle \\left[\\begin{matrix}\\left[\\begin{matrix}0 & 0 & 0 & 0\\\\0 & 0 & 0 & 0\\\\0 & 0 & 0 & 0\\\\0 & 0 & 0 & 0\\end{matrix}\\right] & \\left[\\begin{matrix}0 & \\frac{r^{2} \\left(- \\frac{2 F M R_{0} w \\cos{\\left(w \\left(R_{0} \\log{\\left(r \\right)} - t\\right) \\right)}}{3} + F M \\sin{\\left(w \\left(R_{0} \\log{\\left(r \\right)} - t\\right) \\right)} + M - \\frac{r}{3}\\right)}{R_{0}^{2} \\left(- 2 F M \\sin{\\left(w \\left(R_{0} \\log{\\left(r \\right)} - t\\right) \\right)} - 2 M + r\\right)^{3}} & 0 & 0\\\\\\frac{r^{2} \\left(\\frac{2 F M R_{0} w \\cos{\\left(w \\left(R_{0} \\log{\\left(r \\right)} - t\\right) \\right)}}{3} - F M \\sin{\\left(w \\left(R_{0} \\log{\\left(r \\right)} - t\\right) \\right)} - M + \\frac{r}{3}\\right)}{R_{0}^{2} \\left(- 2 F M \\sin{\\left(w \\left(R_{0} \\log{\\left(r \\right)} - t\\right) \\right)} - 2 M + r\\right)^{3}} & 0 & 0 & 0\\\\0 & 0 & 0 & 0\\\\0 & 0 & 0 & 0\\end{matrix}\\right] & \\left[\\begin{matrix}0 & 0 & \\frac{r^{3} \\left(2 F M R_{0} w \\cos{\\left(w \\left(R_{0} \\log{\\left(r \\right)} - t\\right) \\right)} - 3 F M \\sin{\\left(w \\left(R_{0} \\log{\\left(r \\right)} - t\\right) \\right)} - 3 M + r\\right)}{6 R_{0}^{2} \\left(- 2 F M \\sin{\\left(w \\left(R_{0} \\log{\\left(r \\right)} - t\\right) \\right)} - 2 M + r\\right)^{2}} & 0\\\\0 & 0 & 0 & 0\\\\\\frac{r^{3} \\left(- 2 F M R_{0} w \\cos{\\left(w \\left(R_{0} \\log{\\left(r \\right)} - t\\right) \\right)} + 3 F M \\sin{\\left(w \\left(R_{0} \\log{\\left(r \\right)} - t\\right) \\right)} + 3 M - r\\right)}{6 R_{0}^{2} \\left(- 2 F M \\sin{\\left(w \\left(R_{0} \\log{\\left(r \\right)} - t\\right) \\right)} - 2 M + r\\right)^{2}} & 0 & 0 & 0\\\\0 & 0 & 0 & 0\\end{matrix}\\right] & \\left[\\begin{matrix}0 & 0 & 0 & \\frac{r^{3} \\left(2 F M R_{0} w \\cos{\\left(w \\left(R_{0} \\log{\\left(r \\right)} - t\\right) \\right)} - 3 F M \\sin{\\left(w \\left(R_{0} \\log{\\left(r \\right)} - t\\right) \\right)} - 3 M + r\\right) \\sin^{2}{\\left(\\theta \\right)}}{6 R_{0}^{2} \\left(- 2 F M \\sin{\\left(w \\left(R_{0} \\log{\\left(r \\right)} - t\\right) \\right)} - 2 M + r\\right)^{2}}\\\\0 & 0 & 0 & 0\\\\0 & 0 & 0 & 0\\\\\\frac{r^{3} \\left(- 2 F M R_{0} w \\cos{\\left(w \\left(R_{0} \\log{\\left(r \\right)} - t\\right) \\right)} + 3 F M \\sin{\\left(w \\left(R_{0} \\log{\\left(r \\right)} - t\\right) \\right)} + 3 M - r\\right) \\sin^{2}{\\left(\\theta \\right)}}{6 R_{0}^{2} \\left(- 2 F M \\sin{\\left(w \\left(R_{0} \\log{\\left(r \\right)} - t\\right) \\right)} - 2 M + r\\right)^{2}} & 0 & 0 & 0\\end{matrix}\\right]\\\\\\left[\\begin{matrix}0 & \\frac{r^{2} \\left(\\frac{2 F M R_{0} w \\cos{\\left(w \\left(R_{0} \\log{\\left(r \\right)} - t\\right) \\right)}}{3} - F M \\sin{\\left(w \\left(R_{0} \\log{\\left(r \\right)} - t\\right) \\right)} - M + \\frac{r}{3}\\right)}{R_{0}^{2} \\left(- 2 F M \\sin{\\left(w \\left(R_{0} \\log{\\left(r \\right)} - t\\right) \\right)} - 2 M + r\\right)^{3}} & 0 & 0\\\\\\frac{r^{2} \\left(- \\frac{2 F M R_{0} w \\cos{\\left(w \\left(R_{0} \\log{\\left(r \\right)} - t\\right) \\right)}}{3} + F M \\sin{\\left(w \\left(R_{0} \\log{\\left(r \\right)} - t\\right) \\right)} + M - \\frac{r}{3}\\right)}{R_{0}^{2} \\left(- 2 F M \\sin{\\left(w \\left(R_{0} \\log{\\left(r \\right)} - t\\right) \\right)} - 2 M + r\\right)^{3}} & 0 & 0 & 0\\\\0 & 0 & 0 & 0\\\\0 & 0 & 0 & 0\\end{matrix}\\right] & \\left[\\begin{matrix}0 & 0 & 0 & 0\\\\0 & 0 & 0 & 0\\\\0 & 0 & 0 & 0\\\\0 & 0 & 0 & 0\\end{matrix}\\right] & \\left[\\begin{matrix}0 & 0 & 0 & 0\\\\0 & 0 & \\frac{r \\left(- 2 F M R_{0} w \\cos{\\left(w \\left(R_{0} \\log{\\left(r \\right)} - t\\right) \\right)} + 3 F M \\sin{\\left(w \\left(R_{0} \\log{\\left(r \\right)} - t\\right) \\right)} + 3 M - r\\right)}{6 \\left(- 2 F M \\sin{\\left(w \\left(R_{0} \\log{\\left(r \\right)} - t\\right) \\right)} - 2 M + r\\right)^{2}} & 0\\\\0 & \\frac{r \\left(2 F M R_{0} w \\cos{\\left(w \\left(R_{0} \\log{\\left(r \\right)} - t\\right) \\right)} - 3 F M \\sin{\\left(w \\left(R_{0} \\log{\\left(r \\right)} - t\\right) \\right)} - 3 M + r\\right)}{6 \\left(- 2 F M \\sin{\\left(w \\left(R_{0} \\log{\\left(r \\right)} - t\\right) \\right)} - 2 M + r\\right)^{2}} & 0 & 0\\\\0 & 0 & 0 & 0\\end{matrix}\\right] & \\left[\\begin{matrix}0 & 0 & 0 & 0\\\\0 & 0 & 0 & \\frac{r \\left(- 2 F M R_{0} w \\cos{\\left(w \\left(R_{0} \\log{\\left(r \\right)} - t\\right) \\right)} + 3 F M \\sin{\\left(w \\left(R_{0} \\log{\\left(r \\right)} - t\\right) \\right)} + 3 M - r\\right) \\sin^{2}{\\left(\\theta \\right)}}{6 \\left(- 2 F M \\sin{\\left(w \\left(R_{0} \\log{\\left(r \\right)} - t\\right) \\right)} - 2 M + r\\right)^{2}}\\\\0 & 0 & 0 & 0\\\\0 & \\frac{r \\left(2 F M R_{0} w \\cos{\\left(w \\left(R_{0} \\log{\\left(r \\right)} - t\\right) \\right)} - 3 F M \\sin{\\left(w \\left(R_{0} \\log{\\left(r \\right)} - t\\right) \\right)} - 3 M + r\\right) \\sin^{2}{\\left(\\theta \\right)}}{6 \\left(- 2 F M \\sin{\\left(w \\left(R_{0} \\log{\\left(r \\right)} - t\\right) \\right)} - 2 M + r\\right)^{2}} & 0 & 0\\end{matrix}\\right]\\\\\\left[\\begin{matrix}0 & 0 & \\frac{r^{3} \\left(- 2 F M R_{0} w \\cos{\\left(w \\left(R_{0} \\log{\\left(r \\right)} - t\\right) \\right)} + 3 F M \\sin{\\left(w \\left(R_{0} \\log{\\left(r \\right)} - t\\right) \\right)} + 3 M - r\\right)}{6 R_{0}^{2} \\left(- 2 F M \\sin{\\left(w \\left(R_{0} \\log{\\left(r \\right)} - t\\right) \\right)} - 2 M + r\\right)^{2}} & 0\\\\0 & 0 & 0 & 0\\\\\\frac{r^{3} \\left(2 F M R_{0} w \\cos{\\left(w \\left(R_{0} \\log{\\left(r \\right)} - t\\right) \\right)} - 3 F M \\sin{\\left(w \\left(R_{0} \\log{\\left(r \\right)} - t\\right) \\right)} - 3 M + r\\right)}{6 R_{0}^{2} \\left(- 2 F M \\sin{\\left(w \\left(R_{0} \\log{\\left(r \\right)} - t\\right) \\right)} - 2 M + r\\right)^{2}} & 0 & 0 & 0\\\\0 & 0 & 0 & 0\\end{matrix}\\right] & \\left[\\begin{matrix}0 & 0 & 0 & 0\\\\0 & 0 & \\frac{r \\left(2 F M R_{0} w \\cos{\\left(w \\left(R_{0} \\log{\\left(r \\right)} - t\\right) \\right)} - 3 F M \\sin{\\left(w \\left(R_{0} \\log{\\left(r \\right)} - t\\right) \\right)} - 3 M + r\\right)}{6 \\left(- 2 F M \\sin{\\left(w \\left(R_{0} \\log{\\left(r \\right)} - t\\right) \\right)} - 2 M + r\\right)^{2}} & 0\\\\0 & \\frac{r \\left(- 2 F M R_{0} w \\cos{\\left(w \\left(R_{0} \\log{\\left(r \\right)} - t\\right) \\right)} + 3 F M \\sin{\\left(w \\left(R_{0} \\log{\\left(r \\right)} - t\\right) \\right)} + 3 M - r\\right)}{6 \\left(- 2 F M \\sin{\\left(w \\left(R_{0} \\log{\\left(r \\right)} - t\\right) \\right)} - 2 M + r\\right)^{2}} & 0 & 0\\\\0 & 0 & 0 & 0\\end{matrix}\\right] & \\left[\\begin{matrix}0 & 0 & 0 & 0\\\\0 & 0 & 0 & 0\\\\0 & 0 & 0 & 0\\\\0 & 0 & 0 & 0\\end{matrix}\\right] & \\left[\\begin{matrix}0 & 0 & 0 & 0\\\\0 & 0 & 0 & 0\\\\0 & 0 & 0 & \\frac{r^{2} \\left(\\frac{2 F M R_{0} w \\cos{\\left(w \\left(R_{0} \\log{\\left(r \\right)} - t\\right) \\right)}}{3} - F M \\sin{\\left(w \\left(R_{0} \\log{\\left(r \\right)} - t\\right) \\right)} - M + \\frac{r}{3}\\right) \\sin^{2}{\\left(\\theta \\right)}}{- 2 F M \\sin{\\left(w \\left(R_{0} \\log{\\left(r \\right)} - t\\right) \\right)} - 2 M + r}\\\\0 & 0 & \\frac{r^{2} \\left(- \\frac{2 F M R_{0} w \\cos{\\left(w \\left(R_{0} \\log{\\left(r \\right)} - t\\right) \\right)}}{3} + F M \\sin{\\left(w \\left(R_{0} \\log{\\left(r \\right)} - t\\right) \\right)} + M - \\frac{r}{3}\\right) \\sin^{2}{\\left(\\theta \\right)}}{- 2 F M \\sin{\\left(w \\left(R_{0} \\log{\\left(r \\right)} - t\\right) \\right)} - 2 M + r} & 0\\end{matrix}\\right]\\\\\\left[\\begin{matrix}0 & 0 & 0 & \\frac{r^{3} \\left(- 2 F M R_{0} w \\cos{\\left(w \\left(R_{0} \\log{\\left(r \\right)} - t\\right) \\right)} + 3 F M \\sin{\\left(w \\left(R_{0} \\log{\\left(r \\right)} - t\\right) \\right)} + 3 M - r\\right) \\sin^{2}{\\left(\\theta \\right)}}{6 R_{0}^{2} \\left(- 2 F M \\sin{\\left(w \\left(R_{0} \\log{\\left(r \\right)} - t\\right) \\right)} - 2 M + r\\right)^{2}}\\\\0 & 0 & 0 & 0\\\\0 & 0 & 0 & 0\\\\\\frac{r^{3} \\left(2 F M R_{0} w \\cos{\\left(w \\left(R_{0} \\log{\\left(r \\right)} - t\\right) \\right)} - 3 F M \\sin{\\left(w \\left(R_{0} \\log{\\left(r \\right)} - t\\right) \\right)} - 3 M + r\\right) \\sin^{2}{\\left(\\theta \\right)}}{6 R_{0}^{2} \\left(- 2 F M \\sin{\\left(w \\left(R_{0} \\log{\\left(r \\right)} - t\\right) \\right)} - 2 M + r\\right)^{2}} & 0 & 0 & 0\\end{matrix}\\right] & \\left[\\begin{matrix}0 & 0 & 0 & 0\\\\0 & 0 & 0 & \\frac{r \\left(2 F M R_{0} w \\cos{\\left(w \\left(R_{0} \\log{\\left(r \\right)} - t\\right) \\right)} - 3 F M \\sin{\\left(w \\left(R_{0} \\log{\\left(r \\right)} - t\\right) \\right)} - 3 M + r\\right) \\sin^{2}{\\left(\\theta \\right)}}{6 \\left(- 2 F M \\sin{\\left(w \\left(R_{0} \\log{\\left(r \\right)} - t\\right) \\right)} - 2 M + r\\right)^{2}}\\\\0 & 0 & 0 & 0\\\\0 & \\frac{r \\left(- 2 F M R_{0} w \\cos{\\left(w \\left(R_{0} \\log{\\left(r \\right)} - t\\right) \\right)} + 3 F M \\sin{\\left(w \\left(R_{0} \\log{\\left(r \\right)} - t\\right) \\right)} + 3 M - r\\right) \\sin^{2}{\\left(\\theta \\right)}}{6 \\left(- 2 F M \\sin{\\left(w \\left(R_{0} \\log{\\left(r \\right)} - t\\right) \\right)} - 2 M + r\\right)^{2}} & 0 & 0\\end{matrix}\\right] & \\left[\\begin{matrix}0 & 0 & 0 & 0\\\\0 & 0 & 0 & 0\\\\0 & 0 & 0 & \\frac{r^{2} \\left(- \\frac{2 F M R_{0} w \\cos{\\left(w \\left(R_{0} \\log{\\left(r \\right)} - t\\right) \\right)}}{3} + F M \\sin{\\left(w \\left(R_{0} \\log{\\left(r \\right)} - t\\right) \\right)} + M - \\frac{r}{3}\\right) \\sin^{2}{\\left(\\theta \\right)}}{- 2 F M \\sin{\\left(w \\left(R_{0} \\log{\\left(r \\right)} - t\\right) \\right)} - 2 M + r}\\\\0 & 0 & \\frac{r^{2} \\left(\\frac{2 F M R_{0} w \\cos{\\left(w \\left(R_{0} \\log{\\left(r \\right)} - t\\right) \\right)}}{3} - F M \\sin{\\left(w \\left(R_{0} \\log{\\left(r \\right)} - t\\right) \\right)} - M + \\frac{r}{3}\\right) \\sin^{2}{\\left(\\theta \\right)}}{- 2 F M \\sin{\\left(w \\left(R_{0} \\log{\\left(r \\right)} - t\\right) \\right)} - 2 M + r} & 0\\end{matrix}\\right] & \\left[\\begin{matrix}0 & 0 & 0 & 0\\\\0 & 0 & 0 & 0\\\\0 & 0 & 0 & 0\\\\0 & 0 & 0 & 0\\end{matrix}\\right]\\end{matrix}\\right]$"
      ],
      "text/plain": [
       "⎡                                                                                                                                     \n",
       "⎢                                                                                                                                     \n",
       "⎢                                                                                                                                     \n",
       "⎢                                                                                                                                     \n",
       "⎢                                                                                                                                     \n",
       "⎢                                                                                      ⎡0  0  0  0⎤                                   \n",
       "⎢                                                                                      ⎢          ⎥                                   \n",
       "⎢                                                                                      ⎢0  0  0  0⎥                                   \n",
       "⎢                                                                                      ⎢          ⎥                                   \n",
       "⎢                                                                                      ⎢0  0  0  0⎥                                   \n",
       "⎢                                                                                      ⎢          ⎥                                   \n",
       "⎢                                                                                      ⎣0  0  0  0⎦                                   \n",
       "⎢                                                                                                                                     \n",
       "⎢                                                                                                                                     \n",
       "⎢                                                                                                                                     \n",
       "⎢                                                                                                                                     \n",
       "⎢                                                                                                                                     \n",
       "⎢                                                                                                                                     \n",
       "⎢           ⎡                                                                                2 ⎛2⋅F⋅M⋅R₀⋅w⋅cos(w⋅(R₀⋅log(r) - t))     \n",
       "⎢           ⎢                                                                               r ⋅⎜───────────────────────────────── - F⋅\n",
       "⎢           ⎢                                                                                  ⎝                3                     \n",
       "⎢           ⎢                                      0                                        ──────────────────────────────────────────\n",
       "⎢           ⎢                                                                                                2                        \n",
       "⎢           ⎢                                                                                              R₀ ⋅(-2⋅F⋅M⋅sin(w⋅(R₀⋅log(r\n",
       "⎢           ⎢                                                                                                                         \n",
       "⎢           ⎢ 2 ⎛  2⋅F⋅M⋅R₀⋅w⋅cos(w⋅(R₀⋅log(r) - t))                                    r⎞                                            \n",
       "⎢           ⎢r ⋅⎜- ───────────────────────────────── + F⋅M⋅sin(w⋅(R₀⋅log(r) - t)) + M - ─⎟                                            \n",
       "⎢           ⎢   ⎝                  3                                                    3⎠                                            \n",
       "⎢           ⎢─────────────────────────────────────────────────────────────────────────────                                       0    \n",
       "⎢           ⎢                  2                                          3                                                           \n",
       "⎢           ⎢                R₀ ⋅(-2⋅F⋅M⋅sin(w⋅(R₀⋅log(r) - t)) - 2⋅M + r)                                                            \n",
       "⎢           ⎢                                                                                                                         \n",
       "⎢           ⎢                                      0                                                                             0    \n",
       "⎢           ⎢                                                                                                                         \n",
       "⎢           ⎣                                      0                                                                             0    \n",
       "⎢                                                                                                                                     \n",
       "⎢        ⎡                                                                                     3                                      \n",
       "⎢        ⎢                                                                                    r ⋅(-2⋅F⋅M⋅R₀⋅w⋅cos(w⋅(R₀⋅log(r) - t)) +\n",
       "⎢        ⎢                                       0                                         0  ────────────────────────────────────────\n",
       "⎢        ⎢                                                                                                        2                   \n",
       "⎢        ⎢                                                                                                    6⋅R₀ ⋅(-2⋅F⋅M⋅sin(w⋅(R₀⋅\n",
       "⎢        ⎢                                                                                                                            \n",
       "⎢        ⎢                                       0                                         0                                         0\n",
       "⎢        ⎢                                                                                                                            \n",
       "⎢        ⎢ 3                                                                                                                          \n",
       "⎢        ⎢r ⋅(2⋅F⋅M⋅R₀⋅w⋅cos(w⋅(R₀⋅log(r) - t)) - 3⋅F⋅M⋅sin(w⋅(R₀⋅log(r) - t)) - 3⋅M + r)                                             \n",
       "⎢        ⎢───────────────────────────────────────────────────────────────────────────────  0                                         0\n",
       "⎢        ⎢                    2                                          2                                                            \n",
       "⎢        ⎢                6⋅R₀ ⋅(-2⋅F⋅M⋅sin(w⋅(R₀⋅log(r) - t)) - 2⋅M + r)                                                             \n",
       "⎢        ⎢                                                                                                                            \n",
       "⎢        ⎣                                       0                                         0                                         0\n",
       "⎢                                                                                                                                     \n",
       "⎢⎡                                                                                                3                                   \n",
       "⎢⎢                                                                                               r ⋅(-2⋅F⋅M⋅R₀⋅w⋅cos(w⋅(R₀⋅log(r) - t)\n",
       "⎢⎢                                           0                                             0  0  ─────────────────────────────────────\n",
       "⎢⎢                                                                                                                       2            \n",
       "⎢⎢                                                                                                                   6⋅R₀ ⋅(-2⋅F⋅M⋅sin\n",
       "⎢⎢                                                                                                                                    \n",
       "⎢⎢                                           0                                             0  0                                       \n",
       "⎢⎢                                                                                                                                    \n",
       "⎢⎢                                           0                                             0  0                                       \n",
       "⎢⎢                                                                                                                                    \n",
       "⎢⎢ 3                                                                                 2                                                \n",
       "⎢⎢r ⋅(2⋅F⋅M⋅R₀⋅w⋅cos(w⋅(R₀⋅log(r) - t)) - 3⋅F⋅M⋅sin(w⋅(R₀⋅log(r) - t)) - 3⋅M + r)⋅sin (θ)                                             \n",
       "⎢⎢───────────────────────────────────────────────────────────────────────────────────────  0  0                                       \n",
       "⎢⎢                        2                                          2                                                                \n",
       "⎣⎣                    6⋅R₀ ⋅(-2⋅F⋅M⋅sin(w⋅(R₀⋅log(r) - t)) - 2⋅M + r)                                                                 \n",
       "\n",
       "                                                                ⎡                                                                     \n",
       "                                                                ⎢                                                                     \n",
       "                                                                ⎢                                                                     \n",
       "                                                                ⎢                                     0                               \n",
       "                                                                ⎢                                                                     \n",
       "                                                                ⎢                                                                     \n",
       "                                                                ⎢                                                                     \n",
       "                                                                ⎢ 2 ⎛2⋅F⋅M⋅R₀⋅w⋅cos(w⋅(R₀⋅log(r) - t))                                \n",
       "                                                                ⎢r ⋅⎜───────────────────────────────── - F⋅M⋅sin(w⋅(R₀⋅log(r) - t)) - \n",
       "                                                                ⎢   ⎝                3                                                \n",
       "                                                                ⎢─────────────────────────────────────────────────────────────────────\n",
       "                                                                ⎢                 2                                          3        \n",
       "                                                                ⎢               R₀ ⋅(-2⋅F⋅M⋅sin(w⋅(R₀⋅log(r) - t)) - 2⋅M + r)         \n",
       "                                                                ⎢                                                                     \n",
       "                                                                ⎢                                     0                               \n",
       "                                                                ⎢                                                                     \n",
       "                                                                ⎣                                     0                               \n",
       "                                                                                                                                      \n",
       "                               r⎞      ⎤                                                                                              \n",
       "M⋅sin(w⋅(R₀⋅log(r) - t)) - M + ─⎟      ⎥                                                                                              \n",
       "                               3⎠      ⎥                                                                                              \n",
       "─────────────────────────────────  0  0⎥                                                                                              \n",
       "                  3                    ⎥                                                                                              \n",
       ") - t)) - 2⋅M + r)                     ⎥                                                                                              \n",
       "                                       ⎥                                                                                              \n",
       "                                       ⎥                                                                                              \n",
       "                                       ⎥                                                                                              \n",
       "                                       ⎥                                                                                              \n",
       "                                   0  0⎥                                                                                              \n",
       "                                       ⎥                                                                                              \n",
       "                                       ⎥                                                                                              \n",
       "                                       ⎥                                                                                              \n",
       "                                   0  0⎥                                                                                              \n",
       "                                       ⎥                                                                                              \n",
       "                                   0  0⎦                                                                                              \n",
       "                                                                                                                                      \n",
       "                                           ⎤                                                                                          \n",
       " 3⋅F⋅M⋅sin(w⋅(R₀⋅log(r) - t)) + 3⋅M - r)   ⎥                  ⎡0                                         0                            \n",
       "────────────────────────────────────────  0⎥                  ⎢                                                                       \n",
       "                       2                   ⎥                  ⎢                                                                       \n",
       "log(r) - t)) - 2⋅M + r)                    ⎥                  ⎢0                                         0                            \n",
       "                                           ⎥                  ⎢                                                                       \n",
       "                                          0⎥                  ⎢                                                                       \n",
       "                                           ⎥                  ⎢                                                                       \n",
       "                                           ⎥                  ⎢   r⋅(-2⋅F⋅M⋅R₀⋅w⋅cos(w⋅(R₀⋅log(r) - t)) + 3⋅F⋅M⋅sin(w⋅(R₀⋅log(r) - t))\n",
       "                                           ⎥                  ⎢0  ────────────────────────────────────────────────────────────────────\n",
       "                                          0⎥                  ⎢                                                                2      \n",
       "                                           ⎥                  ⎢                     6⋅(-2⋅F⋅M⋅sin(w⋅(R₀⋅log(r) - t)) - 2⋅M + r)       \n",
       "                                           ⎥                  ⎢                                                                       \n",
       "                                           ⎥                  ⎣0                                         0                            \n",
       "                                          0⎦                                                                                          \n",
       "                                                                                                                                      \n",
       "                                               2   ⎤  ⎡0                                             0                                \n",
       ") + 3⋅F⋅M⋅sin(w⋅(R₀⋅log(r) - t)) + 3⋅M - r)⋅sin (θ)⎥  ⎢                                                                               \n",
       "───────────────────────────────────────────────────⎥  ⎢                                                                               \n",
       "                              2                    ⎥  ⎢                                                                               \n",
       "(w⋅(R₀⋅log(r) - t)) - 2⋅M + r)                     ⎥  ⎢0                                             0                                \n",
       "                                                   ⎥  ⎢                                                                               \n",
       "      0                                            ⎥  ⎢                                                                               \n",
       "                                                   ⎥  ⎢                                                                               \n",
       "      0                                            ⎥  ⎢0                                             0                                \n",
       "                                                   ⎥  ⎢                                                                               \n",
       "                                                   ⎥  ⎢                                                                               \n",
       "                                                   ⎥  ⎢   r⋅(-2⋅F⋅M⋅R₀⋅w⋅cos(w⋅(R₀⋅log(r) - t)) + 3⋅F⋅M⋅sin(w⋅(R₀⋅log(r) - t)) + 3⋅M -\n",
       "      0                                            ⎥  ⎢0  ────────────────────────────────────────────────────────────────────────────\n",
       "                                                   ⎥  ⎢                                                                    2          \n",
       "                                                   ⎦  ⎣                         6⋅(-2⋅F⋅M⋅sin(w⋅(R₀⋅log(r) - t)) - 2⋅M + r)           \n",
       "\n",
       "         2 ⎛  2⋅F⋅M⋅R₀⋅w⋅cos(w⋅(R₀⋅log(r) - t))                                    r⎞      ⎤                                          \n",
       "        r ⋅⎜- ───────────────────────────────── + F⋅M⋅sin(w⋅(R₀⋅log(r) - t)) + M - ─⎟      ⎥                 ⎡                        \n",
       "           ⎝                  3                                                    3⎠      ⎥                 ⎢                        \n",
       "        ─────────────────────────────────────────────────────────────────────────────  0  0⎥                 ⎢                        \n",
       "                          2                                          3                     ⎥                 ⎢                        \n",
       "                        R₀ ⋅(-2⋅F⋅M⋅sin(w⋅(R₀⋅log(r) - t)) - 2⋅M + r)                      ⎥                 ⎢                        \n",
       "                                                                                           ⎥                 ⎢                        \n",
       "    r⎞                                                                                     ⎥                 ⎢                        \n",
       "M + ─⎟                                                                                     ⎥                 ⎢                        \n",
       "    3⎠                                                                                     ⎥                 ⎢ 3                      \n",
       "──────                                        0                                        0  0⎥                 ⎢r ⋅(-2⋅F⋅M⋅R₀⋅w⋅cos(w⋅(R\n",
       "                                                                                           ⎥                 ⎢────────────────────────\n",
       "                                                                                           ⎥                 ⎢                    2   \n",
       "                                                                                           ⎥                 ⎢                6⋅R₀ ⋅(-\n",
       "                                              0                                        0  0⎥                 ⎢                        \n",
       "                                                                                           ⎥                 ⎣                        \n",
       "                                              0                                        0  0⎦                                          \n",
       "                                                                                                                                      \n",
       "                                                                                                                                      \n",
       "                                                                                                                                      \n",
       "                                                                                                              ⎡0                      \n",
       "                                                                                                              ⎢                       \n",
       "                                                                                                              ⎢                       \n",
       "     ⎡0  0  0  0⎤                                                                                             ⎢0                      \n",
       "     ⎢          ⎥                                                                                             ⎢                       \n",
       "     ⎢0  0  0  0⎥                                                                                             ⎢                       \n",
       "     ⎢          ⎥                                                                                             ⎢                       \n",
       "     ⎢0  0  0  0⎥                                                                                             ⎢   r⋅(2⋅F⋅M⋅R₀⋅w⋅cos(w⋅\n",
       "     ⎢          ⎥                                                                                             ⎢0  ────────────────────\n",
       "     ⎣0  0  0  0⎦                                                                                             ⎢                       \n",
       "                                                                                                              ⎢                    6⋅(\n",
       "                                                                                                              ⎢                       \n",
       "                                                                                                              ⎣0                      \n",
       "                                                                                                                                      \n",
       "                                                                                                                                      \n",
       "                                                                                                                                      \n",
       "                                                                                                                                      \n",
       "                                                   0                                         0⎤                                       \n",
       "                                                                                              ⎥                                       \n",
       "             r⋅(2⋅F⋅M⋅R₀⋅w⋅cos(w⋅(R₀⋅log(r) - t)) - 3⋅F⋅M⋅sin(w⋅(R₀⋅log(r) - t)) - 3⋅M + r)   ⎥                                       \n",
       "             ──────────────────────────────────────────────────────────────────────────────  0⎥                                       \n",
       "                                                                         2                    ⎥                                       \n",
       "                              6⋅(-2⋅F⋅M⋅sin(w⋅(R₀⋅log(r) - t)) - 2⋅M + r)                     ⎥                                       \n",
       "                                                                                              ⎥                                       \n",
       " + 3⋅M - r)                                                                                   ⎥                                       \n",
       "───────────                                        0                                         0⎥                                       \n",
       "                                                                                              ⎥                                       \n",
       "                                                                                              ⎥                                       \n",
       "                                                                                              ⎥                                       \n",
       "                                                   0                                         0⎦                                       \n",
       "                                                                                                                                      \n",
       "                                                                                                                                      \n",
       "             0                                            0                                           ⎤  ⎡0  0                        \n",
       "                                                                                                      ⎥  ⎢                            \n",
       "                                                                                                  2   ⎥  ⎢0  0                        \n",
       "                r⋅(2⋅F⋅M⋅R₀⋅w⋅cos(w⋅(R₀⋅log(r) - t)) - 3⋅F⋅M⋅sin(w⋅(R₀⋅log(r) - t)) - 3⋅M + r)⋅sin (θ)⎥  ⎢                            \n",
       "             0  ──────────────────────────────────────────────────────────────────────────────────────⎥  ⎢                            \n",
       "                                                                                2                     ⎥  ⎢                            \n",
       "                                     6⋅(-2⋅F⋅M⋅sin(w⋅(R₀⋅log(r) - t)) - 2⋅M + r)                      ⎥  ⎢                            \n",
       "                                                                                                      ⎥  ⎢0  0                        \n",
       "             0                                            0                                           ⎥  ⎢                            \n",
       "                                                                                                      ⎥  ⎢                            \n",
       "       2                                                                                              ⎥  ⎢       2 ⎛2⋅F⋅M⋅R₀⋅w⋅cos(w⋅(\n",
       " r)⋅sin (θ)                                                                                           ⎥  ⎢      r ⋅⎜──────────────────\n",
       "───────────  0                                            0                                           ⎥  ⎢         ⎝                3 \n",
       "                                                                                                      ⎥  ⎢0  0  ──────────────────────\n",
       "                                                                                                      ⎦  ⎣                            \n",
       "\n",
       "                                                                                                                                      \n",
       "                                                              3                                                                       \n",
       "                                                             r ⋅(2⋅F⋅M⋅R₀⋅w⋅cos(w⋅(R₀⋅log(r) - t)) - 3⋅F⋅M⋅sin(w⋅(R₀⋅log(r) - t)) - 3⋅\n",
       "               0                                          0  ─────────────────────────────────────────────────────────────────────────\n",
       "                                                                                 2                                          2         \n",
       "                                                                             6⋅R₀ ⋅(-2⋅F⋅M⋅sin(w⋅(R₀⋅log(r) - t)) - 2⋅M + r)          \n",
       "                                                                                                                                      \n",
       "               0                                          0                                         0                                 \n",
       "                                                                                                                                      \n",
       "                                                                                                                                      \n",
       "₀⋅log(r) - t)) + 3⋅F⋅M⋅sin(w⋅(R₀⋅log(r) - t)) + 3⋅M - r)                                                                              \n",
       "────────────────────────────────────────────────────────  0                                         0                                 \n",
       "                                       2                                                                                              \n",
       "2⋅F⋅M⋅sin(w⋅(R₀⋅log(r) - t)) - 2⋅M + r)                                                                                               \n",
       "                                                                                                                                      \n",
       "               0                                          0                                         0                                 \n",
       "                                                                                                                                      \n",
       "                                                                                                                                      \n",
       "                                                                                                                                      \n",
       "                                                                                                                                      \n",
       "                  0                                                                                0                                  \n",
       "                                                                                                                                      \n",
       "                                                            r⋅(-2⋅F⋅M⋅R₀⋅w⋅cos(w⋅(R₀⋅log(r) - t)) + 3⋅F⋅M⋅sin(w⋅(R₀⋅log(r) - t)) + 3⋅M\n",
       "                  0                                         ──────────────────────────────────────────────────────────────────────────\n",
       "                                                                                                                         2            \n",
       "                                                                              6⋅(-2⋅F⋅M⋅sin(w⋅(R₀⋅log(r) - t)) - 2⋅M + r)             \n",
       "                                                                                                                                      \n",
       "(R₀⋅log(r) - t)) - 3⋅F⋅M⋅sin(w⋅(R₀⋅log(r) - t)) - 3⋅M + r)                                                                            \n",
       "──────────────────────────────────────────────────────────                                         0                                  \n",
       "                                        2                                                                                             \n",
       "-2⋅F⋅M⋅sin(w⋅(R₀⋅log(r) - t)) - 2⋅M + r)                                                                                              \n",
       "                                                                                                                                      \n",
       "                  0                                                                                0                                  \n",
       "                                                                                                                                      \n",
       "                                                                                                                                      \n",
       "                                                                                                                                      \n",
       "                                                                                                                                      \n",
       "                                                                                                                                      \n",
       "                                                                                                                                      \n",
       "                                                                                                                                      \n",
       "                                                      ⎡0  0  0  0⎤                                                                    \n",
       "                                                      ⎢          ⎥                                                                    \n",
       "                                                      ⎢0  0  0  0⎥                                                                    \n",
       "                                                      ⎢          ⎥                                                                    \n",
       "                                                      ⎢0  0  0  0⎥                                                                    \n",
       "                                                      ⎢          ⎥                                                                    \n",
       "                                                      ⎣0  0  0  0⎦                                                                    \n",
       "                                                                                                                                      \n",
       "                                                                                                                                      \n",
       "                                                                                                                                      \n",
       "                                                                                                                                      \n",
       "                                                                                                                                      \n",
       "                   0                                                                                     0                            \n",
       "                                                                                                                                      \n",
       "                   0                                                                                     0                            \n",
       "                                                                                                                                      \n",
       "                                                                2 ⎛  2⋅F⋅M⋅R₀⋅w⋅cos(w⋅(R₀⋅log(r) - t))                                \n",
       "                                                               r ⋅⎜- ───────────────────────────────── + F⋅M⋅sin(w⋅(R₀⋅log(r) - t)) + \n",
       "                                                                  ⎝                  3                                                \n",
       "                   0                                           ───────────────────────────────────────────────────────────────────────\n",
       "                                                                                      -2⋅F⋅M⋅sin(w⋅(R₀⋅log(r) - t)) - 2⋅M + r         \n",
       "                                                                                                                                      \n",
       "R₀⋅log(r) - t))                                    r⎞    2                                                                            \n",
       "─────────────── - F⋅M⋅sin(w⋅(R₀⋅log(r) - t)) - M + ─⎟⋅sin (θ)                                                                         \n",
       "                                                   3⎠                                                                                 \n",
       "─────────────────────────────────────────────────────────────                                            0                            \n",
       "-2⋅F⋅M⋅sin(w⋅(R₀⋅log(r) - t)) - 2⋅M + r                                                                                               \n",
       "\n",
       "                                                                                                                                      \n",
       "         ⎤       ⎡                                                                                                 3                  \n",
       "M + r)   ⎥       ⎢                                                                                                r ⋅(2⋅F⋅M⋅R₀⋅w⋅cos(w\n",
       "──────  0⎥       ⎢                                           0                                              0  0  ────────────────────\n",
       "         ⎥       ⎢                                                                                                                    \n",
       "         ⎥       ⎢                                                                                                                    \n",
       "         ⎥       ⎢                                                                                                                    \n",
       "        0⎥       ⎢                                           0                                              0  0                      \n",
       "         ⎥       ⎢                                                                                                                    \n",
       "         ⎥       ⎢                                           0                                              0  0                      \n",
       "         ⎥       ⎢                                                                                                                    \n",
       "        0⎥       ⎢ 3                                                                                  2                               \n",
       "         ⎥       ⎢r ⋅(-2⋅F⋅M⋅R₀⋅w⋅cos(w⋅(R₀⋅log(r) - t)) + 3⋅F⋅M⋅sin(w⋅(R₀⋅log(r) - t)) + 3⋅M - r)⋅sin (θ)                            \n",
       "         ⎥       ⎢────────────────────────────────────────────────────────────────────────────────────────  0  0                      \n",
       "         ⎥       ⎢                        2                                          2                                                \n",
       "        0⎦       ⎣                    6⋅R₀ ⋅(-2⋅F⋅M⋅sin(w⋅(R₀⋅log(r) - t)) - 2⋅M + r)                                                 \n",
       "                                                                                                                                      \n",
       "                                                                                                                                      \n",
       "                                                                                                                                      \n",
       "                  ⎡0                                            0                                             0                       \n",
       "       0⎤         ⎢                                                                                                                   \n",
       "        ⎥         ⎢                                                                                                                   \n",
       " - r)   ⎥         ⎢                                                                                              r⋅(-2⋅F⋅M⋅R₀⋅w⋅cos(w⋅\n",
       "─────  0⎥         ⎢0                                            0                                             0  ─────────────────────\n",
       "        ⎥         ⎢                                                                                                                   \n",
       "        ⎥         ⎢                                                                                                                   \n",
       "        ⎥         ⎢                                                                                                                   \n",
       "        ⎥         ⎢0                                            0                                             0                       \n",
       "       0⎥         ⎢                                                                                                                   \n",
       "        ⎥         ⎢                                                                                     2                             \n",
       "        ⎥         ⎢   r⋅(2⋅F⋅M⋅R₀⋅w⋅cos(w⋅(R₀⋅log(r) - t)) - 3⋅F⋅M⋅sin(w⋅(R₀⋅log(r) - t)) - 3⋅M + r)⋅sin (θ)                          \n",
       "        ⎥         ⎢0  ──────────────────────────────────────────────────────────────────────────────────────  0                       \n",
       "       0⎦         ⎢                                                                   2                                               \n",
       "                  ⎣                        6⋅(-2⋅F⋅M⋅sin(w⋅(R₀⋅log(r) - t)) - 2⋅M + r)                                                \n",
       "                                                                                                                                      \n",
       "                                                                                                                                      \n",
       "                    ⎡0  0                                            0                                                                \n",
       "                    ⎢                                                                                                                 \n",
       "                    ⎢0  0                                            0                                                                \n",
       "                    ⎢                                                                                                                 \n",
       "                    ⎢                                                                                              2 ⎛2⋅F⋅M⋅R₀⋅w⋅cos(w\n",
       "                    ⎢                                                                                             r ⋅⎜────────────────\n",
       "                    ⎢                                                                                                ⎝                \n",
       "                    ⎢0  0                                            0                                            ────────────────────\n",
       "                    ⎢                                                                                                                 \n",
       "                    ⎢                                                                                                                 \n",
       "                    ⎢       2 ⎛  2⋅F⋅M⋅R₀⋅w⋅cos(w⋅(R₀⋅log(r) - t))                                    r⎞    2                         \n",
       "                    ⎢      r ⋅⎜- ───────────────────────────────── + F⋅M⋅sin(w⋅(R₀⋅log(r) - t)) + M - ─⎟⋅sin (θ)                      \n",
       "                    ⎢         ⎝                  3                                                    3⎠                              \n",
       "                    ⎢0  0  ─────────────────────────────────────────────────────────────────────────────────────                      \n",
       "                    ⎣                             -2⋅F⋅M⋅sin(w⋅(R₀⋅log(r) - t)) - 2⋅M + r                                             \n",
       "                                                                                                                                      \n",
       "              ⎤                                                                                                                       \n",
       "              ⎥                                                                                                                       \n",
       "              ⎥                                                                                                                       \n",
       "              ⎥                                                                                                                       \n",
       "    r⎞    2   ⎥                                                                                        ⎡0  0  0  0⎤                   \n",
       "M - ─⎟⋅sin (θ)⎥                                                                                        ⎢          ⎥                   \n",
       "    3⎠        ⎥                                                                                        ⎢0  0  0  0⎥                   \n",
       "──────────────⎥                                                                                        ⎢          ⎥                   \n",
       "              ⎥                                                                                        ⎢0  0  0  0⎥                   \n",
       "              ⎥                                                                                        ⎢          ⎥                   \n",
       "              ⎥                                                                                        ⎣0  0  0  0⎦                   \n",
       "              ⎥                                                                                                                       \n",
       "              ⎥                                                                                                                       \n",
       "              ⎥                                                                                                                       \n",
       "              ⎦                                                                                                                       \n",
       "\n",
       "                                                                    ⎤\n",
       "                                                               2   ⎤⎥\n",
       "⋅(R₀⋅log(r) - t)) - 3⋅F⋅M⋅sin(w⋅(R₀⋅log(r) - t)) - 3⋅M + r)⋅sin (θ)⎥⎥\n",
       "───────────────────────────────────────────────────────────────────⎥⎥\n",
       "    2                                          2                   ⎥⎥\n",
       "6⋅R₀ ⋅(-2⋅F⋅M⋅sin(w⋅(R₀⋅log(r) - t)) - 2⋅M + r)                    ⎥⎥\n",
       "                                                                   ⎥⎥\n",
       "                       0                                           ⎥⎥\n",
       "                                                                   ⎥⎥\n",
       "                       0                                           ⎥⎥\n",
       "                                                                   ⎥⎥\n",
       "                                                                   ⎥⎥\n",
       "                                                                   ⎥⎥\n",
       "                       0                                           ⎥⎥\n",
       "                                                                   ⎥⎥\n",
       "                                                                   ⎦⎥\n",
       "                                                                    ⎥\n",
       "                                                                    ⎥\n",
       "                                                                    ⎥\n",
       "                      0                                           ⎤ ⎥\n",
       "                                                                  ⎥ ⎥\n",
       "                                                              2   ⎥ ⎥\n",
       "(R₀⋅log(r) - t)) + 3⋅F⋅M⋅sin(w⋅(R₀⋅log(r) - t)) + 3⋅M - r)⋅sin (θ)⎥ ⎥\n",
       "──────────────────────────────────────────────────────────────────⎥ ⎥\n",
       "                                            2                     ⎥ ⎥\n",
       " 6⋅(-2⋅F⋅M⋅sin(w⋅(R₀⋅log(r) - t)) - 2⋅M + r)                      ⎥ ⎥\n",
       "                                                                  ⎥ ⎥\n",
       "                      0                                           ⎥ ⎥\n",
       "                                                                  ⎥ ⎥\n",
       "                                                                  ⎥ ⎥\n",
       "                                                                  ⎥ ⎥\n",
       "                      0                                           ⎥ ⎥\n",
       "                                                                  ⎥ ⎥\n",
       "                                                                  ⎦ ⎥\n",
       "                                                                    ⎥\n",
       "                                                                    ⎥\n",
       "                     0                                         ⎤    ⎥\n",
       "                                                               ⎥    ⎥\n",
       "                     0                                         ⎥    ⎥\n",
       "                                                               ⎥    ⎥\n",
       "⋅(R₀⋅log(r) - t))                                    r⎞    2   ⎥    ⎥\n",
       "───────────────── - F⋅M⋅sin(w⋅(R₀⋅log(r) - t)) - M + ─⎟⋅sin (θ)⎥    ⎥\n",
       "3                                                    3⎠        ⎥    ⎥\n",
       "───────────────────────────────────────────────────────────────⎥    ⎥\n",
       "  -2⋅F⋅M⋅sin(w⋅(R₀⋅log(r) - t)) - 2⋅M + r                      ⎥    ⎥\n",
       "                                                               ⎥    ⎥\n",
       "                                                               ⎥    ⎥\n",
       "                                                               ⎥    ⎥\n",
       "                                                               ⎥    ⎥\n",
       "                     0                                         ⎥    ⎥\n",
       "                                                               ⎦    ⎥\n",
       "                                                                    ⎥\n",
       "                                                                    ⎥\n",
       "                                                                    ⎥\n",
       "                                                                    ⎥\n",
       "                                                                    ⎥\n",
       "                                                                    ⎥\n",
       "                                                                    ⎥\n",
       "                                                                    ⎥\n",
       "                                                                    ⎥\n",
       "                                                                    ⎥\n",
       "                                                                    ⎥\n",
       "                                                                    ⎥\n",
       "                                                                    ⎥\n",
       "                                                                    ⎥\n",
       "                                                                    ⎥\n",
       "                                                                    ⎦"
      ]
     },
     "execution_count": 9,
     "metadata": {},
     "output_type": "execute_result"
    }
   ],
   "source": [
    "# what is the Weyl tensor?\n",
    "weyl = WeylTensor.from_metric(sch)\n",
    "weyl.tensor() # all components!"
   ]
  },
  {
   "cell_type": "code",
   "execution_count": 99,
   "metadata": {},
   "outputs": [
    {
     "data": {
      "image/png": "[encoded data removed]",
      "text/latex": [
       "$\\displaystyle \\frac{r^{2} \\left(- \\frac{2 F M R_{0} w \\cos{\\left(w \\left(R_{0} \\log{\\left(r \\right)} - t\\right) \\right)}}{3} + F M \\sin{\\left(w \\left(R_{0} \\log{\\left(r \\right)} - t\\right) \\right)} + M - \\frac{r}{3}\\right)}{R_{0}^{2} \\left(- 2 F M \\sin{\\left(w \\left(R_{0} \\log{\\left(r \\right)} - t\\right) \\right)} - 2 M + r\\right)^{3}}$"
      ],
      "text/plain": [
       " 2 ⎛  2⋅F⋅M⋅R₀⋅w⋅cos(w⋅(R₀⋅log(r) - t))                                    r⎞\n",
       "r ⋅⎜- ───────────────────────────────── + F⋅M⋅sin(w⋅(R₀⋅log(r) - t)) + M - ─⎟\n",
       "   ⎝                  3                                                    3⎠\n",
       "─────────────────────────────────────────────────────────────────────────────\n",
       "                  2                                          3               \n",
       "                R₀ ⋅(-2⋅F⋅M⋅sin(w⋅(R₀⋅log(r) - t)) - 2⋅M + r)                "
      ]
     },
     "execution_count": 99,
     "metadata": {},
     "output_type": "execute_result"
    }
   ],
   "source": [
    "weyl[0,1,0,1]"
   ]
  },
  {
   "cell_type": "code",
   "execution_count": 100,
   "metadata": {},
   "outputs": [
    {
     "data": {
      "image/png": "[encoded data removed]",
      "text/latex": [
       "$\\displaystyle \\frac{r^{3} \\left(2 F M R_{0} w \\cos{\\left(w \\left(R_{0} \\log{\\left(r \\right)} - t\\right) \\right)} - 3 F M \\sin{\\left(w \\left(R_{0} \\log{\\left(r \\right)} - t\\right) \\right)} - 3 M + r\\right)}{6 R_{0}^{2} \\left(- 2 F M \\sin{\\left(w \\left(R_{0} \\log{\\left(r \\right)} - t\\right) \\right)} - 2 M + r\\right)^{2}}$"
      ],
      "text/plain": [
       " 3                                                                             \n",
       "r ⋅(2⋅F⋅M⋅R₀⋅w⋅cos(w⋅(R₀⋅log(r) - t)) - 3⋅F⋅M⋅sin(w⋅(R₀⋅log(r) - t)) - 3⋅M + r)\n",
       "───────────────────────────────────────────────────────────────────────────────\n",
       "                    2                                          2               \n",
       "                6⋅R₀ ⋅(-2⋅F⋅M⋅sin(w⋅(R₀⋅log(r) - t)) - 2⋅M + r)                "
      ]
     },
     "execution_count": 100,
     "metadata": {},
     "output_type": "execute_result"
    }
   ],
   "source": [
    "weyl[0,2,0,2]"
   ]
  },
  {
   "cell_type": "code",
   "execution_count": 61,
   "metadata": {},
   "outputs": [
    {
     "name": "stdout",
     "output_type": "stream",
     "text": [
      "(t, r, theta, phi, F, M, R0, w)\n"
     ]
    },
    {
     "data": {
      "text/plain": [
       "Text(0.5, 1.0, 'Weyl tensor')"
      ]
     },
     "execution_count": 61,
     "metadata": {},
     "output_type": "execute_result"
    },
    {
     "data": {
      "image/png": "[encoded data removed]",
      "text/plain": [
       "<Figure size 432x288 with 1 Axes>"
      ]
     },
     "metadata": {
      "needs_background": "light"
     },
     "output_type": "display_data"
    }
   ],
   "source": [
    "###Plot something\n",
    "# first make the tensor into a function, printing \n",
    "args, func = weyl.tensor_lambdify()\n",
    "print(args) # these are the argument values \n",
    "\n",
    "theta = 1\n",
    "\n",
    "phi = 1\n",
    "\n",
    "R0 = 20.0\n",
    "F = 0.2\n",
    "w = 1\n",
    "\n",
    "\n",
    "\n",
    "#Make x values - which we will sub in for r \n",
    "x = np.arange(4, 20.0, 0.04)\n",
    "\n",
    "# Call the functions\n",
    "y = func(1.0,x,theta, phi, F, 1, R0, w)[0][1][0][1]/x\n",
    "z = -func(1.0,x,theta, phi, F, 1, R0, w)[0][2][0][2]/(x*x) # 0.1 to bring scale in\n",
    "fig=plt.figure()\n",
    "ax=fig.add_axes([0,2,1.0,1.0])\n",
    "ax.plot(x,y)\n",
    "ax.plot(x,z)\n",
    "ax.set_title(\"Weyl tensor\")\n",
    "\n",
    "\n"
   ]
  },
  {
   "cell_type": "code",
   "execution_count": null,
   "metadata": {},
   "outputs": [],
   "source": []
  },
  {
   "cell_type": "code",
   "execution_count": null,
   "metadata": {},
   "outputs": [],
   "source": []
  },
  {
   "cell_type": "code",
   "execution_count": null,
   "metadata": {},
   "outputs": [],
   "source": []
  }
 ],
 "metadata": {
  "kernelspec": {
   "display_name": "Python 3 (ipykernel)",
   "language": "python",
   "name": "python3"
  },
  "language_info": {
   "codemirror_mode": {
    "name": "ipython",
    "version": 3
   },
   "file_extension": ".py",
   "mimetype": "text/x-python",
   "name": "python",
   "nbconvert_exporter": "python",
   "pygments_lexer": "ipython3",
   "version": "3.9.7"
  }
 },
 "nbformat": 4,
 "nbformat_minor": 4
}
