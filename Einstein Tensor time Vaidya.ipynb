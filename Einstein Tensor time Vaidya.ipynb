{
 "cells": [
  {
   "cell_type": "markdown",
   "metadata": {},
   "source": [
    "# Einstein Tensor calculations using Symbolic module"
   ]
  },
  {
   "cell_type": "code",
   "execution_count": 2,
   "metadata": {},
   "outputs": [],
   "source": [
    "import sympy\n",
    "import matplotlib.pyplot as plt\n",
    "import numpy as np\n",
    "\n",
    "from sympy import symbols, sin, cos, sinh\n",
    "from einsteinpy.symbolic import EinsteinTensor, MetricTensor, WeylTensor\n",
    "\n",
    "sympy.init_printing()"
   ]
  },
  {
   "cell_type": "markdown",
   "metadata": {},
   "source": [
    "### Defining our time dependent metric as from equation 31\n",
    "https://docs.einsteinpy.org/en/latest/examples/Symbolically%20Understanding%20Christoffel%20Symbol%20and%20Riemann%20Curvature%20Tensor%20using%20EinsteinPy.html\n",
    "\n",
    "https://en.wikipedia.org/wiki/Vaidya_metric"
   ]
  },
  {
   "cell_type": "code",
   "execution_count": 6,
   "metadata": {},
   "outputs": [
    {
     "name": "stdout",
     "output_type": "stream",
     "text": [
      "M*sin(t*w)**2\n"
     ]
    },
    {
     "data": {
      "text/latex": [
       "$\\displaystyle \\left[\\begin{matrix}c^{2} \\left(- \\frac{2 M \\sin^{2}{\\left(t w \\right)}}{r} + 1\\right) & 2 \\sin{\\left(t w \\right)} & 0 & 0\\\\2 \\sin{\\left(t w \\right)} & -1 & 0 & 0\\\\0 & 0 & - r^{2} & 0\\\\0 & 0 & 0 & - r^{2} \\sin^{2}{\\left(\\theta \\right)}\\end{matrix}\\right]$"
      ],
      "text/plain": [
       "⎡   ⎛         2         ⎞                              ⎤\n",
       "⎢ 2 ⎜  2⋅M⋅sin (t⋅w)    ⎟                              ⎥\n",
       "⎢c ⋅⎜- ───────────── + 1⎟  2⋅sin(t⋅w)   0        0     ⎥\n",
       "⎢   ⎝        r          ⎠                              ⎥\n",
       "⎢                                                      ⎥\n",
       "⎢       2⋅sin(t⋅w)             -1       0        0     ⎥\n",
       "⎢                                                      ⎥\n",
       "⎢                                        2             ⎥\n",
       "⎢           0                  0       -r        0     ⎥\n",
       "⎢                                                      ⎥\n",
       "⎢                                             2    2   ⎥\n",
       "⎣           0                  0        0   -r ⋅sin (θ)⎦"
      ]
     },
     "execution_count": 6,
     "metadata": {},
     "output_type": "execute_result"
    }
   ],
   "source": [
    "syms = sympy.symbols(\"t r theta phi\")\n",
    "G, M, c, a, w = sympy.symbols(\"G M c a w\")\n",
    "a = M*((sin(w*syms[0]))**2)\n",
    "print(a)\n",
    "# using metric values of schwarschild space-time\n",
    "# a is schwarzschild radius\n",
    "list2d = [[0 for i in range(4)] for i in range(4)]\n",
    "list2d[0][0] = (1 - (2*a / syms[1]))* (c ** 2)\n",
    "list2d[0][1] = 2*sin(w*syms[0])#need to have this switch from -ve to +ve so use sin?\n",
    "list2d[1][0] = 2*sin(w*syms[0])\n",
    "list2d[1][1] = -1 \n",
    "list2d[2][2] = -1 * (syms[1] ** 2) \n",
    "list2d[3][3] = -1 * (syms[1] ** 2) * (sympy.sin(syms[2]) ** 2)\n",
    "sch = MetricTensor(list2d, syms)\n",
    "sch.tensor()\n"
   ]
  },
  {
   "cell_type": "markdown",
   "metadata": {},
   "source": [
    "### Calculating the Einstein Tensor (with both indices covariant)"
   ]
  },
  {
   "cell_type": "code",
   "execution_count": 7,
   "metadata": {},
   "outputs": [
    {
     "data": {
      "text/latex": [
       "$\\displaystyle \\left[\\begin{matrix}\\frac{c^{2} \\left(2.0 M^{2} c^{2} \\sin^{4}{\\left(t w \\right)} - 1.5 M c^{2} r \\sin^{2}{\\left(t w \\right)} - 2.0 M r \\sin^{4}{\\left(t w \\right)} + 0.25 c^{2} r^{2} - 1.0 r^{3} w \\cos{\\left(t w \\right)} + 1.0 r^{2} \\sin^{2}{\\left(t w \\right)}\\right) \\sin^{2}{\\left(t w \\right)}}{r^{2} \\left(- 0.5 M c^{2} \\sin^{2}{\\left(t w \\right)} + 0.25 c^{2} r + 1.0 r \\sin^{2}{\\left(t w \\right)}\\right)^{2}} & \\frac{\\left(- 32.0 M c^{2} \\sin^{4}{\\left(t w \\right)} + 8.0 c^{2} r^{2} w \\cos{\\left(t w \\right)} + 8.0 c^{2} r \\sin^{2}{\\left(t w \\right)} + 32.0 r \\sin^{4}{\\left(t w \\right)}\\right) \\sin{\\left(t w \\right)}}{r \\left(- 2 M c^{2} \\sin^{2}{\\left(t w \\right)} + c^{2} r + 4 r \\sin^{2}{\\left(t w \\right)}\\right)^{2}} & 0 & 0\\\\\\frac{\\left(- 32.0 M c^{2} \\sin^{4}{\\left(t w \\right)} + 8.0 c^{2} r^{2} w \\cos{\\left(t w \\right)} + 8.0 c^{2} r \\sin^{2}{\\left(t w \\right)} + 32.0 r \\sin^{4}{\\left(t w \\right)}\\right) \\sin{\\left(t w \\right)}}{r \\left(- 2 M c^{2} \\sin^{2}{\\left(t w \\right)} + c^{2} r + 4 r \\sin^{2}{\\left(t w \\right)}\\right)^{2}} & \\frac{- 4.0 M^{2} c^{4} \\sin^{4}{\\left(t w \\right)} + 2.0 M c^{4} r \\sin^{2}{\\left(t w \\right)} + 24.0 M c^{2} r \\sin^{4}{\\left(t w \\right)} - 4.0 c^{2} r^{3} w \\cos{\\left(t w \\right)} - 4.0 c^{2} r^{2} \\sin^{2}{\\left(t w \\right)} - 16.0 r^{2} \\sin^{4}{\\left(t w \\right)}}{r^{2} \\left(- 2 M c^{2} \\sin^{2}{\\left(t w \\right)} + c^{2} r + 4 r \\sin^{2}{\\left(t w \\right)}\\right)^{2}} & 0 & 0\\\\0 & 0 & \\frac{c^{2} \\left(1.0 M^{2} c^{2} \\sin^{4}{\\left(t w \\right)} - M c^{2} r \\sin^{2}{\\left(t w \\right)} - 2.0 r^{3} w \\cos{\\left(t w \\right)}\\right)}{\\left(- 2 M c^{2} \\sin^{2}{\\left(t w \\right)} + c^{2} r + 4 r \\sin^{2}{\\left(t w \\right)}\\right)^{2}} & 0\\\\0 & 0 & 0 & \\frac{c^{2} \\left(1.0 M^{2} c^{2} \\sin^{4}{\\left(t w \\right)} - M c^{2} r \\sin^{2}{\\left(t w \\right)} - 2.0 r^{3} w \\cos{\\left(t w \\right)}\\right) \\sin^{2}{\\left(\\theta \\right)}}{\\left(- 2 M c^{2} \\sin^{2}{\\left(t w \\right)} + c^{2} r + 4 r \\sin^{2}{\\left(t w \\right)}\\right)^{2}}\\end{matrix}\\right]$"
      ],
      "text/plain": [
       "⎡ 2 ⎛     2  2    4               2      2                   4              2 \n",
       "⎢c ⋅⎝2.0⋅M ⋅c ⋅sin (t⋅w) - 1.5⋅M⋅c ⋅r⋅sin (t⋅w) - 2.0⋅M⋅r⋅sin (t⋅w) + 0.25⋅c ⋅\n",
       "⎢─────────────────────────────────────────────────────────────────────────────\n",
       "⎢                                                                             \n",
       "⎢                                    2 ⎛         2    2              2        \n",
       "⎢                                   r ⋅⎝- 0.5⋅M⋅c ⋅sin (t⋅w) + 0.25⋅c ⋅r + 1.0\n",
       "⎢                                                                             \n",
       "⎢               ⎛          2    4             2  2                   2      2 \n",
       "⎢               ⎝- 32.0⋅M⋅c ⋅sin (t⋅w) + 8.0⋅c ⋅r ⋅w⋅cos(t⋅w) + 8.0⋅c ⋅r⋅sin (\n",
       "⎢               ──────────────────────────────────────────────────────────────\n",
       "⎢                                                                             \n",
       "⎢                                          ⎛       2    2         2           \n",
       "⎢                                        r⋅⎝- 2⋅M⋅c ⋅sin (t⋅w) + c ⋅r + 4⋅r⋅si\n",
       "⎢                                                                             \n",
       "⎢                                                                             \n",
       "⎢                                                                             \n",
       "⎢                                                              0              \n",
       "⎢                                                                             \n",
       "⎢                                                                             \n",
       "⎢                                                                             \n",
       "⎢                                                                             \n",
       "⎢                                                                             \n",
       "⎢                                                                             \n",
       "⎢                                                              0              \n",
       "⎢                                                                             \n",
       "⎢                                                                             \n",
       "⎣                                                                             \n",
       "\n",
       " 2    3                   2    2     ⎞    2                          ⎛        \n",
       "r  - r ⋅w⋅cos(t⋅w) + 1.0⋅r ⋅sin (t⋅w)⎠⋅sin (t⋅w)                     ⎝- 32.0⋅M\n",
       "────────────────────────────────────────────────                     ─────────\n",
       "             2                                                                \n",
       "      2     ⎞                                                                 \n",
       "⋅r⋅sin (t⋅w)⎠                                                                 \n",
       "                                                                              \n",
       "                 4     ⎞                                 2  4    4            \n",
       "t⋅w) + 32.0⋅r⋅sin (t⋅w)⎠⋅sin(t⋅w)                 - 4.0⋅M ⋅c ⋅sin (t⋅w) + 2.0⋅\n",
       "─────────────────────────────────                 ────────────────────────────\n",
       "        2                                                                     \n",
       " 2     ⎞                                                                      \n",
       "n (t⋅w)⎠                                                                      \n",
       "                                                                              \n",
       "                                                                              \n",
       "                                                                              \n",
       "                                                                              \n",
       "                                                                              \n",
       "                                                                              \n",
       "                                                                              \n",
       "                                                                              \n",
       "                                                                              \n",
       "                                                                              \n",
       "                                                                              \n",
       "                                                                              \n",
       "                                                                              \n",
       "                                                                              \n",
       "\n",
       "  2    4             2  2                   2      2                  4     ⎞ \n",
       "⋅c ⋅sin (t⋅w) + 8.0⋅c ⋅r ⋅w⋅cos(t⋅w) + 8.0⋅c ⋅r⋅sin (t⋅w) + 32.0⋅r⋅sin (t⋅w)⎠⋅\n",
       "──────────────────────────────────────────────────────────────────────────────\n",
       "                                                             2                \n",
       "                  ⎛       2    2         2            2     ⎞                 \n",
       "                r⋅⎝- 2⋅M⋅c ⋅sin (t⋅w) + c ⋅r + 4⋅r⋅sin (t⋅w)⎠                 \n",
       "                                                                              \n",
       "   4      2                2      4             2  3                   2  2   \n",
       "M⋅c ⋅r⋅sin (t⋅w) + 24.0⋅M⋅c ⋅r⋅sin (t⋅w) - 4.0⋅c ⋅r ⋅w⋅cos(t⋅w) - 4.0⋅c ⋅r ⋅si\n",
       "──────────────────────────────────────────────────────────────────────────────\n",
       "                                                             2                \n",
       "                2 ⎛       2    2         2            2     ⎞                 \n",
       "               r ⋅⎝- 2⋅M⋅c ⋅sin (t⋅w) + c ⋅r + 4⋅r⋅sin (t⋅w)⎠                 \n",
       "                                                                              \n",
       "                                                                              \n",
       "                                                                              \n",
       "                                      0                                       \n",
       "                                                                              \n",
       "                                                                              \n",
       "                                                                              \n",
       "                                                                              \n",
       "                                                                              \n",
       "                                                                              \n",
       "                                      0                                       \n",
       "                                                                              \n",
       "                                                                              \n",
       "                                                                              \n",
       "\n",
       "                                                                              \n",
       "sin(t⋅w)                                                                      \n",
       "────────                                                    0                 \n",
       "                                                                              \n",
       "                                                                              \n",
       "                                                                              \n",
       "                                                                              \n",
       " 2              2    4                                                        \n",
       "n (t⋅w) - 16.0⋅r ⋅sin (t⋅w)                                                   \n",
       "───────────────────────────                                 0                 \n",
       "                                                                              \n",
       "                                                                              \n",
       "                                                                              \n",
       "                                                                              \n",
       "                              2 ⎛     2  2    4           2      2            \n",
       "                             c ⋅⎝1.0⋅M ⋅c ⋅sin (t⋅w) - M⋅c ⋅r⋅sin (t⋅w) - 2.0⋅\n",
       "                             ─────────────────────────────────────────────────\n",
       "                                                                              \n",
       "                                       ⎛       2    2         2            2  \n",
       "                                       ⎝- 2⋅M⋅c ⋅sin (t⋅w) + c ⋅r + 4⋅r⋅sin (t\n",
       "                                                                              \n",
       "                                                                              \n",
       "                                                                              \n",
       "                                                            0                 \n",
       "                                                                              \n",
       "                                                                              \n",
       "                                                                              \n",
       "\n",
       "                                                                              \n",
       "                                                                              \n",
       "                                                   0                          \n",
       "                                                                              \n",
       "                                                                              \n",
       "                                                                              \n",
       "                                                                              \n",
       "                                                                              \n",
       "                                                                              \n",
       "                                                   0                          \n",
       "                                                                              \n",
       "                                                                              \n",
       "                                                                              \n",
       "                                                                              \n",
       " 3           ⎞                                                                \n",
       "r ⋅w⋅cos(t⋅w)⎠                                                                \n",
       "──────────────                                     0                          \n",
       "    2                                                                         \n",
       "   ⎞                                                                          \n",
       "⋅w)⎠                                                                          \n",
       "                                                                              \n",
       "                 2 ⎛     2  2    4           2      2             3           \n",
       "                c ⋅⎝1.0⋅M ⋅c ⋅sin (t⋅w) - M⋅c ⋅r⋅sin (t⋅w) - 2.0⋅r ⋅w⋅cos(t⋅w)\n",
       "                ──────────────────────────────────────────────────────────────\n",
       "                                                                         2    \n",
       "                              ⎛       2    2         2            2     ⎞     \n",
       "                              ⎝- 2⋅M⋅c ⋅sin (t⋅w) + c ⋅r + 4⋅r⋅sin (t⋅w)⎠     \n",
       "\n",
       "         ⎤\n",
       "         ⎥\n",
       "         ⎥\n",
       "         ⎥\n",
       "         ⎥\n",
       "         ⎥\n",
       "         ⎥\n",
       "         ⎥\n",
       "         ⎥\n",
       "         ⎥\n",
       "         ⎥\n",
       "         ⎥\n",
       "         ⎥\n",
       "         ⎥\n",
       "         ⎥\n",
       "         ⎥\n",
       "         ⎥\n",
       "         ⎥\n",
       "         ⎥\n",
       "         ⎥\n",
       "         ⎥\n",
       "⎞    2   ⎥\n",
       "⎠⋅sin (θ)⎥\n",
       "─────────⎥\n",
       "         ⎥\n",
       "         ⎥\n",
       "         ⎦"
      ]
     },
     "execution_count": 7,
     "metadata": {},
     "output_type": "execute_result"
    }
   ],
   "source": [
    "einst = EinsteinTensor.from_metric(sch)\n",
    "einst.simplify()\n",
    "einst.tensor()\n",
    "#components explanation EG https://physics.stackexchange.com/questions/366560/stress-energy-tensor-components-spherical-coordinates"
   ]
  },
  {
   "cell_type": "code",
   "execution_count": 8,
   "metadata": {},
   "outputs": [],
   "source": [
    "# what is the Weyl tensor?\n",
    "#weyl = WeylTensor.from_metric(sch)\n",
    "#weyl.tensor() # all components!"
   ]
  },
  {
   "cell_type": "code",
   "execution_count": 13,
   "metadata": {},
   "outputs": [
    {
     "name": "stdout",
     "output_type": "stream",
     "text": [
      "(t, r, theta, phi, M, c, w)\n"
     ]
    },
    {
     "data": {
      "text/plain": [
       "Text(0.5, 1.0, 'T_01')"
      ]
     },
     "execution_count": 13,
     "metadata": {},
     "output_type": "execute_result"
    },
    {
     "data": {
      "image/png": "[encoded data removed]",
      "text/plain": [
       "<Figure size 432x288 with 1 Axes>"
      ]
     },
     "metadata": {
      "needs_background": "light"
     },
     "output_type": "display_data"
    }
   ],
   "source": [
    "###Plot something\n",
    "# first make the tensor into a function, printing \n",
    "args, func = einst.tensor_lambdify()\n",
    "print(args) # these are the argument values \n",
    "\n",
    "#Make x values - which we will sub in for r \n",
    "x = np.arange(1.2, 20.0, 0.04)\n",
    "func(0.5,x,0, 0, 1, 1, 1)[0][1]\n",
    "\n",
    "# Call the functions\n",
    "y = func(1.0,x,1, 1, 1, 1, 1)[0][1]\n",
    "z = -func(1.0,x,1, 1, 1, 1, 1)[2][2] # 0.1 to bring scale in\n",
    "fig=plt.figure()\n",
    "ax=fig.add_axes([0,2,1.0,1.0])\n",
    "ax.plot(x,y)\n",
    "ax.plot(x,z)\n",
    "ax.set_title(\"T_01\")\n",
    "\n",
    "\n"
   ]
  },
  {
   "cell_type": "code",
   "execution_count": null,
   "metadata": {},
   "outputs": [],
   "source": []
  },
  {
   "cell_type": "code",
   "execution_count": null,
   "metadata": {},
   "outputs": [],
   "source": []
  },
  {
   "cell_type": "code",
   "execution_count": null,
   "metadata": {},
   "outputs": [],
   "source": []
  }
 ],
 "metadata": {
  "kernelspec": {
   "display_name": "Python 3",
   "language": "python",
   "name": "python3"
  },
  "language_info": {
   "codemirror_mode": {
    "name": "ipython",
    "version": 3
   },
   "file_extension": ".py",
   "mimetype": "text/x-python",
   "name": "python",
   "nbconvert_exporter": "python",
   "pygments_lexer": "ipython3",
   "version": "3.9.5"
  }
 },
 "nbformat": 4,
 "nbformat_minor": 4
}
