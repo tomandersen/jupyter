{
 "cells": [
  {
   "cell_type": "markdown",
   "metadata": {},
   "source": [
    "# Einstein Tensor calculations using Symbolic module"
   ]
  },
  {
   "cell_type": "code",
   "execution_count": 6,
   "metadata": {},
   "outputs": [],
   "source": [
    "import sympy\n",
    "import matplotlib.pyplot as plt\n",
    "import numpy as np\n",
    "\n",
    "from sympy import symbols, sin, cos, sinh\n",
    "from einsteinpy.symbolic import EinsteinTensor, MetricTensor, WeylTensor\n",
    "\n",
    "sympy.init_printing()"
   ]
  },
  {
   "cell_type": "markdown",
   "metadata": {},
   "source": [
    "### Defining our time dependent metric as from equation 31\n",
    "https://docs.einsteinpy.org/en/latest/examples/Symbolically%20Understanding%20Christoffel%20Symbol%20and%20Riemann%20Curvature%20Tensor%20using%20EinsteinPy.html\n",
    "\n",
    "https://en.wikipedia.org/wiki/Vaidya_metric"
   ]
  },
  {
   "cell_type": "code",
   "execution_count": 7,
   "metadata": {},
   "outputs": [
    {
     "name": "stdout",
     "output_type": "stream",
     "text": [
      "M*(t*w + 1)\n"
     ]
    },
    {
     "name": "stderr",
     "output_type": "stream",
     "text": [
      "/opt/homebrew/Caskroom/miniforge/base/lib/python3.9/site-packages/IPython/lib/latextools.py:126: MatplotlibDeprecationWarning: \n",
      "The to_png function was deprecated in Matplotlib 3.4 and will be removed two minor releases later. Use mathtext.math_to_image instead.\n",
      "  mt.to_png(f, s, fontsize=12, dpi=dpi, color=color)\n",
      "/opt/homebrew/Caskroom/miniforge/base/lib/python3.9/site-packages/IPython/lib/latextools.py:126: MatplotlibDeprecationWarning: \n",
      "The to_rgba function was deprecated in Matplotlib 3.4 and will be removed two minor releases later. Use mathtext.math_to_image instead.\n",
      "  mt.to_png(f, s, fontsize=12, dpi=dpi, color=color)\n",
      "/opt/homebrew/Caskroom/miniforge/base/lib/python3.9/site-packages/IPython/lib/latextools.py:126: MatplotlibDeprecationWarning: \n",
      "The to_mask function was deprecated in Matplotlib 3.4 and will be removed two minor releases later. Use mathtext.math_to_image instead.\n",
      "  mt.to_png(f, s, fontsize=12, dpi=dpi, color=color)\n",
      "/opt/homebrew/Caskroom/miniforge/base/lib/python3.9/site-packages/IPython/lib/latextools.py:126: MatplotlibDeprecationWarning: \n",
      "The MathtextBackendBitmap class was deprecated in Matplotlib 3.4 and will be removed two minor releases later. Use mathtext.math_to_image instead.\n",
      "  mt.to_png(f, s, fontsize=12, dpi=dpi, color=color)\n"
     ]
    },
    {
     "data": {
      "text/latex": [
       "$\\displaystyle \\left[\\begin{matrix}c^{2} \\left(- \\frac{2 M \\left(t w + 1\\right)}{r} + 1\\right) & 2 & 0 & 0\\\\2 & -1 & 0 & 0\\\\0 & 0 & - r^{2} & 0\\\\0 & 0 & 0 & - r^{2} \\sin^{2}{\\left(\\theta \\right)}\\end{matrix}\\right]$"
      ],
      "text/plain": [
       "⎡ 2 ⎛  2⋅M⋅(t⋅w + 1)    ⎞                      ⎤\n",
       "⎢c ⋅⎜- ───────────── + 1⎟  2    0        0     ⎥\n",
       "⎢   ⎝        r          ⎠                      ⎥\n",
       "⎢                                              ⎥\n",
       "⎢           2              -1   0        0     ⎥\n",
       "⎢                                              ⎥\n",
       "⎢                                2             ⎥\n",
       "⎢           0              0   -r        0     ⎥\n",
       "⎢                                              ⎥\n",
       "⎢                                     2    2   ⎥\n",
       "⎣           0              0    0   -r ⋅sin (θ)⎦"
      ]
     },
     "execution_count": 7,
     "metadata": {},
     "output_type": "execute_result"
    }
   ],
   "source": [
    "syms = sympy.symbols(\"t r theta phi\")\n",
    "G, M, c, a, w = sympy.symbols(\"G M c a w\")\n",
    "a = M*(1+ w*syms[0])\n",
    "print(a)\n",
    "# using metric values of schwarschild space-time\n",
    "# a is schwarzschild radius\n",
    "list2d = [[0 for i in range(4)] for i in range(4)]\n",
    "list2d[0][0] = (1 - (2*a / syms[1]))* (c ** 2)\n",
    "list2d[0][1] = 2\n",
    "list2d[1][0] = 2\n",
    "list2d[1][1] = -1 \n",
    "list2d[2][2] = -1 * (syms[1] ** 2) \n",
    "list2d[3][3] = -1 * (syms[1] ** 2) * (sympy.sin(syms[2]) ** 2)\n",
    "sch = MetricTensor(list2d, syms)\n",
    "sch.tensor()\n"
   ]
  },
  {
   "cell_type": "markdown",
   "metadata": {},
   "source": [
    "### Calculating the Einstein Tensor (with both indices covariant)"
   ]
  },
  {
   "cell_type": "code",
   "execution_count": 8,
   "metadata": {},
   "outputs": [
    {
     "data": {
      "text/latex": [
       "$\\displaystyle \\left[\\begin{matrix}\\frac{c^{2} \\left(32.0 M^{2} c^{2} t^{2} w^{2} + 64.0 M^{2} c^{2} t w + 32.0 M^{2} c^{2} - 24.0 M c^{2} r t w - 24.0 M c^{2} r - 16.0 M r^{2} w - 32.0 M r t w - 32.0 M r + 4.0 c^{2} r^{2} + 16.0 r^{2}\\right)}{r^{2} \\left(4.0 M^{2} c^{4} t^{2} w^{2} + 8.0 M^{2} c^{4} t w + 4.0 M^{2} c^{4} - 4.0 M c^{4} r t w - 4.0 M c^{4} r - 16.0 M c^{2} r t w - 16.0 M c^{2} r + 1.0 c^{4} r^{2} + 8.0 c^{2} r^{2} + 16.0 r^{2}\\right)} & \\frac{8.0 M c^{2} r w - 32.0 M c^{2} t w - 32.0 M c^{2} + 8.0 c^{2} r + 32.0 r}{r \\left(4.0 M^{2} c^{4} t^{2} w^{2} + 8.0 M^{2} c^{4} t w + 4.0 M^{2} c^{4} - 4.0 M c^{4} r t w - 4.0 M c^{4} r - 16.0 M c^{2} r t w - 16.0 M c^{2} r + 1.0 c^{4} r^{2} + 8.0 c^{2} r^{2} + 16.0 r^{2}\\right)} & 0 & 0\\\\\\frac{8.0 M c^{2} r w - 32.0 M c^{2} t w - 32.0 M c^{2} + 8.0 c^{2} r + 32.0 r}{r \\left(4.0 M^{2} c^{4} t^{2} w^{2} + 8.0 M^{2} c^{4} t w + 4.0 M^{2} c^{4} - 4.0 M c^{4} r t w - 4.0 M c^{4} r - 16.0 M c^{2} r t w - 16.0 M c^{2} r + 1.0 c^{4} r^{2} + 8.0 c^{2} r^{2} + 16.0 r^{2}\\right)} & \\frac{- 4.0 M^{2} c^{4} t^{2} w^{2} - 8.0 M^{2} c^{4} t w - 4.0 M^{2} c^{4} + 2.0 M c^{4} r t w + 2.0 M c^{4} r - 4.0 M c^{2} r^{2} w + 24.0 M c^{2} r t w + 24.0 M c^{2} r - 4.0 c^{2} r^{2} - 16.0 r^{2}}{r^{2} \\left(4.0 M^{2} c^{4} t^{2} w^{2} + 8.0 M^{2} c^{4} t w + 4.0 M^{2} c^{4} - 4.0 M c^{4} r t w - 4.0 M c^{4} r - 16.0 M c^{2} r t w - 16.0 M c^{2} r + 1.0 c^{4} r^{2} + 8.0 c^{2} r^{2} + 16.0 r^{2}\\right)} & 0 & 0\\\\0 & 0 & \\frac{M c^{2} \\left(1.0 M c^{2} t^{2} w^{2} + 2.0 M c^{2} t w + 1.0 M c^{2} - 1.0 c^{2} r t w - 1.0 c^{2} r - 2.0 r^{2} w\\right)}{4.0 M^{2} c^{4} t^{2} w^{2} + 8.0 M^{2} c^{4} t w + 4.0 M^{2} c^{4} - 4.0 M c^{4} r t w - 4.0 M c^{4} r - 16.0 M c^{2} r t w - 16.0 M c^{2} r + 1.0 c^{4} r^{2} + 8.0 c^{2} r^{2} + 16.0 r^{2}} & 0\\\\0 & 0 & 0 & \\frac{M c^{2} \\left(1.0 M c^{2} t^{2} w^{2} + 2.0 M c^{2} t w + 1.0 M c^{2} - 1.0 c^{2} r t w - 1.0 c^{2} r - 2.0 r^{2} w\\right) \\sin^{2}{\\left(\\theta \\right)}}{4.0 M^{2} c^{4} t^{2} w^{2} + 8.0 M^{2} c^{4} t w + 4.0 M^{2} c^{4} - 4.0 M c^{4} r t w - 4.0 M c^{4} r - 16.0 M c^{2} r t w - 16.0 M c^{2} r + 1.0 c^{4} r^{2} + 8.0 c^{2} r^{2} + 16.0 r^{2}}\\end{matrix}\\right]$"
      ],
      "text/plain": [
       "⎡ 2 ⎛      2  2  2  2         2  2             2  2           2               \n",
       "⎢c ⋅⎝32.0⋅M ⋅c ⋅t ⋅w  + 64.0⋅M ⋅c ⋅t⋅w + 32.0⋅M ⋅c  - 24.0⋅M⋅c ⋅r⋅t⋅w - 24.0⋅M\n",
       "⎢─────────────────────────────────────────────────────────────────────────────\n",
       "⎢  2 ⎛     2  4  2  2        2  4            2  4          4                4 \n",
       "⎢ r ⋅⎝4.0⋅M ⋅c ⋅t ⋅w  + 8.0⋅M ⋅c ⋅t⋅w + 4.0⋅M ⋅c  - 4.0⋅M⋅c ⋅r⋅t⋅w - 4.0⋅M⋅c ⋅\n",
       "⎢                                                                             \n",
       "⎢                                                  2               2          \n",
       "⎢                                           8.0⋅M⋅c ⋅r⋅w - 32.0⋅M⋅c ⋅t⋅w - 32.\n",
       "⎢ ────────────────────────────────────────────────────────────────────────────\n",
       "⎢   ⎛     2  4  2  2        2  4            2  4          4                4  \n",
       "⎢ r⋅⎝4.0⋅M ⋅c ⋅t ⋅w  + 8.0⋅M ⋅c ⋅t⋅w + 4.0⋅M ⋅c  - 4.0⋅M⋅c ⋅r⋅t⋅w - 4.0⋅M⋅c ⋅r\n",
       "⎢                                                                             \n",
       "⎢                                                                             \n",
       "⎢                                                                             \n",
       "⎢                                                                        0    \n",
       "⎢                                                                             \n",
       "⎢                                                                             \n",
       "⎢                                                                             \n",
       "⎢                                                                             \n",
       "⎢                                                                             \n",
       "⎢                                                                        0    \n",
       "⎢                                                                             \n",
       "⎣                                                                             \n",
       "\n",
       "  2             2                                    2  2         2⎞          \n",
       "⋅c ⋅r - 16.0⋅M⋅r ⋅w - 32.0⋅M⋅r⋅t⋅w - 32.0⋅M⋅r + 4.0⋅c ⋅r  + 16.0⋅r ⎠          \n",
       "────────────────────────────────────────────────────────────────────   ───────\n",
       "            2                 2          4  2        2  2         2⎞     ⎛    \n",
       "r - 16.0⋅M⋅c ⋅r⋅t⋅w - 16.0⋅M⋅c ⋅r + 1.0⋅c ⋅r  + 8.0⋅c ⋅r  + 16.0⋅r ⎠   r⋅⎝4.0⋅\n",
       "                                                                              \n",
       "     2        2                                                              2\n",
       "0⋅M⋅c  + 8.0⋅c ⋅r + 32.0⋅r                                            - 4.0⋅M \n",
       "───────────────────────────────────────────────────────────────────   ────────\n",
       "           2                 2          4  2        2  2         2⎞     2 ⎛   \n",
       " - 16.0⋅M⋅c ⋅r⋅t⋅w - 16.0⋅M⋅c ⋅r + 1.0⋅c ⋅r  + 8.0⋅c ⋅r  + 16.0⋅r ⎠    r ⋅⎝4.0\n",
       "                                                                              \n",
       "                                                                              \n",
       "                                                                              \n",
       "                                                                              \n",
       "                                                                              \n",
       "                                                                              \n",
       "                                                                              \n",
       "                                                                              \n",
       "                                                                              \n",
       "                                                                              \n",
       "                                                                              \n",
       "                                                                              \n",
       "\n",
       "                                          2               2               2   \n",
       "                                   8.0⋅M⋅c ⋅r⋅w - 32.0⋅M⋅c ⋅t⋅w - 32.0⋅M⋅c  + \n",
       "──────────────────────────────────────────────────────────────────────────────\n",
       " 2  4  2  2        2  4            2  4          4                4           \n",
       "M ⋅c ⋅t ⋅w  + 8.0⋅M ⋅c ⋅t⋅w + 4.0⋅M ⋅c  - 4.0⋅M⋅c ⋅r⋅t⋅w - 4.0⋅M⋅c ⋅r - 16.0⋅M\n",
       "                                                                              \n",
       "  4  2  2        2  4            2  4          4                4            2\n",
       "⋅c ⋅t ⋅w  - 8.0⋅M ⋅c ⋅t⋅w - 4.0⋅M ⋅c  + 2.0⋅M⋅c ⋅r⋅t⋅w + 2.0⋅M⋅c ⋅r - 4.0⋅M⋅c \n",
       "──────────────────────────────────────────────────────────────────────────────\n",
       "  2  4  2  2        2  4            2  4          4                4          \n",
       "⋅M ⋅c ⋅t ⋅w  + 8.0⋅M ⋅c ⋅t⋅w + 4.0⋅M ⋅c  - 4.0⋅M⋅c ⋅r⋅t⋅w - 4.0⋅M⋅c ⋅r - 16.0⋅\n",
       "                                                                              \n",
       "                                                                              \n",
       "                                                                              \n",
       "                                                                0             \n",
       "                                                                              \n",
       "                                                                              \n",
       "                                                                              \n",
       "                                                                              \n",
       "                                                                              \n",
       "                                                                0             \n",
       "                                                                              \n",
       "                                                                              \n",
       "\n",
       "     2                                                                        \n",
       "8.0⋅c ⋅r + 32.0⋅r                                                             \n",
       "──────────────────────────────────────────────────────────                    \n",
       "  2                 2          4  2        2  2         2⎞                    \n",
       "⋅c ⋅r⋅t⋅w - 16.0⋅M⋅c ⋅r + 1.0⋅c ⋅r  + 8.0⋅c ⋅r  + 16.0⋅r ⎠                    \n",
       "                                                                              \n",
       "  2             2                 2          2  2         2                   \n",
       "⋅r ⋅w + 24.0⋅M⋅c ⋅r⋅t⋅w + 24.0⋅M⋅c ⋅r - 4.0⋅c ⋅r  - 16.0⋅r                    \n",
       "───────────────────────────────────────────────────────────                   \n",
       "   2                 2          4  2        2  2         2⎞                   \n",
       "M⋅c ⋅r⋅t⋅w - 16.0⋅M⋅c ⋅r + 1.0⋅c ⋅r  + 8.0⋅c ⋅r  + 16.0⋅r ⎠                   \n",
       "                                                                              \n",
       "                                                                              \n",
       "                                                                              \n",
       "                                                             ─────────────────\n",
       "                                                                  2  4  2  2  \n",
       "                                                             4.0⋅M ⋅c ⋅t ⋅w  +\n",
       "                                                                              \n",
       "                                                                              \n",
       "                                                                              \n",
       "                                                                              \n",
       "                                                                              \n",
       "                                                                              \n",
       "\n",
       "                                                                              \n",
       "                                                                              \n",
       "                                                    0                         \n",
       "                                                                              \n",
       "                                                                              \n",
       "                                                                              \n",
       "                                                                              \n",
       "                                                                              \n",
       "                                                    0                         \n",
       "                                                                              \n",
       "                                                                              \n",
       "                                                                              \n",
       "                  2 ⎛       2  2  2          2              2    2          2 \n",
       "               M⋅c ⋅⎝1.0⋅M⋅c ⋅t ⋅w  + 2.0⋅M⋅c ⋅t⋅w + 1.0⋅M⋅c  - c ⋅r⋅t⋅w - c ⋅\n",
       "──────────────────────────────────────────────────────────────────────────────\n",
       "      2  4            2  4          4                4             2          \n",
       " 8.0⋅M ⋅c ⋅t⋅w + 4.0⋅M ⋅c  - 4.0⋅M⋅c ⋅r⋅t⋅w - 4.0⋅M⋅c ⋅r - 16.0⋅M⋅c ⋅r⋅t⋅w - 1\n",
       "                                                                              \n",
       "                                                                              \n",
       "                                                                              \n",
       "                                                    0                         \n",
       "                                                                              \n",
       "                                                                              \n",
       "\n",
       "                                                                              \n",
       "                                                                              \n",
       "                                                                              \n",
       "                                                                              \n",
       "                                                                              \n",
       "                                                                              \n",
       "                                                                              \n",
       "                                                                              \n",
       "                                                                              \n",
       "                                                                              \n",
       "                                                                              \n",
       "                                                                              \n",
       "         2  ⎞                                                                 \n",
       "r - 2.0⋅r ⋅w⎠                                                                 \n",
       "────────────────────────────────────────────                                  \n",
       "       2          4  2        2  2         2                                  \n",
       "6.0⋅M⋅c ⋅r + 1.0⋅c ⋅r  + 8.0⋅c ⋅r  + 16.0⋅r                                   \n",
       "                                                                              \n",
       "                                                                             2\n",
       "                                                                          M⋅c \n",
       "                                              ────────────────────────────────\n",
       "                                                   2  4  2  2        2  4     \n",
       "                                              4.0⋅M ⋅c ⋅t ⋅w  + 8.0⋅M ⋅c ⋅t⋅w \n",
       "\n",
       "                                                                              \n",
       "                                                                              \n",
       "                                     0                                        \n",
       "                                                                              \n",
       "                                                                              \n",
       "                                                                              \n",
       "                                                                              \n",
       "                                                                              \n",
       "                                     0                                        \n",
       "                                                                              \n",
       "                                                                              \n",
       "                                                                              \n",
       "                                                                              \n",
       "                                                                              \n",
       "                                     0                                        \n",
       "                                                                              \n",
       "                                                                              \n",
       "                                                                              \n",
       " ⎛       2  2  2          2              2    2          2          2  ⎞    2 \n",
       "⋅⎝1.0⋅M⋅c ⋅t ⋅w  + 2.0⋅M⋅c ⋅t⋅w + 1.0⋅M⋅c  - c ⋅r⋅t⋅w - c ⋅r - 2.0⋅r ⋅w⎠⋅sin (\n",
       "──────────────────────────────────────────────────────────────────────────────\n",
       "       2  4          4                4             2                 2       \n",
       "+ 4.0⋅M ⋅c  - 4.0⋅M⋅c ⋅r⋅t⋅w - 4.0⋅M⋅c ⋅r - 16.0⋅M⋅c ⋅r⋅t⋅w - 16.0⋅M⋅c ⋅r + 1.\n",
       "\n",
       "                             ⎤\n",
       "                             ⎥\n",
       "                             ⎥\n",
       "                             ⎥\n",
       "                             ⎥\n",
       "                             ⎥\n",
       "                             ⎥\n",
       "                             ⎥\n",
       "                             ⎥\n",
       "                             ⎥\n",
       "                             ⎥\n",
       "                             ⎥\n",
       "                             ⎥\n",
       "                             ⎥\n",
       "                             ⎥\n",
       "                             ⎥\n",
       "                             ⎥\n",
       "                             ⎥\n",
       "                             ⎥\n",
       "θ)                           ⎥\n",
       "─────────────────────────────⎥\n",
       "   4  2        2  2         2⎥\n",
       "0⋅c ⋅r  + 8.0⋅c ⋅r  + 16.0⋅r ⎦"
      ]
     },
     "execution_count": 8,
     "metadata": {},
     "output_type": "execute_result"
    }
   ],
   "source": [
    "einst = EinsteinTensor.from_metric(sch)\n",
    "einst.simplify()\n",
    "einst.tensor()\n",
    "#components explanation EG https://physics.stackexchange.com/questions/366560/stress-energy-tensor-components-spherical-coordinates"
   ]
  },
  {
   "cell_type": "code",
   "execution_count": 9,
   "metadata": {},
   "outputs": [],
   "source": [
    "# what is the Weyl tensor?\n",
    "#weyl = WeylTensor.from_metric(sch)\n",
    "#weyl.tensor() # all components!"
   ]
  },
  {
   "cell_type": "code",
   "execution_count": 10,
   "metadata": {},
   "outputs": [
    {
     "name": "stdout",
     "output_type": "stream",
     "text": [
      "(t, r, theta, phi, M, c, w)\n"
     ]
    },
    {
     "data": {
      "text/plain": [
       "Text(0.5, 1.0, 'T_01')"
      ]
     },
     "execution_count": 10,
     "metadata": {},
     "output_type": "execute_result"
    },
    {
     "data": {
      "image/png": "[encoded data removed]",
      "text/plain": [
       "<Figure size 432x288 with 1 Axes>"
      ]
     },
     "metadata": {
      "needs_background": "light"
     },
     "output_type": "display_data"
    }
   ],
   "source": [
    "###Plot something\n",
    "# first make the tensor into a function, printing \n",
    "args, func = einst.tensor_lambdify()\n",
    "print(args) # these are the argument values \n",
    "\n",
    "#Make x values - which we will sub in for r \n",
    "x = np.arange(1.5, 20.0, 0.04)\n",
    "func(0.5,x,0, 0, 1, 1, 1)[0][1]\n",
    "\n",
    "# Call the functions\n",
    "y = func(1.0,x,1, 1, 1, 1, 1)[0][1]\n",
    "z = -func(1.0,x,1, 1, 1, 1, 1)[0][0] # 0.1 to bring scale in\n",
    "fig=plt.figure()\n",
    "ax=fig.add_axes([0,2,1.0,1.0])\n",
    "ax.plot(x,y)\n",
    "ax.plot(x,z)\n",
    "ax.set_title(\"T_01\")\n",
    "\n",
    "\n"
   ]
  },
  {
   "cell_type": "code",
   "execution_count": null,
   "metadata": {},
   "outputs": [],
   "source": []
  },
  {
   "cell_type": "code",
   "execution_count": null,
   "metadata": {},
   "outputs": [],
   "source": []
  },
  {
   "cell_type": "code",
   "execution_count": null,
   "metadata": {},
   "outputs": [],
   "source": []
  }
 ],
 "metadata": {
  "kernelspec": {
   "display_name": "Python 3",
   "language": "python",
   "name": "python3"
  },
  "language_info": {
   "codemirror_mode": {
    "name": "ipython",
    "version": 3
   },
   "file_extension": ".py",
   "mimetype": "text/x-python",
   "name": "python",
   "nbconvert_exporter": "python",
   "pygments_lexer": "ipython3",
   "version": "3.9.4"
  }
 },
 "nbformat": 4,
 "nbformat_minor": 4
}
