{
 "cells": [
  {
   "cell_type": "code",
   "execution_count": null,
   "metadata": {
    "collapsed": true
   },
   "outputs": [],
   "source": [
    "import time;\n",
    "import random;\n",
    "import os;\n",
    "from datetime import datetime"
   ]
  },
  {
   "cell_type": "code",
   "execution_count": null,
   "metadata": {},
   "outputs": [],
   "source": [
    "print(str(datetime.now()))"
   ]
  },
  {
   "cell_type": "code",
   "execution_count": null,
   "metadata": {},
   "outputs": [],
   "source": [
    "now = str(datetime.now());\n",
    "print(now  + \" Starting Notebook execution...\")\n",
    "os.system(\"echo '\" + now + \" Starting Notebook execution...'\")"
   ]
  },
  {
   "cell_type": "code",
   "execution_count": null,
   "metadata": {
    "collapsed": true
   },
   "outputs": [],
   "source": [
    "# sleep time.\n",
    "time.sleep(5);#5sec"
   ]
  },
  {
   "cell_type": "code",
   "execution_count": null,
   "metadata": {},
   "outputs": [],
   "source": [
    "now = str(datetime.now());\n",
    "print(now  + \" Now writing HelloWorld.txt file into job directory.\");\n",
    "os.system(\"echo '\" + now + \" Now writing HelloWorld.txt file into job directory.'\");\n",
    "\n",
    "\n",
    "jobsPath = None\n",
    "with open('/home/idies/keystone.token', 'r') as f:\n",
    "    jobsPath = f.read().rstrip('\\n')\n",
    "\n",
    "if jobsPath == \"\" or jobsPath == None:  \n",
    "    raise Exception(now + ' Could not read /home/idies/keystone.token') \n",
    "    \n",
    "print(now  + \" Was able to read /home/idies/keystone.token : \" + jobsPath);\n",
    "os.system(\"echo '\" + now + \" Was able to read /home/idies/keystone.token : \" + jobsPath +\"'\");\n",
    "\n",
    "\n",
    "target = open(\"HelloWorld.txt\", 'w')\n",
    "target.truncate()\n",
    "target.write(jobsPath)\n",
    "target.write(\"\\n\")\n",
    "target.close()\n",
    "\n",
    "print(now  + \" Finished writing HelloWorld.txt file into job directory.\");\n",
    "os.system(\"echo '\" + now + \" Finished writing HelloWorld.txt file into job directory.'\");"
   ]
  },
  {
   "cell_type": "code",
   "execution_count": null,
   "metadata": {
    "collapsed": true
   },
   "outputs": [],
   "source": [
    "now = str(datetime.now());\n",
    "parameters = None;\n",
    "with open('parameters.txt') as f:\n",
    "    parameters = f.read().rstrip('\\n')\n",
    "\n",
    "if parameters is None:\n",
    "    raise Exception('Could not read parameters.txt')\n",
    "    \n"
   ]
  },
  {
   "cell_type": "code",
   "execution_count": null,
   "metadata": {},
   "outputs": [],
   "source": [
    "now = str(datetime.now());\n",
    "print(now  + \" Ending TestNotebook execution.\");\n",
    "os.system(\"echo '\" + now + \" Ending TestNotebook execution.\");"
   ]
  }
 ],
 "metadata": {
  "kernelspec": {
   "display_name": "Python 3",
   "language": "python",
   "name": "python3"
  },
  "language_info": {
   "codemirror_mode": {
    "name": "ipython",
    "version": 3
   },
   "file_extension": ".py",
   "mimetype": "text/x-python",
   "name": "python",
   "nbconvert_exporter": "python",
   "pygments_lexer": "ipython3",
   "version": "3.6.5"
  }
 },
 "nbformat": 4,
 "nbformat_minor": 1
}
