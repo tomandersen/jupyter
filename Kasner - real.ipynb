{
 "cells": [
  {
   "cell_type": "markdown",
   "metadata": {},
   "source": [
    "# Kasner - with static mass"
   ]
  },
  {
   "cell_type": "code",
   "execution_count": 2,
   "metadata": {},
   "outputs": [],
   "source": [
    "import sympy\n",
    "import matplotlib.pyplot as plt\n",
    "import numpy as np\n",
    "from sympy import symbols, sin, cos, sinh, sqrt\n",
    "from einsteinpy.symbolic import EinsteinTensor, MetricTensor\n",
    "\n",
    "sympy.init_printing()"
   ]
  },
  {
   "cell_type": "markdown",
   "metadata": {},
   "source": [
    "### Defining our time dependent metric as from equation 31\n",
    "https://docs.einsteinpy.org/en/latest/examples/Symbolically%20Understanding%20Christoffel%20Symbol%20and%20Riemann%20Curvature%20Tensor%20using%20EinsteinPy.html\n",
    "\n",
    "Kasner eqn 31\n",
    "10.1139/cjp-2017-1001"
   ]
  },
  {
   "cell_type": "code",
   "execution_count": 3,
   "metadata": {},
   "outputs": [
    {
     "name": "stderr",
     "output_type": "stream",
     "text": [
      "/opt/homebrew/Caskroom/miniforge/base/lib/python3.9/site-packages/IPython/lib/latextools.py:126: MatplotlibDeprecationWarning: \n",
      "The to_png function was deprecated in Matplotlib 3.4 and will be removed two minor releases later. Use mathtext.math_to_image instead.\n",
      "  mt.to_png(f, s, fontsize=12, dpi=dpi, color=color)\n",
      "/opt/homebrew/Caskroom/miniforge/base/lib/python3.9/site-packages/IPython/lib/latextools.py:126: MatplotlibDeprecationWarning: \n",
      "The to_rgba function was deprecated in Matplotlib 3.4 and will be removed two minor releases later. Use mathtext.math_to_image instead.\n",
      "  mt.to_png(f, s, fontsize=12, dpi=dpi, color=color)\n",
      "/opt/homebrew/Caskroom/miniforge/base/lib/python3.9/site-packages/IPython/lib/latextools.py:126: MatplotlibDeprecationWarning: \n",
      "The to_mask function was deprecated in Matplotlib 3.4 and will be removed two minor releases later. Use mathtext.math_to_image instead.\n",
      "  mt.to_png(f, s, fontsize=12, dpi=dpi, color=color)\n",
      "/opt/homebrew/Caskroom/miniforge/base/lib/python3.9/site-packages/IPython/lib/latextools.py:126: MatplotlibDeprecationWarning: \n",
      "The MathtextBackendBitmap class was deprecated in Matplotlib 3.4 and will be removed two minor releases later. Use mathtext.math_to_image instead.\n",
      "  mt.to_png(f, s, fontsize=12, dpi=dpi, color=color)\n"
     ]
    },
    {
     "data": {
      "text/latex": [
       "$\\displaystyle \\left[\\begin{matrix}c^{2} \\left(1 - \\frac{- M t + 2 M}{r}\\right) & - c \\sqrt{\\frac{- M t + 2 M}{r}} & 0 & 0\\\\- c \\sqrt{\\frac{- M t + 2 M}{r}} & -1 & 0 & 0\\\\0 & 0 & - r^{2} & 0\\\\0 & 0 & 0 & - r^{2} \\sin^{2}{\\left(\\theta \\right)}\\end{matrix}\\right]$"
      ],
      "text/plain": [
       "⎡                            ____________                  ⎤\n",
       "⎢ 2 ⎛    -M⋅t + 2⋅M⎞        ╱ -M⋅t + 2⋅M                   ⎥\n",
       "⎢c ⋅⎜1 - ──────────⎟  -c⋅  ╱  ──────────    0        0     ⎥\n",
       "⎢   ⎝        r     ⎠     ╲╱       r                        ⎥\n",
       "⎢                                                          ⎥\n",
       "⎢       ____________                                       ⎥\n",
       "⎢      ╱ -M⋅t + 2⋅M                                        ⎥\n",
       "⎢-c⋅  ╱  ──────────           -1            0        0     ⎥\n",
       "⎢   ╲╱       r                                             ⎥\n",
       "⎢                                                          ⎥\n",
       "⎢                                            2             ⎥\n",
       "⎢         0                    0           -r        0     ⎥\n",
       "⎢                                                          ⎥\n",
       "⎢                                                 2    2   ⎥\n",
       "⎣         0                    0            0   -r ⋅sin (θ)⎦"
      ]
     },
     "execution_count": 3,
     "metadata": {},
     "output_type": "execute_result"
    }
   ],
   "source": [
    "syms = sympy.symbols(\"t r theta phi\")\n",
    "G, M, c, a, w = sympy.symbols(\"G M c a w\")\n",
    "a = 2*M - syms[0]*M\n",
    "#a = sqrt(2*M)*sin(w*syms[0])\n",
    "# using metric values of schwarschild space-time\n",
    "# a is schwarzschild radius\n",
    "list2d = [[0 for i in range(4)] for i in range(4)]\n",
    "list2d[0][0] = (1 - (a / syms[1]))* (c ** 2)\n",
    "list2d[0][1] = -1*sqrt(a/syms[1])*c\n",
    "list2d[1][0] = -1*sqrt(a/syms[1])*c\n",
    "list2d[1][1] = -1\n",
    "list2d[2][2] = -1 * (syms[1] ** 2)\n",
    "list2d[3][3] = -1 * (syms[1] ** 2) * (sympy.sin(syms[2]) ** 2)\n",
    "sch = MetricTensor(list2d, syms)\n",
    "sch.tensor()\n"
   ]
  },
  {
   "cell_type": "markdown",
   "metadata": {},
   "source": [
    "### Calculating the Einstein Tensor (with both indices covariant)"
   ]
  },
  {
   "cell_type": "code",
   "execution_count": 4,
   "metadata": {},
   "outputs": [
    {
     "data": {
      "text/latex": [
       "$\\displaystyle \\left[\\begin{matrix}\\frac{0.25 M^{2} c \\left(4.0 t - 8.0\\right)}{r^{3} \\sqrt{\\frac{M \\left(2 - t\\right)}{r}}} & - \\frac{1.0 M}{r^{2}} & 0 & 0\\\\- \\frac{1.0 M}{r^{2}} & - \\frac{1.0 M}{c r^{2} \\sqrt{- \\frac{M \\left(t - 2\\right)}{r}}} & 0 & 0\\\\0 & 0 & - \\frac{0.25 M}{c \\sqrt{- \\frac{M \\left(t - 2\\right)}{r}}} & 0\\\\0 & 0 & 0 & - \\frac{0.25 M \\sin^{2}{\\left(\\theta \\right)}}{c \\sqrt{- \\frac{M \\left(t - 2\\right)}{r}}}\\end{matrix}\\right]$"
      ],
      "text/plain": [
       "⎡      2                                                                      \n",
       "⎢0.25⋅M ⋅c⋅(4.0⋅t - 8.0)         -1.0⋅M                                       \n",
       "⎢───────────────────────         ───────                   0                  \n",
       "⎢          ___________               2                                        \n",
       "⎢    3    ╱ M⋅(2 - t)               r                                         \n",
       "⎢   r ⋅  ╱  ─────────                                                         \n",
       "⎢      ╲╱       r                                                             \n",
       "⎢                                                                             \n",
       "⎢        -1.0⋅M                  -1.0⋅M                                       \n",
       "⎢        ───────          ──────────────────────           0                  \n",
       "⎢            2                     _____________                              \n",
       "⎢           r                2    ╱ -M⋅(t - 2)                                \n",
       "⎢                         c⋅r ⋅  ╱  ───────────                               \n",
       "⎢                              ╲╱        r                                    \n",
       "⎢                                                                             \n",
       "⎢                                                       -0.25⋅M               \n",
       "⎢           0                       0             ───────────────────         \n",
       "⎢                                                       _____________         \n",
       "⎢                                                      ╱ -M⋅(t - 2)           \n",
       "⎢                                                 c⋅  ╱  ───────────          \n",
       "⎢                                                   ╲╱        r               \n",
       "⎢                                                                             \n",
       "⎢                                                                             \n",
       "⎢                                                                        -0.25\n",
       "⎢           0                       0                      0           ───────\n",
       "⎢                                                                            _\n",
       "⎢                                                                           ╱ \n",
       "⎢                                                                      c⋅  ╱  \n",
       "⎣                                                                        ╲╱   \n",
       "\n",
       "            ⎤\n",
       "            ⎥\n",
       "  0         ⎥\n",
       "            ⎥\n",
       "            ⎥\n",
       "            ⎥\n",
       "            ⎥\n",
       "            ⎥\n",
       "            ⎥\n",
       "  0         ⎥\n",
       "            ⎥\n",
       "            ⎥\n",
       "            ⎥\n",
       "            ⎥\n",
       "            ⎥\n",
       "            ⎥\n",
       "  0         ⎥\n",
       "            ⎥\n",
       "            ⎥\n",
       "            ⎥\n",
       "            ⎥\n",
       "            ⎥\n",
       "      2     ⎥\n",
       "⋅M⋅sin (θ)  ⎥\n",
       "────────────⎥\n",
       "____________⎥\n",
       "-M⋅(t - 2)  ⎥\n",
       "─────────── ⎥\n",
       "     r      ⎦"
      ]
     },
     "execution_count": 4,
     "metadata": {},
     "output_type": "execute_result"
    }
   ],
   "source": [
    "einst = EinsteinTensor.from_metric(sch)\n",
    "einst.simplify()\n",
    "einst.tensor()"
   ]
  },
  {
   "cell_type": "code",
   "execution_count": 7,
   "metadata": {},
   "outputs": [
    {
     "name": "stdout",
     "output_type": "stream",
     "text": [
      "(t, r, theta, phi, M, c)\n"
     ]
    },
    {
     "data": {
      "text/plain": [
       "Text(0.5, 1.0, 'T_01')"
      ]
     },
     "execution_count": 7,
     "metadata": {},
     "output_type": "execute_result"
    },
    {
     "data": {
      "image/png": "[encoded data removed]",
      "text/plain": [
       "<Figure size 432x288 with 1 Axes>"
      ]
     },
     "metadata": {
      "needs_background": "light"
     },
     "output_type": "display_data"
    }
   ],
   "source": [
    "# ###Plot something\n",
    "# IF mass is constant - nothing to plot, as we don't have a ricci tensor\n",
    "# first make the tensor into a function, printing \n",
    "args, func = einst.tensor_lambdify()\n",
    "print(args) # these are the argument values \n",
    "\n",
    "#Make x values - which we will sub in for r \n",
    "x = np.arange(1.2, 20.0, 0.04)\n",
    "func(0.5,x,0, 0, 1, 1)[0][1]\n",
    "\n",
    "# Call the functions\n",
    "y = func(1.0,x,1, 1, 1, 1)[0][1]\n",
    "z = 1/x**2*func(1.0,x,1, 1, 1, 1)[2][2] \n",
    "fig=plt.figure()\n",
    "ax=fig.add_axes([0,2,1.0,1.0])\n",
    "ax.plot(x,y)\n",
    "ax.plot(x,z)\n",
    "ax.set_title(\"T_01\")\n",
    "\n"
   ]
  },
  {
   "cell_type": "code",
   "execution_count": null,
   "metadata": {},
   "outputs": [],
   "source": []
  },
  {
   "cell_type": "code",
   "execution_count": null,
   "metadata": {},
   "outputs": [],
   "source": []
  }
 ],
 "metadata": {
  "kernelspec": {
   "display_name": "Python 3",
   "language": "python",
   "name": "python3"
  },
  "language_info": {
   "codemirror_mode": {
    "name": "ipython",
    "version": 3
   },
   "file_extension": ".py",
   "mimetype": "text/x-python",
   "name": "python",
   "nbconvert_exporter": "python",
   "pygments_lexer": "ipython3",
   "version": "3.9.4"
  }
 },
 "nbformat": 4,
 "nbformat_minor": 4
}
