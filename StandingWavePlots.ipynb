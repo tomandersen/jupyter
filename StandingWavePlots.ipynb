{
 "cells": [
  {
   "cell_type": "markdown",
   "id": "874a21b3-f8d1-4f42-97ef-c77fe009bc5e",
   "metadata": {},
   "source": [
    "###plotting some standing wave things\n",
    "\n"
   ]
  },
  {
   "cell_type": "code",
   "execution_count": 1,
   "id": "d3bc3656-db86-4fce-8069-cb6a3059da99",
   "metadata": {},
   "outputs": [],
   "source": [
    "import sympy\n",
    "import matplotlib.pyplot as plt\n",
    "import numpy as np\n",
    "\n",
    "from sympy import symbols, sin, cos, sinh\n",
    "from einsteinpy.symbolic import EinsteinTensor, MetricTensor, WeylTensor\n",
    "\n",
    "sympy.init_printing()\n",
    "\n",
    "from celluloid import Camera\n",
    "from IPython.display import Video\n",
    "\n"
   ]
  },
  {
   "cell_type": "code",
   "execution_count": 10,
   "id": "3421659e-41d1-4f8c-9d4f-4c687554adc8",
   "metadata": {},
   "outputs": [
    {
     "data": {
      "text/html": [
       "<video src=\"sum_animation.mp4\" controls  >\n",
       "      Your browser does not support the <code>video</code> element.\n",
       "    </video>"
      ],
      "text/plain": [
       "<IPython.core.display.Video object>"
      ]
     },
     "execution_count": 10,
     "metadata": {},
     "output_type": "execute_result"
    }
   ],
   "source": [
    "###Plot something\n",
    "# first make the tensor into a function, printing \n",
    "#t = sympy.symbols(\"t\")\n",
    "\n",
    "#Make x values - which we will sub in for r \n",
    "x = np.arange(0.0, 20.0, 0.01)\n",
    "#t = 0\n",
    "\n",
    "# Call the functions\n",
    "#y = (sin(x))**2\n",
    "#z = -func(-1.0,x,1, 1, 1, 1, 1)[2][2] # 0.1 to bring scale in\n",
    "#fig=plt.figure()\n",
    "fig, ax = plt.subplots(figsize=(12, 8))\n",
    "\n",
    "#ax=fig.add_axes([0,2,1.0,1.0])\n",
    "\n",
    "camera=Camera(fig)#Make a camera of the figure\n",
    "\n",
    "for T in np.linspace(0,2*np.pi,500):\n",
    "    #Our animation will have each frame be a different value of k from the list above  \n",
    "    #print(\"T is %f\" + str(T))\n",
    "    y = (np.sin(x - T))**2\n",
    "    z = (np.sin(x + T))**2\n",
    "    w = y + z\n",
    "    ax.plot(x,y)\n",
    "    ax.plot(x,z)\n",
    "    ax.plot(x,w)\n",
    "\n",
    "#     ax.plot(*parametric_spiral(t_list,k=K),c=colours[int(500*(np.pi-K)/np.pi)])\n",
    "    #For a given value of k, we'll plot our function with that k-value   \n",
    "    camera.snap()\n",
    "\n",
    "animation=camera.animate();#Make the animation\n",
    "plt.close() #Stop the empty plot from displaying\n",
    "animation.save('sum_animation.mp4',fps=500/45) #Save the animation-- notes below\n",
    "Video(\"sum_animation.mp4\") #Show the video you've just saved\n",
    "\n"
   ]
  },
  {
   "cell_type": "code",
   "execution_count": null,
   "id": "36ce63f2-ac20-492b-a3d8-325ab9495f62",
   "metadata": {},
   "outputs": [],
   "source": []
  },
  {
   "cell_type": "code",
   "execution_count": null,
   "id": "67b79762-cb20-441d-896a-5cd2c387184b",
   "metadata": {},
   "outputs": [],
   "source": []
  }
 ],
 "metadata": {
  "kernelspec": {
   "display_name": "Python 3",
   "language": "python",
   "name": "python3"
  },
  "language_info": {
   "codemirror_mode": {
    "name": "ipython",
    "version": 3
   },
   "file_extension": ".py",
   "mimetype": "text/x-python",
   "name": "python",
   "nbconvert_exporter": "python",
   "pygments_lexer": "ipython3",
   "version": "3.9.4"
  }
 },
 "nbformat": 4,
 "nbformat_minor": 5
}
