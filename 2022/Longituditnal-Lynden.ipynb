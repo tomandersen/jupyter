{
 "cells": [
  {
   "cell_type": "markdown",
   "id": "d923d52a-8c1e-40ce-b89d-abbdb1e2fca7",
   "metadata": {
    "tags": []
   },
   "source": [
    "Longitutinal as from Lynden"
   ]
  },
  {
   "cell_type": "code",
   "execution_count": 197,
   "id": "bec141e3-c364-4496-874e-073bb0edbc5d",
   "metadata": {},
   "outputs": [
    {
     "name": "stdout",
     "output_type": "stream",
     "text": [
      "0.4.0\n"
     ]
    }
   ],
   "source": [
    "import sympy\n",
    "import matplotlib.pyplot as plt\n",
    "import numpy as np\n",
    "import einsteinpy\n",
    "\n",
    "from sympy import symbols, sin, cos, sinh, ln, pi, sqrt\n",
    "from sympy.utilities.lambdify import lambdify\n",
    "\n",
    "from einsteinpy.symbolic import EinsteinTensor, MetricTensor, WeylTensor, RicciTensor, RicciScalar\n",
    "\n",
    "sympy.init_printing()\n",
    "print(einsteinpy.__version__)\n",
    "import warnings\n",
    "warnings.filterwarnings(\"ignore\", category=UserWarning)\n",
    "\n",
    "\n"
   ]
  },
  {
   "cell_type": "code",
   "execution_count": 198,
   "id": "fa5aa25e-84b7-4912-9449-e145cd7ca5d9",
   "metadata": {},
   "outputs": [],
   "source": [
    "from sympy.abc import M, R, A\n",
    "#lynden Bell 1985  Gravitational field energy density for spheres and black holes\n",
    "\n",
    "# a is r_bar in the lynden Bell paper, bottom of page 23p \n",
    "a = (R - M + sqrt(R*(R - 2*M)))/2  \n",
    "\n",
    "# E_d is The energy density relation in the lynden Bell paper, almost bottom of page 23p \n",
    "E_d = 1/(8*pi)*(M/((a**2)*((1 + M/(2*a)))**3))**2\n",
    "E_d\n",
    "\n",
    "# E_dA is directly using isotropic coords \n",
    "E_dA = 1/(8*pi)*(M/((A**2)*((1 + M/(2*A)))**3))**2\n",
    "\n",
    "\n",
    "#sympy.pprint(E_d)\n",
    "#E_dR = E_d.subs(a, a)  \n",
    "#E_dR = E_dR.simplify()"
   ]
  },
  {
   "cell_type": "code",
   "execution_count": 199,
   "id": "c4d4f6b3-0389-41d6-ba5a-d5aec84b08af",
   "metadata": {},
   "outputs": [
    {
     "data": {
      "image/png": "[encoded data removed]",
      "text/latex": [
       "$\\displaystyle \\frac{M^{2}}{8 \\pi \\left(- \\frac{M}{2} + \\frac{R}{2} + \\frac{\\sqrt{R \\left(- 2 M + R\\right)}}{2}\\right)^{4}}$"
      ],
      "text/plain": [
       "                 2               \n",
       "                M                \n",
       "─────────────────────────────────\n",
       "                                4\n",
       "    ⎛            ______________⎞ \n",
       "    ⎜  M   R   ╲╱ R⋅(-2⋅M + R) ⎟ \n",
       "8⋅π⋅⎜- ─ + ─ + ────────────────⎟ \n",
       "    ⎝  2   2          2        ⎠ "
      ]
     },
     "execution_count": 199,
     "metadata": {},
     "output_type": "execute_result"
    }
   ],
   "source": [
    "# E_d2 is the Lynden Bell - but approximated in the case of large r\n",
    "E_d2 = M**2/(8*pi*a**4)\n",
    "E_d2"
   ]
  },
  {
   "cell_type": "code",
   "execution_count": 200,
   "id": "3c4d36fc-d93c-49ce-9c75-17bfcdf859ca",
   "metadata": {},
   "outputs": [
    {
     "data": {
      "image/png": "[encoded data removed]",
      "text/latex": [
       "$\\displaystyle - \\frac{1 - \\frac{- \\frac{M}{R} + 1}{\\sqrt{- \\frac{2 M}{R} + 1}}}{4 \\pi R^{2}}$"
      ],
      "text/plain": [
       " ⎛          M        ⎞ \n",
       " ⎜        - ─ + 1    ⎟ \n",
       " ⎜          R        ⎟ \n",
       "-⎜1 - ───────────────⎟ \n",
       " ⎜        ___________⎟ \n",
       " ⎜       ╱   2⋅M     ⎟ \n",
       " ⎜      ╱  - ─── + 1 ⎟ \n",
       " ⎝    ╲╱      R      ⎠ \n",
       "───────────────────────\n",
       "              2        \n",
       "         4⋅π⋅R         "
      ]
     },
     "execution_count": 200,
     "metadata": {},
     "output_type": "execute_result"
    }
   ],
   "source": [
    "# E_d3 Brown York equation 6.18 divided by area of sphere\n",
    "E_d3 = -1/(4*pi)*(1 - (1 - M/R)/sqrt((1 - 2*M/R)))/R**2\n",
    "E_d3"
   ]
  },
  {
   "cell_type": "code",
   "execution_count": 214,
   "id": "8c8287ad-c751-41ea-9952-21f74ff34fd2",
   "metadata": {},
   "outputs": [
    {
     "data": {
      "text/plain": [
       "<matplotlib.legend.Legend at 0x142502340>"
      ]
     },
     "execution_count": 214,
     "metadata": {},
     "output_type": "execute_result"
    },
    {
     "data": {
      "image/png": "[encoded data removed]",
      "text/plain": [
       "<Figure size 576x288 with 1 Axes>"
      ]
     },
     "metadata": {
      "needs_background": "light"
     },
     "output_type": "display_data"
    }
   ],
   "source": [
    "#wave front velocity as a function of r\n",
    "# for a typical sine wave travelling along we have (v == velocity) \n",
    "#normalSin = sin(w*(syms[0] - syms[1]/v))\n",
    "#so for us we have a wave front velocity - just mult by r/r and v\n",
    "#normalSin = sin(w*(syms[0] - syms[1]/(syms[1]/ln(syms[1]*F)))\n",
    "#M = 1\n",
    "#Make x values - which we will sub in for r \n",
    "x = np.arange(4.0, 12, 0.01)\n",
    "func = lambdify([R,M], E_d, \"numpy\")\n",
    "func2 = lambdify([R,M], E_d2, \"numpy\")\n",
    "func3 = lambdify([R,M], E_d3, \"numpy\")\n",
    "func4 = lambdify([A,M], E_dA, \"numpy\")\n",
    "m_val = 1.0\n",
    "E_dVals = func(x, m_val)\n",
    "E_d2Vals = func2(x, m_val)\n",
    "E_d3Vals = func3(x, m_val)\n",
    "E_d4Vals = func4(x, m_val)\n",
    "#E_dVals = E_dR.evalf(subs={R: x})\n",
    "# print(E_dVals)\n",
    "# print(E_d2Vals)\n",
    "\n",
    "fig=plt.figure(figsize=(8, 4))\n",
    "ax=fig.add_axes([0,2,1.0,1.0])\n",
    "ax.plot(x,E_dVals, label=\"LB_density\")\n",
    "#ax.plot(x,E_d2Vals, label=\"E2_density\")\n",
    "ax.plot(x,E_d3Vals, label=\"Brown_density\")\n",
    "#ax.plot(x,E_d4Vals, label=\"LB_Iso_density\")\n",
    "\n",
    "ax.set_title(\"E_density\")\n",
    "\n",
    "ax.legend(loc=\"upper right\")\n"
   ]
  },
  {
   "cell_type": "markdown",
   "id": "3136f076-7e4e-49c7-8bf4-7c224b9d1523",
   "metadata": {},
   "source": [
    "# Energy density in York-Brown 1993 does not match the energy density in Lynden Bell as one approaches the BH"
   ]
  },
  {
   "cell_type": "markdown",
   "id": "3438a19f-7036-42f1-9a60-95a1e25663ad",
   "metadata": {},
   "source": [
    "## Various Wolfram links\n",
    "\n",
    "* York Brown Energy - derivative [wolfram ](https://www.wolframalpha.com/input?i=derivative+of+x%281+-+%281+-+2M%2Fx%29%5E%281%2F2%29%29).\n",
    "\n",
    "* (2M - York Brown Energy) - Lynden-Bell pag 24p - constant  [wolfram ](https://www.wolframalpha.com/input?i=simplify+2M+-+x%281+-+%281+-+2M%2Fx%29%5E%281%2F2%29%29+%2B+M%5E2%2F%28x+-+M+%2B+%28x%28x+-+2M%29%29%5E%281%2F2%29%29).\n",
    "    \n",
    "    So the York Brown Energy and the Lynden Bell one are related it seems. \n",
    "    \n",
    "    One measures energy inside a radius R, the other one outside a radius R, add them together, get a constant - the mass of the black hole.\n",
    "\n",
    "\n",
    "### "
   ]
  },
  {
   "cell_type": "code",
   "execution_count": null,
   "id": "cb989cde-d18b-4086-9cd2-e719e3a9b590",
   "metadata": {},
   "outputs": [],
   "source": []
  }
 ],
 "metadata": {
  "kernelspec": {
   "display_name": "Python 3 (ipykernel)",
   "language": "python",
   "name": "python3"
  },
  "language_info": {
   "codemirror_mode": {
    "name": "ipython",
    "version": 3
   },
   "file_extension": ".py",
   "mimetype": "text/x-python",
   "name": "python",
   "nbconvert_exporter": "python",
   "pygments_lexer": "ipython3",
   "version": "3.9.7"
  }
 },
 "nbformat": 4,
 "nbformat_minor": 5
}
