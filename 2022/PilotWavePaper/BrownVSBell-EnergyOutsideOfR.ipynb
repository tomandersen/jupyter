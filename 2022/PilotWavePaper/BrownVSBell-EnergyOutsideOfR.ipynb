{
 "cells": [
  {
   "cell_type": "markdown",
   "id": "12edecd0-9882-459b-8667-f021b2464825",
   "metadata": {},
   "source": [
    "# Compare Brown & York 1993 energy outside of R with lynden Bell 1985  \n",
    "\n",
    "### Lynden Bell and Katz: Gravitational field energy density for spheres and black holes\n",
    "### Brown and York: Quasilocal energy and conserved charges derived from the gravitational action"
   ]
  },
  {
   "cell_type": "code",
   "execution_count": 29,
   "id": "3357a838-9243-4ac0-b8ae-3c4dfc7b74e5",
   "metadata": {},
   "outputs": [
    {
     "name": "stdout",
     "output_type": "stream",
     "text": [
      "0.4.0\n"
     ]
    }
   ],
   "source": [
    "import sympy\n",
    "import matplotlib.pyplot as plt\n",
    "import numpy as np\n",
    "import einsteinpy\n",
    "\n",
    "from sympy import symbols, sin, cos, sinh, ln, pi, sqrt, diff\n",
    "from sympy.utilities.lambdify import lambdify\n",
    "\n",
    "from einsteinpy.symbolic import EinsteinTensor, MetricTensor, WeylTensor, RicciTensor, RicciScalar\n",
    "\n",
    "sympy.init_printing()\n",
    "print(einsteinpy.__version__)\n",
    "import warnings\n",
    "warnings.filterwarnings(\"ignore\", category=UserWarning)\n",
    "\n",
    "\n"
   ]
  },
  {
   "cell_type": "code",
   "execution_count": 30,
   "id": "0a068670-318c-4898-9f16-9ac0dd448a0f",
   "metadata": {},
   "outputs": [
    {
     "data": {
      "image/png": "[encoded data removed]",
      "text/latex": [
       "$\\displaystyle \\frac{M^{2}}{- M + R + \\sqrt{R \\left(- 2 M + R\\right)}}$"
      ],
      "text/plain": [
       "             2           \n",
       "            M            \n",
       "─────────────────────────\n",
       "           ______________\n",
       "-M + R + ╲╱ R⋅(-2⋅M + R) "
      ]
     },
     "execution_count": 30,
     "metadata": {},
     "output_type": "execute_result"
    }
   ],
   "source": [
    "from sympy.abc import M, R, A\n",
    "#lynden Bell 1985  Gravitational field energy density for spheres and black holes\n",
    "\n",
    "# Total field energy outside R, where r is the Scwharshcild R - Top page 24p \n",
    "E_O_LB = M**2/(R - M + sqrt(R*(R-2*M)))\n",
    "\n",
    "E_O_LB\n",
    "\n",
    "\n",
    "\n"
   ]
  },
  {
   "cell_type": "code",
   "execution_count": 36,
   "id": "0fe018bf-85f3-4303-baf3-92d8712fbd92",
   "metadata": {},
   "outputs": [
    {
     "data": {
      "image/png": "[encoded data removed]",
      "text/latex": [
       "$\\displaystyle \\frac{M^{2} \\left(-1 - \\frac{\\sqrt{R \\left(- 2 M + R\\right)} \\left(- M + R\\right)}{R \\left(- 2 M + R\\right)}\\right)}{\\left(- M + R + \\sqrt{R \\left(- 2 M + R\\right)}\\right)^{2}}$"
      ],
      "text/plain": [
       "   ⎛       ______________         ⎞\n",
       " 2 ⎜     ╲╱ R⋅(-2⋅M + R) ⋅(-M + R)⎟\n",
       "M ⋅⎜-1 - ─────────────────────────⎟\n",
       "   ⎝            R⋅(-2⋅M + R)      ⎠\n",
       "───────────────────────────────────\n",
       "                               2   \n",
       "    ⎛           ______________⎞    \n",
       "    ⎝-M + R + ╲╱ R⋅(-2⋅M + R) ⎠    "
      ]
     },
     "execution_count": 36,
     "metadata": {},
     "output_type": "execute_result"
    }
   ],
   "source": [
    "diff(E_O_LB, R)"
   ]
  },
  {
   "cell_type": "code",
   "execution_count": 37,
   "id": "f19079c9-4db7-40b8-88db-ef297e034de2",
   "metadata": {},
   "outputs": [
    {
     "data": {
      "image/png": "[encoded data removed]",
      "text/latex": [
       "$\\displaystyle \\frac{R \\left(1 - \\sqrt{- \\frac{2 M}{R} + 1}\\right)^{2}}{2}$"
      ],
      "text/plain": [
       "                       2\n",
       "  ⎛        ___________⎞ \n",
       "  ⎜       ╱   2⋅M     ⎟ \n",
       "R⋅⎜1 -   ╱  - ─── + 1 ⎟ \n",
       "  ⎝    ╲╱      R      ⎠ \n",
       "────────────────────────\n",
       "           2            "
      ]
     },
     "execution_count": 37,
     "metadata": {},
     "output_type": "execute_result"
    }
   ],
   "source": [
    "# Brown - York - equations 6.14, 6.16 and prose \"and the energy E**2/2R\n",
    "\n",
    "E_Y = R*(1 - sqrt(1 - 2*M/R))\n",
    "E_O_BY = E_Y**2/(2*R)\n",
    "#E_O_BY = (R*(1 - sqrt(1 - 2*M/R)))**2/(2*R)\n",
    "\n",
    "E_O_BY"
   ]
  },
  {
   "cell_type": "code",
   "execution_count": 38,
   "id": "fef7627c-9dad-4e68-9be4-efb82853d44f",
   "metadata": {},
   "outputs": [
    {
     "data": {
      "image/png": "[encoded data removed]",
      "text/latex": [
       "$\\displaystyle - \\frac{M \\left(1 - \\sqrt{- \\frac{2 M}{R} + 1}\\right)}{R \\sqrt{- \\frac{2 M}{R} + 1}} + \\frac{\\left(1 - \\sqrt{- \\frac{2 M}{R} + 1}\\right)^{2}}{2}$"
      ],
      "text/plain": [
       "                                                 2\n",
       "    ⎛        ___________⎞   ⎛        ___________⎞ \n",
       "    ⎜       ╱   2⋅M     ⎟   ⎜       ╱   2⋅M     ⎟ \n",
       "  M⋅⎜1 -   ╱  - ─── + 1 ⎟   ⎜1 -   ╱  - ─── + 1 ⎟ \n",
       "    ⎝    ╲╱      R      ⎠   ⎝    ╲╱      R      ⎠ \n",
       "- ─────────────────────── + ──────────────────────\n",
       "           ___________                2           \n",
       "          ╱   2⋅M                                 \n",
       "     R⋅  ╱  - ─── + 1                             \n",
       "       ╲╱      R                                  "
      ]
     },
     "execution_count": 38,
     "metadata": {},
     "output_type": "execute_result"
    }
   ],
   "source": [
    "diff(E_O_BY, R)\n"
   ]
  },
  {
   "cell_type": "code",
   "execution_count": 44,
   "id": "03e39a58-ecaf-43ad-ba38-36e0b3e66100",
   "metadata": {},
   "outputs": [
    {
     "data": {
      "image/png": "[encoded data removed]",
      "text/latex": [
       "$\\displaystyle \\frac{- M^{2} + \\left(- M + R + \\sqrt{R \\left(- 2 M + R\\right)}\\right) \\left(- M - R \\sqrt{\\frac{- 2 M + R}{R}} + R\\right)}{- M + R + \\sqrt{R \\left(- 2 M + R\\right)}}$"
      ],
      "text/plain": [
       "                                   ⎛           __________    ⎞\n",
       "   2   ⎛           ______________⎞ ⎜          ╱ -2⋅M + R     ⎟\n",
       "- M  + ⎝-M + R + ╲╱ R⋅(-2⋅M + R) ⎠⋅⎜-M - R⋅  ╱  ────────  + R⎟\n",
       "                                   ⎝       ╲╱      R         ⎠\n",
       "──────────────────────────────────────────────────────────────\n",
       "                             ______________                   \n",
       "                  -M + R + ╲╱ R⋅(-2⋅M + R)                    "
      ]
     },
     "execution_count": 44,
     "metadata": {},
     "output_type": "execute_result"
    }
   ],
   "source": [
    "#difference\n",
    "E_diff = E_O_BY - E_O_LB\n",
    "E_diff = E_diff.expand().expand()\n",
    "E_diff = E_diff.simplify()\n",
    "E_diff"
   ]
  },
  {
   "cell_type": "code",
   "execution_count": 27,
   "id": "cd24bb0e-fdb6-4aff-870e-cdc2947a275a",
   "metadata": {},
   "outputs": [
    {
     "data": {
      "text/plain": [
       "<matplotlib.legend.Legend at 0x1537cb850>"
      ]
     },
     "execution_count": 27,
     "metadata": {},
     "output_type": "execute_result"
    },
    {
     "data": {
      "image/png": "[encoded data removed]",
      "text/plain": [
       "<Figure size 576x288 with 1 Axes>"
      ]
     },
     "metadata": {
      "needs_background": "light"
     },
     "output_type": "display_data"
    }
   ],
   "source": [
    "#wave front velocity as a function of r\n",
    "# for a typical sine wave travelling along we have (v == velocity) \n",
    "#normalSin = sin(w*(syms[0] - syms[1]/v))\n",
    "#so for us we have a wave front velocity - just mult by r/r and v\n",
    "#normalSin = sin(w*(syms[0] - syms[1]/(syms[1]/ln(syms[1]*F)))\n",
    "#M = 1\n",
    "#Make x values - which we will sub in for r \n",
    "x = np.arange(2.0, 12, 0.01)\n",
    "funcLB = lambdify([R,M], E_O_LB, \"numpy\")\n",
    "funcBY = lambdify([R,M], E_O_BY, \"numpy\")\n",
    "funcD = lambdify([R,M], E_diff, \"numpy\")\n",
    "m_val = 1.0\n",
    "E_LB_vals = funcLB(x, m_val)\n",
    "E_BY_vals = funcBY(x, m_val)\n",
    "E_D_vals = funcD(x, m_val)\n",
    "\n",
    "fig=plt.figure(figsize=(8, 4))\n",
    "ax=fig.add_axes([0,2,1.0,1.0])\n",
    "ax.plot(x,E_LB_vals, label=\"LB Energy outside R\")\n",
    "ax.plot(x,E_BY_vals, label=\"Brown Energy outside R\")\n",
    "ax.plot(x,E_D_vals, label=\"Brown - LB - (diff)\")\n",
    "\n",
    "ax.set_title(\"Energy outside R\")\n",
    "\n",
    "ax.legend(loc=\"upper right\")\n"
   ]
  },
  {
   "cell_type": "markdown",
   "id": "9a9884af-8cbe-486c-ab87-1975f857462d",
   "metadata": {},
   "source": [
    "### So LB and Brown agree on this energy. Finite amount of energy (M) at R = 2M, "
   ]
  },
  {
   "cell_type": "code",
   "execution_count": null,
   "id": "3f4069b1-e6c4-46ac-9e34-2d705493a278",
   "metadata": {},
   "outputs": [],
   "source": []
  }
 ],
 "metadata": {
  "kernelspec": {
   "display_name": "Python 3 (ipykernel)",
   "language": "python",
   "name": "python3"
  },
  "language_info": {
   "codemirror_mode": {
    "name": "ipython",
    "version": 3
   },
   "file_extension": ".py",
   "mimetype": "text/x-python",
   "name": "python",
   "nbconvert_exporter": "python",
   "pygments_lexer": "ipython3",
   "version": "3.9.7"
  }
 },
 "nbformat": 4,
 "nbformat_minor": 5
}
