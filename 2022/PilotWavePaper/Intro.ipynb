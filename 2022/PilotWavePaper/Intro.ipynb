{
 "cells": [
  {
   "cell_type": "markdown",
   "id": "bf38f353-4179-4c64-869e-b925f0e16d65",
   "metadata": {},
   "source": [
    "# Pilot waves from General Relativity\n",
    "## Non-local, FTL, non-signalling, and more\n",
    "\n",
    "### Abstract\n",
    "The pilot wave theory as envisioned by de Broglie, enhanced and re popularized by Bohm, and realized in the lab by Yves Couder, John Bush and others is a base for a new quantum mechanics - an explanation of quantum behavoir if you will - that shows great promise. \n",
    "\n",
    "In this paper, we outline a way to potentially build a quantum potential, and the reaction mechanism of particles from General Relativity alone.  \n",
    "\n",
    "#### Incentives for developing a theory of pilot wave mechanics from General Relativity (GR):\n",
    "    * GR has a well defined physical and mathematical structure\n",
    "    * GR applies to all energy - (EM is only for charged particles, etc)\n",
    "    * May connect with the search for quantum gravity (might *be* QG) \n",
    "    * GR has a lot of free unused bandwidth - and nature tends to use bandwith\n",
    "    * No one seems to look into this avenue. \n",
    "    \n",
    "#### Potential problems with a theory of pilot wave mechanics from General Relativity (GR):\n",
    "    * GR is weak (*we will see that this is not the case*)\n",
    "    * QM takes place in a high (infinite?) dimensional Hilbert Space, GR has 4 dimensions\n",
    "    * GR is explictly local, with a speed limit of c, and thus will not generate Bell violations\n",
    "    * GR is weak (*its going to be hard to break that dogma!*)\n",
    "    * Particles are explained by the Standard Model, not Gravity.\n",
    "\n"
   ]
  },
  {
   "cell_type": "code",
   "execution_count": null,
   "id": "e395448a-ede9-4c5b-be67-63ca7a26fa02",
   "metadata": {},
   "outputs": [],
   "source": []
  }
 ],
 "metadata": {
  "kernelspec": {
   "display_name": "Python 3 (ipykernel)",
   "language": "python",
   "name": "python3"
  },
  "language_info": {
   "codemirror_mode": {
    "name": "ipython",
    "version": 3
   },
   "file_extension": ".py",
   "mimetype": "text/x-python",
   "name": "python",
   "nbconvert_exporter": "python",
   "pygments_lexer": "ipython3",
   "version": "3.9.7"
  }
 },
 "nbformat": 4,
 "nbformat_minor": 5
}
