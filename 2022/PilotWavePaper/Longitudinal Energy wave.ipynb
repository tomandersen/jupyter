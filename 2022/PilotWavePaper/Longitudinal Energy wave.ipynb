{
 "cells": [
  {
   "cell_type": "markdown",
   "id": "c5dc7cea-9199-417d-9cb7-33e61ed764a9",
   "metadata": {
    "tags": []
   },
   "source": [
    "# Longitudinal wave kinematics\n",
    "\n",
    "### Here I look at how a longitudinal wave of finite energy (some fraction F of M) would need to behave in order to work.\n",
    "\n",
    "### called kinematics, as I am basically guessing at the form of the wave based on hueristics. Thus a guess metric can be entered into the Einstein equations to deterime if it is a vacuum solution. "
   ]
  },
  {
   "cell_type": "markdown",
   "id": "ad407ce6-2c08-4a92-be08-1c8d1c88ba31",
   "metadata": {
    "tags": []
   },
   "source": [
    "### Longitudinal, radial wave\n",
    "\n",
    "<img src=\"img/longwave.jpg\" alt=\"Long wave\" width=\"500\"/>\n",
    "\n",
    "\n",
    "### Consider the wave as moving from left to right, say away from a Schwarschild solution on the left. \n",
    "    The wave is composed of pure \"Lynden-Bell Katz (1985) gravitational energy density\" and as such is not accompanied by any matter or EM energy. \n",
    "    \n",
    "#### Considerations:\n",
    " * The energy in the wave $ \\Delta T and \\Delta R $ across must total the delta mass $ M_1  - M_1 $ \n",
    " * The mass (by Birckoff's Theorem) must smoothly move from  $ M_2 $ to $ M_1 $ \n",
    "\n",
    "These two are enough to deterimine the length of a wave as a function of R and $ \\Delta M $\n"
   ]
  },
  {
   "cell_type": "markdown",
   "id": "96a4edc1-379d-4173-a639-04b34f658a53",
   "metadata": {
    "tags": []
   },
   "source": [
    "## LBK energy: \n",
    "From Birchoff on the right we have a measured mass (energy) inside R to change from  to change from $ M_2 $ to $ M1 $. \n",
    "\n",
    "This means the energy density in the $ \\Delta R $ over a spherical surface of radius $ R $\n",
    "\n",
    "$$ \\begin{equation}\n",
    "    E_D = \\frac{M_2 - M_1}{\\Delta R \\ 4 \\pi R^2} \n",
    "\\end{equation} $$\n",
    "\n",
    "BUT we are demanding that this energy come in the form of all gravitational energy density, so we also have (use approx for $ R \\gg M $ )\n",
    "\n",
    "$$  \\begin{equation}\n",
    "    E_D (LBK) = \\frac{G}{8 \\pi}  \\frac{((M_2 + M_1)/2)^2}{R^4}\n",
    "\\end{equation} $$\n",
    "\n",
    "We demand these energy densities to be equal so that all the energy can be expressed as gravitational energy, then solve for $ \\Delta R $, I add in $ c $ for units to be all correct here:\n",
    "\n",
    "$$  \\begin{equation}\n",
    "    \\Delta R  = \\frac{8 c^2 }{G} \\ R^2 \\ \\frac{M_2 - M_1}{(M_2 + M_1)^2}\n",
    "\\end{equation} $$\n",
    "\n",
    "We modelled one small increase in mass - a longitudinal wave, and find that the wavelength increases with the square of the distance from the black hole. \n",
    "\n",
    "### Wave velocity\n",
    "How do we get the wave velocity? It seems like there is no obvious velocity formula from energy considerations. \n",
    "\n",
    "Look instead at the driving frequency, the mass change happens over a period $ \\Delta t $ so the driving frequency sets the wave speed (?), just as the driving $ \\Delta M $ sets the wavelength parameterization.  \n"
   ]
  },
  {
   "cell_type": "code",
   "execution_count": 1,
   "id": "fdaba4ee-b379-44f5-9e16-98818af0c2c3",
   "metadata": {},
   "outputs": [
    {
     "name": "stdout",
     "output_type": "stream",
     "text": [
      "0.4.0\n"
     ]
    }
   ],
   "source": [
    "import sympy\n",
    "import matplotlib.pyplot as plt\n",
    "import numpy as np\n",
    "import einsteinpy\n",
    "\n",
    "from sympy import symbols, sin, cos, sinh, ln, pi, sqrt, diff\n",
    "from sympy.utilities.lambdify import lambdify\n",
    "\n",
    "from einsteinpy.symbolic import EinsteinTensor, MetricTensor, WeylTensor, RicciTensor, RicciScalar\n",
    "\n",
    "sympy.init_printing()\n",
    "print(einsteinpy.__version__)\n",
    "import warnings\n",
    "warnings.filterwarnings(\"ignore\", category=UserWarning)\n",
    "\n",
    "\n"
   ]
  },
  {
   "cell_type": "code",
   "execution_count": 2,
   "id": "9f156241-53c6-446b-a4eb-8cad6adfdb74",
   "metadata": {},
   "outputs": [
    {
     "data": {
      "image/png": "[encoded data removed]",
      "text/latex": [
       "$\\displaystyle \\frac{R^{2}}{M}$"
      ],
      "text/plain": [
       " 2\n",
       "R \n",
       "──\n",
       "M "
      ]
     },
     "execution_count": 2,
     "metadata": {},
     "output_type": "execute_result"
    }
   ],
   "source": [
    "# deltaR \n",
    "from sympy.abc import M, R, F, D\n",
    "#use geometric coords\n",
    "F = 1\n",
    "# F is fraction so we have F*M/M**2 which is F/M \n",
    "deltaR = R**2*F/M\n",
    "\n",
    "deltaR\n"
   ]
  },
  {
   "cell_type": "code",
   "execution_count": 3,
   "id": "255125e7-a5b6-4db4-9756-864e7077e624",
   "metadata": {},
   "outputs": [
    {
     "data": {
      "image/png": "[encoded data removed]",
      "text/latex": [
       "$\\displaystyle - \\frac{M R \\sqrt{\\frac{- 2 M + R}{R}}}{M + R \\sqrt{\\frac{- 2 M + R}{R}} - R}$"
      ],
      "text/plain": [
       "           __________   \n",
       "          ╱ -2⋅M + R    \n",
       "  -M⋅R⋅  ╱  ────────    \n",
       "       ╲╱      R        \n",
       "────────────────────────\n",
       "          __________    \n",
       "         ╱ -2⋅M + R     \n",
       "M + R⋅  ╱  ────────  - R\n",
       "      ╲╱      R         "
      ]
     },
     "execution_count": 3,
     "metadata": {},
     "output_type": "execute_result"
    }
   ],
   "source": [
    "#exact Brown and Lynden-Bell\n",
    "\n",
    "# E_d is energy densisty change condition that its all gravitational D === dR\n",
    "E_d = F*M/(D*4*pi*R**2)\n",
    "\n",
    "#exact Brown and Lynden-Bell\n",
    "\n",
    "#Brown \n",
    "E_d3 = -1/(4*pi)*(1 - (1 - M/R)/sqrt((1 - 2*M/R)))/R**2\n",
    "\n",
    "#Brown total \n",
    "#E_d + E_d3 = 0\n",
    "\n",
    "dR_BY = sympy.solve(E_d + E_d3, D)[0]\n",
    "\n",
    "dR_BY = -dR_BY\n",
    "\n",
    "dR_BY\n"
   ]
  },
  {
   "cell_type": "code",
   "execution_count": 4,
   "id": "f30f15be-6adf-4431-a63d-1c15717bcc05",
   "metadata": {},
   "outputs": [
    {
     "data": {
      "image/png": "[encoded data removed]",
      "text/latex": [
       "$\\displaystyle \\frac{\\left(R + \\sqrt{- R \\left(2 M - R\\right)}\\right)^{6}}{8 M R^{2} \\left(- M + R + \\sqrt{- R \\left(2 M - R\\right)}\\right)^{2}}$"
      ],
      "text/plain": [
       "                            6      \n",
       "      ⎛      ______________⎞       \n",
       "      ⎝R + ╲╱ -R⋅(2⋅M - R) ⎠       \n",
       "───────────────────────────────────\n",
       "                                  2\n",
       "     2 ⎛           ______________⎞ \n",
       "8⋅M⋅R ⋅⎝-M + R + ╲╱ -R⋅(2⋅M - R) ⎠ "
      ]
     },
     "execution_count": 4,
     "metadata": {},
     "output_type": "execute_result"
    }
   ],
   "source": [
    "#exact LB\n",
    "E_dLB = M**2/(8*pi*(M/(-M + R + sqrt(R*(-2*M + R))) + 1)**6*(-M/2 + R/2 + sqrt(R*(-2*M + R))/2)**4)\n",
    "\n",
    "dR_LB = sympy.solve(E_d + E_dLB, D)[0]\n",
    "\n",
    "dR_LB = -dR_LB\n",
    "\n",
    "dR_LB\n"
   ]
  },
  {
   "cell_type": "code",
   "execution_count": 5,
   "id": "873c54da-29b5-4b56-aeef-1e4c36908ff5",
   "metadata": {},
   "outputs": [
    {
     "data": {
      "text/plain": [
       "<matplotlib.legend.Legend at 0x10ffae230>"
      ]
     },
     "execution_count": 5,
     "metadata": {},
     "output_type": "execute_result"
    },
    {
     "data": {
      "image/png": "[encoded data removed]",
      "text/plain": [
       "<Figure size 800x400 with 1 Axes>"
      ]
     },
     "metadata": {},
     "output_type": "display_data"
    }
   ],
   "source": [
    "#wave front velocity as a function of r\n",
    "# for a typical sine wave travelling along we have (v == velocity) \n",
    "#normalSin = sin(w*(syms[0] - syms[1]/v))\n",
    "#so for us we have a wave front velocity - just mult by r/r and v\n",
    "#normalSin = sin(w*(syms[0] - syms[1]/(syms[1]/ln(syms[1]*F)))\n",
    "#M = 1\n",
    "#Make x values - which we will sub in for r \n",
    "x = np.arange(2.000, 2.01, 0.00001)\n",
    "func_deltaR = lambdify([R,M], deltaR, \"numpy\")\n",
    "func_deltaR_BY = lambdify([R,M], dR_BY, \"numpy\")\n",
    "func_deltaR_LB = lambdify([R,M], dR_LB, \"numpy\")\n",
    "m_val = 1.0\n",
    "func_deltaR_vals = func_deltaR(x, m_val)\n",
    "func_deltaR_BY_vals = func_deltaR_BY(x, m_val)\n",
    "func_deltaR_LB_vals = func_deltaR_LB(x, m_val)\n",
    "#print(func_deltaR_vals)\n",
    "fig=plt.figure(figsize=(8, 4))\n",
    "ax=fig.add_axes([0,2,1.0,1.0])\n",
    "#ax.plot(x,func_deltaR_vals, label=\"Approx wavelength\")\n",
    "ax.plot(x,func_deltaR_BY_vals, label=\"BY wavelength\")\n",
    "#ax.plot(x,func_deltaR_LB_vals, label=\"LB wavelength\")\n",
    "\n",
    "ax.set_title(\"Wavelength\")\n",
    "\n",
    "ax.legend(loc=\"upper right\")\n"
   ]
  },
  {
   "cell_type": "code",
   "execution_count": null,
   "id": "4ba3a061-8bb0-439e-843b-722c1b5ae159",
   "metadata": {},
   "outputs": [],
   "source": []
  },
  {
   "cell_type": "code",
   "execution_count": null,
   "id": "d4fd1a8d-e687-4ac0-8c94-c8810ee267e8",
   "metadata": {},
   "outputs": [],
   "source": []
  }
 ],
 "metadata": {
  "kernelspec": {
   "display_name": "Python 3 (ipykernel)",
   "language": "python",
   "name": "python3"
  },
  "language_info": {
   "codemirror_mode": {
    "name": "ipython",
    "version": 3
   },
   "file_extension": ".py",
   "mimetype": "text/x-python",
   "name": "python",
   "nbconvert_exporter": "python",
   "pygments_lexer": "ipython3",
   "version": "3.10.10"
  }
 },
 "nbformat": 4,
 "nbformat_minor": 5
}
