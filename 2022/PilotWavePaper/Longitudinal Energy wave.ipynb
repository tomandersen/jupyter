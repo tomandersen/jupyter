{
 "cells": [
  {
   "cell_type": "markdown",
   "id": "c5dc7cea-9199-417d-9cb7-33e61ed764a9",
   "metadata": {},
   "source": [
    "# Here I look at how a longitudinal wave of finite energy (some fraction F of M) would need to behave in order to work."
   ]
  },
  {
   "cell_type": "code",
   "execution_count": null,
   "id": "b3757a5e-37fd-4175-ab4b-8ac8f8a554d6",
   "metadata": {},
   "outputs": [],
   "source": []
  }
 ],
 "metadata": {
  "kernelspec": {
   "display_name": "Python 3 (ipykernel)",
   "language": "python",
   "name": "python3"
  },
  "language_info": {
   "codemirror_mode": {
    "name": "ipython",
    "version": 3
   },
   "file_extension": ".py",
   "mimetype": "text/x-python",
   "name": "python",
   "nbconvert_exporter": "python",
   "pygments_lexer": "ipython3",
   "version": "3.9.7"
  }
 },
 "nbformat": 4,
 "nbformat_minor": 5
}
