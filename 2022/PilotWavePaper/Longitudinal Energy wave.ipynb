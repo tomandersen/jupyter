{
 "cells": [
  {
   "cell_type": "markdown",
   "id": "c5dc7cea-9199-417d-9cb7-33e61ed764a9",
   "metadata": {
    "tags": []
   },
   "source": [
    "# Longitudinal wave kinematics\n",
    "\n",
    "### Here I look at how a longitudinal wave of finite energy (some fraction F of M) would need to behave in order to work.\n",
    "\n",
    "### called kinematics, as I am basically guessing at the form of the wave based on hueristics. Thus a guess metric can be entered into the Einstein equations to deterime if it is a vacuum solution. "
   ]
  },
  {
   "cell_type": "markdown",
   "id": "ad407ce6-2c08-4a92-be08-1c8d1c88ba31",
   "metadata": {
    "tags": []
   },
   "source": [
    "### Longitudinal, radial wave\n",
    "\n",
    "<img src=\"img/longwave.jpg\" alt=\"Long wave\" width=\"500\"/>\n",
    "\n",
    "\n",
    "### Consider the wave as moving from left to right, say away from a Schwarschild solution on the left. \n",
    "    The wave is composed of pure \"Lynden-Bell Katz (1985) gravitational energy density\" and as such is not accompanied by any matter or EM energy. \n",
    "    \n",
    "#### Considerations:\n",
    " * The energy in the wave $ \\Delta T and \\Delta R $ across must total the delta mass $ M_1  - M_1 $ \n",
    " * The mass (by Birckoff's Theorem) must smoothly move from  $ M_2 $ to $ M_1 $ \n",
    "\n",
    "These two are enough to deterimine the length of a wave as a function of R and $ \\Delta M $\n"
   ]
  },
  {
   "cell_type": "markdown",
   "id": "96a4edc1-379d-4173-a639-04b34f658a53",
   "metadata": {
    "tags": []
   },
   "source": [
    "## LBK energy: \n",
    "From Birchoff on the right we have a measured mass (energy) inside R to change from  to change from $ M_2 $ to $ M1 $. \n",
    "\n",
    "This means the energy density in the $ \\Delta R $ over a spherical surface of radius $ R $\n",
    "\n",
    "$$ \\begin{equation}\n",
    "    E_D = \\frac{M_2 - M_1}{\\Delta R \\ 4 \\pi R^2} \n",
    "\\end{equation} $$\n",
    "\n",
    "BUT we are demanding that this energy come in the form of all gravitational energy density, so we also have \n",
    "\n",
    "$$  \\begin{equation}\n",
    "    E_D (LBK) = \\frac{G}{8 \\pi}  \\frac{((M_2 + M_1)/2)^2}{R^4}\n",
    "\\end{equation} $$\n",
    "\n",
    "We demand these energy densities to be equal so that all the energy can be expressed as gravitational energy, then solve for $ \\Delta R $, I add in $ c $ for units to be all correct here:\n",
    "\n",
    "$$  \\begin{equation}\n",
    "    \\Delta R  = \\frac{8 c^2 }{G} \\ R^2 \\ \\frac{M_2 - M_1}{(M_2 + M_1)^2}\n",
    "\\end{equation} $$\n",
    "\n",
    "We modelled one small increase in mass - a longitudinal wave, and find that the wavelength increases with the square of the distance from the black hole. \n",
    "\n",
    "### Wave velocity\n",
    "How do we get the wave velocity? It seems like there is no obvious velocity formula from energy considerations. \n",
    "\n",
    "Look instead at the driving frequency, the mass change happens over a period $ \\Delta t $ so the driving frequency sets the wave speed? \n"
   ]
  },
  {
   "cell_type": "markdown",
   "id": "4581f020-9075-40ce-9967-b9d4b6aed353",
   "metadata": {},
   "source": []
  },
  {
   "cell_type": "code",
   "execution_count": null,
   "id": "9f156241-53c6-446b-a4eb-8cad6adfdb74",
   "metadata": {},
   "outputs": [],
   "source": []
  }
 ],
 "metadata": {
  "kernelspec": {
   "display_name": "Python 3 (ipykernel)",
   "language": "python",
   "name": "python3"
  },
  "language_info": {
   "codemirror_mode": {
    "name": "ipython",
    "version": 3
   },
   "file_extension": ".py",
   "mimetype": "text/x-python",
   "name": "python",
   "nbconvert_exporter": "python",
   "pygments_lexer": "ipython3",
   "version": "3.9.7"
  }
 },
 "nbformat": 4,
 "nbformat_minor": 5
}
