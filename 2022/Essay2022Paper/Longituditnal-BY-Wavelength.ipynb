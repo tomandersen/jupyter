{
 "cells": [
  {
   "cell_type": "markdown",
   "id": "d923d52a-8c1e-40ce-b89d-abbdb1e2fca7",
   "metadata": {
    "tags": []
   },
   "source": [
    "# BY Longitudinal wavelength vs R plot\n",
    "\n",
    "\n",
    "### Brown and York Schwarschild coord R\n",
    "\n",
    "Abstract: The longitidinal wavelength plunges to 0 at R = 2M, Tom wonders if we can get a reflection of an incoming wave with this mechanism?\n"
   ]
  },
  {
   "cell_type": "code",
   "execution_count": 11,
   "id": "bec141e3-c364-4496-874e-073bb0edbc5d",
   "metadata": {},
   "outputs": [
    {
     "name": "stdout",
     "output_type": "stream",
     "text": [
      "0.4.0\n"
     ]
    }
   ],
   "source": [
    "import sympy\n",
    "import matplotlib.pyplot as plt\n",
    "import numpy as np\n",
    "import einsteinpy\n",
    "\n",
    "from sympy import symbols, sin, cos, sinh, ln, pi, sqrt\n",
    "from sympy.utilities.lambdify import lambdify\n",
    "\n",
    "from einsteinpy.symbolic import EinsteinTensor, MetricTensor, WeylTensor, RicciTensor, RicciScalar\n",
    "\n",
    "sympy.init_printing()\n",
    "print(einsteinpy.__version__)\n",
    "import warnings\n",
    "warnings.filterwarnings(\"ignore\", category=UserWarning)\n",
    "\n",
    "\n"
   ]
  },
  {
   "cell_type": "code",
   "execution_count": 12,
   "id": "fa5aa25e-84b7-4912-9449-e145cd7ca5d9",
   "metadata": {
    "jupyter": {
     "source_hidden": true
    },
    "tags": []
   },
   "outputs": [],
   "source": [
    "from sympy.abc import M, R, A, D\n"
   ]
  },
  {
   "cell_type": "code",
   "execution_count": 13,
   "id": "3c4d36fc-d93c-49ce-9c75-17bfcdf859ca",
   "metadata": {},
   "outputs": [
    {
     "name": "stdout",
     "output_type": "stream",
     "text": [
      "(-M*sqrt((-2*M + R)/R) + 2*M + R*sqrt((-2*M + R)/R) - R)/(4*pi*R**2*(-2*M + R))\n"
     ]
    }
   ],
   "source": [
    "# E_d3 Brown York equation 6.18 divided by area of sphere\n",
    "# Brown York 6.18 is an equation for Energy changing when dR is changed, but we want energy density...\n",
    "E_d3 = -1/(4*pi)*(1 - (1 - M/R)/sqrt((1 - 2*M/R)))/R**2\n",
    "E_d3 = E_d3.expand().simplify()\n",
    "print(E_d3)"
   ]
  },
  {
   "cell_type": "code",
   "execution_count": 14,
   "id": "600d5878-3f61-49b9-9a3a-4bfd4575114f",
   "metadata": {},
   "outputs": [
    {
     "data": {
      "image/png": "[encoded data removed]",
      "text/latex": [
       "$\\displaystyle \\frac{D \\left(- 2 M + R\\right)}{- M \\sqrt{\\frac{- 2 M + R}{R}} + 2 M + R \\sqrt{\\frac{- 2 M + R}{R}} - R}$"
      ],
      "text/plain": [
       "                  D⋅(-2⋅M + R)                 \n",
       "───────────────────────────────────────────────\n",
       "        __________               __________    \n",
       "       ╱ -2⋅M + R               ╱ -2⋅M + R     \n",
       "- M⋅  ╱  ────────  + 2⋅M + R⋅  ╱  ────────  - R\n",
       "    ╲╱      R                ╲╱      R         "
      ]
     },
     "execution_count": 14,
     "metadata": {},
     "output_type": "execute_result"
    }
   ],
   "source": [
    "# Lamda wavelength (aka dR in some other work here) is for a wave of mass DeltaM (called D)\n",
    "l = D/E_d3/(4*pi*R**2)\n",
    "l"
   ]
  },
  {
   "cell_type": "code",
   "execution_count": 15,
   "id": "8c8287ad-c751-41ea-9952-21f74ff34fd2",
   "metadata": {},
   "outputs": [
    {
     "data": {
      "text/plain": [
       "<matplotlib.legend.Legend at 0x107bfa040>"
      ]
     },
     "execution_count": 15,
     "metadata": {},
     "output_type": "execute_result"
    },
    {
     "data": {
      "image/png": "[encoded data removed]",
      "text/plain": [
       "<Figure size 576x288 with 1 Axes>"
      ]
     },
     "metadata": {
      "needs_background": "light"
     },
     "output_type": "display_data"
    }
   ],
   "source": [
    "#wave front velocity as a function of r\n",
    "# for a typical sine wave travelling along we have (v == velocity) \n",
    "#normalSin = sin(w*(syms[0] - syms[1]/v))\n",
    "#so for us we have a wave front velocity - just mult by r/r and v\n",
    "#normalSin = sin(w*(syms[0] - syms[1]/(syms[1]/ln(syms[1]*F)))\n",
    "#M = 1\n",
    "#Make x values - which we will sub in for r \n",
    "\n",
    "#D is the DeltaM, so say D = 0.1\n",
    "\n",
    "x = np.arange(2.00000001, 2.02, 0.000001)\n",
    "func = lambdify([R,M, D], l, \"numpy\")\n",
    "func3 = lambdify([R,M], E_d3, \"numpy\")\n",
    "m_val = 1.0\n",
    "D_val = 0.0001\n",
    "lVals = func(x, m_val, D_val)\n",
    "E_d3Vals = func3(x, m_val)\n",
    "#print(lVals)\n",
    "#print(E_d3Vals)\n",
    "\n",
    "fig=plt.figure(figsize=(8, 4))\n",
    "ax=fig.add_axes([0,2,1.0,1.0])\n",
    "ax.plot(x,lVals, label=\"Wavelength\")\n",
    "#ax.plot(x,E_d3Vals, label=\"Brown_density\")\n",
    "\n",
    "ax.set_title(\"E_density\")\n",
    "\n",
    "ax.legend(loc=\"upper right\")\n"
   ]
  },
  {
   "cell_type": "markdown",
   "id": "3136f076-7e4e-49c7-8bf4-7c224b9d1523",
   "metadata": {},
   "source": [
    "# the BY longitudinal wavelength dives toward 0 at R = 2M"
   ]
  },
  {
   "cell_type": "markdown",
   "id": "3438a19f-7036-42f1-9a60-95a1e25663ad",
   "metadata": {},
   "source": [
    "## Various Wolfram links\n",
    "\n",
    "* York Brown Energy - derivative [wolfram ](https://www.wolframalpha.com/input?i=derivative+of+x%281+-+%281+-+2M%2Fx%29%5E%281%2F2%29%29).\n",
    "\n",
    "* (2M - York Brown Energy) - Lynden-Bell pag 24p - constant  [wolfram ](https://www.wolframalpha.com/input?i=simplify+2M+-+x%281+-+%281+-+2M%2Fx%29%5E%281%2F2%29%29+%2B+M%5E2%2F%28x+-+M+%2B+%28x%28x+-+2M%29%29%5E%281%2F2%29%29).\n",
    "    \n",
    "    So the York Brown Energy and the Lynden Bell one are related it seems. \n",
    "    \n",
    "    One measures energy inside a radius R, the other one outside a radius R, add them together, get a constant - the mass of the black hole.\n",
    "    \n",
    "    But if that is the case then why in the image do the energy densities not agree?\n",
    "\n",
    "\n",
    "### "
   ]
  },
  {
   "cell_type": "code",
   "execution_count": null,
   "id": "cb989cde-d18b-4086-9cd2-e719e3a9b590",
   "metadata": {},
   "outputs": [],
   "source": []
  }
 ],
 "metadata": {
  "kernelspec": {
   "display_name": "Python 3 (ipykernel)",
   "language": "python",
   "name": "python3"
  },
  "language_info": {
   "codemirror_mode": {
    "name": "ipython",
    "version": 3
   },
   "file_extension": ".py",
   "mimetype": "text/x-python",
   "name": "python",
   "nbconvert_exporter": "python",
   "pygments_lexer": "ipython3",
   "version": "3.9.7"
  }
 },
 "nbformat": 4,
 "nbformat_minor": 5
}
