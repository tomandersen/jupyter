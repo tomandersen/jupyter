{
 "cells": [
  {
   "cell_type": "markdown",
   "metadata": {
    "tags": []
   },
   "source": [
    "# Longitudinal Wave Metric Search - Birkoff\n",
    "## Metric is always Schwarschild - with varying mass at different radius\n",
    "So the mass inside R is what matters.\n",
    "\n",
    "Constant frequency, wavelength goes as R**2, so wave is superluminal, but not instant.\n"
   ]
  },
  {
   "cell_type": "code",
   "execution_count": 1,
   "metadata": {},
   "outputs": [
    {
     "name": "stdout",
     "output_type": "stream",
     "text": [
      "0.4.0\n"
     ]
    }
   ],
   "source": [
    "import sympy\n",
    "import matplotlib.pyplot as plt\n",
    "import numpy as np\n",
    "import einsteinpy\n",
    "\n",
    "from sympy import symbols, sin, cos, sinh, ln\n",
    "from einsteinpy.symbolic import EinsteinTensor, MetricTensor, WeylTensor, RicciTensor, RicciScalar\n",
    "\n",
    "sympy.init_printing()\n",
    "print(einsteinpy.__version__)\n",
    "import warnings\n",
    "warnings.filterwarnings(\"ignore\", category=UserWarning)\n",
    "\n"
   ]
  },
  {
   "cell_type": "markdown",
   "metadata": {},
   "source": [
    "# sin wave outgoing \n"
   ]
  },
  {
   "cell_type": "code",
   "execution_count": 2,
   "metadata": {},
   "outputs": [
    {
     "name": "stdout",
     "output_type": "stream",
     "text": [
      "-F*M*w*cos(w*(t - 1/(F*r*w)))\n",
      "-M*cos(w*(t - 1/(F*r*w)))/r**2\n"
     ]
    },
    {
     "data": {
      "image/png": "[encoded data removed]",
      "text/latex": [
       "$\\displaystyle \\left[\\begin{matrix}- \\frac{2 M \\left(- F \\sin{\\left(w \\left(t - \\frac{1}{F r w}\\right) \\right)} + 1\\right)}{r} + 1 & 0 & 0 & 0\\\\0 & \\frac{1}{- \\frac{2 M \\left(- F \\sin{\\left(w \\left(t - \\frac{1}{F r w}\\right) \\right)} + 1\\right)}{r} + 1} & 0 & 0\\\\0 & 0 & r^{2} & 0\\\\0 & 0 & 0 & r^{2} \\sin^{2}{\\left(\\theta \\right)}\\end{matrix}\\right]$"
      ],
      "text/plain": [
       "⎡      ⎛       ⎛  ⎛      1  ⎞⎞    ⎞                                                            ⎤\n",
       "⎢  2⋅M⋅⎜- F⋅sin⎜w⋅⎜t - ─────⎟⎟ + 1⎟                                                            ⎥\n",
       "⎢      ⎝       ⎝  ⎝    F⋅r⋅w⎠⎠    ⎠                                                            ⎥\n",
       "⎢- ──────────────────────────────── + 1                    0                     0       0     ⎥\n",
       "⎢                 r                                                                            ⎥\n",
       "⎢                                                                                              ⎥\n",
       "⎢                                                          1                                   ⎥\n",
       "⎢                  0                     ──────────────────────────────────────  0       0     ⎥\n",
       "⎢                                              ⎛       ⎛  ⎛      1  ⎞⎞    ⎞                    ⎥\n",
       "⎢                                          2⋅M⋅⎜- F⋅sin⎜w⋅⎜t - ─────⎟⎟ + 1⎟                    ⎥\n",
       "⎢                                              ⎝       ⎝  ⎝    F⋅r⋅w⎠⎠    ⎠                    ⎥\n",
       "⎢                                        - ──────────────────────────────── + 1                ⎥\n",
       "⎢                                                         r                                    ⎥\n",
       "⎢                                                                                              ⎥\n",
       "⎢                                                                                 2            ⎥\n",
       "⎢                  0                                       0                     r       0     ⎥\n",
       "⎢                                                                                              ⎥\n",
       "⎢                                                                                     2    2   ⎥\n",
       "⎣                  0                                       0                     0   r ⋅sin (θ)⎦"
      ]
     },
     "execution_count": 2,
     "metadata": {},
     "output_type": "execute_result"
    }
   ],
   "source": [
    "syms = sympy.symbols(\"t r theta phi\")\n",
    "G, M, F, a, w = sympy.symbols(\"G M F a w\")\n",
    "#a = M*(1 - F*sin(w*(syms[0] - 1/(w*F)*ln(syms[1])))) + M*(1 - F*sin(w*(syms[0] + 1/(w*F)*ln(syms[1]))))\n",
    "# use trig identities, standing waves result from in plus out\n",
    "Y = 10.0 # Y is a whacky factor - will Y != 1 make the stress energy tensor blow up?\n",
    "# Logarithimic \n",
    "#a = M*(1 - F*2*sin(w*syms[0])*cos(ln(syms[1])/(Y*F)))\n",
    "a = M*(1 - F*sin(w*(syms[0] - 1/(w*F)/syms[1])))\n",
    "\n",
    "#a = M*(1 - F*2*sin(w*syms[0]))\n",
    "\n",
    "\n",
    "\n",
    "mT = sympy.diff(a, syms[0])\n",
    "print(mT)\n",
    "mR = sympy.diff(a, syms[1])\n",
    "print(mR)\n",
    "\n",
    "\n",
    "# using metric values of schwarschild space-time\n",
    "# a is schwarzschild radius\n",
    "list2d = [[0 for i in range(4)] for i in range(4)]\n",
    "\n",
    "#take your pick\n",
    "#list2d[0][0] = -mT*mT/(mR*mR)/(1 - 2*a/syms[1])\n",
    "#list2d[0][0] = mT/mR/(1 - 2*a/syms[1])\n",
    "\n",
    "\n",
    "list2d[0][0] = (1 - 2*a/syms[1])\n",
    "\n",
    "list2d[0][1] = 0\n",
    "list2d[1][0] = 0\n",
    "list2d[1][1] = 1/(1 - 2*a/syms[1]) \n",
    "list2d[2][2] = (syms[1])**2\n",
    "list2d[3][3] = (syms[1])**2*(sympy.sin(syms[2]) ** 2)\n",
    "sch = MetricTensor(list2d, syms)\n",
    "sch.tensor()\n",
    "\n"
   ]
  },
  {
   "cell_type": "markdown",
   "metadata": {},
   "source": [
    "#### Figure above: The velocity is with c == 1, so superluminal happens quite fast. x axis is thus in Schwarshild radii\n",
    "\n",
    "### Calculating the Einstein Tensor (with both indices covariant)"
   ]
  },
  {
   "cell_type": "code",
   "execution_count": null,
   "metadata": {},
   "outputs": [],
   "source": [
    "einst = EinsteinTensor.from_metric(sch)\n",
    "#einst.simplify()\n",
    "einst.tensor()\n",
    "#components explanation EG https://physics.stackexchange.com/questions/366560/stress-energy-tensor-components-spherical-coordinates"
   ]
  },
  {
   "cell_type": "code",
   "execution_count": null,
   "metadata": {
    "tags": []
   },
   "outputs": [],
   "source": [
    "ri = RicciTensor.from_metric(sch)\n",
    "#ri.simplify()\n",
    "ri.tensor()\n",
    "#components explanation EG https://physics.stackexchange.com/questions/366560/stress-energy-tensor-components-spherical-coordinates"
   ]
  },
  {
   "cell_type": "code",
   "execution_count": null,
   "metadata": {},
   "outputs": [],
   "source": [
    "###Plot something\n",
    "# first make the tensor into a function, printing \n",
    "args, func = einst.tensor_lambdify()\n",
    "print(args) # these are the argument values \n",
    "\n",
    "theta = 1\n",
    "phi = 1\n",
    "F = 0.01\n",
    "M = 1\n",
    "w = 0.5\n",
    "t = 1\n",
    "\n",
    "\n",
    "#Make x values - which we will sub in for r \n",
    "x = np.arange(3.0, 20.0, 0.004)\n",
    "\n",
    "# Call the functions\n",
    "# note: what scale to use on these ? when is it appropriate to divide by r**2, etc? \n",
    "tt = func(t,x,theta, phi, F, M, w)[0][0]\n",
    "\n",
    "tr = func(t,x,theta, phi, F, M, w)[0][1]/(x*x)\n",
    "\n",
    "rr = func(t,x,theta, phi, F, M, w)[1][1]/(x*x)**2\n",
    "\n",
    "hh = func(t,x,theta, phi, F, M, w)[2][2]/(x*x)**2\n",
    "\n",
    "pp = func(t,x,theta, phi, F, M, w)[3][3]/(x*x*sin(theta)*sin(theta))**2\n",
    "\n",
    "\n",
    "fig=plt.figure(figsize=(10, 5))\n",
    "ax=fig.add_axes([0,2,1.0,1.0])\n",
    "\n",
    "ax.plot(x,hh, \"lightgrey\",label=\"θθ\", linewidth=6.0)\n",
    "ax.plot(x,pp, \"black\",label=\"φφ\", linewidth=0.5)\n",
    "\n",
    "#ax.plot(x,tt, \"-b\", label=\"tt\")\n",
    "ax.plot(x,rr, \"-g\", label=\"rr\")\n",
    "ax.plot(x,tr, \"-r\", label=\"tr\")\n",
    "\n",
    "ax.legend(loc=\"upper right\")\n",
    "ax.set_title(\"Einstein Tensor, G\")\n"
   ]
  },
  {
   "cell_type": "markdown",
   "metadata": {},
   "source": [
    "#NOT Zero \n"
   ]
  },
  {
   "cell_type": "code",
   "execution_count": null,
   "metadata": {},
   "outputs": [],
   "source": [
    "# Ricci scalar\n",
    "R = RicciScalar.from_riccitensor(ri)\n",
    "R.simplify()\n",
    "R.expr\n"
   ]
  },
  {
   "cell_type": "code",
   "execution_count": null,
   "metadata": {},
   "outputs": [],
   "source": [
    "#plot the Ricci scalar\n",
    "\n",
    "args, funcR = R.tensor_lambdify()\n",
    "print(args) # these are the argument values \n",
    "\n",
    "t = 5\n",
    "\n",
    "theta = 1\n",
    "phi = 1\n",
    "F = 0.01\n",
    "M = 1\n",
    "w = 0.5\n",
    "\n",
    "#Make x values - which we will sub in for r \n",
    "x = np.arange(10.0, 100.0, 0.04)\n",
    "\n",
    "# Call the functions\n",
    "ricci = funcR(t,x,theta, phi, F, M, w)\n",
    "\n",
    "fig=plt.figure(figsize=(8, 4))\n",
    "ax=fig.add_axes([0,2,1.0,1.0])\n",
    "ax.set_title(\"Ricci scalar\")\n",
    "ax.legend(loc=\"lower right\")\n",
    "ax.plot(x,ricci, label=\"Ricci scalar\")\n",
    "\n"
   ]
  },
  {
   "cell_type": "code",
   "execution_count": null,
   "metadata": {},
   "outputs": [],
   "source": [
    "# what is the Weyl tensor?\n",
    "weyl = WeylTensor.from_metric(sch)\n",
    "weyl.tensor() # all components!"
   ]
  },
  {
   "cell_type": "code",
   "execution_count": null,
   "metadata": {},
   "outputs": [],
   "source": [
    "weyl[0,1,0,1]"
   ]
  },
  {
   "cell_type": "code",
   "execution_count": null,
   "metadata": {},
   "outputs": [],
   "source": [
    "weyl[0,2,0,2]"
   ]
  },
  {
   "cell_type": "code",
   "execution_count": null,
   "metadata": {},
   "outputs": [],
   "source": [
    "###Plot something\n",
    "# first make the tensor into a function, printing \n",
    "args, func = weyl.tensor_lambdify()\n",
    "print(args) # these are the argument values \n",
    "\n",
    "t = 1\n",
    "\n",
    "theta = 1\n",
    "phi = 1\n",
    "F = 0.1\n",
    "M = 1\n",
    "w = 10\n",
    "\n",
    "\n",
    "\n",
    "#Make x values - which we will sub in for r \n",
    "x = np.arange(4, 20.0, 0.04)\n",
    "\n",
    "# Call the functions\n",
    "y = func(t,x,theta, phi, F, M, w)[0][1][0][1]/x\n",
    "z = -func(t,x,theta, phi, F, M, w)[0][2][0][2]/(x*x) # 0.1 to bring scale in\n",
    "fig=plt.figure()\n",
    "ax=fig.add_axes([0,2,1.0,1.0])\n",
    "ax.plot(x,y)\n",
    "ax.plot(x,z)\n",
    "ax.set_title(\"Weyl tensor\")\n",
    "\n",
    "\n"
   ]
  },
  {
   "cell_type": "code",
   "execution_count": null,
   "metadata": {},
   "outputs": [],
   "source": []
  },
  {
   "cell_type": "code",
   "execution_count": null,
   "metadata": {},
   "outputs": [],
   "source": []
  },
  {
   "cell_type": "code",
   "execution_count": null,
   "metadata": {},
   "outputs": [],
   "source": []
  }
 ],
 "metadata": {
  "kernelspec": {
   "display_name": "Python 3 (ipykernel)",
   "language": "python",
   "name": "python3"
  },
  "language_info": {
   "codemirror_mode": {
    "name": "ipython",
    "version": 3
   },
   "file_extension": ".py",
   "mimetype": "text/x-python",
   "name": "python",
   "nbconvert_exporter": "python",
   "pygments_lexer": "ipython3",
   "version": "3.9.7"
  }
 },
 "nbformat": 4,
 "nbformat_minor": 4
}
