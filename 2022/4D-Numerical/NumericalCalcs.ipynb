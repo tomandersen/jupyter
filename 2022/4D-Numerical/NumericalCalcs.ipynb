{
 "cells": [
  {
   "cell_type": "markdown",
   "id": "6530d518-6852-43a1-ae1f-a25cf5341674",
   "metadata": {
    "tags": []
   },
   "source": [
    "# Numerical Calcs\n",
    "## There will be fun\n"
   ]
  },
  {
   "cell_type": "markdown",
   "id": "8bfc77a5-8b21-4f7d-bf2e-d9880fff0eec",
   "metadata": {},
   "source": [
    "![alt-text](img/linearField.png \"Linearized Field\")\n",
    "https://en.wikipedia.org/wiki/Linearized_gravity\n",
    "\n"
   ]
  },
  {
   "cell_type": "markdown",
   "id": "1d932c48-955d-4a36-8b9e-d9da194c293e",
   "metadata": {},
   "source": [
    "![alt-text](img/zfpTheory.png \"zfp operates on blocks\")\n",
    "https://zfp.readthedocs.io/en/release0.5.5/overview.html\n"
   ]
  },
  {
   "cell_type": "code",
   "execution_count": 1,
   "id": "413de40c-29c0-45d7-ab7f-1ebb85062fe2",
   "metadata": {},
   "outputs": [
    {
     "name": "stdout",
     "output_type": "stream",
     "text": [
      "16.0\n"
     ]
    }
   ],
   "source": []
  },
  {
   "cell_type": "code",
   "execution_count": 6,
   "id": "f6004aef-511a-4e1f-b442-68a8de5dce9f",
   "metadata": {},
   "outputs": [
    {
     "name": "stdout",
     "output_type": "stream",
     "text": [
      "MB per block: 335.54432\n",
      "fraction of points on surface of block: 0.0625\n",
      "time for a block: 447.39242666666667 seconds.\n",
      "time for a sweep of 1280 grid  of 10000 blocks is 12.945382716049382 days.\n",
      "Grid is 1280^4, so total storage is 3.3554432000000003TB, memory when running is 1.34217728GB\n"
     ]
    }
   ],
   "source": [
    "# number of points per block\n",
    "N = 128\n",
    "bitsPerValue = 1\n",
    "componentCount = 10\n",
    "MB = N**4*bitsPerValue*componentCount/8/1e6\n",
    "print('MB per block: ' + str(MB))\n",
    "\n",
    "#surface area = N**3*8 (teseract surface area). \n",
    "\n",
    "#percent of blocks on surface\n",
    "fractionOnSurface = (N**3*8)/N**4\n",
    "print('fraction of points on surface of block: ' + str(fractionOnSurface))\n",
    "\n",
    "# time to do block:\n",
    "onePointFPInstructions = 5000\n",
    "speed = 3e9\n",
    "totalInstructions = onePointFPInstructions*N**4\n",
    "blockTime = totalInstructions/speed\n",
    "print('time for a block: ' + str(blockTime) + ' seconds.')\n",
    "\n",
    "\n",
    "\n",
    "# time to do entire run :\n",
    "M = 10\n",
    "blocks = M**4\n",
    "concurrency = 4\n",
    "totalTimePerSweep = blocks*blockTime/concurrency\n",
    "print('time for a sweep of ' + str(M*N) + ' grid  of ' + str(M**4) + ' blocks is ' + str(totalTimePerSweep/86400) + ' days.')\n",
    "\n",
    "GB = (M*N)**4*bitsPerValue*componentCount/8/1e9\n",
    "print('Grid is ' + str(M*N) + '^4, so total storage is ' + str(GB/1000) + 'TB, memory when running is ' + str(concurrency*MB/1000) + 'GB')\n",
    "\n",
    "# time to use seperate files for each block, a folder for each revision, and such. \n",
    "# driver process uses completed files\n",
    "\n",
    "# load into memory, 1GB/sec \n"
   ]
  },
  {
   "cell_type": "markdown",
   "id": "cfd53df7-50f1-4db9-99e1-4e938f390052",
   "metadata": {},
   "source": [
    "### plan is to have each block have its own arrays. Each block needs to be big eough so that the zfp can do its magic, and surface areas need to be cut so that overlaps on surfaces can work. "
   ]
  },
  {
   "cell_type": "code",
   "execution_count": 24,
   "id": "c4cc4a37-f4e2-42da-ba49-124c62911821",
   "metadata": {},
   "outputs": [
    {
     "name": "stdout",
     "output_type": "stream",
     "text": [
      "total normal blocks in one time slice: 280 total hig res blocks in one time slice: 8.\n",
      "total normal blocks: 6200 total high res blocks: 40.\n",
      "time for a normal block: 447.39242666666667 seconds.\n",
      "time for a hi res block: 7158.278826666667 seconds.\n",
      "Total simulation time per sweep: 7158.278826666667 seconds.\n",
      "time for a sweep of grid  of 6200 normal and 40 high res blocks is 0.7083713422222222 days.\n",
      "Total simulation time 21.251140266666667 days.\n"
     ]
    }
   ],
   "source": [
    "# multires\n",
    "# imagine (draw) a cube with a black hole at centre, \n",
    "# in 3D, ignoring time for now, we have for 3 levels of multires\n",
    "# 4^3 is 64 so for \n",
    "# Large 64 - 8 taken in central to be subdivided =  56\n",
    "# Those 8 are made into a 4x4x4 block of \n",
    "# Mediums - 64, but 8 taken for small blocks\n",
    "# Smalls 64 (we stop there)\n",
    "# so (4^4 - 8)*(L-1) + 4^4 blocks\n",
    "# central 8 are 256 on a side \n",
    "# all others are 128 on a side\n",
    "L = 5\n",
    "n128 = (4**3 - 8)*(L - 1) + 4**4 - 8\n",
    "# so \n",
    "n128 = (4**3 - 8)*L\n",
    "n256 = 8\n",
    "print('total normal blocks in one time slice: ' + str(n128) + ' total hig res blocks in one time slice: ' + str(n256) + '.')\n",
    "\n",
    "# how long we run the simulation for. Nt = 5 means that the time axis is 5x longer than the space axis. \n",
    "Nt = 5 \n",
    "# number of blocks in time direction is simply a multiplier on that\n",
    "n128t = (4**4 - 8)*L*Nt\n",
    "n256t = 8*Nt\n",
    "print('total normal blocks: ' + str(n128t) + ' total high res blocks: ' + str(n256t) + '.')\n",
    "\n",
    "# so \n",
    "blockTime128 = onePointFPInstructions*128**4/speed\n",
    "print('time for a normal block: ' + str(blockTime128) + ' seconds.')\n",
    "\n",
    "blockTime256 = onePointFPInstructions*256**4/speed\n",
    "print('time for a hi res block: ' + str(blockTime256) + ' seconds.')\n",
    "\n",
    "#total simulation time for one sweep:\n",
    "print('Total simulation time per sweep: ' + str(blockTime256) + ' seconds.')\n",
    "\n",
    "\n",
    "concurrency = 50\n",
    "totalTimePerSweep = n128t*blockTime128/concurrency + n256t*blockTime256/concurrency\n",
    "print('time for a sweep of grid  of ' + str(n128t) + ' normal and ' + str(n256t) + ' high res blocks is ' + str(totalTimePerSweep/86400) + ' days.')\n",
    "\n",
    "sweeps = 30\n",
    "print('Total simulation time '  + str(sweeps*totalTimePerSweep/86400) + ' days.')\n",
    "\n",
    "\n",
    "# Note that the time is obvisouly a guess, but in addition, the first sweep would be over a 256x256x256x256*Nt block, which would \n",
    "# subdivide into the smaller ones after a few sweeps. This helps with getting the solution approximated quickly across the grid\n",
    "\n",
    "\n",
    "\n"
   ]
  },
  {
   "cell_type": "code",
   "execution_count": null,
   "id": "5adbec84-2d95-47b2-a5b5-8749a7515ee5",
   "metadata": {},
   "outputs": [],
   "source": []
  },
  {
   "cell_type": "code",
   "execution_count": null,
   "id": "15850621-3eed-436e-b7ed-b6814a30614e",
   "metadata": {},
   "outputs": [],
   "source": []
  }
 ],
 "metadata": {
  "kernelspec": {
   "display_name": "Python 3 (ipykernel)",
   "language": "python",
   "name": "python3"
  },
  "language_info": {
   "codemirror_mode": {
    "name": "ipython",
    "version": 3
   },
   "file_extension": ".py",
   "mimetype": "text/x-python",
   "name": "python",
   "nbconvert_exporter": "python",
   "pygments_lexer": "ipython3",
   "version": "3.9.7"
  }
 },
 "nbformat": 4,
 "nbformat_minor": 5
}
