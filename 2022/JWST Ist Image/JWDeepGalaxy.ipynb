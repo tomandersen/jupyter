{
 "cells": [
  {
   "cell_type": "markdown",
   "id": "61427183-ecad-449c-8cea-ffdb8e1a3b64",
   "metadata": {},
   "source": [
    "# how far away are the dimmest smallest looking spirals in JWST \n",
    "### consider each sprial 50k pc across. \n",
    " image is 1 arc minutes top to bottom https://twitter.com/astrogrant/status/1504145878944264193?s=20&t=QHhrSPJw4vgSMG8WR5ojhA\n",
    "\n",
    "3438 x 5437 pixels, 3438 pixels is 100 arcsec, so 34 pixels per arc sec.\n",
    "\n",
    "At 14billion LY (5e9 pc)"
   ]
  },
  {
   "cell_type": "markdown",
   "id": "e90cc5c9-8b04-4d49-a3e7-f1db96072407",
   "metadata": {},
   "source": [
    "## Turnover Point\n",
    "The angular diameter distance {\\displaystyle d_{A}}d_{A} reaches a maximum at a redshift {\\displaystyle z=z_{t}}{\\displaystyle z=z_{t}} (in the ΛCDM model, this occurs at {\\displaystyle z_{t}\\approx 1.5}{\\displaystyle z_{t}\\approx 1.5}), such that the slope of {\\displaystyle d_{A}(z)}{\\displaystyle d_{A}(z)} changes sign at {\\displaystyle z=z_{t}}{\\displaystyle z=z_{t}}, or {\\displaystyle \\partial _{z}d_{A}>0~\\forall z<z_{t}}{\\displaystyle \\partial _{z}d_{A}>0~\\forall z<z_{t}}, {\\displaystyle \\partial _{z}d_{A}<0\\forall z>z_{t}}{\\displaystyle \\partial _{z}d_{A}<0\\forall z>z_{t}}. In reference to its appearance when plotted, {\\displaystyle z_{t}}z_{t} is sometimes referred to as the turnover point. Practically, this means that if we look at objects at increasing redshift (and thus objects that are increasingly far away) those at greater redshift will span a smaller angle on the sky only until {\\displaystyle z=z_{t}}{\\displaystyle z=z_{t}}, above which the objects will begin to span greater angles on the sky at greater redshift. The turnover point seems paradoxical because it contradicts our intuition that the farther something is, the smaller it will appear.\n",
    "\n",
    "The turnover point occurs because of the expansion of the universe and the finite speed of light. Because the universe is expanding, objects that are now very distant were once much nearer. Because the speed of light is finite, the light reaching us from these now-distant objects must have left them long ago when they were nearer and spanned a larger angle on the sky. The turnover point can therefore tell us about the rate of expansion of the universe (or the relationship between the expansion rate and the speed of light if we do not assume the latter to be constant)."
   ]
  },
  {
   "cell_type": "code",
   "execution_count": 6,
   "id": "09bb80ed-7a32-41a8-8d17-0aa21a93b11b",
   "metadata": {},
   "outputs": [
    {
     "data": {
      "text/plain": [
       "70.1301"
      ]
     },
     "execution_count": 6,
     "metadata": {},
     "output_type": "execute_result"
    }
   ],
   "source": [
    "#size of MW in arcsec at 5e9pc\n",
    "\n",
    "# bogus calc - way to do it here https://en.wikipedia.org/wiki/Angular_diameter_distance \n",
    "\n",
    "# see angular size redshit relation image, a galaxy at z = 8 is the same size as one at z = 0.5 so roughly speaking, \n",
    "# Spherical cow assumption - ALL DISTANT GALAXIES ARE THE SAME ANGULAR SIZE\n",
    "\n",
    "ArcSecPerRadian = 206265\n",
    "PixelsPerArcSec = 34\n",
    "DistanceToGalaxyPC = 5e9\n",
    "SizeOfGalaxyPC = 50e3\n",
    "\n",
    "SizeOFMilkyWayPixels = SizeOfGalaxyPC/DistanceToGalaxyPC*ArcSecPerRadian*PixelsPerArcSec\n",
    "SizeOFMilkyWayPixels"
   ]
  },
  {
   "cell_type": "code",
   "execution_count": null,
   "id": "0d278c45-a947-4456-883b-b825eaceac11",
   "metadata": {},
   "outputs": [],
   "source": []
  },
  {
   "cell_type": "code",
   "execution_count": null,
   "id": "37d57ffb-c1aa-4a14-85c0-78f0403df109",
   "metadata": {},
   "outputs": [],
   "source": []
  }
 ],
 "metadata": {
  "kernelspec": {
   "display_name": "Python 3 (ipykernel)",
   "language": "python",
   "name": "python3"
  },
  "language_info": {
   "codemirror_mode": {
    "name": "ipython",
    "version": 3
   },
   "file_extension": ".py",
   "mimetype": "text/x-python",
   "name": "python",
   "nbconvert_exporter": "python",
   "pygments_lexer": "ipython3",
   "version": "3.9.7"
  }
 },
 "nbformat": 4,
 "nbformat_minor": 5
}
