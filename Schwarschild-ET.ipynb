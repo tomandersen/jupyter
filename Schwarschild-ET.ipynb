{
 "cells": [
  {
   "cell_type": "markdown",
   "metadata": {},
   "source": [
    "# Schwarshild coordinates Einstein Tensor calculations using Symbolic module"
   ]
  },
  {
   "cell_type": "code",
   "execution_count": 1,
   "metadata": {},
   "outputs": [],
   "source": [
    "import sympy\n",
    "import matplotlib.pyplot as plt\n",
    "import numpy as np\n",
    "\n",
    "from sympy import symbols, sin, cos, sinh\n",
    "from einsteinpy.symbolic import EinsteinTensor, MetricTensor, WeylTensor, RicciTensor\n",
    "\n",
    "sympy.init_printing()"
   ]
  },
  {
   "cell_type": "markdown",
   "metadata": {},
   "source": [
    "### Use plain coordinates. \n",
    "\n"
   ]
  },
  {
   "cell_type": "markdown",
   "metadata": {},
   "source": [
    "![alt-text](img/schwarschild.png \"Schwarschild coords\")\n"
   ]
  },
  {
   "cell_type": "code",
   "execution_count": 3,
   "metadata": {},
   "outputs": [
    {
     "data": {
      "text/latex": [
       "$\\displaystyle \\left[\\begin{matrix}\\frac{2 M}{r} - 1 & 0 & 0 & 0\\\\0 & \\frac{1}{- \\frac{2 M}{r} + 1} & 0 & 0\\\\0 & 0 & r^{2} & 0\\\\0 & 0 & 0 & r^{2} \\sin^{2}{\\left(\\theta \\right)}\\end{matrix}\\right]$"
      ],
      "text/plain": [
       "⎡2⋅M                               ⎤\n",
       "⎢─── - 1      0      0       0     ⎥\n",
       "⎢ r                                ⎥\n",
       "⎢                                  ⎥\n",
       "⎢             1                    ⎥\n",
       "⎢   0     ─────────  0       0     ⎥\n",
       "⎢           2⋅M                    ⎥\n",
       "⎢         - ─── + 1                ⎥\n",
       "⎢            r                     ⎥\n",
       "⎢                                  ⎥\n",
       "⎢                     2            ⎥\n",
       "⎢   0         0      r       0     ⎥\n",
       "⎢                                  ⎥\n",
       "⎢                         2    2   ⎥\n",
       "⎣   0         0      0   r ⋅sin (θ)⎦"
      ]
     },
     "execution_count": 3,
     "metadata": {},
     "output_type": "execute_result"
    }
   ],
   "source": [
    "syms = sympy.symbols(\"t r theta phi\")\n",
    "G, M, c, a, w = sympy.symbols(\"G M c a w\")\n",
    "a = 2*M\n",
    "# using metric values of schwarschild space-time\n",
    "# a is schwarzschild radius\n",
    "list2d = [[0 for i in range(4)] for i in range(4)]\n",
    "list2d[0][0] = -(1 - a/syms[1])\n",
    "list2d[0][1] = 0\n",
    "list2d[1][0] = 0\n",
    "list2d[1][1] = 1/(1 - a/syms[1]) \n",
    "list2d[2][2] = (syms[1])**2\n",
    "list2d[3][3] = (syms[1])**2*(sympy.sin(syms[2]) ** 2)\n",
    "sch = MetricTensor(list2d, syms)\n",
    "sch.tensor()\n"
   ]
  },
  {
   "cell_type": "markdown",
   "metadata": {},
   "source": [
    "### Calculating the Einstein Tensor (with both indices covariant)"
   ]
  },
  {
   "cell_type": "code",
   "execution_count": 4,
   "metadata": {},
   "outputs": [
    {
     "data": {
      "text/latex": [
       "$\\displaystyle \\left[\\begin{matrix}0 & 0 & 0 & 0\\\\0 & 0 & 0 & 0\\\\0 & 0 & 0 & 0\\\\0 & 0 & 0 & 0\\end{matrix}\\right]$"
      ],
      "text/plain": [
       "⎡0  0  0  0⎤\n",
       "⎢          ⎥\n",
       "⎢0  0  0  0⎥\n",
       "⎢          ⎥\n",
       "⎢0  0  0  0⎥\n",
       "⎢          ⎥\n",
       "⎣0  0  0  0⎦"
      ]
     },
     "execution_count": 4,
     "metadata": {},
     "output_type": "execute_result"
    }
   ],
   "source": [
    "einst = EinsteinTensor.from_metric(sch)\n",
    "einst.simplify()\n",
    "einst.tensor()\n",
    "#components explanation EG https://physics.stackexchange.com/questions/366560/stress-energy-tensor-components-spherical-coordinates"
   ]
  },
  {
   "cell_type": "code",
   "execution_count": 5,
   "metadata": {},
   "outputs": [
    {
     "data": {
      "text/latex": [
       "$\\displaystyle \\left[\\begin{matrix}0 & 0 & 0 & 0\\\\0 & 0 & 0 & 0\\\\0 & 0 & 0 & 0\\\\0 & 0 & 0 & 0\\end{matrix}\\right]$"
      ],
      "text/plain": [
       "⎡0  0  0  0⎤\n",
       "⎢          ⎥\n",
       "⎢0  0  0  0⎥\n",
       "⎢          ⎥\n",
       "⎢0  0  0  0⎥\n",
       "⎢          ⎥\n",
       "⎣0  0  0  0⎦"
      ]
     },
     "execution_count": 5,
     "metadata": {},
     "output_type": "execute_result"
    }
   ],
   "source": [
    "ri = RicciTensor.from_metric(sch)\n",
    "ri.simplify()\n",
    "ri.tensor()\n",
    "#components explanation EG https://physics.stackexchange.com/questions/366560/stress-energy-tensor-components-spherical-coordinates"
   ]
  },
  {
   "cell_type": "markdown",
   "metadata": {},
   "source": [
    "#Zero like it should be \n"
   ]
  },
  {
   "cell_type": "code",
   "execution_count": 6,
   "metadata": {},
   "outputs": [
    {
     "data": {
      "text/latex": [
       "$\\displaystyle \\left[\\begin{matrix}\\left[\\begin{matrix}0 & 0 & 0 & 0\\\\0 & 0 & 0 & 0\\\\0 & 0 & 0 & 0\\\\0 & 0 & 0 & 0\\end{matrix}\\right] & \\left[\\begin{matrix}0 & - \\frac{2 M}{r^{3}} & 0 & 0\\\\\\frac{2 M}{r^{3}} & 0 & 0 & 0\\\\0 & 0 & 0 & 0\\\\0 & 0 & 0 & 0\\end{matrix}\\right] & \\left[\\begin{matrix}0 & 0 & \\frac{M \\left(- 2 M + r\\right)}{r^{2}} & 0\\\\0 & 0 & 0 & 0\\\\\\frac{M \\left(2 M - r\\right)}{r^{2}} & 0 & 0 & 0\\\\0 & 0 & 0 & 0\\end{matrix}\\right] & \\left[\\begin{matrix}0 & 0 & 0 & \\frac{M \\left(- 2 M + r\\right) \\sin^{2}{\\left(\\theta \\right)}}{r^{2}}\\\\0 & 0 & 0 & 0\\\\0 & 0 & 0 & 0\\\\\\frac{M \\left(2 M - r\\right) \\sin^{2}{\\left(\\theta \\right)}}{r^{2}} & 0 & 0 & 0\\end{matrix}\\right]\\\\\\left[\\begin{matrix}0 & \\frac{2 M}{r^{3}} & 0 & 0\\\\- \\frac{2 M}{r^{3}} & 0 & 0 & 0\\\\0 & 0 & 0 & 0\\\\0 & 0 & 0 & 0\\end{matrix}\\right] & \\left[\\begin{matrix}0 & 0 & 0 & 0\\\\0 & 0 & 0 & 0\\\\0 & 0 & 0 & 0\\\\0 & 0 & 0 & 0\\end{matrix}\\right] & \\left[\\begin{matrix}0 & 0 & 0 & 0\\\\0 & 0 & \\frac{M}{2 M - r} & 0\\\\0 & \\frac{M}{- 2 M + r} & 0 & 0\\\\0 & 0 & 0 & 0\\end{matrix}\\right] & \\left[\\begin{matrix}0 & 0 & 0 & 0\\\\0 & 0 & 0 & \\frac{M \\sin^{2}{\\left(\\theta \\right)}}{2 M - r}\\\\0 & 0 & 0 & 0\\\\0 & \\frac{M \\sin^{2}{\\left(\\theta \\right)}}{- 2 M + r} & 0 & 0\\end{matrix}\\right]\\\\\\left[\\begin{matrix}0 & 0 & \\frac{M \\left(2 M - r\\right)}{r^{2}} & 0\\\\0 & 0 & 0 & 0\\\\\\frac{M \\left(- 2 M + r\\right)}{r^{2}} & 0 & 0 & 0\\\\0 & 0 & 0 & 0\\end{matrix}\\right] & \\left[\\begin{matrix}0 & 0 & 0 & 0\\\\0 & 0 & \\frac{M}{- 2 M + r} & 0\\\\0 & \\frac{M}{2 M - r} & 0 & 0\\\\0 & 0 & 0 & 0\\end{matrix}\\right] & \\left[\\begin{matrix}0 & 0 & 0 & 0\\\\0 & 0 & 0 & 0\\\\0 & 0 & 0 & 0\\\\0 & 0 & 0 & 0\\end{matrix}\\right] & \\left[\\begin{matrix}0 & 0 & 0 & 0\\\\0 & 0 & 0 & 0\\\\0 & 0 & 0 & 2 M r \\sin^{2}{\\left(\\theta \\right)}\\\\0 & 0 & - 2 M r \\sin^{2}{\\left(\\theta \\right)} & 0\\end{matrix}\\right]\\\\\\left[\\begin{matrix}0 & 0 & 0 & \\frac{M \\left(2 M - r\\right) \\sin^{2}{\\left(\\theta \\right)}}{r^{2}}\\\\0 & 0 & 0 & 0\\\\0 & 0 & 0 & 0\\\\\\frac{M \\left(- 2 M + r\\right) \\sin^{2}{\\left(\\theta \\right)}}{r^{2}} & 0 & 0 & 0\\end{matrix}\\right] & \\left[\\begin{matrix}0 & 0 & 0 & 0\\\\0 & 0 & 0 & \\frac{M \\sin^{2}{\\left(\\theta \\right)}}{- 2 M + r}\\\\0 & 0 & 0 & 0\\\\0 & \\frac{M \\sin^{2}{\\left(\\theta \\right)}}{2 M - r} & 0 & 0\\end{matrix}\\right] & \\left[\\begin{matrix}0 & 0 & 0 & 0\\\\0 & 0 & 0 & 0\\\\0 & 0 & 0 & - 2 M r \\sin^{2}{\\left(\\theta \\right)}\\\\0 & 0 & 2 M r \\sin^{2}{\\left(\\theta \\right)} & 0\\end{matrix}\\right] & \\left[\\begin{matrix}0 & 0 & 0 & 0\\\\0 & 0 & 0 & 0\\\\0 & 0 & 0 & 0\\\\0 & 0 & 0 & 0\\end{matrix}\\right]\\end{matrix}\\right]$"
      ],
      "text/plain": [
       "⎡                                                                             \n",
       "⎢                                                        ⎡     -2⋅M       ⎤   \n",
       "⎢                                                        ⎢ 0   ─────  0  0⎥   \n",
       "⎢                                                        ⎢        3       ⎥   \n",
       "⎢                  ⎡0  0  0  0⎤                          ⎢       r        ⎥   \n",
       "⎢                  ⎢          ⎥                          ⎢                ⎥   \n",
       "⎢                  ⎢0  0  0  0⎥                          ⎢2⋅M             ⎥   \n",
       "⎢                  ⎢          ⎥                          ⎢───    0    0  0⎥   \n",
       "⎢                  ⎢0  0  0  0⎥                          ⎢  3             ⎥   \n",
       "⎢                  ⎢          ⎥                          ⎢ r              ⎥   \n",
       "⎢                  ⎣0  0  0  0⎦                          ⎢                ⎥   \n",
       "⎢                                                        ⎢ 0     0    0  0⎥   \n",
       "⎢                                                        ⎢                ⎥   \n",
       "⎢                                                        ⎣ 0     0    0  0⎦   \n",
       "⎢                                                                             \n",
       "⎢                                                                             \n",
       "⎢               ⎡       2⋅M      ⎤                                            \n",
       "⎢               ⎢  0    ───  0  0⎥                                            \n",
       "⎢               ⎢         3      ⎥                                            \n",
       "⎢               ⎢        r       ⎥                          ⎡0  0  0  0⎤      \n",
       "⎢               ⎢                ⎥                          ⎢          ⎥      \n",
       "⎢               ⎢-2⋅M            ⎥                          ⎢0  0  0  0⎥      \n",
       "⎢               ⎢─────   0   0  0⎥                          ⎢          ⎥      \n",
       "⎢               ⎢   3            ⎥                          ⎢0  0  0  0⎥      \n",
       "⎢               ⎢  r             ⎥                          ⎢          ⎥      \n",
       "⎢               ⎢                ⎥                          ⎣0  0  0  0⎦      \n",
       "⎢               ⎢  0     0   0  0⎥                                            \n",
       "⎢               ⎢                ⎥                                            \n",
       "⎢               ⎣  0     0   0  0⎦                                            \n",
       "⎢                                                                             \n",
       "⎢        ⎡                 M⋅(2⋅M - r)   ⎤                                    \n",
       "⎢        ⎢     0        0  ───────────  0⎥           ⎡0     0        0      0⎤\n",
       "⎢        ⎢                       2       ⎥           ⎢                       ⎥\n",
       "⎢        ⎢                      r        ⎥           ⎢               M       ⎥\n",
       "⎢        ⎢                               ⎥           ⎢0     0     ────────  0⎥\n",
       "⎢        ⎢     0        0       0       0⎥           ⎢            -2⋅M + r   ⎥\n",
       "⎢        ⎢                               ⎥           ⎢                       ⎥\n",
       "⎢        ⎢M⋅(-2⋅M + r)                   ⎥           ⎢      M                ⎥\n",
       "⎢        ⎢────────────  0       0       0⎥           ⎢0  ───────     0      0⎥\n",
       "⎢        ⎢      2                        ⎥           ⎢   2⋅M - r             ⎥\n",
       "⎢        ⎢     r                         ⎥           ⎢                       ⎥\n",
       "⎢        ⎢                               ⎥           ⎣0     0        0      0⎦\n",
       "⎢        ⎣     0        0       0       0⎦                                    \n",
       "⎢                                                                             \n",
       "⎢⎡                                           2   ⎤                            \n",
       "⎢⎢                            M⋅(2⋅M - r)⋅sin (θ)⎥  ⎡0      0      0      0   \n",
       "⎢⎢         0            0  0  ───────────────────⎥  ⎢                         \n",
       "⎢⎢                                      2        ⎥  ⎢                      2  \n",
       "⎢⎢                                     r         ⎥  ⎢                 M⋅sin (θ\n",
       "⎢⎢                                               ⎥  ⎢0      0      0  ────────\n",
       "⎢⎢         0            0  0           0         ⎥  ⎢                  -2⋅M + \n",
       "⎢⎢                                               ⎥  ⎢                         \n",
       "⎢⎢         0            0  0           0         ⎥  ⎢0      0      0      0   \n",
       "⎢⎢                                               ⎥  ⎢                         \n",
       "⎢⎢                2                              ⎥  ⎢        2                \n",
       "⎢⎢M⋅(-2⋅M + r)⋅sin (θ)                           ⎥  ⎢   M⋅sin (θ)             \n",
       "⎢⎢────────────────────  0  0           0         ⎥  ⎢0  ─────────  0      0   \n",
       "⎢⎢          2                                    ⎥  ⎣    2⋅M - r              \n",
       "⎣⎣         r                                     ⎦                            \n",
       "\n",
       "                                           ⎡                                  \n",
       "      ⎡                M⋅(-2⋅M + r)   ⎤    ⎢                           M⋅(-2⋅M\n",
       "      ⎢     0       0  ────────────  0⎥    ⎢         0           0  0  ───────\n",
       "      ⎢                      2        ⎥    ⎢                                  \n",
       "      ⎢                     r         ⎥    ⎢                                  \n",
       "      ⎢                               ⎥    ⎢                                  \n",
       "      ⎢     0       0       0        0⎥    ⎢         0           0  0         \n",
       "      ⎢                               ⎥    ⎢                                  \n",
       "      ⎢M⋅(2⋅M - r)                    ⎥    ⎢         0           0  0         \n",
       "      ⎢───────────  0       0        0⎥    ⎢                                  \n",
       "      ⎢      2                        ⎥    ⎢               2                  \n",
       "      ⎢     r                         ⎥    ⎢M⋅(2⋅M - r)⋅sin (θ)               \n",
       "      ⎢                               ⎥    ⎢───────────────────  0  0         \n",
       "      ⎣     0       0       0        0⎦    ⎢          2                       \n",
       "                                           ⎣         r                        \n",
       "                                                                              \n",
       "                                                     ⎡0      0      0      0  \n",
       "          ⎡0     0         0     0⎤                  ⎢                        \n",
       "          ⎢                       ⎥                  ⎢                      2 \n",
       "          ⎢                M      ⎥                  ⎢                 M⋅sin (\n",
       "          ⎢0     0      ───────  0⎥                  ⎢0      0      0  ───────\n",
       "          ⎢             2⋅M - r   ⎥                  ⎢                  2⋅M - \n",
       "          ⎢                       ⎥                  ⎢                        \n",
       "          ⎢      M                ⎥                  ⎢0      0      0      0  \n",
       "          ⎢0  ────────     0     0⎥                  ⎢                        \n",
       "          ⎢   -2⋅M + r            ⎥                  ⎢        2               \n",
       "          ⎢                       ⎥                  ⎢   M⋅sin (θ)            \n",
       "          ⎣0     0         0     0⎦                  ⎢0  ─────────  0      0  \n",
       "                                                     ⎣    -2⋅M + r            \n",
       "                                                                              \n",
       "                                                                              \n",
       "                                                                              \n",
       "                                                 ⎡0  0        0               \n",
       "                ⎡0  0  0  0⎤                     ⎢                            \n",
       "                ⎢          ⎥                     ⎢0  0        0               \n",
       "                ⎢0  0  0  0⎥                     ⎢                            \n",
       "                ⎢          ⎥                     ⎢                            \n",
       "                ⎢0  0  0  0⎥                     ⎢0  0        0         2⋅M⋅r⋅\n",
       "                ⎢          ⎥                     ⎢                            \n",
       "                ⎣0  0  0  0⎦                     ⎢                2           \n",
       "                                                 ⎣0  0  -2⋅M⋅r⋅sin (θ)        \n",
       "                                                                              \n",
       "                                                                              \n",
       "                                                                              \n",
       "                                                                              \n",
       " ⎤                                                                            \n",
       " ⎥                                                                            \n",
       " ⎥  ⎡0  0        0              0       ⎤                                     \n",
       ")⎥  ⎢                                   ⎥                    ⎡0  0  0  0⎤     \n",
       "─⎥  ⎢0  0        0              0       ⎥                    ⎢          ⎥     \n",
       "r⎥  ⎢                                   ⎥                    ⎢0  0  0  0⎥     \n",
       " ⎥  ⎢                               2   ⎥                    ⎢          ⎥     \n",
       " ⎥  ⎢0  0        0        -2⋅M⋅r⋅sin (θ)⎥                    ⎢0  0  0  0⎥     \n",
       " ⎥  ⎢                                   ⎥                    ⎢          ⎥     \n",
       " ⎥  ⎢               2                   ⎥                    ⎣0  0  0  0⎦     \n",
       " ⎥  ⎣0  0  2⋅M⋅r⋅sin (θ)        0       ⎦                                     \n",
       " ⎥                                                                            \n",
       " ⎦                                                                            \n",
       "                                                                              \n",
       "\n",
       "         2   ⎤⎤\n",
       " + r)⋅sin (θ)⎥⎥\n",
       "─────────────⎥⎥\n",
       "   2         ⎥⎥\n",
       "  r          ⎥⎥\n",
       "             ⎥⎥\n",
       "  0          ⎥⎥\n",
       "             ⎥⎥\n",
       "  0          ⎥⎥\n",
       "             ⎥⎥\n",
       "             ⎥⎥\n",
       "             ⎥⎥\n",
       "  0          ⎥⎥\n",
       "             ⎥⎥\n",
       "             ⎦⎥\n",
       "              ⎥\n",
       "  ⎤           ⎥\n",
       "  ⎥           ⎥\n",
       "  ⎥           ⎥\n",
       "θ)⎥           ⎥\n",
       "──⎥           ⎥\n",
       "r ⎥           ⎥\n",
       "  ⎥           ⎥\n",
       "  ⎥           ⎥\n",
       "  ⎥           ⎥\n",
       "  ⎥           ⎥\n",
       "  ⎥           ⎥\n",
       "  ⎥           ⎥\n",
       "  ⎦           ⎥\n",
       "              ⎥\n",
       "              ⎥\n",
       "              ⎥\n",
       "0      ⎤      ⎥\n",
       "       ⎥      ⎥\n",
       "0      ⎥      ⎥\n",
       "       ⎥      ⎥\n",
       "   2   ⎥      ⎥\n",
       "sin (θ)⎥      ⎥\n",
       "       ⎥      ⎥\n",
       "       ⎥      ⎥\n",
       "0      ⎦      ⎥\n",
       "              ⎥\n",
       "              ⎥\n",
       "              ⎥\n",
       "              ⎥\n",
       "              ⎥\n",
       "              ⎥\n",
       "              ⎥\n",
       "              ⎥\n",
       "              ⎥\n",
       "              ⎥\n",
       "              ⎥\n",
       "              ⎥\n",
       "              ⎥\n",
       "              ⎥\n",
       "              ⎥\n",
       "              ⎥\n",
       "              ⎥\n",
       "              ⎦"
      ]
     },
     "execution_count": 6,
     "metadata": {},
     "output_type": "execute_result"
    }
   ],
   "source": [
    "# what is the Weyl tensor?\n",
    "weyl = WeylTensor.from_metric(sch)\n",
    "weyl.tensor() # all components!"
   ]
  },
  {
   "cell_type": "code",
   "execution_count": 7,
   "metadata": {},
   "outputs": [
    {
     "name": "stdout",
     "output_type": "stream",
     "text": [
      "(t, r, theta, phi)\n"
     ]
    },
    {
     "ename": "TypeError",
     "evalue": "_lambdifygenerated() takes 4 positional arguments but 7 were given",
     "output_type": "error",
     "traceback": [
      "\u001b[0;31m---------------------------------------------------------------------------\u001b[0m",
      "\u001b[0;31mTypeError\u001b[0m                                 Traceback (most recent call last)",
      "\u001b[0;32m<ipython-input-7-aeecfb0ddb1d>\u001b[0m in \u001b[0;36m<module>\u001b[0;34m\u001b[0m\n\u001b[1;32m      6\u001b[0m \u001b[0;31m#Make x values - which we will sub in for r\u001b[0m\u001b[0;34m\u001b[0m\u001b[0;34m\u001b[0m\u001b[0;34m\u001b[0m\u001b[0m\n\u001b[1;32m      7\u001b[0m \u001b[0mx\u001b[0m \u001b[0;34m=\u001b[0m \u001b[0mnp\u001b[0m\u001b[0;34m.\u001b[0m\u001b[0marange\u001b[0m\u001b[0;34m(\u001b[0m\u001b[0;36m1.5\u001b[0m\u001b[0;34m,\u001b[0m \u001b[0;36m20.0\u001b[0m\u001b[0;34m,\u001b[0m \u001b[0;36m0.04\u001b[0m\u001b[0;34m)\u001b[0m\u001b[0;34m\u001b[0m\u001b[0;34m\u001b[0m\u001b[0m\n\u001b[0;32m----> 8\u001b[0;31m \u001b[0mfunc\u001b[0m\u001b[0;34m(\u001b[0m\u001b[0;36m0.5\u001b[0m\u001b[0;34m,\u001b[0m\u001b[0mx\u001b[0m\u001b[0;34m,\u001b[0m\u001b[0;36m0\u001b[0m\u001b[0;34m,\u001b[0m \u001b[0;36m0\u001b[0m\u001b[0;34m,\u001b[0m \u001b[0;36m1\u001b[0m\u001b[0;34m,\u001b[0m \u001b[0;36m1\u001b[0m\u001b[0;34m,\u001b[0m \u001b[0;36m1\u001b[0m\u001b[0;34m)\u001b[0m\u001b[0;34m[\u001b[0m\u001b[0;36m0\u001b[0m\u001b[0;34m]\u001b[0m\u001b[0;34m[\u001b[0m\u001b[0;36m1\u001b[0m\u001b[0;34m]\u001b[0m\u001b[0;34m\u001b[0m\u001b[0;34m\u001b[0m\u001b[0m\n\u001b[0m\u001b[1;32m      9\u001b[0m \u001b[0;34m\u001b[0m\u001b[0m\n\u001b[1;32m     10\u001b[0m \u001b[0;31m# Call the functions\u001b[0m\u001b[0;34m\u001b[0m\u001b[0;34m\u001b[0m\u001b[0;34m\u001b[0m\u001b[0m\n",
      "\u001b[0;31mTypeError\u001b[0m: _lambdifygenerated() takes 4 positional arguments but 7 were given"
     ]
    }
   ],
   "source": [
    "###Plot something\n",
    "# first make the tensor into a function, printing \n",
    "args, func = einst.tensor_lambdify()\n",
    "print(args) # these are the argument values \n",
    "\n",
    "#Make x values - which we will sub in for r \n",
    "x = np.arange(1.5, 20.0, 0.04)\n",
    "func(0.5,x,0, 0, 1, 1, 1)[0][1]\n",
    "\n",
    "# Call the functions\n",
    "y = func(1.0,x,1, 1, 1, 1, 1)[0][1]\n",
    "z = -func(1.0,x,1, 1, 1, 1, 1)[0][0] # 0.1 to bring scale in\n",
    "fig=plt.figure()\n",
    "ax=fig.add_axes([0,2,1.0,1.0])\n",
    "ax.plot(x,y)\n",
    "ax.plot(x,z)\n",
    "ax.set_title(\"T_01\")\n",
    "\n",
    "\n"
   ]
  },
  {
   "cell_type": "code",
   "execution_count": null,
   "metadata": {},
   "outputs": [],
   "source": []
  },
  {
   "cell_type": "code",
   "execution_count": null,
   "metadata": {},
   "outputs": [],
   "source": []
  },
  {
   "cell_type": "code",
   "execution_count": null,
   "metadata": {},
   "outputs": [],
   "source": []
  }
 ],
 "metadata": {
  "kernelspec": {
   "display_name": "Python 3",
   "language": "python",
   "name": "python3"
  },
  "language_info": {
   "codemirror_mode": {
    "name": "ipython",
    "version": 3
   },
   "file_extension": ".py",
   "mimetype": "text/x-python",
   "name": "python",
   "nbconvert_exporter": "python",
   "pygments_lexer": "ipython3",
   "version": "3.9.4"
  }
 },
 "nbformat": 4,
 "nbformat_minor": 4
}
