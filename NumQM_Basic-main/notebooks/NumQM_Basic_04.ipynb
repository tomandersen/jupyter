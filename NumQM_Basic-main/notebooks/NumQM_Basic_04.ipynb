{
 "cells": [
  {
   "cell_type": "code",
   "execution_count": 1,
   "id": "0ff81497",
   "metadata": {},
   "outputs": [],
   "source": [
    "import numpy as np\n",
    "from numpy import linalg as npla\n",
    "import matplotlib.pyplot as plt\n",
    "from scipy import integrate"
   ]
  },
  {
   "cell_type": "code",
   "execution_count": 2,
   "id": "42aff115",
   "metadata": {},
   "outputs": [],
   "source": [
    "def eigen(A):\n",
    "    eigenValues, eigenVectors = npla.eig(A)\n",
    "    idx = np.argsort(eigenValues)\n",
    "    eigenValues = eigenValues[idx]\n",
    "    eigenVectors = eigenVectors[:,idx]\n",
    "    return (eigenValues, eigenVectors)"
   ]
  },
  {
   "cell_type": "code",
   "execution_count": 3,
   "id": "5c61bb9f",
   "metadata": {},
   "outputs": [],
   "source": [
    "L=10.0  # box length is 2L; [-L,L]\n",
    "k=1     # force constant\n",
    "m=1     # particle mass \n",
    "hbar=1  # 1 in atomic units"
   ]
  },
  {
   "cell_type": "code",
   "execution_count": 4,
   "id": "ff743881",
   "metadata": {},
   "outputs": [
    {
     "name": "stdout",
     "output_type": "stream",
     "text": [
      "Number of basis:  1 , ground state energy is: 6.546885307943112\n",
      "Number of basis:  2 , ground state energy is: 6.546885307943112\n",
      "Number of basis:  4 , ground state energy is: 2.2409822186260655\n",
      "Number of basis:  8 , ground state energy is: 0.7712925817042399\n",
      "Number of basis:  16 , ground state energy is: 0.5026588346751345\n",
      "Number of basis:  32 , ground state energy is: 0.49999999991960487\n"
     ]
    }
   ],
   "source": [
    "def fn_V(x):\n",
    "    psi_i=np.sqrt(1/L)*np.sin((i+1)*(x-L)*np.pi/(2*L))\n",
    "    psi_j=np.sqrt(1/L)*np.sin((j+1)*(x-L)*np.pi/(2*L))\n",
    "    fn_V=psi_i * k * x**2/2 * psi_j\n",
    "    return fn_V\n",
    "\n",
    "for iN in range(0,6):\n",
    "    \n",
    "    N=2**iN    # No. of basis functions\n",
    "\n",
    "    V=np.zeros([N,N])\n",
    "    T=np.zeros([N,N])\n",
    "    H=np.zeros([N,N])\n",
    "    \n",
    "    for i in range(N):\n",
    "        for j in range(N):\n",
    "            Int_V=integrate.quadrature(fn_V, -L, L,maxiter=1000)\n",
    "            V[i][j]=Int_V[0]\n",
    "        #kinetic energy part is same as in the particle-in-a-box    \n",
    "        T[i][i]=(i+1)**2 * hbar**2 * np.pi**2 / (8 * m * L**2)\n",
    "\n",
    "    H=T+V\n",
    "\n",
    "    E,V=eigen(H)\n",
    "\n",
    "    print(\"Number of basis: \", N, \", ground state energy is:\", E[0])"
   ]
  },
  {
   "cell_type": "code",
   "execution_count": 5,
   "id": "643f3578",
   "metadata": {},
   "outputs": [
    {
     "name": "stdout",
     "output_type": "stream",
     "text": [
      "0 0.49999999991960487\n",
      "1 1.500000003533623\n",
      "2 2.5000000246525915\n",
      "3 3.5000000749476574\n",
      "4 4.500003826380895\n",
      "5 5.500009108730652\n",
      "6 6.500213561983046\n",
      "7 7.500380483848162\n",
      "8 8.50489994173305\n",
      "9 9.507109605274334\n",
      "10 10.550503775703861\n",
      "11 11.563037889597\n",
      "12 12.757188589561512\n",
      "13 13.790161054294524\n",
      "14 15.274948394336956\n",
      "15 16.323820558552228\n",
      "16 18.175821285164076\n",
      "17 19.22309685760712\n",
      "18 21.47078218078809\n",
      "19 22.495304266567338\n",
      "20 25.155539320689343\n",
      "21 26.135710969665308\n",
      "22 29.225350687266882\n",
      "23 30.13958386030048\n",
      "24 33.67696348822975\n",
      "25 34.50365514827044\n",
      "26 38.50946635546445\n",
      "27 39.22763463005119\n",
      "28 43.745025808894155\n",
      "29 44.34804530869218\n",
      "30 50.588924425384036\n",
      "31 51.22056108474399\n"
     ]
    }
   ],
   "source": [
    "for i in range(N):\n",
    "    print(i,E[i])"
   ]
  },
  {
   "cell_type": "code",
   "execution_count": 8,
   "id": "b3a04f81",
   "metadata": {},
   "outputs": [
    {
     "data": {
      "image/png": "[encoded data removed]",
      "text/plain": [
       "<Figure size 432x288 with 1 Axes>"
      ]
     },
     "metadata": {
      "needs_background": "light"
     },
     "output_type": "display_data"
    }
   ],
   "source": [
    "x=np.linspace(-L, L, 101)\n",
    "Vharm=k*x**2/2\n",
    "\n",
    "psi0=np.zeros(101)\n",
    "psi1=np.zeros(101)\n",
    "psi2=np.zeros(101)\n",
    "psi3=np.zeros(101)\n",
    "psi4=np.zeros(101)\n",
    "for i in range(N):\n",
    "    psi0=psi0+V[i][0]*np.sqrt(1/L)*np.sin((i+1)*(x-L)*np.pi/(2*L))\n",
    "    psi1=psi1+V[i][1]*np.sqrt(1/L)*np.sin((i+1)*(x-L)*np.pi/(2*L))\n",
    "    psi2=psi2+V[i][2]*np.sqrt(1/L)*np.sin((i+1)*(x-L)*np.pi/(2*L))\n",
    "    psi3=psi3+V[i][3]*np.sqrt(1/L)*np.sin((i+1)*(x-L)*np.pi/(2*L))\n",
    "    psi4=psi4+V[i][4]*np.sqrt(1/L)*np.sin((i+1)*(x-L)*np.pi/(2*L))\n",
    "    \n",
    "plt.plot(x,np.abs(psi0)**2+E[0])\n",
    "plt.plot(x,np.abs(psi1)**2+E[1])\n",
    "plt.plot(x,np.abs(psi2)**2+E[2])\n",
    "plt.plot(x,np.abs(psi3)**2+E[3])\n",
    "plt.plot(x,np.abs(psi4)**2+E[4])\n",
    "plt.plot(x,Vharm)\n",
    "plt.xlabel(\"$x$\", fontsize=14)\n",
    "plt.ylabel(\"$|\\psi(x)|^2$\", fontsize=14)\n",
    "plt.savefig('psi_harm.png') \n",
    "plt.legend(['n = 0','n = 1','n = 2','n = 3','n = 4'])\n",
    "plt.xlim(-10,10)\n",
    "plt.ylim(0,10)\n",
    "plt.show()"
   ]
  },
  {
   "cell_type": "code",
   "execution_count": null,
   "id": "b45d26db",
   "metadata": {},
   "outputs": [],
   "source": []
  }
 ],
 "metadata": {
  "kernelspec": {
   "display_name": "Python 3",
   "language": "python",
   "name": "python3"
  },
  "language_info": {
   "codemirror_mode": {
    "name": "ipython",
    "version": 3
   },
   "file_extension": ".py",
   "mimetype": "text/x-python",
   "name": "python",
   "nbconvert_exporter": "python",
   "pygments_lexer": "ipython3",
   "version": "3.9.4"
  }
 },
 "nbformat": 4,
 "nbformat_minor": 5
}
