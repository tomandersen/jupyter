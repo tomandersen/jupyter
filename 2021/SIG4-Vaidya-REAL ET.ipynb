{
 "cells": [
  {
   "cell_type": "markdown",
   "metadata": {
    "tags": []
   },
   "source": [
    "# SIG4 Vaidya metric as from litrature"
   ]
  },
  {
   "cell_type": "code",
   "execution_count": 1,
   "metadata": {},
   "outputs": [],
   "source": [
    "import sympy\n",
    "import matplotlib.pyplot as plt\n",
    "import numpy as np\n",
    "\n",
    "from sympy import symbols, sin, cos, sinh\n",
    "from einsteinpy.symbolic import EinsteinTensor, MetricTensor, WeylTensor, RicciTensor, RicciScalar\n",
    "\n",
    "sympy.init_printing()"
   ]
  },
  {
   "cell_type": "markdown",
   "metadata": {},
   "source": [
    "### Defining our time dependent metric as from equation 31\n",
    "https://docs.einsteinpy.org/en/latest/examples/Symbolically%20Understanding%20Christoffel%20Symbol%20and%20Riemann%20Curvature%20Tensor%20using%20EinsteinPy.html\n",
    "\n",
    "https://en.wikipedia.org/wiki/Vaidya_metric"
   ]
  },
  {
   "cell_type": "code",
   "execution_count": 2,
   "metadata": {},
   "outputs": [
    {
     "name": "stdout",
     "output_type": "stream",
     "text": [
      "M*(F*t + 1)\n"
     ]
    },
    {
     "data": {
      "image/png": "[encoded data removed]",
      "text/latex": [
       "$\\displaystyle \\left[\\begin{matrix}c^{2} \\left(- \\frac{2 M \\left(F t + 1\\right)}{r} + 1\\right) & c k & 0 & 0\\\\c k & 0 & 0 & 0\\\\0 & 0 & r^{2} & 0\\\\0 & 0 & 0 & r^{2} \\sin^{2}{\\left(\\theta \\right)}\\end{matrix}\\right]$"
      ],
      "text/plain": [
       "⎡ 2 ⎛  2⋅M⋅(F⋅t + 1)    ⎞                     ⎤\n",
       "⎢c ⋅⎜- ───────────── + 1⎟  c⋅k  0       0     ⎥\n",
       "⎢   ⎝        r          ⎠                     ⎥\n",
       "⎢                                             ⎥\n",
       "⎢          c⋅k              0   0       0     ⎥\n",
       "⎢                                             ⎥\n",
       "⎢                                2            ⎥\n",
       "⎢           0               0   r       0     ⎥\n",
       "⎢                                             ⎥\n",
       "⎢                                    2    2   ⎥\n",
       "⎣           0               0   0   r ⋅sin (θ)⎦"
      ]
     },
     "execution_count": 2,
     "metadata": {},
     "output_type": "execute_result"
    }
   ],
   "source": [
    "syms = sympy.symbols(\"t r theta phi\")\n",
    "G, M, c, a, F, k = sympy.symbols(\"G M c a F k\")\n",
    "a = M*(1 + F*syms[0])\n",
    "print(a)\n",
    "# using metric values of schwarschild space-time\n",
    "# a is schwarzschild radius\n",
    "# SIG 4 'metric'\n",
    "list2d = [[0 for i in range(4)] for i in range(4)]\n",
    "list2d[0][0] = (1 - (2*a / syms[1]))* (c ** 2)\n",
    "list2d[0][1] = k*c\n",
    "list2d[1][0] = k*c\n",
    "list2d[1][1] = 0 \n",
    "list2d[2][2] = 1 * (syms[1] ** 2) \n",
    "list2d[3][3] = 1 * (syms[1] ** 2) * (sympy.sin(syms[2]) ** 2)\n",
    "sch = MetricTensor(list2d, syms)\n",
    "sch.tensor()\n"
   ]
  },
  {
   "cell_type": "markdown",
   "metadata": {},
   "source": [
    "### Calculating the Einstein Tensor (with both indices covariant)"
   ]
  },
  {
   "cell_type": "code",
   "execution_count": 3,
   "metadata": {},
   "outputs": [
    {
     "data": {
      "image/png": "[encoded data removed]",
      "text/latex": [
       "$\\displaystyle \\left[\\begin{matrix}\\frac{c \\left(- 2 F M k r + 1.0 c \\left(k^{2} + 1\\right) \\left(2 M \\left(F t + 1\\right) - r\\right)\\right)}{k^{2} r^{3}} & - \\frac{1.0 c \\left(k^{2} + 1\\right)}{k r^{2}} & 0 & 0\\\\- \\frac{1.0 c \\left(k^{2} + 1\\right)}{k r^{2}} & 0 & 0 & 0\\\\0 & 0 & 0 & 0\\\\0 & 0 & 0 & 0\\end{matrix}\\right]$"
      ],
      "text/plain": [
       "⎡  ⎛                   ⎛ 2    ⎞                    ⎞         ⎛ 2    ⎞       ⎤\n",
       "⎢c⋅⎝-2⋅F⋅M⋅k⋅r + 1.0⋅c⋅⎝k  + 1⎠⋅(2⋅M⋅(F⋅t + 1) - r)⎠  -1.0⋅c⋅⎝k  + 1⎠       ⎥\n",
       "⎢───────────────────────────────────────────────────  ────────────────  0  0⎥\n",
       "⎢                        2  3                                  2            ⎥\n",
       "⎢                       k ⋅r                                k⋅r             ⎥\n",
       "⎢                                                                           ⎥\n",
       "⎢                        ⎛ 2    ⎞                                           ⎥\n",
       "⎢                 -1.0⋅c⋅⎝k  + 1⎠                                           ⎥\n",
       "⎢                 ────────────────                           0          0  0⎥\n",
       "⎢                          2                                                ⎥\n",
       "⎢                       k⋅r                                                 ⎥\n",
       "⎢                                                                           ⎥\n",
       "⎢                         0                                  0          0  0⎥\n",
       "⎢                                                                           ⎥\n",
       "⎣                         0                                  0          0  0⎦"
      ]
     },
     "execution_count": 3,
     "metadata": {},
     "output_type": "execute_result"
    }
   ],
   "source": [
    "einst = EinsteinTensor.from_metric(sch)\n",
    "einst.simplify()\n",
    "einst.tensor()\n",
    "#components explanation EG https://physics.stackexchange.com/questions/366560/stress-energy-tensor-components-spherical-coordinates"
   ]
  },
  {
   "cell_type": "code",
   "execution_count": 4,
   "metadata": {},
   "outputs": [
    {
     "data": {
      "image/png": "[encoded data removed]",
      "text/latex": [
       "$\\displaystyle \\left[\\begin{matrix}- \\frac{2 F M c}{k r^{2}} & 0 & 0 & 0\\\\0 & 0 & 0 & 0\\\\0 & 0 & 1 + \\frac{1}{k^{2}} & 0\\\\0 & 0 & 0 & \\frac{\\left(k^{2} + 1\\right) \\sin^{2}{\\left(\\theta \\right)}}{k^{2}}\\end{matrix}\\right]$"
      ],
      "text/plain": [
       "⎡-2⋅F⋅M⋅c                              ⎤\n",
       "⎢─────────  0    0            0        ⎥\n",
       "⎢      2                               ⎥\n",
       "⎢   k⋅r                                ⎥\n",
       "⎢                                      ⎥\n",
       "⎢    0      0    0            0        ⎥\n",
       "⎢                                      ⎥\n",
       "⎢                  1                   ⎥\n",
       "⎢    0      0  1 + ──         0        ⎥\n",
       "⎢                   2                  ⎥\n",
       "⎢                  k                   ⎥\n",
       "⎢                                      ⎥\n",
       "⎢                      ⎛ 2    ⎞    2   ⎥\n",
       "⎢                      ⎝k  + 1⎠⋅sin (θ)⎥\n",
       "⎢    0      0    0     ────────────────⎥\n",
       "⎢                              2       ⎥\n",
       "⎣                             k        ⎦"
      ]
     },
     "execution_count": 4,
     "metadata": {},
     "output_type": "execute_result"
    }
   ],
   "source": [
    "ri = RicciTensor.from_metric(sch)\n",
    "ri.simplify()\n",
    "ri.tensor()\n",
    "#components explanation EG https://physics.stackexchange.com/questions/366560/stress-energy-tensor-components-spherical-coordinates"
   ]
  },
  {
   "cell_type": "code",
   "execution_count": 5,
   "metadata": {},
   "outputs": [
    {
     "data": {
      "image/png": "[encoded data removed]",
      "text/latex": [
       "$\\displaystyle \\frac{2 \\left(k^{2} + 1\\right)}{k^{2} r^{2}}$"
      ],
      "text/plain": [
       "  ⎛ 2    ⎞\n",
       "2⋅⎝k  + 1⎠\n",
       "──────────\n",
       "   2  2   \n",
       "  k ⋅r    "
      ]
     },
     "execution_count": 5,
     "metadata": {},
     "output_type": "execute_result"
    }
   ],
   "source": [
    "# Ricci scalar\n",
    "R = RicciScalar.from_riccitensor(ri)\n",
    "R.simplify()\n",
    "R.expr\n",
    "\n",
    "\n"
   ]
  },
  {
   "cell_type": "code",
   "execution_count": 6,
   "metadata": {},
   "outputs": [],
   "source": [
    "# what is the Weyl tensor?\n",
    "#weyl = WeylTensor.from_metric(sch)\n",
    "#weyl.tensor() # all components!"
   ]
  },
  {
   "cell_type": "code",
   "execution_count": 7,
   "metadata": {},
   "outputs": [
    {
     "name": "stdout",
     "output_type": "stream",
     "text": [
      "(t, r, theta, phi, F, M, c, k)\n"
     ]
    },
    {
     "ename": "TypeError",
     "evalue": "_lambdifygenerated() missing 1 required positional argument: 'k'",
     "output_type": "error",
     "traceback": [
      "\u001b[0;31m---------------------------------------------------------------------------\u001b[0m",
      "\u001b[0;31mTypeError\u001b[0m                                 Traceback (most recent call last)",
      "\u001b[0;32m/var/folders/dc/zdmw2pxd67q028v5bf412_pc0000gn/T/ipykernel_41600/2297636045.py\u001b[0m in \u001b[0;36m<module>\u001b[0;34m\u001b[0m\n\u001b[1;32m      8\u001b[0m \u001b[0;34m\u001b[0m\u001b[0m\n\u001b[1;32m      9\u001b[0m \u001b[0;31m# Call the functions only one non zero component. which is 00, but remember that 00 is like u = t-r\u001b[0m\u001b[0;34m\u001b[0m\u001b[0;34m\u001b[0m\u001b[0m\n\u001b[0;32m---> 10\u001b[0;31m \u001b[0mz\u001b[0m \u001b[0;34m=\u001b[0m \u001b[0;34m-\u001b[0m\u001b[0mfunc\u001b[0m\u001b[0;34m(\u001b[0m\u001b[0;36m1.0\u001b[0m\u001b[0;34m,\u001b[0m\u001b[0mx\u001b[0m\u001b[0;34m,\u001b[0m\u001b[0;36m1\u001b[0m\u001b[0;34m,\u001b[0m \u001b[0;36m1\u001b[0m\u001b[0;34m,\u001b[0m \u001b[0;36m0.01\u001b[0m\u001b[0;34m,\u001b[0m \u001b[0;36m1\u001b[0m\u001b[0;34m,\u001b[0m \u001b[0;36m1\u001b[0m\u001b[0;34m)\u001b[0m\u001b[0;34m[\u001b[0m\u001b[0;36m0\u001b[0m\u001b[0;34m]\u001b[0m\u001b[0;34m[\u001b[0m\u001b[0;36m0\u001b[0m\u001b[0;34m]\u001b[0m\u001b[0;34m\u001b[0m\u001b[0;34m\u001b[0m\u001b[0m\n\u001b[0m\u001b[1;32m     11\u001b[0m \u001b[0mfig\u001b[0m\u001b[0;34m=\u001b[0m\u001b[0mplt\u001b[0m\u001b[0;34m.\u001b[0m\u001b[0mfigure\u001b[0m\u001b[0;34m(\u001b[0m\u001b[0;34m)\u001b[0m\u001b[0;34m\u001b[0m\u001b[0;34m\u001b[0m\u001b[0m\n\u001b[1;32m     12\u001b[0m \u001b[0max\u001b[0m\u001b[0;34m=\u001b[0m\u001b[0mfig\u001b[0m\u001b[0;34m.\u001b[0m\u001b[0madd_axes\u001b[0m\u001b[0;34m(\u001b[0m\u001b[0;34m[\u001b[0m\u001b[0;36m0\u001b[0m\u001b[0;34m,\u001b[0m\u001b[0;36m2\u001b[0m\u001b[0;34m,\u001b[0m\u001b[0;36m1.0\u001b[0m\u001b[0;34m,\u001b[0m\u001b[0;36m1.0\u001b[0m\u001b[0;34m]\u001b[0m\u001b[0;34m)\u001b[0m\u001b[0;34m\u001b[0m\u001b[0;34m\u001b[0m\u001b[0m\n",
      "\u001b[0;31mTypeError\u001b[0m: _lambdifygenerated() missing 1 required positional argument: 'k'"
     ]
    }
   ],
   "source": [
    "###Plot something\n",
    "# first make the tensor into a function, printing \n",
    "args, func = einst.tensor_lambdify()\n",
    "print(args) # these are the argument values \n",
    "\n",
    "#Make x values - which we will sub in for r \n",
    "x = np.arange(1.5, 20.0, 0.04)\n",
    "\n",
    "# Call the functions only one non zero component. which is 00, but remember that 00 is like u = t-r\n",
    "z = -func(1.0,x,1, 1, 0.01, 1, 1)[0][0]\n",
    "fig=plt.figure()\n",
    "ax=fig.add_axes([0,2,1.0,1.0])\n",
    "#ax.plot(x,y)\n",
    "ax.plot(x,z)\n",
    "ax.set_title(\"T_01\")\n",
    "\n",
    "\n"
   ]
  },
  {
   "cell_type": "code",
   "execution_count": null,
   "metadata": {},
   "outputs": [],
   "source": []
  },
  {
   "cell_type": "code",
   "execution_count": null,
   "metadata": {},
   "outputs": [],
   "source": []
  },
  {
   "cell_type": "code",
   "execution_count": null,
   "metadata": {},
   "outputs": [],
   "source": []
  }
 ],
 "metadata": {
  "kernelspec": {
   "display_name": "Python 3 (ipykernel)",
   "language": "python",
   "name": "python3"
  },
  "language_info": {
   "codemirror_mode": {
    "name": "ipython",
    "version": 3
   },
   "file_extension": ".py",
   "mimetype": "text/x-python",
   "name": "python",
   "nbconvert_exporter": "python",
   "pygments_lexer": "ipython3",
   "version": "3.11.2"
  }
 },
 "nbformat": 4,
 "nbformat_minor": 4
}
