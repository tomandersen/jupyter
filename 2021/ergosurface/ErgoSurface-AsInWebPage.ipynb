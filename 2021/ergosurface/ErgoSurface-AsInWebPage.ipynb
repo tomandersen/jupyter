{
 "cells": [
  {
   "cell_type": "code",
   "execution_count": 1,
   "id": "2d1f138d-3f7b-4a11-a415-9bb841472771",
   "metadata": {},
   "outputs": [],
   "source": [
    "# from https://docs.einsteinpy.org/en/stable/examples/Visualizing%20Event%20Horizon%20and%20Ergosphere%20%28Singularities%29%20of%20Kerr%20Metric%20or%20Black%20Hole.html\n",
    "import astropy.units as u\n",
    "import numpy as np\n",
    "import astropy.units as u\n",
    "import matplotlib.pyplot as plt\n",
    "\n",
    "from einsteinpy.coordinates import BoyerLindquistDifferential\n",
    "from einsteinpy.metric import Kerr\n",
    "\n"
   ]
  },
  {
   "cell_type": "code",
   "execution_count": 2,
   "id": "72c83d7a-3b65-40e5-bfc5-7da924af5abe",
   "metadata": {},
   "outputs": [
    {
     "name": "stdout",
     "output_type": "stream",
     "text": [
      "{'inner_ergosphere': <function BaseMetric.singularities.<locals>._in_ergo at 0x12b27e310>, 'inner_horizon': 247.98878315867296, 'outer_horizon': 5692.939432136259, 'outer_ergosphere': <function BaseMetric.singularities.<locals>._out_ergo at 0x12b27e3a0>}\n",
      "\n",
      "{'inner_ergosphere': <function BaseMetric.singularities.<locals>._in_ergo at 0x12b27e430>, 'inner_horizon': 1675.668821582463, 'outer_horizon': 4265.259393712469, 'outer_ergosphere': <function BaseMetric.singularities.<locals>._out_ergo at 0x12b27e4c0>}\n"
     ]
    }
   ],
   "source": [
    "# Metric or Black Hole parameters - Mass, M and Spin Parameter, a\n",
    "M = 4e30 * u.kg\n",
    "a1 = 0.4 * u.one\n",
    "a2 = 0.9 * u.one # Extremal Kerr Black Hole\n",
    "\n",
    "# Coordinate object to initialize metric with\n",
    "# Note that, for this example\n",
    "# the coordinate values below are irrelevant\n",
    "bl = BoyerLindquistDifferential(\n",
    "    t=0. * u.s,\n",
    "    r=1e3 * u.m,\n",
    "    theta=np.pi / 2 * u.rad,\n",
    "    phi=np.pi * u.rad,\n",
    "    v_r=0. * u.m / u.s,\n",
    "    v_th=0. * u.rad / u.s,\n",
    "    v_p=0. * u.rad / u.s,\n",
    ")\n",
    "\n",
    "# Defining two Kerr Black Holes, one with a higher spin parameter\n",
    "kerr1 = Kerr(coords=bl, M=M, a=a1)\n",
    "kerr2 = Kerr(coords=bl, M=M, a=a2)\n",
    "\n",
    "# Getting the list of singularities\n",
    "sing_dict1 = kerr1.singularities()\n",
    "sing_dict2 = kerr2.singularities()\n",
    "\n",
    "# Let's check the contents of the dicts\n",
    "# 'ergosphere' entries should be functions\n",
    "print(sing_dict1, sing_dict2, sep=\"\\n\\n\")"
   ]
  },
  {
   "cell_type": "code",
   "execution_count": 3,
   "id": "79c3ee85-cef6-4b4c-84d5-6878f392a3cd",
   "metadata": {},
   "outputs": [],
   "source": [
    "# Sampling Polar Angle for plotting in Polar Coordinates\n",
    "theta = np.linspace(0, 2 * np.pi, 100)\n",
    "\n",
    "# Ergospheres\n",
    "# These are functions\n",
    "Ei1, Eo1 = sing_dict1[\"inner_ergosphere\"], sing_dict1[\"outer_ergosphere\"]\n",
    "Ei2, Eo2 = sing_dict2[\"inner_ergosphere\"], sing_dict2[\"outer_ergosphere\"]\n",
    "\n",
    "# Creating lists of points on Ergospheres for different polar angles, for both black holes\n",
    "Ei1_list, Eo1_list = Ei1(theta), Eo1(theta)\n",
    "Ei2_list, Eo2_list = Ei2(theta), Eo2(theta)\n",
    "\n",
    "# For Black Hole 1 (a = 0.4)\n",
    "Xei1 = Ei1_list * np.sin(theta)\n",
    "Yei1 = Ei1_list * np.cos(theta)\n",
    "\n",
    "Xeo1 = Eo1_list * np.sin(theta)\n",
    "Yeo1 = Eo1_list * np.cos(theta)\n",
    "\n",
    "# For Black Hole 2 (a = 0.9)\n",
    "Xei2 = Ei2_list * np.sin(theta)\n",
    "Yei2 = Ei2_list * np.cos(theta)\n",
    "\n",
    "Xeo2 = Eo2_list * np.sin(theta)\n",
    "Yeo2 = Eo2_list * np.cos(theta)\n",
    "\n",
    "# Event Horizons\n",
    "Hi1, Ho1 = sing_dict1[\"inner_horizon\"], sing_dict1[\"outer_horizon\"]\n",
    "Hi2, Ho2 = sing_dict2[\"inner_horizon\"], sing_dict2[\"outer_horizon\"]\n",
    "\n",
    "# For Black Hole 1 (a = 0.4)\n",
    "Xhi1 = Hi1 * np.sin(theta)\n",
    "Yhi1 = Hi1 * np.cos(theta)\n",
    "\n",
    "Xho1 = Ho1 * np.sin(theta)\n",
    "Yho1 = Ho1 * np.cos(theta)\n",
    "\n",
    "# For Black Hole 2 (a = 0.9)\n",
    "Xhi2 = Hi2 * np.sin(theta)\n",
    "Yhi2 = Hi2 * np.cos(theta)\n",
    "\n",
    "Xho2 = Ho2 * np.sin(theta)\n",
    "Yho2 = Ho2 * np.cos(theta)\n"
   ]
  },
  {
   "cell_type": "code",
   "execution_count": null,
   "id": "7090686a-7cac-4a52-b718-18dfea1debac",
   "metadata": {},
   "outputs": [],
   "source": []
  },
  {
   "cell_type": "code",
   "execution_count": null,
   "id": "32895f7c-0614-440c-b4c2-17109d775023",
   "metadata": {},
   "outputs": [],
   "source": []
  }
 ],
 "metadata": {
  "kernelspec": {
   "display_name": "Python 3 (ipykernel)",
   "language": "python",
   "name": "python3"
  },
  "language_info": {
   "codemirror_mode": {
    "name": "ipython",
    "version": 3
   },
   "file_extension": ".py",
   "mimetype": "text/x-python",
   "name": "python",
   "nbconvert_exporter": "python",
   "pygments_lexer": "ipython3",
   "version": "3.9.7"
  }
 },
 "nbformat": 4,
 "nbformat_minor": 5
}
