{
 "cells": [
  {
   "cell_type": "markdown",
   "metadata": {
    "tags": []
   },
   "source": [
    "# Time Varying mass func\n",
    "## The nonlocal breather"
   ]
  },
  {
   "cell_type": "code",
   "execution_count": 1,
   "metadata": {},
   "outputs": [
    {
     "ename": "ModuleNotFoundError",
     "evalue": "No module named 'sympy'",
     "output_type": "error",
     "traceback": [
      "\u001b[0;31m---------------------------------------------------------------------------\u001b[0m",
      "\u001b[0;31mModuleNotFoundError\u001b[0m                       Traceback (most recent call last)",
      "Cell \u001b[0;32mIn[1], line 1\u001b[0m\n\u001b[0;32m----> 1\u001b[0m \u001b[38;5;28;01mimport\u001b[39;00m \u001b[38;5;21;01msympy\u001b[39;00m\n\u001b[1;32m      2\u001b[0m \u001b[38;5;28;01mimport\u001b[39;00m \u001b[38;5;21;01mmatplotlib\u001b[39;00m\u001b[38;5;21;01m.\u001b[39;00m\u001b[38;5;21;01mpyplot\u001b[39;00m \u001b[38;5;28;01mas\u001b[39;00m \u001b[38;5;21;01mplt\u001b[39;00m\n\u001b[1;32m      3\u001b[0m \u001b[38;5;28;01mimport\u001b[39;00m \u001b[38;5;21;01mnumpy\u001b[39;00m \u001b[38;5;28;01mas\u001b[39;00m \u001b[38;5;21;01mnp\u001b[39;00m\n",
      "\u001b[0;31mModuleNotFoundError\u001b[0m: No module named 'sympy'"
     ]
    }
   ],
   "source": [
    "import sympy\n",
    "import matplotlib.pyplot as plt\n",
    "import numpy as np\n",
    "\n",
    "from sympy import symbols, sin, cos, sinh, ln\n",
    "from einsteinpy.symbolic import EinsteinTensor, MetricTensor, WeylTensor, RicciTensor, RicciScalar\n",
    "\n",
    "sympy.init_printing()\n",
    "\n",
    "from celluloid import Camera\n",
    "from IPython.display import Video\n"
   ]
  },
  {
   "cell_type": "markdown",
   "metadata": {},
   "source": [
    "### Idea is to follow the Nov 1 2021 work where i used energy density to get a guess at a vacuum breather.\n",
    "\n",
    "### Make time tick regular, waves get longer - example cos w (t - ln(r)) or similar, F is the fractional height of the waves\n",
    "\n"
   ]
  },
  {
   "cell_type": "markdown",
   "metadata": {},
   "source": [
    "![alt-text](img/schwarschild.png \"Schwarschild coords\")\n"
   ]
  },
  {
   "cell_type": "code",
   "execution_count": 2,
   "metadata": {},
   "outputs": [
    {
     "name": "stdout",
     "output_type": "stream",
     "text": [
      "-F*M*w*cos(w*(t - log(r)/(F*w)))\n",
      "M*cos(w*(t - log(r)/(F*w)))/r\n"
     ]
    },
    {
     "name": "stderr",
     "output_type": "stream",
     "text": [
      "/opt/homebrew/Caskroom/miniforge/base/lib/python3.9/site-packages/IPython/lib/latextools.py:126: MatplotlibDeprecationWarning: \n",
      "The to_png function was deprecated in Matplotlib 3.4 and will be removed two minor releases later. Use mathtext.math_to_image instead.\n",
      "  mt.to_png(f, s, fontsize=12, dpi=dpi, color=color)\n",
      "/opt/homebrew/Caskroom/miniforge/base/lib/python3.9/site-packages/IPython/lib/latextools.py:126: MatplotlibDeprecationWarning: \n",
      "The to_rgba function was deprecated in Matplotlib 3.4 and will be removed two minor releases later. Use mathtext.math_to_image instead.\n",
      "  mt.to_png(f, s, fontsize=12, dpi=dpi, color=color)\n",
      "/opt/homebrew/Caskroom/miniforge/base/lib/python3.9/site-packages/IPython/lib/latextools.py:126: MatplotlibDeprecationWarning: \n",
      "The to_mask function was deprecated in Matplotlib 3.4 and will be removed two minor releases later. Use mathtext.math_to_image instead.\n",
      "  mt.to_png(f, s, fontsize=12, dpi=dpi, color=color)\n",
      "/opt/homebrew/Caskroom/miniforge/base/lib/python3.9/site-packages/IPython/lib/latextools.py:126: MatplotlibDeprecationWarning: \n",
      "The MathtextBackendBitmap class was deprecated in Matplotlib 3.4 and will be removed two minor releases later. Use mathtext.math_to_image instead.\n",
      "  mt.to_png(f, s, fontsize=12, dpi=dpi, color=color)\n"
     ]
    },
    {
     "data": {
      "text/latex": [
       "$\\displaystyle \\left[\\begin{matrix}- \\frac{F^{2} r^{2} w^{2}}{- \\frac{2 M \\left(- F \\sin{\\left(w \\left(t - \\frac{\\log{\\left(r \\right)}}{F w}\\right) \\right)} + 1\\right)}{r} + 1} & 0 & 0 & 0\\\\0 & \\frac{1}{- \\frac{2 M \\left(- F \\sin{\\left(w \\left(t - \\frac{\\log{\\left(r \\right)}}{F w}\\right) \\right)} + 1\\right)}{r} + 1} & 0 & 0\\\\0 & 0 & r^{2} & 0\\\\0 & 0 & 0 & r^{2} \\sin^{2}{\\left(\\theta \\right)}\\end{matrix}\\right]$"
      ],
      "text/plain": [
       "⎡                 2  2  2                                                                        ⎤\n",
       "⎢               -F ⋅r ⋅w                                                                         ⎥\n",
       "⎢───────────────────────────────────────                     0                     0       0     ⎥\n",
       "⎢      ⎛       ⎛  ⎛    log(r)⎞⎞    ⎞                                                             ⎥\n",
       "⎢  2⋅M⋅⎜- F⋅sin⎜w⋅⎜t - ──────⎟⎟ + 1⎟                                                             ⎥\n",
       "⎢      ⎝       ⎝  ⎝     F⋅w  ⎠⎠    ⎠                                                             ⎥\n",
       "⎢- ───────────────────────────────── + 1                                                         ⎥\n",
       "⎢                  r                                                                             ⎥\n",
       "⎢                                                                                                ⎥\n",
       "⎢                                                            1                                   ⎥\n",
       "⎢                   0                     ───────────────────────────────────────  0       0     ⎥\n",
       "⎢                                               ⎛       ⎛  ⎛    log(r)⎞⎞    ⎞                    ⎥\n",
       "⎢                                           2⋅M⋅⎜- F⋅sin⎜w⋅⎜t - ──────⎟⎟ + 1⎟                    ⎥\n",
       "⎢                                               ⎝       ⎝  ⎝     F⋅w  ⎠⎠    ⎠                    ⎥\n",
       "⎢                                         - ───────────────────────────────── + 1                ⎥\n",
       "⎢                                                           r                                    ⎥\n",
       "⎢                                                                                                ⎥\n",
       "⎢                                                                                   2            ⎥\n",
       "⎢                   0                                        0                     r       0     ⎥\n",
       "⎢                                                                                                ⎥\n",
       "⎢                                                                                       2    2   ⎥\n",
       "⎣                   0                                        0                     0   r ⋅sin (θ)⎦"
      ]
     },
     "execution_count": 2,
     "metadata": {},
     "output_type": "execute_result"
    }
   ],
   "source": [
    "syms = sympy.symbols(\"t r theta phi\")\n",
    "G, M, F, a, w = sympy.symbols(\"G M F a w\")\n",
    "waveOutLn = F*sin(w*(syms[0] - 1/(w*F)*ln(syms[1])))\n",
    "waveInLn  = F*sin(w*(syms[0] + 1/(w*F)*ln(syms[1])))\n",
    "\n",
    "\n",
    "waveOut = F*sin(w*(syms[0] - syms[1]))\n",
    "waveIn  = F*sin(w*(syms[0] + syms[1]))\n",
    "a = M*(1 - waveOutLn)\n",
    "#v = syms[1]/ln(syms[1]*F)\n",
    "v = syms[1]\n",
    "\n",
    "\n",
    "mT = sympy.diff(a, syms[0])\n",
    "print(mT)\n",
    "mR = sympy.diff(a, syms[1])\n",
    "print(mR)\n",
    "\n",
    "\n",
    "# using metric values of schwarschild space-time\n",
    "# a is schwarzschild radius\n",
    "list2d = [[0 for i in range(4)] for i in range(4)]\n",
    "#list2d[0][0] = -(1 - 2*a/syms[1])\n",
    "list2d[0][0] = -mT*mT/(mR*mR)/(1 - 2*a/syms[1])\n",
    "\n",
    "#list2d[0][0] = -1/(v*v)*1/(1 - 2*a/syms[1])\n",
    "\n",
    "list2d[0][1] = 0\n",
    "list2d[1][0] = 0\n",
    "list2d[1][1] = 1/(1 - 2*a/syms[1]) \n",
    "list2d[2][2] = (syms[1])**2\n",
    "list2d[3][3] = (syms[1])**2*(sympy.sin(syms[2]) ** 2)\n",
    "sch = MetricTensor(list2d, syms)\n",
    "sch.tensor()\n",
    "\n"
   ]
  },
  {
   "cell_type": "code",
   "execution_count": 3,
   "metadata": {},
   "outputs": [
    {
     "name": "stdout",
     "output_type": "stream",
     "text": [
      "(t, r, theta, phi, F, M, w)\n"
     ]
    },
    {
     "data": {
      "text/plain": [
       "Text(0.5, 1.0, 'g_ab')"
      ]
     },
     "execution_count": 3,
     "metadata": {},
     "output_type": "execute_result"
    },
    {
     "data": {
      "image/png": "[encoded data removed]",
      "text/plain": [
       "<Figure size 576x288 with 1 Axes>"
      ]
     },
     "metadata": {
      "needs_background": "light"
     },
     "output_type": "display_data"
    }
   ],
   "source": [
    "###Plot something\n",
    "# first make the tensor into a function, printing \n",
    "args2, func2 = sch.tensor_lambdify()\n",
    "print(args2) # these are the argument values \n",
    "\n",
    "t = 1\n",
    "\n",
    "theta = 1\n",
    "phi = 1\n",
    "F = 1\n",
    "M = 1\n",
    "w = 1\n",
    "\n",
    "\n",
    "#Make x values - which we will sub in for r \n",
    "x = np.arange(10.0, 20.0, 0.04)\n",
    "\n",
    "# Call the functions\n",
    "tt = func2(t,x,theta, phi, F, M, w)[0][0]*(-1)\n",
    "\n",
    "tr = func2(t,x,theta, phi, F, M, w)[0][1]\n",
    "\n",
    "rr = func2(t,x,theta, phi, F, M, w)[1][1] \n",
    "\n",
    "hh = func2(t,x,theta, phi, F, M, w)[2][2]/(x*x)\n",
    "\n",
    "pp = func2(t,x,theta, phi, F, M, w)[3][3]/(x*x*sin(theta)*sin(theta))\n",
    "\n",
    "\n",
    "fig2=plt.figure(figsize=(8, 4))\n",
    "ax2=fig2.add_axes([0,2,1.0,1.0])\n",
    "ax2.plot(x,tt, \"red\",label=\"tt\")\n",
    "ax2.plot(x,rr, \"blue\", label=\"rr\")\n",
    "#ax2.plot(x,tr)\n",
    "\n",
    "#ax2.plot(x,hh)\n",
    "\n",
    "#ax2.plot(x,pp)\n",
    "\n",
    "\n",
    "ax2.legend(loc=\"lower right\")\n",
    "\n",
    "\n",
    "\n",
    "ax2.set_title(\"g_ab\")\n",
    "\n",
    "\n"
   ]
  },
  {
   "cell_type": "code",
   "execution_count": 4,
   "metadata": {},
   "outputs": [
    {
     "data": {
      "text/html": [
       "<video src=\"metric_animation.mp4\" controls  >\n",
       "      Your browser does not support the <code>video</code> element.\n",
       "    </video>"
      ],
      "text/plain": [
       "<IPython.core.display.Video object>"
      ]
     },
     "execution_count": 4,
     "metadata": {},
     "output_type": "execute_result"
    }
   ],
   "source": [
    "x = np.arange(10.0, 20.0, 0.05)\n",
    "\n",
    "\n",
    "fig, ax = plt.subplots(figsize=(12, 8))\n",
    "\n",
    "\n",
    "theta = 1\n",
    "phi = 1\n",
    "F = 0.5\n",
    "M = 1\n",
    "w = 1\n",
    "\n",
    "#ax=fig.add_axes([0,2,1.0,1.0])\n",
    "\n",
    "camera=Camera(fig)#Make a camera of the figure\n",
    "\n",
    "for T in np.linspace(0,10*np.pi,250):\n",
    "    #Our animation will have each frame be a different value of k from the list above  \n",
    "    #print(\"T is %f\" + str(T))\n",
    "    tt = func2(T,x,theta, phi, F, M, w)[0][0]*(-1)\n",
    "    rr = func2(T,x,theta, phi, F, M, w)[1][1] \n",
    "\n",
    "    ax.plot(x,tt, \"red\",label=\"tt\")\n",
    "    ax.plot(x,rr, \"blue\",label=\"rr\")\n",
    "\n",
    "#     ax.plot(*parametric_spiral(t_list,k=K),c=colours[int(500*(np.pi-K)/np.pi)])\n",
    "    #For a given value of k, we'll plot our function with that k-value   \n",
    "    camera.snap()\n",
    "\n",
    "animation=camera.animate();#Make the animation\n",
    "plt.close() #Stop the empty plot from displaying\n",
    "animation.save('metric_animation.mp4',fps=250/20) #Save the animation-- notes below\n",
    "Video(\"metric_animation.mp4\") #Show the video you've just saved\n",
    "\n"
   ]
  },
  {
   "cell_type": "markdown",
   "metadata": {},
   "source": [
    "#NOT Zero \n"
   ]
  },
  {
   "cell_type": "code",
   "execution_count": 5,
   "metadata": {},
   "outputs": [
    {
     "name": "stderr",
     "output_type": "stream",
     "text": [
      "/opt/homebrew/Caskroom/miniforge/base/lib/python3.9/site-packages/IPython/lib/latextools.py:126: MatplotlibDeprecationWarning: \n",
      "The to_png function was deprecated in Matplotlib 3.4 and will be removed two minor releases later. Use mathtext.math_to_image instead.\n",
      "  mt.to_png(f, s, fontsize=12, dpi=dpi, color=color)\n",
      "/opt/homebrew/Caskroom/miniforge/base/lib/python3.9/site-packages/IPython/lib/latextools.py:126: MatplotlibDeprecationWarning: \n",
      "The to_rgba function was deprecated in Matplotlib 3.4 and will be removed two minor releases later. Use mathtext.math_to_image instead.\n",
      "  mt.to_png(f, s, fontsize=12, dpi=dpi, color=color)\n",
      "/opt/homebrew/Caskroom/miniforge/base/lib/python3.9/site-packages/IPython/lib/latextools.py:126: MatplotlibDeprecationWarning: \n",
      "The to_mask function was deprecated in Matplotlib 3.4 and will be removed two minor releases later. Use mathtext.math_to_image instead.\n",
      "  mt.to_png(f, s, fontsize=12, dpi=dpi, color=color)\n",
      "/opt/homebrew/Caskroom/miniforge/base/lib/python3.9/site-packages/IPython/lib/latextools.py:126: MatplotlibDeprecationWarning: \n",
      "The MathtextBackendBitmap class was deprecated in Matplotlib 3.4 and will be removed two minor releases later. Use mathtext.math_to_image instead.\n",
      "  mt.to_png(f, s, fontsize=12, dpi=dpi, color=color)\n"
     ]
    },
    {
     "data": {
      "text/latex": [
       "$\\displaystyle \\left[\\begin{matrix}\\frac{2.0 F^{2} M w^{2} \\cos{\\left(t w - \\frac{\\log{\\left(r \\right)}}{F} \\right)}}{2.0 F M \\sin{\\left(t w - \\frac{\\log{\\left(r \\right)}}{F} \\right)} - 2.0 M + 1.0 r} & - \\frac{2 F M w \\cos{\\left(t w - \\frac{\\log{\\left(r \\right)}}{F} \\right)}}{r \\left(2 F M \\sin{\\left(t w - \\frac{\\log{\\left(r \\right)}}{F} \\right)} - 2 M + r\\right)} & 0 & 0\\\\- \\frac{2 F M w \\cos{\\left(t w - \\frac{\\log{\\left(r \\right)}}{F} \\right)}}{r \\left(2 F M \\sin{\\left(t w - \\frac{\\log{\\left(r \\right)}}{F} \\right)} - 2 M + r\\right)} & \\frac{8.0 F M \\sin{\\left(t w - \\frac{\\log{\\left(r \\right)}}{F} \\right)} + 2.0 M \\cos{\\left(t w - \\frac{\\log{\\left(r \\right)}}{F} \\right)} - 8.0 M + 2.0 r}{r^{2} \\left(2.0 F M \\sin{\\left(t w - \\frac{\\log{\\left(r \\right)}}{F} \\right)} - 2.0 M + 1.0 r\\right)} & 0 & 0\\\\0 & 0 & \\frac{4.0 F^{2} M^{2} \\sin^{2}{\\left(t w - \\frac{\\log{\\left(r \\right)}}{F} \\right)} - 8.0 F M^{2} \\sin{\\left(t w - \\frac{\\log{\\left(r \\right)}}{F} \\right)} + 3.0 F M r \\sin{\\left(t w - \\frac{\\log{\\left(r \\right)}}{F} \\right)} + 4.0 M^{2} - 2.0 M r \\cos{\\left(t w - \\frac{\\log{\\left(r \\right)}}{F} \\right)} - 3.0 M r + 1.0 r^{2}}{r \\left(2.0 F M \\sin{\\left(t w - \\frac{\\log{\\left(r \\right)}}{F} \\right)} - 2.0 M + 1.0 r\\right)} & 0\\\\0 & 0 & 0 & \\frac{\\left(4.0 F^{2} M^{2} \\sin^{2}{\\left(t w - \\frac{\\log{\\left(r \\right)}}{F} \\right)} - 8.0 F M^{2} \\sin{\\left(t w - \\frac{\\log{\\left(r \\right)}}{F} \\right)} + 3.0 F M r \\sin{\\left(t w - \\frac{\\log{\\left(r \\right)}}{F} \\right)} + 4.0 M^{2} - 2.0 M r \\cos{\\left(t w - \\frac{\\log{\\left(r \\right)}}{F} \\right)} - 3.0 M r + 1.0 r^{2}\\right) \\sin^{2}{\\left(\\theta \\right)}}{r \\left(2.0 F M \\sin{\\left(t w - \\frac{\\log{\\left(r \\right)}}{F} \\right)} - 2.0 M + 1.0 r\\right)}\\end{matrix}\\right]$"
      ],
      "text/plain": [
       "⎡           2    2    ⎛      log(r)⎞                                        ⎛      log(r)⎞                                                                                   \n",
       "⎢      2.0⋅F ⋅M⋅w ⋅cos⎜t⋅w - ──────⎟                            -2⋅F⋅M⋅w⋅cos⎜t⋅w - ──────⎟                                                                                   \n",
       "⎢                     ⎝        F   ⎠                                        ⎝        F   ⎠                                                                                   \n",
       "⎢─────────────────────────────────────────                 ─────────────────────────────────────                                                                             \n",
       "⎢           ⎛      log(r)⎞                                   ⎛         ⎛      log(r)⎞          ⎞                                                                             \n",
       "⎢2.0⋅F⋅M⋅sin⎜t⋅w - ──────⎟ - 2.0⋅M + 1.0⋅r                 r⋅⎜2⋅F⋅M⋅sin⎜t⋅w - ──────⎟ - 2⋅M + r⎟                                                                             \n",
       "⎢           ⎝        F   ⎠                                   ⎝         ⎝        F   ⎠          ⎠                                                                             \n",
       "⎢                                                                                                                                                                            \n",
       "⎢                   ⎛      log(r)⎞                     ⎛      log(r)⎞            ⎛      log(r)⎞                                                                              \n",
       "⎢       -2⋅F⋅M⋅w⋅cos⎜t⋅w - ──────⎟          8.0⋅F⋅M⋅sin⎜t⋅w - ──────⎟ + 2.0⋅M⋅cos⎜t⋅w - ──────⎟ - 8.0⋅M + 2.0⋅r                                                              \n",
       "⎢                   ⎝        F   ⎠                     ⎝        F   ⎠            ⎝        F   ⎠                                                                              \n",
       "⎢  ─────────────────────────────────────    ───────────────────────────────────────────────────────────────────                                                              \n",
       "⎢    ⎛         ⎛      log(r)⎞          ⎞                2 ⎛           ⎛      log(r)⎞                ⎞                                                                        \n",
       "⎢  r⋅⎜2⋅F⋅M⋅sin⎜t⋅w - ──────⎟ - 2⋅M + r⎟               r ⋅⎜2.0⋅F⋅M⋅sin⎜t⋅w - ──────⎟ - 2.0⋅M + 1.0⋅r⎟                                                                        \n",
       "⎢    ⎝         ⎝        F   ⎠          ⎠                  ⎝           ⎝        F   ⎠                ⎠                                                                        \n",
       "⎢                                                                                                                                                                            \n",
       "⎢                                                                                                                     2  2    2⎛      log(r)⎞          2    ⎛      log(r)⎞   \n",
       "⎢                                                                                                                4.0⋅F ⋅M ⋅sin ⎜t⋅w - ──────⎟ - 8.0⋅F⋅M ⋅sin⎜t⋅w - ──────⎟ + \n",
       "⎢                                                                                                                              ⎝        F   ⎠               ⎝        F   ⎠   \n",
       "⎢                    0                                                       0                                   ────────────────────────────────────────────────────────────\n",
       "⎢                                                                                                                                                                   ⎛        \n",
       "⎢                                                                                                                                                                 r⋅⎜2.0⋅F⋅M⋅\n",
       "⎢                                                                                                                                                                   ⎝        \n",
       "⎢                                                                                                                                                                            \n",
       "⎢                                                                                                                                                                            \n",
       "⎢                                                                                                                                                                            \n",
       "⎢                                                                                                                                                                            \n",
       "⎢                    0                                                       0                                                                                               \n",
       "⎢                                                                                                                                                                            \n",
       "⎢                                                                                                                                                                            \n",
       "⎣                                                                                                                                                                            \n",
       "\n",
       "                                                                                                                                                                             \n",
       "                                                                                                                                                                             \n",
       "                                                                                                                                                                             \n",
       "           0                                                                                                                                                     0           \n",
       "                                                                                                                                                                             \n",
       "                                                                                                                                                                             \n",
       "                                                                                                                                                                             \n",
       "                                                                                                                                                                             \n",
       "                                                                                                                                                                             \n",
       "                                                                                                                                                                             \n",
       "                                                                                                                                                                             \n",
       "           0                                                                                                                                                     0           \n",
       "                                                                                                                                                                             \n",
       "                                                                                                                                                                             \n",
       "                                                                                                                                                                             \n",
       "                                                                                                                                                                             \n",
       "             ⎛      log(r)⎞        2              ⎛      log(r)⎞                  2                                                                                          \n",
       "3.0⋅F⋅M⋅r⋅sin⎜t⋅w - ──────⎟ + 4.0⋅M  - 2.0⋅M⋅r⋅cos⎜t⋅w - ──────⎟ - 3.0⋅M⋅r + 1.0⋅r                                                                                           \n",
       "             ⎝        F   ⎠                       ⎝        F   ⎠                                                                                                             \n",
       "───────────────────────────────────────────────────────────────────────────────────                                                                              0           \n",
       "   ⎛      log(r)⎞                ⎞                                                                                                                                           \n",
       "sin⎜t⋅w - ──────⎟ - 2.0⋅M + 1.0⋅r⎟                                                                                                                                           \n",
       "   ⎝        F   ⎠                ⎠                                                                                                                                           \n",
       "                                                                                                                                                                             \n",
       "                                                                                     ⎛     2  2    2⎛      log(r)⎞          2    ⎛      log(r)⎞                ⎛      log(r)⎞\n",
       "                                                                                     ⎜4.0⋅F ⋅M ⋅sin ⎜t⋅w - ──────⎟ - 8.0⋅F⋅M ⋅sin⎜t⋅w - ──────⎟ + 3.0⋅F⋅M⋅r⋅sin⎜t⋅w - ──────⎟\n",
       "                                                                                     ⎝              ⎝        F   ⎠               ⎝        F   ⎠                ⎝        F   ⎠\n",
       "           0                                                                         ────────────────────────────────────────────────────────────────────────────────────────\n",
       "                                                                                                                                             ⎛           ⎛      log(r)⎞      \n",
       "                                                                                                                                           r⋅⎜2.0⋅F⋅M⋅sin⎜t⋅w - ──────⎟ - 2.0\n",
       "                                                                                                                                             ⎝           ⎝        F   ⎠      \n",
       "\n",
       "                                                                 ⎤\n",
       "                                                                 ⎥\n",
       "                                                                 ⎥\n",
       "                                                                 ⎥\n",
       "                                                                 ⎥\n",
       "                                                                 ⎥\n",
       "                                                                 ⎥\n",
       "                                                                 ⎥\n",
       "                                                                 ⎥\n",
       "                                                                 ⎥\n",
       "                                                                 ⎥\n",
       "                                                                 ⎥\n",
       "                                                                 ⎥\n",
       "                                                                 ⎥\n",
       "                                                                 ⎥\n",
       "                                                                 ⎥\n",
       "                                                                 ⎥\n",
       "                                                                 ⎥\n",
       "                                                                 ⎥\n",
       "                                                                 ⎥\n",
       "                                                                 ⎥\n",
       "                                                                 ⎥\n",
       "                                                                 ⎥\n",
       "                                                                 ⎥\n",
       "        2              ⎛      log(r)⎞                  2⎞    2   ⎥\n",
       " + 4.0⋅M  - 2.0⋅M⋅r⋅cos⎜t⋅w - ──────⎟ - 3.0⋅M⋅r + 1.0⋅r ⎟⋅sin (θ)⎥\n",
       "                       ⎝        F   ⎠                   ⎠        ⎥\n",
       "─────────────────────────────────────────────────────────────────⎥\n",
       "          ⎞                                                      ⎥\n",
       "⋅M + 1.0⋅r⎟                                                      ⎥\n",
       "          ⎠                                                      ⎦"
      ]
     },
     "execution_count": 5,
     "metadata": {},
     "output_type": "execute_result"
    }
   ],
   "source": [
    "einst = EinsteinTensor.from_metric(sch)\n",
    "einst.simplify()\n",
    "einst.tensor()\n",
    "#components explanation EG https://physics.stackexchange.com/questions/366560/stress-energy-tensor-components-spherical-coordinates"
   ]
  },
  {
   "cell_type": "code",
   "execution_count": 6,
   "metadata": {},
   "outputs": [
    {
     "name": "stdout",
     "output_type": "stream",
     "text": [
      "(t, r, theta, phi, F, M, w)\n"
     ]
    },
    {
     "data": {
      "text/plain": [
       "Text(0.5, 1.0, 'Einstien Tensor, G')"
      ]
     },
     "execution_count": 6,
     "metadata": {},
     "output_type": "execute_result"
    },
    {
     "data": {
      "image/png": "[encoded data removed]",
      "text/plain": [
       "<Figure size 720x360 with 1 Axes>"
      ]
     },
     "metadata": {
      "needs_background": "light"
     },
     "output_type": "display_data"
    }
   ],
   "source": [
    "###Plot something\n",
    "# first make the tensor into a function, printing \n",
    "args, func = einst.tensor_lambdify()\n",
    "print(args) # these are the argument values \n",
    "\n",
    "theta = 1\n",
    "phi = 1\n",
    "F = 0.01\n",
    "M = 1\n",
    "w = 0.5\n",
    "t = 1\n",
    "\n",
    "\n",
    "#Make x values - which we will sub in for r \n",
    "x = np.arange(4.0, 20.0, 0.04)\n",
    "\n",
    "# Call the functions\n",
    "tt = func(t,x,theta, phi, F, M, w)[0][0]\n",
    "\n",
    "tr = func(t,x,theta, phi, F, M, w)[0][1]\n",
    "\n",
    "rr = func(t,x,theta, phi, F, M, w)[1][1] \n",
    "\n",
    "hh = func(t,x,theta, phi, F, M, w)[2][2]/(x*x)\n",
    "\n",
    "pp = func(t,x,theta, phi, F, M, w)[3][3]/(x*x*sin(theta)*sin(theta))\n",
    "\n",
    "\n",
    "fig=plt.figure(figsize=(10, 5))\n",
    "ax=fig.add_axes([0,2,1.0,1.0])\n",
    "\n",
    "ax.plot(x,hh, \"lightgrey\",label=\"θθ\", linewidth=6.0)\n",
    "ax.plot(x,pp, \"black\",label=\"φφ\", linewidth=0.5)\n",
    "\n",
    "ax.plot(x,tt, \"-b\", label=\"tt\")\n",
    "ax.plot(x,rr, \"-g\", label=\"rr\")\n",
    "ax.plot(x,tr, \"-r\", label=\"tr\")\n",
    "\n",
    "ax.legend(loc=\"upper right\")\n",
    "ax.set_title(\"Einstien Tensor, G\")\n"
   ]
  },
  {
   "cell_type": "code",
   "execution_count": null,
   "metadata": {},
   "outputs": [],
   "source": []
  },
  {
   "cell_type": "code",
   "execution_count": null,
   "metadata": {},
   "outputs": [],
   "source": []
  },
  {
   "cell_type": "code",
   "execution_count": null,
   "metadata": {},
   "outputs": [],
   "source": []
  },
  {
   "cell_type": "code",
   "execution_count": null,
   "metadata": {},
   "outputs": [],
   "source": []
  },
  {
   "cell_type": "code",
   "execution_count": null,
   "metadata": {},
   "outputs": [],
   "source": []
  }
 ],
 "metadata": {
  "kernelspec": {
   "display_name": "Python 3 (ipykernel)",
   "language": "python",
   "name": "python3"
  },
  "language_info": {
   "codemirror_mode": {
    "name": "ipython",
    "version": 3
   },
   "file_extension": ".py",
   "mimetype": "text/x-python",
   "name": "python",
   "nbconvert_exporter": "python",
   "pygments_lexer": "ipython3",
   "version": "3.11.2"
  }
 },
 "nbformat": 4,
 "nbformat_minor": 4
}
