{
 "cells": [
  {
   "cell_type": "markdown",
   "metadata": {
    "tags": []
   },
   "source": [
    "# Kasner - with time varying mass "
   ]
  },
  {
   "cell_type": "code",
   "execution_count": 1,
   "metadata": {},
   "outputs": [],
   "source": [
    "import sympy\n",
    "import matplotlib.pyplot as plt\n",
    "import numpy as np\n",
    "from sympy import symbols, sin, cos, sinh, sqrt\n",
    "from einsteinpy.symbolic import EinsteinTensor, MetricTensor\n",
    "\n",
    "sympy.init_printing()"
   ]
  },
  {
   "cell_type": "markdown",
   "metadata": {},
   "source": [
    "### Defining our time dependent metric as from equation 31\n",
    "https://docs.einsteinpy.org/en/latest/examples/Symbolically%20Understanding%20Christoffel%20Symbol%20and%20Riemann%20Curvature%20Tensor%20using%20EinsteinPy.html\n",
    "\n",
    "Kasner eqn 31\n",
    "10.1139/cjp-2017-1001"
   ]
  },
  {
   "cell_type": "code",
   "execution_count": 2,
   "metadata": {},
   "outputs": [
    {
     "name": "stderr",
     "output_type": "stream",
     "text": [
      "/opt/homebrew/Caskroom/miniforge/base/lib/python3.9/site-packages/IPython/lib/latextools.py:126: MatplotlibDeprecationWarning: \n",
      "The to_png function was deprecated in Matplotlib 3.4 and will be removed two minor releases later. Use mathtext.math_to_image instead.\n",
      "  mt.to_png(f, s, fontsize=12, dpi=dpi, color=color)\n",
      "/opt/homebrew/Caskroom/miniforge/base/lib/python3.9/site-packages/IPython/lib/latextools.py:126: MatplotlibDeprecationWarning: \n",
      "The to_rgba function was deprecated in Matplotlib 3.4 and will be removed two minor releases later. Use mathtext.math_to_image instead.\n",
      "  mt.to_png(f, s, fontsize=12, dpi=dpi, color=color)\n",
      "/opt/homebrew/Caskroom/miniforge/base/lib/python3.9/site-packages/IPython/lib/latextools.py:126: MatplotlibDeprecationWarning: \n",
      "The to_mask function was deprecated in Matplotlib 3.4 and will be removed two minor releases later. Use mathtext.math_to_image instead.\n",
      "  mt.to_png(f, s, fontsize=12, dpi=dpi, color=color)\n",
      "/opt/homebrew/Caskroom/miniforge/base/lib/python3.9/site-packages/IPython/lib/latextools.py:126: MatplotlibDeprecationWarning: \n",
      "The MathtextBackendBitmap class was deprecated in Matplotlib 3.4 and will be removed two minor releases later. Use mathtext.math_to_image instead.\n",
      "  mt.to_png(f, s, fontsize=12, dpi=dpi, color=color)\n"
     ]
    },
    {
     "data": {
      "text/latex": [
       "$\\displaystyle \\left[\\begin{matrix}c^{2} \\left(- \\frac{2 M \\sin^{2}{\\left(t w \\right)}}{r} + 1\\right) & - \\sqrt{2} c \\sqrt{\\frac{M \\sin^{2}{\\left(t w \\right)}}{r}} & 0 & 0\\\\- \\sqrt{2} c \\sqrt{\\frac{M \\sin^{2}{\\left(t w \\right)}}{r}} & -1 & 0 & 0\\\\0 & 0 & - r^{2} & 0\\\\0 & 0 & 0 & - r^{2} \\sin^{2}{\\left(\\theta \\right)}\\end{matrix}\\right]$"
      ],
      "text/plain": [
       "⎡                                     _____________                  ⎤\n",
       "⎢   ⎛         2         ⎞            ╱      2                        ⎥\n",
       "⎢ 2 ⎜  2⋅M⋅sin (t⋅w)    ⎟           ╱  M⋅sin (t⋅w)                   ⎥\n",
       "⎢c ⋅⎜- ───────────── + 1⎟  -√2⋅c⋅  ╱   ───────────    0        0     ⎥\n",
       "⎢   ⎝        r          ⎠        ╲╱         r                        ⎥\n",
       "⎢                                                                    ⎥\n",
       "⎢           _____________                                            ⎥\n",
       "⎢          ╱      2                                                  ⎥\n",
       "⎢         ╱  M⋅sin (t⋅w)                                             ⎥\n",
       "⎢-√2⋅c⋅  ╱   ───────────              -1              0        0     ⎥\n",
       "⎢      ╲╱         r                                                  ⎥\n",
       "⎢                                                                    ⎥\n",
       "⎢                                                      2             ⎥\n",
       "⎢           0                         0              -r        0     ⎥\n",
       "⎢                                                                    ⎥\n",
       "⎢                                                           2    2   ⎥\n",
       "⎣           0                         0               0   -r ⋅sin (θ)⎦"
      ]
     },
     "execution_count": 2,
     "metadata": {},
     "output_type": "execute_result"
    }
   ],
   "source": [
    "syms = sympy.symbols(\"t r theta phi\")\n",
    "G, M, c, a, w = sympy.symbols(\"G M c a w\")\n",
    "a = 2*M*(sin(w*syms[0])**2)\n",
    "#a = sqrt(2*M)*sin(w*syms[0])\n",
    "# using metric values of schwarschild space-time\n",
    "# a is schwarzschild radius\n",
    "list2d = [[0 for i in range(4)] for i in range(4)]\n",
    "list2d[0][0] = (1 - (a / syms[1]))* (c ** 2)\n",
    "list2d[0][1] = -1*sqrt(a/syms[1])*c\n",
    "list2d[1][0] = -1*sqrt(a/syms[1])*c\n",
    "list2d[1][1] = -1\n",
    "list2d[2][2] = -1 * (syms[1] ** 2)\n",
    "list2d[3][3] = -1 * (syms[1] ** 2) * (sympy.sin(syms[2]) ** 2)\n",
    "sch = MetricTensor(list2d, syms)\n",
    "sch.tensor()\n"
   ]
  },
  {
   "cell_type": "markdown",
   "metadata": {},
   "source": [
    "### Calculating the Einstein Tensor (with both indices covariant)"
   ]
  },
  {
   "cell_type": "code",
   "execution_count": 3,
   "metadata": {},
   "outputs": [
    {
     "data": {
      "text/latex": [
       "$\\displaystyle \\left[\\begin{matrix}\\frac{2 M c w \\sqrt{\\frac{M \\left(1 - \\cos{\\left(2 t w \\right)}\\right)}{r}} \\sin{\\left(2 t w \\right)}}{r^{2}} & \\frac{M w \\left(\\sin{\\left(2 t w \\right)} \\tan{\\left(t w \\right)} - 3 \\cos{\\left(2 t w \\right)} + 3\\right)}{2 r^{2} \\tan{\\left(t w \\right)}} & 0 & 0\\\\\\frac{M w \\left(\\sin{\\left(2 t w \\right)} \\tan{\\left(t w \\right)} - 3 \\cos{\\left(2 t w \\right)} + 3\\right)}{2 r^{2} \\tan{\\left(t w \\right)}} & \\frac{\\sqrt{2} w \\sqrt{\\frac{M \\sin^{2}{\\left(t w \\right)}}{r}} \\left(2 M \\sin^{2}{\\left(t w \\right)} - M \\sin{\\left(2 t w \\right)} \\tan{\\left(t w \\right)} + 4 r\\right)}{2 c r^{2} \\tan{\\left(t w \\right)}} & 0 & 0\\\\0 & 0 & \\frac{0.5 \\sqrt{2} w \\sqrt{\\frac{M \\sin^{2}{\\left(t w \\right)}}{r}} \\left(- M \\sin{\\left(2 t w \\right)} \\tan{\\left(t w \\right)} - M \\cos{\\left(2 t w \\right)} + M + r\\right)}{c \\tan{\\left(t w \\right)}} & 0\\\\0 & 0 & 0 & \\frac{0.5 \\sqrt{2} r w \\sqrt{\\frac{M \\sin^{2}{\\left(t w \\right)}}{r}} \\sin^{2}{\\left(\\theta \\right)}}{c \\tan{\\left(t w \\right)}}\\end{matrix}\\right]$"
      ],
      "text/plain": [
       "⎡            ____________________                                                                                                                                            \n",
       "⎢           ╱ M⋅(1 - cos(2⋅t⋅w))                                                                                                                                             \n",
       "⎢2⋅M⋅c⋅w⋅  ╱  ────────────────── ⋅sin(2⋅t⋅w)                                                                                                                                 \n",
       "⎢        ╲╱           r                                    M⋅w⋅(sin(2⋅t⋅w)⋅tan(t⋅w) - 3⋅cos(2⋅t⋅w) + 3)                                                                      \n",
       "⎢───────────────────────────────────────────               ────────────────────────────────────────────                                                    0                 \n",
       "⎢                      2                                                     2                                                                                               \n",
       "⎢                     r                                                   2⋅r ⋅tan(t⋅w)                                                                                      \n",
       "⎢                                                                                                                                                                            \n",
       "⎢                                                        _____________                                                                                                       \n",
       "⎢                                                       ╱      2                                                                                                             \n",
       "⎢                                                      ╱  M⋅sin (t⋅w)  ⎛       2                                   ⎞                                                         \n",
       "⎢                                              √2⋅w⋅  ╱   ─────────── ⋅⎝2⋅M⋅sin (t⋅w) - M⋅sin(2⋅t⋅w)⋅tan(t⋅w) + 4⋅r⎠                                                         \n",
       "⎢M⋅w⋅(sin(2⋅t⋅w)⋅tan(t⋅w) - 3⋅cos(2⋅t⋅w) + 3)       ╲╱         r                                                                                                             \n",
       "⎢────────────────────────────────────────────  ─────────────────────────────────────────────────────────────────────                                       0                 \n",
       "⎢                  2                                                           2                                                                                             \n",
       "⎢               2⋅r ⋅tan(t⋅w)                                             2⋅c⋅r ⋅tan(t⋅w)                                                                                    \n",
       "⎢                                                                                                                                                                            \n",
       "⎢                                                                                                                                   _____________                            \n",
       "⎢                                                                                                                                  ╱      2                                  \n",
       "⎢                                                                                                                                 ╱  M⋅sin (t⋅w)                             \n",
       "⎢                                                                                                                     0.5⋅√2⋅w⋅  ╱   ─────────── ⋅(-M⋅sin(2⋅t⋅w)⋅tan(t⋅w) - M\n",
       "⎢                                                                                                                              ╲╱         r                                  \n",
       "⎢                     0                                                          0                                    ───────────────────────────────────────────────────────\n",
       "⎢                                                                                                                                                      c⋅tan(t⋅w)            \n",
       "⎢                                                                                                                                                                            \n",
       "⎢                                                                                                                                                                            \n",
       "⎢                                                                                                                                                                            \n",
       "⎢                                                                                                                                                                            \n",
       "⎢                                                                                                                                                                            \n",
       "⎢                                                                                                                                                                            \n",
       "⎢                     0                                                          0                                                                         0                 \n",
       "⎣                                                                                                                                                                            \n",
       "\n",
       "                                                           ⎤\n",
       "                                                           ⎥\n",
       "                                                           ⎥\n",
       "                                                           ⎥\n",
       "                                        0                  ⎥\n",
       "                                                           ⎥\n",
       "                                                           ⎥\n",
       "                                                           ⎥\n",
       "                                                           ⎥\n",
       "                                                           ⎥\n",
       "                                                           ⎥\n",
       "                                                           ⎥\n",
       "                                                           ⎥\n",
       "                                        0                  ⎥\n",
       "                                                           ⎥\n",
       "                                                           ⎥\n",
       "                                                           ⎥\n",
       "                                                           ⎥\n",
       "                                                           ⎥\n",
       "                                                           ⎥\n",
       "⋅cos(2⋅t⋅w) + M + r)                                       ⎥\n",
       "                                                           ⎥\n",
       "────────────────────                    0                  ⎥\n",
       "                                                           ⎥\n",
       "                                                           ⎥\n",
       "                                      _____________        ⎥\n",
       "                                     ╱      2              ⎥\n",
       "                                    ╱  M⋅sin (t⋅w)     2   ⎥\n",
       "                      0.5⋅√2⋅r⋅w⋅  ╱   ─────────── ⋅sin (θ)⎥\n",
       "                                 ╲╱         r              ⎥\n",
       "                      ─────────────────────────────────────⎥\n",
       "                                    c⋅tan(t⋅w)             ⎦"
      ]
     },
     "execution_count": 3,
     "metadata": {},
     "output_type": "execute_result"
    }
   ],
   "source": [
    "einst = EinsteinTensor.from_metric(sch)\n",
    "einst.simplify()\n",
    "einst.tensor()"
   ]
  },
  {
   "cell_type": "code",
   "execution_count": 4,
   "metadata": {},
   "outputs": [
    {
     "name": "stdout",
     "output_type": "stream",
     "text": [
      "(t, r, theta, phi, M, c, w)\n"
     ]
    },
    {
     "data": {
      "text/plain": [
       "Text(0.5, 1.0, 'T_01')"
      ]
     },
     "execution_count": 4,
     "metadata": {},
     "output_type": "execute_result"
    },
    {
     "data": {
      "image/png": "[encoded data removed]",
      "text/plain": [
       "<Figure size 432x288 with 1 Axes>"
      ]
     },
     "metadata": {
      "needs_background": "light"
     },
     "output_type": "display_data"
    }
   ],
   "source": [
    "###Plot something\n",
    "# first make the tensor into a function, printing \n",
    "args, func = einst.tensor_lambdify()\n",
    "print(args) # these are the argument values \n",
    "\n",
    "#Make x values - which we will sub in for r \n",
    "x = np.arange(2, 10.0, 0.04)\n",
    "func(0.5,x,0, 0, 1, 1, 1)[0][1]\n",
    "\n",
    "# Call the functions\n",
    "y = func(1.0,x,1, 1, 1, 1, 1)[0][1]\n",
    "z = 1/x**2/(4*np.pi)*func(1.0,x,1, 1, 1, 1, 1)[2][2] # \n",
    "fig=plt.figure()\n",
    "ax=fig.add_axes([0,2,1.0,1.0])\n",
    "ax.plot(x,y, color=\"blue\")\n",
    "ax.plot(x,z, color=\"red\")\n",
    "ax.set_title(\"T_01\")\n",
    "\n"
   ]
  },
  {
   "cell_type": "code",
   "execution_count": null,
   "metadata": {},
   "outputs": [],
   "source": []
  },
  {
   "cell_type": "code",
   "execution_count": null,
   "metadata": {},
   "outputs": [],
   "source": []
  }
 ],
 "metadata": {
  "kernelspec": {
   "display_name": "Python 3 (ipykernel)",
   "language": "python",
   "name": "python3"
  },
  "language_info": {
   "codemirror_mode": {
    "name": "ipython",
    "version": 3
   },
   "file_extension": ".py",
   "mimetype": "text/x-python",
   "name": "python",
   "nbconvert_exporter": "python",
   "pygments_lexer": "ipython3",
   "version": "3.9.7"
  }
 },
 "nbformat": 4,
 "nbformat_minor": 4
}
